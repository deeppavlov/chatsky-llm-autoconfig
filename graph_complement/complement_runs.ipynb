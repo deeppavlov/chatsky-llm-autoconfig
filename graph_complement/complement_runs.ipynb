{
 "cells": [
  {
   "cell_type": "code",
   "execution_count": 11,
   "metadata": {},
   "outputs": [],
   "source": [
    "import sys \n",
    "import json\n",
    "# Insert the path of modules folder  \n",
    "sys.path.insert(0, \"/Users/anastasia/Documents/DFF_LLM/dff-llm-integration\") "
   ]
  },
  {
   "cell_type": "code",
   "execution_count": 15,
   "metadata": {},
   "outputs": [],
   "source": [
    "import networkx as nx\n",
    "import matplotlib.pyplot as plt\n",
    "from graph_src.graph import TYPES_OF_GRAPH, Graph\n",
    "from graph_src.utils_functions import do_mapping\n",
    "from metric.metric_calc import jaccard_nodes, jaccard_edges\n",
    "from metric.triplet_matching import match\n"
   ]
  },
  {
   "cell_type": "markdown",
   "metadata": {},
   "source": [
    "## Базовая модель дополнения графа\n",
    "\n",
    "#### В случае корректного дополнения"
   ]
  },
  {
   "cell_type": "code",
   "execution_count": 16,
   "metadata": {},
   "outputs": [],
   "source": [
    "with open('./correct_subgraph_metric_calc/initial_graph.json', 'r') as f:\n",
    "    ground_truth = json.load(f)\n",
    "\n",
    "with open('./correct_subgraph_metric_calc/gpt_response.json', 'r') as g:\n",
    "    generated = json.load(g)"
   ]
  },
  {
   "cell_type": "code",
   "execution_count": 17,
   "metadata": {},
   "outputs": [],
   "source": [
    "ground_truth_graph = Graph(ground_truth, TYPES_OF_GRAPH.MULTI)\n",
    "generated_graph = Graph(generated, TYPES_OF_GRAPH.MULTI)\n",
    "\n",
    "G1 = ground_truth_graph.nx_graph\n",
    "G2 = generated_graph.nx_graph"
   ]
  },
  {
   "cell_type": "code",
   "execution_count": 18,
   "metadata": {},
   "outputs": [
    {
     "name": "stdout",
     "output_type": "stream",
     "text": [
      "Graphs are isomorphic and correct\n"
     ]
    },
    {
     "data": {
      "text/plain": [
       "{2: 2, 4: 3, 5: 4, 6: 5, 1: 1, 3: 8, 7: 6, 8: 7}"
      ]
     },
     "execution_count": 18,
     "metadata": {},
     "output_type": "execute_result"
    }
   ],
   "source": [
    "do_mapping(G1, G2)"
   ]
  },
  {
   "cell_type": "code",
   "execution_count": null,
   "metadata": {},
   "outputs": [],
   "source": [
    "node_mapping, edge_mapping = match(G1, G2)"
   ]
  },
  {
   "cell_type": "code",
   "execution_count": 19,
   "metadata": {},
   "outputs": [],
   "source": [
    "values_edges, indices_edges, matrix_edges = jaccard_edges(G1.edges(data=True), G2.edges(data=True), verbose=False, return_matrix=True)\n",
    "values_nodes, indices_nodes, matrix_nodes = jaccard_nodes(G1.nodes(data=True), G2.nodes(data=True), verbose=False, return_matrix=True)"
   ]
  },
  {
   "cell_type": "code",
   "execution_count": 20,
   "metadata": {},
   "outputs": [
    {
     "data": {
      "text/plain": [
       "{2: 2, 4: 3, 5: 4, 6: 5, 1: 1, 3: 8, 7: 6, 8: 7}"
      ]
     },
     "execution_count": 20,
     "metadata": {},
     "output_type": "execute_result"
    }
   ],
   "source": [
    "node_mapping"
   ]
  },
  {
   "cell_type": "code",
   "execution_count": 21,
   "metadata": {},
   "outputs": [
    {
     "data": {
      "text/plain": [
       "{'1->2': '1->2',\n",
       " '2->3': '2->8',\n",
       " '2->4': '2->3',\n",
       " '3->2': '8->2',\n",
       " '3->7': '8->6',\n",
       " '4->5': '3->4',\n",
       " '4->6': '3->5',\n",
       " '5->2': '4->2',\n",
       " '5->7': '4->6',\n",
       " '6->2': '5->2',\n",
       " '6->7': '5->6',\n",
       " '7->8': '6->7'}"
      ]
     },
     "execution_count": 21,
     "metadata": {},
     "output_type": "execute_result"
    }
   ],
   "source": [
    "edge_mapping"
   ]
  },
  {
   "cell_type": "markdown",
   "metadata": {},
   "source": [
    "### В случае некорректного дополнения"
   ]
  },
  {
   "cell_type": "code",
   "execution_count": 22,
   "metadata": {},
   "outputs": [],
   "source": [
    "with open('./incorrect_subgraph_metric_calc/initial_graph.json', 'r') as f:\n",
    "    ground_truth = json.load(f)\n",
    "\n",
    "with open('./incorrect_subgraph_metric_calc/gpt_response.json', 'r') as g:\n",
    "    generated = json.load(g)"
   ]
  },
  {
   "cell_type": "code",
   "execution_count": 23,
   "metadata": {},
   "outputs": [],
   "source": [
    "ground_truth_graph = Graph(ground_truth, TYPES_OF_GRAPH.MULTI)\n",
    "generated_graph = Graph(generated, TYPES_OF_GRAPH.MULTI)\n",
    "\n",
    "G1 = ground_truth_graph.nx_graph\n",
    "G2 = generated_graph.nx_graph"
   ]
  },
  {
   "cell_type": "code",
   "execution_count": 24,
   "metadata": {},
   "outputs": [],
   "source": [
    "values_edges, indices_edges, matrix_edges = jaccard_edges(G1.edges(data=True), G2.edges(data=True), verbose=False, return_matrix=True)\n",
    "values_nodes, indices_nodes, matrix_nodes = jaccard_nodes(G1.nodes(data=True), G2.nodes(data=True), verbose=False, return_matrix=True)"
   ]
  },
  {
   "cell_type": "code",
   "execution_count": null,
   "metadata": {},
   "outputs": [],
   "source": [
    "do_mapping(G1, G2)"
   ]
  },
  {
   "cell_type": "code",
   "execution_count": 27,
   "metadata": {},
   "outputs": [
    {
     "name": "stdout",
     "output_type": "stream",
     "text": [
      "The nodes of edges 3->2 and 3->4 has something in common, but not complete match: Sources: ['Added it to your cart. Anything else?'], ['Added it to your cart. Anything else?']\n",
      "The nodes of edges 3->2 and 3->4 has something in common, but not complete match: Targets: ['Which books would you like to order?', 'What would you like to buy?'], ['Okay, everything is done, you can go to cart and finish the order.']\n",
      "The nodes of edges 3->7 and 3->5 has something in common, but not complete match: Sources: ['Added it to your cart. Anything else?'], ['Okay. Anything else?']\n",
      "The nodes of edges 3->7 and 3->5 has something in common, but not complete match: Targets: ['Okay, everything is done, you can go to cart and finish the order.'], ['Okay, everything is done, you can go to cart and finish the order.']\n"
     ]
    }
   ],
   "source": [
    "node_mapping, edge_mapping = match(G1, G2)"
   ]
  },
  {
   "cell_type": "markdown",
   "metadata": {},
   "source": [
    "### еще тест"
   ]
  },
  {
   "cell_type": "code",
   "execution_count": 28,
   "metadata": {},
   "outputs": [],
   "source": [
    "with open('./incorrect_subgraph_metric_calc_2/initial_graph.json', 'r') as f:\n",
    "    ground_truth = json.load(f)\n",
    "\n",
    "with open('./incorrect_subgraph_metric_calc_2/gpt_response.json', 'r') as g:\n",
    "    generated = json.load(g)"
   ]
  },
  {
   "cell_type": "code",
   "execution_count": 29,
   "metadata": {},
   "outputs": [],
   "source": [
    "ground_truth_graph = Graph(ground_truth, TYPES_OF_GRAPH.MULTI)\n",
    "generated_graph = Graph(generated, TYPES_OF_GRAPH.MULTI)\n",
    "\n",
    "G1 = ground_truth_graph.nx_graph\n",
    "G2 = generated_graph.nx_graph"
   ]
  },
  {
   "cell_type": "code",
   "execution_count": 30,
   "metadata": {},
   "outputs": [
    {
     "name": "stdout",
     "output_type": "stream",
     "text": [
      "Graphs are isomorphic\n",
      "The nodes of edges 3->2 and 3->2 has something in common, but not complete match: Sources: ['Added it to your cart. Anything else?'], ['Done. Anything else?']\n",
      "The nodes of edges 3->2 and 3->2 has something in common, but not complete match: Targets: ['Which books would you like to order?', 'What would you like to buy?'], ['Which books would you like to order?', 'What would you like to buy?']\n",
      "The nodes of edges 3->7 and 3->6 has something in common, but not complete match: Sources: ['Added it to your cart. Anything else?'], ['Done. Anything else?']\n",
      "The nodes of edges 3->7 and 3->6 has something in common, but not complete match: Targets: ['Okay, everything is done, you can go to cart and finish the order.'], ['Okay, everything is done, you can go to cart and finish the order.']\n",
      "The nodes of edges 3->7 and 3->6 has something in common, but not complete match: Sources: ['Added it to your cart. Anything else?'], ['Okay. Anything else?']\n",
      "The nodes of edges 3->7 and 3->6 has something in common, but not complete match: Targets: ['Okay, everything is done, you can go to cart and finish the order.'], ['Okay, everything is done, you can go to cart and finish the order.']\n",
      "The nodes of edges 5->2 and 5->2 has something in common, but not complete match: Sources: ['Done. Anything else?'], ['Added it to your cart. Anything else?']\n",
      "The nodes of edges 5->2 and 5->2 has something in common, but not complete match: Targets: ['Which books would you like to order?', 'What would you like to buy?'], ['Which books would you like to order?', 'What would you like to buy?']\n",
      "The nodes of edges 5->7 and 5->6 has something in common, but not complete match: Sources: ['Done. Anything else?'], ['Added it to your cart. Anything else?']\n",
      "The nodes of edges 5->7 and 5->6 has something in common, but not complete match: Targets: ['Okay, everything is done, you can go to cart and finish the order.'], ['Okay, everything is done, you can go to cart and finish the order.']\n",
      "The nodes of edges 5->7 and 5->6 has something in common, but not complete match: Sources: ['Done. Anything else?'], ['Okay. Anything else?']\n",
      "The nodes of edges 5->7 and 5->6 has something in common, but not complete match: Targets: ['Okay, everything is done, you can go to cart and finish the order.'], ['Okay, everything is done, you can go to cart and finish the order.']\n",
      "The nodes of edges 6->7 and 8->2 has something in common, but not complete match: Sources: ['Okay. Anything else?'], ['Added it to your cart. Anything else?']\n",
      "The nodes of edges 6->7 and 8->2 has something in common, but not complete match: Targets: ['Okay, everything is done, you can go to cart and finish the order.'], ['Okay, everything is done, you can go to cart and finish the order.']\n",
      "The nodes of edges 6->7 and 8->2 has something in common, but not complete match: Sources: ['Okay. Anything else?'], ['Done. Anything else?']\n",
      "The nodes of edges 6->7 and 8->2 has something in common, but not complete match: Targets: ['Okay, everything is done, you can go to cart and finish the order.'], ['Okay, everything is done, you can go to cart and finish the order.']\n"
     ]
    }
   ],
   "source": [
    "node_mapping, edge_mapping = match(G1, G2)"
   ]
  },
  {
   "cell_type": "code",
   "execution_count": 31,
   "metadata": {},
   "outputs": [
    {
     "name": "stdout",
     "output_type": "stream",
     "text": [
      "Graphs are isomorphic and correct\n"
     ]
    },
    {
     "data": {
      "text/plain": [
       "{2: 2, 4: 4, 5: 8, 6: 5, 1: 1, 3: 3, 7: 6, 8: 7}"
      ]
     },
     "execution_count": 31,
     "metadata": {},
     "output_type": "execute_result"
    }
   ],
   "source": [
    "do_mapping(G1, G2)"
   ]
  },
  {
   "cell_type": "code",
   "execution_count": 32,
   "metadata": {},
   "outputs": [
    {
     "data": {
      "text/plain": [
       "{'1->2': '1->2',\n",
       " '2->3': '2->3',\n",
       " '2->4': '2->4',\n",
       " '3->2': '3->2',\n",
       " '3->7': '3->6',\n",
       " '4->5': '4->5',\n",
       " '4->6': '4->8',\n",
       " '5->2': '5->2',\n",
       " '5->7': '5->6',\n",
       " '6->2': '8->2',\n",
       " '6->7': '8->6',\n",
       " '7->8': '6->7'}"
      ]
     },
     "execution_count": 32,
     "metadata": {},
     "output_type": "execute_result"
    }
   ],
   "source": [
    "edge_mapping"
   ]
  }
 ],
 "metadata": {
  "kernelspec": {
   "display_name": "Python 3",
   "language": "python",
   "name": "python3"
  },
  "language_info": {
   "codemirror_mode": {
    "name": "ipython",
    "version": 3
   },
   "file_extension": ".py",
   "mimetype": "text/x-python",
   "name": "python",
   "nbconvert_exporter": "python",
   "pygments_lexer": "ipython3",
   "version": "3.8.19"
  }
 },
 "nbformat": 4,
 "nbformat_minor": 2
}
