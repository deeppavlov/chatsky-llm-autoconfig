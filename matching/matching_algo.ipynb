{
 "cells": [
  {
   "cell_type": "code",
   "execution_count": 36,
   "metadata": {},
   "outputs": [],
   "source": [
    "import json\n",
    "from enum import Enum\n",
    "import numpy as np\n",
    "import networkx as nx\n",
    "import random"
   ]
  },
  {
   "cell_type": "code",
   "execution_count": 214,
   "metadata": {},
   "outputs": [],
   "source": [
    "class TYPES_OF_GRAPH(Enum):\n",
    "    DI = 1\n",
    "    MULTI = 2\n",
    "\n",
    "class Node:\n",
    "    def __init__(self, id, is_start, label, response) -> None:\n",
    "        self.id = id\n",
    "        self.is_start = is_start\n",
    "        self.response = response\n",
    "        self.label = label\n",
    "\n",
    "    def __eq__(self, other):\n",
    "        if isinstance(other, Node):\n",
    "            return self.response == other.response\n",
    "        return False\n",
    "\n",
    "    def __hash__(self):\n",
    "        return hash(self.response)\n",
    "\n",
    "    def __str__(self) -> str:\n",
    "        return f\"{self.id}: {self.response}\"\n",
    "    \n",
    "\n",
    "class Link:\n",
    "    def __init__(self, source: Node, target: Node) -> None:\n",
    "        self.source = source\n",
    "        self.target = target\n",
    "        self.requests = []\n",
    "\n",
    "    def add_response(self, response: str):\n",
    "        if response not in self.requests:\n",
    "            self.requests.append(response)\n",
    "\n",
    "    def __str__(self) -> str:\n",
    "        repr = \"{self.source}->{self.target}:\"\n",
    "        for x in self.requests:\n",
    "            repr+=x\n",
    "        return repr\n",
    "\n",
    "    def __repr__(self) -> str:\n",
    "        repr = f\"{self.source}->{self.target}:\"\n",
    "        for x in self.requests:\n",
    "            repr+=x\n",
    "        return repr\n",
    "    \n",
    "    def __eq__(self, other):\n",
    "        if isinstance(other, Link):\n",
    "            return self.source == other.source and self.target == other.target \n",
    "        return False"
   ]
  },
  {
   "cell_type": "code",
   "execution_count": 192,
   "metadata": {},
   "outputs": [],
   "source": [
    "with open('./identical_except_numbering/ground_truth_graph.json', 'r') as f:\n",
    "    ground_truth = json.load(f)\n",
    "\n",
    "with open('./identical_except_numbering/generated_graph.json', 'r') as g:\n",
    "    generated = json.load(g)"
   ]
  },
  {
   "cell_type": "code",
   "execution_count": 224,
   "metadata": {},
   "outputs": [],
   "source": [
    "class Graph:\n",
    "    def __init__(self, graph: dict, type: TYPES_OF_GRAPH) -> None:\n",
    "        if type == TYPES_OF_GRAPH.MULTI:\n",
    "            self.nx_graph = nx.MultiDiGraph()\n",
    "        else:\n",
    "            self.nx_graph = nx.DiGraph()\n",
    "        node_count = len(graph['nodes'])\n",
    "        self.type = type\n",
    "        self.nodes = []\n",
    "        self.transitions = [[None for _ in range(node_count + 1)] for _ in range(node_count + 1)]\n",
    "        self.graph_degrees = []\n",
    "        for node in graph['nodes']:\n",
    "            self.nodes.append(Node(node['id'], node['is_start'], node['label'], node['response']))\n",
    "            self.nx_graph.add_node(node['id'], request=node['response'])\n",
    "        for link in graph['links']:\n",
    "            first = link['source']\n",
    "            second = link['target']\n",
    "            link_obj = Link(first, second)\n",
    "            link_obj.add_response(link['request'])\n",
    "            self.transitions[first][second] = link_obj\n",
    "            self.nx_graph.add_edges_from([(first, second, {\"requests\": link['request']})])\n",
    "        for i in range(1, node_count + 1):\n",
    "            self.graph_degrees.append(sum(1 for x in self.transitions[i] if x is not None))\n"
   ]
  },
  {
   "cell_type": "code",
   "execution_count": 225,
   "metadata": {},
   "outputs": [],
   "source": [
    "ground_truth_graph = Graph(ground_truth, TYPES_OF_GRAPH.DI)\n",
    "generated_graph = Graph(generated, TYPES_OF_GRAPH.DI)"
   ]
  },
  {
   "cell_type": "markdown",
   "metadata": {},
   "source": [
    "## Вспомогательные функции"
   ]
  },
  {
   "cell_type": "code",
   "execution_count": 265,
   "metadata": {},
   "outputs": [],
   "source": [
    "def check_if_nodes_identical(graph_1: Graph, graph_2: Graph):\n",
    "       #check if we have the same amount of nodes:\n",
    "    if len(graph_1.nodes) != len(graph_2.nodes):\n",
    "        return False\n",
    "    \n",
    "    #check if the nodes are in the same \n",
    "    unmatched_1 = set(graph_1.nodes)\n",
    "    unmatched_2 = set(graph_2.nodes)\n",
    "    return unmatched_1 == unmatched_2\n"
   ]
  },
  {
   "cell_type": "code",
   "execution_count": 268,
   "metadata": {},
   "outputs": [],
   "source": [
    "def check_if_links_identical(graph_1: Graph, graph_2: Graph):\n",
    "    unmatched_first = []\n",
    "    unmatched_second = []\n",
    "    node_cnt = len(graph_1.nodes)\n",
    "    for i in range(node_cnt):\n",
    "        for j in range(node_cnt):\n",
    "            if graph_1.transitions[i][j] is not None and graph_2.transitions[i][j] is not None:\n",
    "                if graph_1.transitions[i][j].requests == graph_2.transitions[i][j].requests:\n",
    "                    continue\n",
    "                else:\n",
    "                    if set(graph_1.transitions[i][j].requests) == set(graph_2.transitions[i][j].requests):\n",
    "                        continue\n",
    "                    else:\n",
    "                        # print(graph_1.transitions[i][j].requests)\n",
    "                        # print(graph_2.transitions[i][j].requests)\n",
    "                        # raise ValueError(\"The target and source are identical, but the responses aren't\")\n",
    "                        unmatched_first.append((i,j,graph_1.transitions[i][j].requests))\n",
    "                        unmatched_second.append((i,j,graph_2.transitions[i][j].requests))\n",
    "            elif graph_1.transitions[i][j] is not None:\n",
    "                unmatched_first.append((i,j,graph_1.transitions[i][j].requests))\n",
    "            elif graph_2.transitions[i][j] is not None:\n",
    "                unmatched_second.append((i,j,graph_2.transitions[i][j].requests))\n",
    "            else:\n",
    "                continue\n",
    "    return unmatched_first, unmatched_second\n"
   ]
  },
  {
   "cell_type": "code",
   "execution_count": 269,
   "metadata": {},
   "outputs": [],
   "source": [
    "def check_graph_isomorphism(graph1, graph2):\n",
    "    flg = check_if_nodes_identical(graph1, graph2)\n",
    "    if flg is False:\n",
    "        return False\n",
    "    a,b = check_if_links_identical(graph1, graph2)\n",
    "    for e in a:\n",
    "        print(e)\n",
    "    print(\"_______\")\n",
    "    for e in b:\n",
    "        print(e)\n",
    "    print(\"_______\")"
   ]
  },
  {
   "cell_type": "markdown",
   "metadata": {},
   "source": [
    "## Проверяем на изоморфизм"
   ]
  },
  {
   "cell_type": "code",
   "execution_count": 226,
   "metadata": {},
   "outputs": [
    {
     "data": {
      "text/plain": [
       "OutEdgeView([(1, 2), (1, 3), (2, 4), (3, 4), (4, 5), (4, 2), (5, 6), (6, 7)])"
      ]
     },
     "execution_count": 226,
     "metadata": {},
     "output_type": "execute_result"
    }
   ],
   "source": [
    "ground_truth_graph.nx_graph.edges"
   ]
  },
  {
   "cell_type": "code",
   "execution_count": 227,
   "metadata": {},
   "outputs": [
    {
     "name": "stdout",
     "output_type": "stream",
     "text": [
      "Graphs are isomorphic and correct\n"
     ]
    },
    {
     "data": {
      "text/plain": [
       "{4: 4, 2: 3, 3: 2, 5: 5, 1: 1, 6: 6, 7: 7}"
      ]
     },
     "execution_count": 227,
     "metadata": {},
     "output_type": "execute_result"
    }
   ],
   "source": [
    "do_mapping(ground_truth_graph.nx_graph, generated_graph.nx_graph)"
   ]
  },
  {
   "cell_type": "markdown",
   "metadata": {},
   "source": [
    "### Проверим на изоморфичность в случае, когда на ребрах несколько реплик, но графы одинаковы"
   ]
  },
  {
   "cell_type": "code",
   "execution_count": 228,
   "metadata": {},
   "outputs": [],
   "source": [
    "with open('./identical_with_several_requests/ground_truth_graph.json', 'r') as f:\n",
    "    ground_truth = json.load(f)\n",
    "\n",
    "with open('./identical_with_several_requests/generated_graph.json', 'r') as g:\n",
    "    generated = json.load(g)"
   ]
  },
  {
   "cell_type": "code",
   "execution_count": 229,
   "metadata": {},
   "outputs": [],
   "source": [
    "ground_truth_graph = Graph(ground_truth, TYPES_OF_GRAPH.DI)\n",
    "generated_graph = Graph(generated, TYPES_OF_GRAPH.DI)"
   ]
  },
  {
   "cell_type": "code",
   "execution_count": 232,
   "metadata": {},
   "outputs": [
    {
     "name": "stdout",
     "output_type": "stream",
     "text": [
      "Graphs are isomorphic and correct\n"
     ]
    },
    {
     "data": {
      "text/plain": [
       "{4: 4, 2: 3, 3: 2, 5: 5, 1: 1, 6: 6, 7: 7}"
      ]
     },
     "execution_count": 232,
     "metadata": {},
     "output_type": "execute_result"
    }
   ],
   "source": [
    "do_mapping(ground_truth_graph.nx_graph, generated_graph.nx_graph)"
   ]
  },
  {
   "cell_type": "code",
   "execution_count": 53,
   "metadata": {},
   "outputs": [
    {
     "data": {
      "image/png": "[encoded data removed]",
      "text/plain": [
       "<Figure size 640x480 with 2 Axes>"
      ]
     },
     "metadata": {},
     "output_type": "display_data"
    }
   ],
   "source": [
    "\n",
    "subax1 = plt.subplot(121)\n",
    "nx.draw(ground_truth_graph.nx_graph, with_labels=True, font_weight='bold')\n",
    "subax2 = plt.subplot(122)\n",
    "nx.draw(generated_graph.nx_graph, with_labels=True, font_weight='bold')"
   ]
  },
  {
   "cell_type": "markdown",
   "metadata": {},
   "source": [
    "### Проверка когда есть несоотвествие"
   ]
  },
  {
   "cell_type": "code",
   "execution_count": 233,
   "metadata": {},
   "outputs": [],
   "source": [
    "with open('./nonidentical_graphs/ground_truth_graph.json', 'r') as f:\n",
    "    ground_truth = json.load(f)\n",
    "\n",
    "with open('./nonidentical_graphs/generated_graph.json', 'r') as g:\n",
    "    generated = json.load(g)"
   ]
  },
  {
   "cell_type": "code",
   "execution_count": 235,
   "metadata": {},
   "outputs": [],
   "source": [
    "ground_truth_graph = Graph(ground_truth, TYPES_OF_GRAPH.MULTI)\n",
    "generated_graph = Graph(generated, TYPES_OF_GRAPH.MULTI)"
   ]
  },
  {
   "cell_type": "code",
   "execution_count": 236,
   "metadata": {},
   "outputs": [
    {
     "data": {
      "text/plain": [
       "OutMultiEdgeView([(1, 3, 0), (1, 3, 1), (1, 2, 0)])"
      ]
     },
     "execution_count": 236,
     "metadata": {},
     "output_type": "execute_result"
    }
   ],
   "source": [
    "ground_truth_graph.nx_graph.edges"
   ]
  },
  {
   "cell_type": "code",
   "execution_count": 238,
   "metadata": {},
   "outputs": [
    {
     "name": "stdout",
     "output_type": "stream",
     "text": [
      "in g1 Node 3 is split into [3, 2] in g2\n"
     ]
    },
    {
     "data": {
      "text/plain": [
       "({3: [3, 2]}, {})"
      ]
     },
     "execution_count": 238,
     "metadata": {},
     "output_type": "execute_result"
    }
   ],
   "source": [
    "def find_split_nodes(g1, g2):\n",
    "    # Create dictionaries to map edges based on 'requests' attribute\n",
    "    g1_requests = {}\n",
    "    g2_requests = {}\n",
    "\n",
    "    g1_edges = {}\n",
    "    g2_edges = {}\n",
    "\n",
    "    for u, v, data in g1.edges(data=True):\n",
    "        request = data.get('requests')\n",
    "        if request not in g1_requests:\n",
    "            g1_requests[request] = []\n",
    "        g1_requests[request].append((u, v))\n",
    "\n",
    "    for u, v, data in g2.edges(data=True):\n",
    "        request = data.get('requests')\n",
    "        if request not in g2_requests:\n",
    "            g2_requests[request] = []\n",
    "        g2_requests[request].append((u, v))\n",
    "\n",
    "    for u, v, data in g1.edges(data=True):\n",
    "        key=f'{u}->{v}'\n",
    "        if key not in g1_edges:\n",
    "            g1_edges[key] = []\n",
    "        g1_edges[key].append(*data.values())\n",
    "\n",
    "    for u, v, data in g2.edges(data=True):\n",
    "        key=f'{u}->{v}'\n",
    "        if key not in g2_edges:\n",
    "            g2_edges[key] = []\n",
    "        g2_edges[key].append(*data.values())\n",
    "    \n",
    "    # print(g1_edges)\n",
    "    # print(g2_edges)\n",
    "\n",
    "    # print(g1_requests)\n",
    "    # print(g2_requests)\n",
    "\n",
    "    g1_split = {}\n",
    "    g2_split = {}\n",
    "    for edge, data in g1_edges.items():\n",
    "        if len(data) > 1 and len(g2_edges[edge]) < len(data):\n",
    "                g1_node = int(edge.split('->')[1])\n",
    "                g2_end_nodes = []\n",
    "                for request in data:\n",
    "                    end_node = g2_requests[request][0][1]\n",
    "                    g2_end_nodes.append(end_node)\n",
    "                print(f\"in g1 Node {g1_node} is split into {g2_end_nodes} in g2\")\n",
    "                g1_split[g1_node] = g2_end_nodes\n",
    "    for edge, data in g2_edges.items():\n",
    "        if len(data) > 1 and len(g1_edges[edge]) < len(data):\n",
    "                g2_node = int(edge.split('->')[1])\n",
    "                g1_end_nodes = []\n",
    "                for request in data:\n",
    "                    end_node = g1_requests[request][0][1]\n",
    "                    g1_end_nodes.append(end_node)\n",
    "                print(f\"in g2 Node {g2_node} is split into {g1_end_nodes} in g1\")\n",
    "                g2_split[g2_node] = g1_end_nodes\n",
    "                \n",
    "    return g1_split,g2_split \n",
    "find_split_nodes(ground_truth_graph.nx_graph, generated_graph.nx_graph)"
   ]
  },
  {
   "cell_type": "code",
   "execution_count": 239,
   "metadata": {},
   "outputs": [],
   "source": [
    "G1 = ground_truth_graph.nx_graph\n",
    "G2 = generated_graph.nx_graph"
   ]
  },
  {
   "cell_type": "code",
   "execution_count": 242,
   "metadata": {},
   "outputs": [],
   "source": [
    "def do_mapping(g1, g2):\n",
    "    GM = nx.isomorphism.DiGraphMatcher(g1, g2, edge_match=lambda x, y: set(x['requests']).intersection(set( y['requests'])) is not None)\n",
    "    are_isomorphic = GM.is_isomorphic()\n",
    "    if are_isomorphic:\n",
    "        print(\"Graphs are isomorphic and correct\")\n",
    "        mapping = nx.vf2pp_isomorphism(g1, g2, node_label=None)\n",
    "        return mapping\n",
    "    mapping = {}\n",
    "    for i in range(1, len(g1.nodes)):\n",
    "        mapping[i] = i\n",
    "    g1_unmatched_nodes, g2_unmatched_nodes = find_split_nodes(g1, g2)\n",
    "    print(g1_unmatched_nodes)\n",
    "    print(g2_unmatched_nodes)\n",
    "    for k, v in g1_unmatched_nodes.items():\n",
    "        elem = random.choice(v)\n",
    "        mapping[k] = elem\n",
    "        for node in v:\n",
    "            if node != elem:\n",
    "                mapping[node] = None\n",
    "    print(mapping)"
   ]
  },
  {
   "cell_type": "code",
   "execution_count": 243,
   "metadata": {},
   "outputs": [
    {
     "name": "stdout",
     "output_type": "stream",
     "text": [
      "in g1 Node 3 is split into [3, 2] in g2\n",
      "{3: [3, 2]}\n",
      "{}\n",
      "{1: 1, 2: None, 3: 3}\n"
     ]
    }
   ],
   "source": [
    "do_mapping(G1, G2)"
   ]
  }
 ],
 "metadata": {
  "kernelspec": {
   "display_name": "chroma",
   "language": "python",
   "name": "python3"
  },
  "language_info": {
   "codemirror_mode": {
    "name": "ipython",
    "version": 3
   },
   "file_extension": ".py",
   "mimetype": "text/x-python",
   "name": "python",
   "nbconvert_exporter": "python",
   "pygments_lexer": "ipython3",
   "version": "3.8.19"
  }
 },
 "nbformat": 4,
 "nbformat_minor": 2
}
