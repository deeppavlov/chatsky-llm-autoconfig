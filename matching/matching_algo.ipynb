{
 "cells": [
  {
   "cell_type": "code",
   "execution_count": 9,
   "metadata": {},
   "outputs": [],
   "source": [
    "import json\n",
    "from enum import Enum\n",
    "import numpy as np"
   ]
  },
  {
   "cell_type": "code",
   "execution_count": 196,
   "metadata": {},
   "outputs": [],
   "source": [
    "from graph import  Node, Link, TYPES_OF_GRAPH"
   ]
  },
  {
   "cell_type": "code",
   "execution_count": 132,
   "metadata": {},
   "outputs": [],
   "source": [
    "with open('./ground_truth_graph.json', 'r') as f:\n",
    "    ground_truth = json.load(f)\n",
    "\n",
    "with open('./generated_graph.json', 'r') as g:\n",
    "    generated = json.load(g)"
   ]
  },
  {
   "cell_type": "code",
   "execution_count": 217,
   "metadata": {},
   "outputs": [],
   "source": [
    "class Graph:\n",
    "    def __init__(self, graph: dict, type: TYPES_OF_GRAPH) -> None:\n",
    "        node_count = len(graph['nodes'])\n",
    "        self.type = type\n",
    "        self.nodes = []\n",
    "        self.transitions = [[None for _ in range(node_count + 1)] for _ in range(node_count + 1)]\n",
    "        self.graph_degrees = []\n",
    "        for node in graph['nodes']:\n",
    "            self.nodes.append(Node(node['id'], node['is_start'], node['label'], node['response']))\n",
    "        for link in graph['links']:\n",
    "            first = link['source']\n",
    "            second = link['target']\n",
    "            link_obj = Link(first, second)\n",
    "            link_obj.add_response(link['request'])\n",
    "            self.transitions[first][second] = link_obj\n",
    "        for i in range(1, node_count + 1):\n",
    "            self.graph_degrees.append(sum(1 for x in self.transitions[i] if x is not None))\n"
   ]
  },
  {
   "cell_type": "code",
   "execution_count": 218,
   "metadata": {},
   "outputs": [],
   "source": [
    "ground_truth_graph = Graph(ground_truth, 1)\n",
    "generated_graph = Graph(generated, 1)"
   ]
  },
  {
   "cell_type": "code",
   "execution_count": 219,
   "metadata": {},
   "outputs": [
    {
     "data": {
      "text/plain": [
       "[2, 1, 1, 2, 1, 1, 0]"
      ]
     },
     "execution_count": 219,
     "metadata": {},
     "output_type": "execute_result"
    }
   ],
   "source": [
    "ground_truth_graph.graph_degrees"
   ]
  },
  {
   "cell_type": "code",
   "execution_count": 213,
   "metadata": {},
   "outputs": [
    {
     "data": {
      "text/plain": [
       "[2, 1, 1, 2, 1, 1, 0]"
      ]
     },
     "execution_count": 213,
     "metadata": {},
     "output_type": "execute_result"
    }
   ],
   "source": [
    "generated_graph.graph_degrees"
   ]
  },
  {
   "cell_type": "code",
   "execution_count": 224,
   "metadata": {},
   "outputs": [],
   "source": [
    "def check_node_identical(graph_1, graph_2):\n",
    "       #check if we have the same amount of nodes:\n",
    "    if len(graph_1.nodes) != len(graph_2.nodes):\n",
    "        return False\n",
    "    \n",
    "    #check if the nodes are in the same \n",
    "    unmatched_1 = set(graph_1.nodes)\n",
    "    unmatched_2 = set(graph_2.nodes)\n",
    "    return unmatched_1 == unmatched_2\n"
   ]
  },
  {
   "cell_type": "code",
   "execution_count": 225,
   "metadata": {},
   "outputs": [
    {
     "data": {
      "text/plain": [
       "True"
      ]
     },
     "execution_count": 225,
     "metadata": {},
     "output_type": "execute_result"
    }
   ],
   "source": [
    "check_node_identical(generated_graph, ground_truth_graph)"
   ]
  }
 ],
 "metadata": {
  "kernelspec": {
   "display_name": "chroma",
   "language": "python",
   "name": "python3"
  },
  "language_info": {
   "codemirror_mode": {
    "name": "ipython",
    "version": 3
   },
   "file_extension": ".py",
   "mimetype": "text/x-python",
   "name": "python",
   "nbconvert_exporter": "python",
   "pygments_lexer": "ipython3",
   "version": "3.8.19"
  }
 },
 "nbformat": 4,
 "nbformat_minor": 2
}
