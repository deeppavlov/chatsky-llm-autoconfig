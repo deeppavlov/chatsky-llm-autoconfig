{
 "cells": [
  {
   "cell_type": "code",
   "execution_count": 1,
   "metadata": {},
   "outputs": [],
   "source": [
    "from metric_calc import jaccard_edges, jaccard_nodes"
   ]
  },
  {
   "cell_type": "code",
   "execution_count": 2,
   "metadata": {},
   "outputs": [],
   "source": [
    "import sys \n",
    "import json\n",
    "  \n",
    "# Insert the path of modules folder  \n",
    "sys.path.insert(0, \"/Users/anastasia/Documents/DFF_LLM/dff-llm-integration\") "
   ]
  },
  {
   "cell_type": "code",
   "execution_count": 3,
   "metadata": {},
   "outputs": [],
   "source": [
    "from matching.graph import Graph, TYPES_OF_GRAPH"
   ]
  },
  {
   "cell_type": "code",
   "execution_count": 4,
   "metadata": {},
   "outputs": [],
   "source": [
    "from triplet_matching import triplet_match"
   ]
  },
  {
   "cell_type": "code",
   "execution_count": 5,
   "metadata": {},
   "outputs": [],
   "source": [
    "def load_graphs(test_name):\n",
    "    with open(f'./{test_name}.json', 'r') as f:\n",
    "        content = json.load(f)\n",
    "\n",
    "    G1 = Graph(content['true'], TYPES_OF_GRAPH.MULTI).nx_graph\n",
    "    G2 = Graph(content['generated'], TYPES_OF_GRAPH.MULTI).nx_graph\n",
    "    return G1, G2"
   ]
  },
  {
   "cell_type": "markdown",
   "metadata": {},
   "source": [
    "# Test 1 - chain"
   ]
  },
  {
   "cell_type": "code",
   "execution_count": 6,
   "metadata": {},
   "outputs": [],
   "source": [
    "true_graph, generated_graph = load_graphs('test_chain_with_equal_number_of_nodes')\n",
    "values_edges, indices_edges, matrix_edges = jaccard_edges(true_graph.edges(data=True), generated_graph.edges(data=True),\n",
    "                                        return_matrix=True)\n",
    "values_nodes, indices_nodes, matrix_nodes = jaccard_nodes(true_graph.nodes(data=True), generated_graph.nodes(data=True),\n",
    "                                return_matrix=True)"
   ]
  },
  {
   "cell_type": "code",
   "execution_count": 7,
   "metadata": {},
   "outputs": [
    {
     "data": {
      "text/plain": [
       "array([[1., 0., 0., 0.],\n",
       "       [0., 1., 0., 0.],\n",
       "       [0., 0., 1., 0.],\n",
       "       [0., 0., 0., 1.]])"
      ]
     },
     "execution_count": 7,
     "metadata": {},
     "output_type": "execute_result"
    }
   ],
   "source": [
    "matrix_edges"
   ]
  },
  {
   "cell_type": "code",
   "execution_count": 8,
   "metadata": {},
   "outputs": [
    {
     "data": {
      "text/plain": [
       "array([[0.5       , 0.        , 0.        , 0.        , 0.        ],\n",
       "       [0.        , 1.        , 0.        , 0.        , 0.        ],\n",
       "       [0.        , 0.        , 0.5       , 0.        , 0.        ],\n",
       "       [0.        , 0.        , 0.        , 0.5       , 0.        ],\n",
       "       [0.        , 0.        , 0.33333333, 0.33333333, 0.66666667]])"
      ]
     },
     "execution_count": 8,
     "metadata": {},
     "output_type": "execute_result"
    }
   ],
   "source": [
    "matrix_nodes"
   ]
  },
  {
   "cell_type": "code",
   "execution_count": 9,
   "metadata": {},
   "outputs": [
    {
     "name": "stdout",
     "output_type": "stream",
     "text": [
      "Graphs are isomorphic\n"
     ]
    }
   ],
   "source": [
    "node_mapping, edge_mapping = triplet_match(true_graph, generated_graph)"
   ]
  },
  {
   "cell_type": "code",
   "execution_count": 10,
   "metadata": {},
   "outputs": [
    {
     "data": {
      "text/plain": [
       "{2: 2, 3: 3, 1: 1, 4: 4, 5: 5}"
      ]
     },
     "execution_count": 10,
     "metadata": {},
     "output_type": "execute_result"
    }
   ],
   "source": [
    "node_mapping"
   ]
  },
  {
   "cell_type": "code",
   "execution_count": 11,
   "metadata": {},
   "outputs": [
    {
     "data": {
      "text/plain": [
       "{'1->2': '1->2', '2->3': '2->3', '3->4': '3->4', '4->5': '4->5'}"
      ]
     },
     "execution_count": 11,
     "metadata": {},
     "output_type": "execute_result"
    }
   ],
   "source": [
    "edge_mapping"
   ]
  },
  {
   "cell_type": "markdown",
   "metadata": {},
   "source": [
    "# Test 2 - cycle with missing edge"
   ]
  },
  {
   "cell_type": "code",
   "execution_count": 12,
   "metadata": {},
   "outputs": [],
   "source": [
    "true_graph, generated_graph = load_graphs('test_cycle_with_missing_edge')\n",
    "values_edges, indices_edges, matrix_edges = jaccard_edges(true_graph.edges(data=True), generated_graph.edges(data=True),\n",
    "                                        return_matrix=True)\n",
    "values_nodes, indices_nodes, matrix_nodes = jaccard_nodes(true_graph.nodes(data=True), generated_graph.nodes(data=True),\n",
    "                                return_matrix=True)"
   ]
  },
  {
   "cell_type": "code",
   "execution_count": 13,
   "metadata": {},
   "outputs": [
    {
     "data": {
      "text/plain": [
       "array([[1., 0., 0., 0.],\n",
       "       [0., 1., 0., 0.],\n",
       "       [0., 0., 1., 0.],\n",
       "       [0., 0., 0., 1.],\n",
       "       [0., 0., 0., 0.]])"
      ]
     },
     "execution_count": 13,
     "metadata": {},
     "output_type": "execute_result"
    }
   ],
   "source": [
    "matrix_edges"
   ]
  },
  {
   "cell_type": "code",
   "execution_count": 14,
   "metadata": {},
   "outputs": [
    {
     "data": {
      "text/plain": [
       "array([[1., 0., 0., 0.],\n",
       "       [0., 1., 0., 0.],\n",
       "       [0., 0., 1., 0.],\n",
       "       [0., 0., 0., 1.]])"
      ]
     },
     "execution_count": 14,
     "metadata": {},
     "output_type": "execute_result"
    }
   ],
   "source": [
    "matrix_nodes"
   ]
  },
  {
   "cell_type": "code",
   "execution_count": 15,
   "metadata": {},
   "outputs": [],
   "source": [
    "node_mapping, edge_mapping = triplet_match(true_graph, generated_graph)"
   ]
  },
  {
   "cell_type": "code",
   "execution_count": 16,
   "metadata": {},
   "outputs": [
    {
     "data": {
      "text/plain": [
       "{1: 1, 2: 2, 3: 3, 4: 4}"
      ]
     },
     "execution_count": 16,
     "metadata": {},
     "output_type": "execute_result"
    }
   ],
   "source": [
    "node_mapping"
   ]
  },
  {
   "cell_type": "code",
   "execution_count": 17,
   "metadata": {},
   "outputs": [
    {
     "data": {
      "text/plain": [
       "{'1->2': '1->2', '2->3': '2->3', '3->4': '3->4', '4->3': '4->3', '4->1': None}"
      ]
     },
     "execution_count": 17,
     "metadata": {},
     "output_type": "execute_result"
    }
   ],
   "source": [
    "edge_mapping"
   ]
  },
  {
   "cell_type": "markdown",
   "metadata": {},
   "source": [
    "# Test 3 - split node"
   ]
  },
  {
   "cell_type": "code",
   "execution_count": 18,
   "metadata": {},
   "outputs": [],
   "source": [
    "true_graph, generated_graph = load_graphs('test_split_node')\n",
    "values_edges, indices_edges, matrix_edges = jaccard_edges(true_graph.edges(data=True), generated_graph.edges(data=True),\n",
    "                                        return_matrix=True)\n",
    "values_nodes, indices_nodes, matrix_nodes = jaccard_nodes(true_graph.nodes(data=True), generated_graph.nodes(data=True),\n",
    "                                return_matrix=True)"
   ]
  },
  {
   "cell_type": "code",
   "execution_count": 19,
   "metadata": {},
   "outputs": [
    {
     "data": {
      "text/plain": [
       "array([[0.5, 0. ],\n",
       "       [0.5, 0. ]])"
      ]
     },
     "execution_count": 19,
     "metadata": {},
     "output_type": "execute_result"
    }
   ],
   "source": [
    "matrix_edges"
   ]
  },
  {
   "cell_type": "code",
   "execution_count": 20,
   "metadata": {},
   "outputs": [
    {
     "data": {
      "text/plain": [
       "array([[1., 0., 0.],\n",
       "       [0., 0., 0.],\n",
       "       [0., 0., 0.]])"
      ]
     },
     "execution_count": 20,
     "metadata": {},
     "output_type": "execute_result"
    }
   ],
   "source": [
    "matrix_nodes"
   ]
  },
  {
   "cell_type": "code",
   "execution_count": 21,
   "metadata": {},
   "outputs": [
    {
     "name": "stdout",
     "output_type": "stream",
     "text": [
      "The nodes of edges 1->3 and 1->3 has something in common, but not complete match: Sources: How can I help?, How can I help?\n",
      "The nodes of edges 1->3 and 1->3 has something in common, but not complete match: Targets: Which books would you like to order?, Which would you like to change?\n",
      "The nodes of edges 1->2 and 1->2 has something in common, but not complete match: Sources: How can I help?, How can I help?\n",
      "The nodes of edges 1->2 and 1->2 has something in common, but not complete match: Targets: What exactly would you like to change?, Which would you like to change?\n"
     ]
    }
   ],
   "source": [
    "node_mapping, edge_mapping = triplet_match(true_graph, generated_graph)"
   ]
  },
  {
   "cell_type": "code",
   "execution_count": 22,
   "metadata": {},
   "outputs": [
    {
     "data": {
      "text/plain": [
       "{1: 1, 3: None, 2: None}"
      ]
     },
     "execution_count": 22,
     "metadata": {},
     "output_type": "execute_result"
    }
   ],
   "source": [
    "node_mapping"
   ]
  },
  {
   "cell_type": "code",
   "execution_count": 23,
   "metadata": {},
   "outputs": [
    {
     "data": {
      "text/plain": [
       "{'1->3': None, '1->2': None}"
      ]
     },
     "execution_count": 23,
     "metadata": {},
     "output_type": "execute_result"
    }
   ],
   "source": [
    "edge_mapping"
   ]
  },
  {
   "cell_type": "markdown",
   "metadata": {},
   "source": [
    "# Test 4 - complex graph with cycles and missing edges and node"
   ]
  },
  {
   "cell_type": "code",
   "execution_count": 24,
   "metadata": {},
   "outputs": [],
   "source": [
    "true_graph, generated_graph = load_graphs('test_complex_graph')\n",
    "values_edges, indices_edges, matrix_edges = jaccard_edges(true_graph.edges(data=True), generated_graph.edges(data=True),\n",
    "                                        return_matrix=True)\n",
    "values_nodes, indices_nodes, matrix_nodes = jaccard_nodes(true_graph.nodes(data=True), generated_graph.nodes(data=True),\n",
    "                                return_matrix=True)"
   ]
  },
  {
   "cell_type": "code",
   "execution_count": 25,
   "metadata": {},
   "outputs": [
    {
     "data": {
      "text/plain": [
       "array([[1., 0., 0., 0., 0., 0., 0., 0., 0., 0., 0., 0.],\n",
       "       [0., 0., 1., 0., 0., 0., 0., 0., 0., 0., 0., 0.],\n",
       "       [0., 1., 0., 0., 0., 0., 0., 0., 0., 0., 0., 0.],\n",
       "       [0., 0., 0., 0., 0., 1., 0., 0., 0., 0., 1., 0.],\n",
       "       [0., 0., 0., 0., 0., 0., 1., 0., 1., 0., 0., 1.],\n",
       "       [0., 0., 0., 1., 0., 0., 0., 0., 0., 0., 0., 0.],\n",
       "       [0., 0., 0., 0., 1., 0., 0., 0., 0., 0., 0., 0.],\n",
       "       [0., 0., 0., 0., 0., 1., 0., 0., 0., 0., 1., 0.],\n",
       "       [0., 0., 0., 0., 0., 0., 1., 0., 1., 0., 0., 1.],\n",
       "       [0., 0., 0., 0., 0., 0., 0., 1., 0., 0., 0., 0.],\n",
       "       [0., 0., 0., 0., 0., 0., 1., 0., 1., 0., 0., 1.],\n",
       "       [0., 0., 0., 0., 0., 0., 0., 0., 0., 1., 0., 0.]])"
      ]
     },
     "execution_count": 25,
     "metadata": {},
     "output_type": "execute_result"
    }
   ],
   "source": [
    "matrix_edges"
   ]
  },
  {
   "cell_type": "code",
   "execution_count": 26,
   "metadata": {},
   "outputs": [
    {
     "data": {
      "text/plain": [
       "array([[1., 0., 0., 0., 0., 0., 0., 0.],\n",
       "       [0., 1., 0., 0., 0., 0., 0., 0.],\n",
       "       [0., 0., 0., 0., 0., 0., 0., 1.],\n",
       "       [0., 0., 1., 0., 0., 0., 0., 0.],\n",
       "       [0., 0., 0., 1., 0., 0., 0., 0.],\n",
       "       [0., 0., 0., 0., 1., 0., 0., 0.],\n",
       "       [0., 0., 0., 0., 0., 1., 0., 0.],\n",
       "       [0., 0., 0., 0., 0., 0., 1., 0.]])"
      ]
     },
     "execution_count": 26,
     "metadata": {},
     "output_type": "execute_result"
    }
   ],
   "source": [
    "matrix_nodes"
   ]
  },
  {
   "cell_type": "code",
   "execution_count": 27,
   "metadata": {},
   "outputs": [
    {
     "name": "stdout",
     "output_type": "stream",
     "text": [
      "Graphs are isomorphic\n",
      "The nodes of edges 3->2 and 3->4 has something in common, but not complete match: Sources: Added it to your cart. Anything else?, Done. Anything else?\n",
      "The nodes of edges 3->2 and 3->4 has something in common, but not complete match: Targets: ['Which books would you like to order?', 'What would you like to buy?'], ['Which books would you like to order?', 'What would you like to buy?']\n",
      "The nodes of edges 3->7 and 3->5 has something in common, but not complete match: Sources: Added it to your cart. Anything else?, Done. Anything else?\n",
      "The nodes of edges 3->7 and 3->5 has something in common, but not complete match: Targets: Okay, everything is done, you can go to cart and finish the order., Okay, everything is done, you can go to cart and finish the order.\n",
      "The nodes of edges 3->7 and 3->5 has something in common, but not complete match: Sources: Added it to your cart. Anything else?, Okay. Anything else?\n",
      "The nodes of edges 3->7 and 3->5 has something in common, but not complete match: Targets: Okay, everything is done, you can go to cart and finish the order., Okay, everything is done, you can go to cart and finish the order.\n",
      "The nodes of edges 5->2 and 5->2 has something in common, but not complete match: Sources: Done. Anything else?, Added it to your cart. Anything else?\n",
      "The nodes of edges 5->2 and 5->2 has something in common, but not complete match: Targets: ['Which books would you like to order?', 'What would you like to buy?'], ['Which books would you like to order?', 'What would you like to buy?']\n",
      "The nodes of edges 5->7 and 5->6 has something in common, but not complete match: Sources: Done. Anything else?, Okay. Anything else?\n",
      "The nodes of edges 5->7 and 5->6 has something in common, but not complete match: Targets: Okay, everything is done, you can go to cart and finish the order., Okay, everything is done, you can go to cart and finish the order.\n",
      "The nodes of edges 5->7 and 5->6 has something in common, but not complete match: Sources: Done. Anything else?, Added it to your cart. Anything else?\n",
      "The nodes of edges 5->7 and 5->6 has something in common, but not complete match: Targets: Okay, everything is done, you can go to cart and finish the order., Okay, everything is done, you can go to cart and finish the order.\n",
      "The nodes of edges 6->7 and 8->2 has something in common, but not complete match: Sources: Okay. Anything else?, Done. Anything else?\n",
      "The nodes of edges 6->7 and 8->2 has something in common, but not complete match: Targets: Okay, everything is done, you can go to cart and finish the order., Okay, everything is done, you can go to cart and finish the order.\n",
      "The nodes of edges 6->7 and 8->2 has something in common, but not complete match: Sources: Okay. Anything else?, Added it to your cart. Anything else?\n",
      "The nodes of edges 6->7 and 8->2 has something in common, but not complete match: Targets: Okay, everything is done, you can go to cart and finish the order., Okay, everything is done, you can go to cart and finish the order.\n"
     ]
    }
   ],
   "source": [
    "node_mapping, edge_mapping = triplet_match(true_graph, generated_graph)"
   ]
  },
  {
   "cell_type": "code",
   "execution_count": 28,
   "metadata": {},
   "outputs": [
    {
     "data": {
      "text/plain": [
       "{'1->2': '1->2',\n",
       " '2->3': '2->8',\n",
       " '2->4': '2->3',\n",
       " '3->2': '8->2',\n",
       " '3->7': '8->6',\n",
       " '4->5': '3->4',\n",
       " '4->6': '3->5',\n",
       " '5->2': '4->2',\n",
       " '5->7': '4->6',\n",
       " '6->2': '5->2',\n",
       " '6->7': '5->6',\n",
       " '7->8': '6->7'}"
      ]
     },
     "execution_count": 28,
     "metadata": {},
     "output_type": "execute_result"
    }
   ],
   "source": [
    "edge_mapping"
   ]
  },
  {
   "cell_type": "code",
   "execution_count": 29,
   "metadata": {},
   "outputs": [
    {
     "data": {
      "text/plain": [
       "{2: 2, 4: 3, 5: 4, 6: 5, 1: 1, 3: 8, 7: 6, 8: 7}"
      ]
     },
     "execution_count": 29,
     "metadata": {},
     "output_type": "execute_result"
    }
   ],
   "source": [
    "node_mapping"
   ]
  },
  {
   "cell_type": "markdown",
   "metadata": {},
   "source": [
    "# Test 5 - similar, different node is missing"
   ]
  },
  {
   "cell_type": "code",
   "execution_count": 31,
   "metadata": {},
   "outputs": [],
   "source": [
    "true_graph, generated_graph = load_graphs('test_complex_graph_2')\n",
    "values_edges, indices_edges, matrix_edges = jaccard_edges(true_graph.edges(data=True), generated_graph.edges(data=True),\n",
    "                                        return_matrix=True)\n",
    "values_nodes, indices_nodes, matrix_nodes = jaccard_nodes(true_graph.nodes(data=True), generated_graph.nodes(data=True),\n",
    "                                return_matrix=True)"
   ]
  },
  {
   "cell_type": "code",
   "execution_count": 36,
   "metadata": {},
   "outputs": [
    {
     "data": {
      "text/plain": [
       "array([[1., 0., 0., 0., 0., 0., 0., 0.],\n",
       "       [0., 1., 0., 0., 0., 0., 0., 0.],\n",
       "       [0., 0., 1., 0., 0., 0., 0., 0.],\n",
       "       [0., 0., 0., 1., 0., 0., 0., 0.],\n",
       "       [0., 0., 0., 0., 1., 0., 0., 0.],\n",
       "       [0., 0., 0., 0., 0., 0., 0., 1.],\n",
       "       [0., 0., 0., 0., 0., 1., 0., 0.],\n",
       "       [0., 0., 0., 0., 0., 0., 1., 0.]])"
      ]
     },
     "execution_count": 36,
     "metadata": {},
     "output_type": "execute_result"
    }
   ],
   "source": [
    "matrix_nodes"
   ]
  },
  {
   "cell_type": "code",
   "execution_count": 32,
   "metadata": {},
   "outputs": [
    {
     "data": {
      "text/plain": [
       "array([[1., 0., 0., 0., 0., 0., 0., 0., 0., 0., 0., 0.],\n",
       "       [0., 1., 0., 0., 0., 0., 0., 0., 0., 0., 0., 0.],\n",
       "       [0., 0., 1., 0., 0., 0., 0., 0., 0., 0., 0., 0.],\n",
       "       [0., 0., 0., 1., 0., 0., 0., 1., 0., 0., 0., 0.],\n",
       "       [0., 0., 0., 0., 1., 0., 0., 0., 1., 0., 0., 1.],\n",
       "       [0., 0., 0., 0., 0., 1., 0., 0., 0., 0., 0., 0.],\n",
       "       [0., 0., 0., 0., 0., 0., 1., 0., 0., 0., 0., 0.],\n",
       "       [0., 0., 0., 1., 0., 0., 0., 1., 0., 0., 0., 0.],\n",
       "       [0., 0., 0., 0., 1., 0., 0., 0., 1., 0., 0., 1.],\n",
       "       [0., 0., 0., 0., 0., 0., 0., 0., 0., 0., 1., 0.],\n",
       "       [0., 0., 0., 0., 1., 0., 0., 0., 1., 0., 0., 1.],\n",
       "       [0., 0., 0., 0., 0., 0., 0., 0., 0., 1., 0., 0.]])"
      ]
     },
     "execution_count": 32,
     "metadata": {},
     "output_type": "execute_result"
    }
   ],
   "source": [
    "matrix_edges"
   ]
  },
  {
   "cell_type": "code",
   "execution_count": 33,
   "metadata": {},
   "outputs": [
    {
     "name": "stdout",
     "output_type": "stream",
     "text": [
      "Graphs are isomorphic\n",
      "The nodes of edges 3->2 and 3->2 has something in common, but not complete match: Sources: Added it to your cart. Anything else?, Done. Anything else?\n",
      "The nodes of edges 3->2 and 3->2 has something in common, but not complete match: Targets: ['Which books would you like to order?', 'What would you like to buy?'], ['Which books would you like to order?', 'What would you like to buy?']\n",
      "The nodes of edges 3->7 and 3->6 has something in common, but not complete match: Sources: Added it to your cart. Anything else?, Done. Anything else?\n",
      "The nodes of edges 3->7 and 3->6 has something in common, but not complete match: Targets: Okay, everything is done, you can go to cart and finish the order., Okay, everything is done, you can go to cart and finish the order.\n",
      "The nodes of edges 3->7 and 3->6 has something in common, but not complete match: Sources: Added it to your cart. Anything else?, Okay. Anything else?\n",
      "The nodes of edges 3->7 and 3->6 has something in common, but not complete match: Targets: Okay, everything is done, you can go to cart and finish the order., Okay, everything is done, you can go to cart and finish the order.\n",
      "The nodes of edges 5->2 and 5->2 has something in common, but not complete match: Sources: Done. Anything else?, Added it to your cart. Anything else?\n",
      "The nodes of edges 5->2 and 5->2 has something in common, but not complete match: Targets: ['Which books would you like to order?', 'What would you like to buy?'], ['Which books would you like to order?', 'What would you like to buy?']\n",
      "The nodes of edges 5->7 and 5->6 has something in common, but not complete match: Sources: Done. Anything else?, Added it to your cart. Anything else?\n",
      "The nodes of edges 5->7 and 5->6 has something in common, but not complete match: Targets: Okay, everything is done, you can go to cart and finish the order., Okay, everything is done, you can go to cart and finish the order.\n",
      "The nodes of edges 5->7 and 5->6 has something in common, but not complete match: Sources: Done. Anything else?, Okay. Anything else?\n",
      "The nodes of edges 5->7 and 5->6 has something in common, but not complete match: Targets: Okay, everything is done, you can go to cart and finish the order., Okay, everything is done, you can go to cart and finish the order.\n",
      "The nodes of edges 6->7 and 8->2 has something in common, but not complete match: Sources: Okay. Anything else?, Added it to your cart. Anything else?\n",
      "The nodes of edges 6->7 and 8->2 has something in common, but not complete match: Targets: Okay, everything is done, you can go to cart and finish the order., Okay, everything is done, you can go to cart and finish the order.\n",
      "The nodes of edges 6->7 and 8->2 has something in common, but not complete match: Sources: Okay. Anything else?, Done. Anything else?\n",
      "The nodes of edges 6->7 and 8->2 has something in common, but not complete match: Targets: Okay, everything is done, you can go to cart and finish the order., Okay, everything is done, you can go to cart and finish the order.\n"
     ]
    }
   ],
   "source": [
    "node_mapping, edge_mapping = triplet_match(true_graph, generated_graph)"
   ]
  },
  {
   "cell_type": "code",
   "execution_count": 35,
   "metadata": {},
   "outputs": [
    {
     "data": {
      "text/plain": [
       "{2: 2, 4: 4, 5: 5, 6: 8, 1: 1, 3: 3, 7: 6, 8: 7}"
      ]
     },
     "execution_count": 35,
     "metadata": {},
     "output_type": "execute_result"
    }
   ],
   "source": [
    "node_mapping"
   ]
  },
  {
   "cell_type": "code",
   "execution_count": 34,
   "metadata": {},
   "outputs": [
    {
     "data": {
      "text/plain": [
       "{'1->2': '1->2',\n",
       " '2->3': '2->3',\n",
       " '2->4': '2->4',\n",
       " '3->2': '3->2',\n",
       " '3->7': '3->6',\n",
       " '4->5': '4->5',\n",
       " '4->6': '4->8',\n",
       " '5->2': '5->2',\n",
       " '5->7': '5->6',\n",
       " '6->2': '8->2',\n",
       " '6->7': '8->6',\n",
       " '7->8': '6->7'}"
      ]
     },
     "execution_count": 34,
     "metadata": {},
     "output_type": "execute_result"
    }
   ],
   "source": [
    "edge_mapping"
   ]
  }
 ],
 "metadata": {
  "kernelspec": {
   "display_name": "chroma",
   "language": "python",
   "name": "python3"
  },
  "language_info": {
   "codemirror_mode": {
    "name": "ipython",
    "version": 3
   },
   "file_extension": ".py",
   "mimetype": "text/x-python",
   "name": "python",
   "nbconvert_exporter": "python",
   "pygments_lexer": "ipython3",
   "version": "3.9.12"
  }
 },
 "nbformat": 4,
 "nbformat_minor": 2
}
