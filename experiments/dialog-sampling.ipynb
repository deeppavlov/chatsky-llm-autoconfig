{
 "cells": [
  {
   "cell_type": "code",
   "execution_count": 1,
   "metadata": {},
   "outputs": [],
   "source": [
    "import sys\n",
    "\n",
    "sys.path.append(\"../\")"
   ]
  },
  {
   "cell_type": "markdown",
   "metadata": {},
   "source": [
    "## random walk"
   ]
  },
  {
   "cell_type": "code",
   "execution_count": 2,
   "metadata": {},
   "outputs": [
    {
     "name": "stdout",
     "output_type": "stream",
     "text": [
      "[1, 2, 3, 4, 5, 6, 7, 8, 9, 10, 11, 12, 13, 14, 15, 16, 17, 18, 19, 20, 21, 22]\n",
      "False\n"
     ]
    }
   ],
   "source": [
    "import json\n",
    "import os\n",
    "from pprint import pprint\n",
    "\n",
    "from src.graph import TYPES_OF_GRAPH, Graph\n",
    "from src.sample_dialogue import sample_dialogue\n",
    "\n",
    "path = '../data'\n",
    "\n",
    "input_path = os.path.join(path, 'theme_graph.json')\n",
    "graph_dict = json.load(open(input_path, 'r'))\n",
    "graph = Graph(graph_dict, TYPES_OF_GRAPH.DI)\n",
    "\n",
    "sampled_dialogue, sampled_base_graph = sample_dialogue(\n",
    "    graph.nx_graph,\n",
    "    start_node=1,\n",
    "    topic='books'\n",
    ")"
   ]
  },
  {
   "cell_type": "code",
   "execution_count": 3,
   "metadata": {},
   "outputs": [
    {
     "name": "stdout",
     "output_type": "stream",
     "text": [
      "{'edges': [{'source': 1,\n",
      "            'target': 2,\n",
      "            'theme': 'books',\n",
      "            'utterances': ['I want to read something.']},\n",
      "           {'source': 2,\n",
      "            'target': 4,\n",
      "            'theme': 'books',\n",
      "            'utterances': ['I prefer non-fiction.']},\n",
      "           {'source': 4,\n",
      "            'target': 5,\n",
      "            'theme': 'books',\n",
      "            'utterances': ['I enjoy biographies.']},\n",
      "           {'source': 5,\n",
      "            'target': 6,\n",
      "            'theme': 'books',\n",
      "            'utterances': ['What are the popular books in this genre?']},\n",
      "           {'source': 6,\n",
      "            'target': 7,\n",
      "            'theme': 'books',\n",
      "            'utterances': ['Any recommendations for authors?']},\n",
      "           {'source': 7,\n",
      "            'target': 8,\n",
      "            'theme': 'books',\n",
      "            'utterances': ['I never heard about this author, but ihe seems '\n",
      "                           'interesting']},\n",
      "           {'source': 8,\n",
      "            'target': 9,\n",
      "            'theme': 'books',\n",
      "            'utterances': ['No, this book looks good to me.']}],\n",
      " 'nodes': [{'id': 1,\n",
      "            'label': 'start',\n",
      "            'theme': 'common',\n",
      "            'utterances': ['I am ready to help you choose a book, a movie, or '\n",
      "                           'a game.']},\n",
      "           {'id': 2,\n",
      "            'label': 'choosing_book',\n",
      "            'theme': 'books',\n",
      "            'utterances': ['Would you like a fiction or a non-fiction book?']},\n",
      "           {'id': 4,\n",
      "            'label': 'non_fiction',\n",
      "            'theme': 'books',\n",
      "            'utterances': ['What genres of non-fiction are you interested '\n",
      "                           'in?']},\n",
      "           {'id': 5,\n",
      "            'label': 'popular_books',\n",
      "            'theme': 'books',\n",
      "            'utterances': ['Bestsellers or something specific?']},\n",
      "           {'id': 6,\n",
      "            'label': 'popular_books',\n",
      "            'theme': 'books',\n",
      "            'utterances': ['Sure, this is top-5 books of chose genre']},\n",
      "           {'id': 7,\n",
      "            'label': 'specific_authors',\n",
      "            'theme': 'books',\n",
      "            'utterances': ['Do you have any favorite authors?']},\n",
      "           {'id': 8,\n",
      "            'label': 'book_details',\n",
      "            'theme': 'books',\n",
      "            'utterances': ['Shall I provide more information about this '\n",
      "                           \"author' book?\"]},\n",
      "           {'id': 9,\n",
      "            'label': 'final_recommendation',\n",
      "            'theme': 'common',\n",
      "            'utterances': ['Great choice!']}]}\n"
     ]
    }
   ],
   "source": [
    "pprint(sampled_base_graph)"
   ]
  },
  {
   "cell_type": "code",
   "execution_count": 4,
   "metadata": {},
   "outputs": [
    {
     "name": "stdout",
     "output_type": "stream",
     "text": [
      "[{'participant': 'assistant',\n",
      "  'text': 'I am ready to help you choose a book, a movie, or a game.'},\n",
      " {'participant': 'user',\n",
      "  'source': 1,\n",
      "  'target': 2,\n",
      "  'text': 'I want to read something.'},\n",
      " {'participant': 'assistant',\n",
      "  'text': 'Would you like a fiction or a non-fiction book?'},\n",
      " {'participant': 'user',\n",
      "  'source': 2,\n",
      "  'target': 4,\n",
      "  'text': 'I prefer non-fiction.'},\n",
      " {'participant': 'assistant',\n",
      "  'text': 'What genres of non-fiction are you interested in?'},\n",
      " {'participant': 'user',\n",
      "  'source': 4,\n",
      "  'target': 5,\n",
      "  'text': 'I enjoy biographies.'},\n",
      " {'participant': 'assistant', 'text': 'Bestsellers or something specific?'},\n",
      " {'participant': 'user',\n",
      "  'source': 5,\n",
      "  'target': 6,\n",
      "  'text': 'What are the popular books in this genre?'},\n",
      " {'participant': 'assistant',\n",
      "  'text': 'Sure, this is top-5 books of chose genre'},\n",
      " {'participant': 'user',\n",
      "  'source': 6,\n",
      "  'target': 7,\n",
      "  'text': 'Any recommendations for authors?'},\n",
      " {'participant': 'assistant', 'text': 'Do you have any favorite authors?'},\n",
      " {'participant': 'user',\n",
      "  'source': 7,\n",
      "  'target': 8,\n",
      "  'text': 'I never heard about this author, but ihe seems interesting'},\n",
      " {'participant': 'assistant',\n",
      "  'text': \"Shall I provide more information about this author' book?\"},\n",
      " {'participant': 'user',\n",
      "  'source': 8,\n",
      "  'target': 9,\n",
      "  'text': 'No, this book looks good to me.'},\n",
      " {'participant': 'assistant', 'text': 'Great choice!'}]\n"
     ]
    }
   ],
   "source": [
    "pprint(sampled_dialogue)"
   ]
  },
  {
   "cell_type": "code",
   "execution_count": 5,
   "metadata": {},
   "outputs": [
    {
     "data": {
      "image/png": "[encoded data removed]",
      "text/plain": [
       "<Figure size 640x480 with 1 Axes>"
      ]
     },
     "metadata": {},
     "output_type": "display_data"
    }
   ],
   "source": [
    "import networkx as nx\n",
    "\n",
    "nx.draw_networkx(graph.nx_graph)"
   ]
  },
  {
   "cell_type": "markdown",
   "metadata": {},
   "source": [
    "## all simple paths"
   ]
  },
  {
   "cell_type": "code",
   "execution_count": 6,
   "metadata": {},
   "outputs": [],
   "source": [
    "paths_generator = nx.all_simple_edge_paths(graph.nx_graph, source=1, target=9)\n",
    "paths = list(paths_generator)"
   ]
  },
  {
   "cell_type": "code",
   "execution_count": 7,
   "metadata": {},
   "outputs": [
    {
     "data": {
      "text/plain": [
       "[[(1, 2), (2, 3), (3, 5), (5, 6), (6, 7), (7, 8), (8, 9)],\n",
       " [(1, 2), (2, 4), (4, 5), (5, 6), (6, 7), (7, 8), (8, 9)],\n",
       " [(1, 10), (10, 11), (11, 12), (12, 14), (14, 15), (15, 9)],\n",
       " [(1, 10), (10, 11), (11, 13), (13, 14), (14, 15), (15, 9)],\n",
       " [(1, 16), (16, 17), (17, 18), (18, 19), (19, 20), (20, 9)],\n",
       " [(1, 16), (16, 17), (17, 21), (21, 22), (22, 9)]]"
      ]
     },
     "execution_count": 7,
     "metadata": {},
     "output_type": "execute_result"
    }
   ],
   "source": [
    "paths"
   ]
  },
  {
   "cell_type": "code",
   "execution_count": 8,
   "metadata": {},
   "outputs": [
    {
     "name": "stdout",
     "output_type": "stream",
     "text": [
      "[{'participant': 'assistant', 'text': 'How can I help?'},\n",
      " {'participant': 'user', 'text': 'I want to play a game.'},\n",
      " {'participant': 'assistant',\n",
      "  'text': \"You're looking for a video game recommendation.\"},\n",
      " {'participant': 'user', 'text': 'What kind of games do you like?'},\n",
      " {'participant': 'assistant', 'text': 'Which genre of games do you prefer?'},\n",
      " {'participant': 'user', 'text': 'Tell me about the reviews for this game.'},\n",
      " {'participant': 'assistant',\n",
      "  'text': 'What are the reviews like for this game?'},\n",
      " {'participant': 'user', 'text': 'What are the features of this game?'},\n",
      " {'participant': 'assistant',\n",
      "  'text': \"I'd like to know about the features of this game.\"},\n",
      " {'participant': 'user', 'text': \"I'll definitely play this one.\"},\n",
      " {'participant': 'assistant', 'text': 'I am sure you will like it'}]\n"
     ]
    }
   ],
   "source": [
    "from src.sample_dialogue import materialize_dialogue\n",
    "\n",
    "pprint(materialize_dialogue(graph.nx_graph, paths[-1]))"
   ]
  },
  {
   "cell_type": "markdown",
   "metadata": {},
   "source": [
    "## add cycles"
   ]
  },
  {
   "cell_type": "code",
   "execution_count": 9,
   "metadata": {},
   "outputs": [
    {
     "data": {
      "text/plain": [
       "[[6, 7, 8], [11, 12, 14], [11, 13, 14], [21, 22]]"
      ]
     },
     "execution_count": 9,
     "metadata": {},
     "output_type": "execute_result"
    }
   ],
   "source": [
    "all_cycles = nx.recursive_simple_cycles(graph.nx_graph)\n",
    "all_cycles"
   ]
  },
  {
   "cell_type": "code",
   "execution_count": 10,
   "metadata": {},
   "outputs": [
    {
     "data": {
      "text/plain": [
       "[[1, 2, 3, 5, 6, 7, 8, 9],\n",
       " [1, 2, 4, 5, 6, 7, 8, 9],\n",
       " [1, 10, 11, 12, 14, 15, 9],\n",
       " [1, 10, 11, 13, 14, 15, 9],\n",
       " [1, 16, 17, 18, 19, 20, 9],\n",
       " [1, 16, 17, 21, 22, 9]]"
      ]
     },
     "execution_count": 10,
     "metadata": {},
     "output_type": "execute_result"
    }
   ],
   "source": [
    "paths_generator = nx.all_simple_paths(graph.nx_graph, source=1, target=9)\n",
    "paths = list(paths_generator)\n",
    "paths"
   ]
  },
  {
   "cell_type": "code",
   "execution_count": 11,
   "metadata": {},
   "outputs": [
    {
     "data": {
      "text/plain": [
       "[1, 16, 17, 21, 22, 21, 22, 9]"
      ]
     },
     "execution_count": 11,
     "metadata": {},
     "output_type": "execute_result"
    }
   ],
   "source": [
    "from src.dialogue_sampling.cycles import add_cycles\n",
    "\n",
    "\n",
    "add_cycles(graph.nx_graph, paths[5], n_cycles=1, n_repeats=[1])"
   ]
  },
  {
   "cell_type": "markdown",
   "metadata": {},
   "source": [
    "## topics"
   ]
  },
  {
   "cell_type": "code",
   "execution_count": 12,
   "metadata": {},
   "outputs": [
    {
     "data": {
      "text/plain": [
       "[[(1, 2), (2, 3), (3, 5), (5, 6), (6, 7), (7, 8), (8, 9)],\n",
       " [(1, 2), (2, 4), (4, 5), (5, 6), (6, 7), (7, 8), (8, 9)],\n",
       " [(1, 10), (10, 11), (11, 12), (12, 14), (14, 15), (15, 9)],\n",
       " [(1, 10), (10, 11), (11, 13), (13, 14), (14, 15), (15, 9)],\n",
       " [(1, 16), (16, 17), (17, 18), (18, 19), (19, 20), (20, 9)],\n",
       " [(1, 16), (16, 17), (17, 21), (21, 22), (22, 9)]]"
      ]
     },
     "execution_count": 12,
     "metadata": {},
     "output_type": "execute_result"
    }
   ],
   "source": [
    "paths_generator = nx.all_simple_edge_paths(graph.nx_graph, source=1, target=9)\n",
    "paths = list(paths_generator)\n",
    "paths"
   ]
  },
  {
   "cell_type": "code",
   "execution_count": 13,
   "metadata": {},
   "outputs": [
    {
     "name": "stdout",
     "output_type": "stream",
     "text": [
      "{'books'}\n",
      "{'books'}\n",
      "{'movies'}\n",
      "{'movies'}\n",
      "{'videogames'}\n",
      "{'videogames'}\n"
     ]
    }
   ],
   "source": [
    "from src.dialogue_sampling.topics import get_topics\n",
    "\n",
    "for p in paths:\n",
    "    print(get_topics(graph.nx_graph, p))"
   ]
  },
  {
   "cell_type": "markdown",
   "metadata": {},
   "source": [
    "## degree of uniqueness"
   ]
  },
  {
   "cell_type": "code",
   "execution_count": 14,
   "metadata": {},
   "outputs": [
    {
     "data": {
      "text/plain": [
       "[[(1, 2), (2, 3), (3, 5), (5, 6), (6, 7), (7, 8), (8, 9)],\n",
       " [(1, 2), (2, 4), (4, 5), (5, 6), (6, 7), (7, 8), (8, 9)],\n",
       " [(1, 10), (10, 11), (11, 12), (12, 14), (14, 15), (15, 9)],\n",
       " [(1, 10), (10, 11), (11, 13), (13, 14), (14, 15), (15, 9)],\n",
       " [(1, 16), (16, 17), (17, 18), (18, 19), (19, 20), (20, 9)],\n",
       " [(1, 16), (16, 17), (17, 21), (21, 22), (22, 9)]]"
      ]
     },
     "execution_count": 14,
     "metadata": {},
     "output_type": "execute_result"
    }
   ],
   "source": [
    "paths_generator = nx.all_simple_edge_paths(graph.nx_graph, source=1, target=9)\n",
    "paths = list(paths_generator)\n",
    "paths"
   ]
  },
  {
   "cell_type": "code",
   "execution_count": 15,
   "metadata": {},
   "outputs": [],
   "source": [
    "from src.dialogue_sampling.utterance import materialize_dialogue"
   ]
  },
  {
   "cell_type": "code",
   "execution_count": 16,
   "metadata": {},
   "outputs": [
    {
     "data": {
      "text/plain": [
       "[{'text': 'Do you want to choose a book, a movie, or a game?',\n",
       "  'participant': 'assistant'},\n",
       " {'text': 'I need a book.', 'participant': 'user'},\n",
       " {'text': 'How about something from the fiction genre?',\n",
       "  'participant': 'assistant'},\n",
       " {'text': 'I want to read fiction.', 'participant': 'user'},\n",
       " {'text': 'Do you have a specific genre of fiction in mind?',\n",
       "  'participant': 'assistant'},\n",
       " {'text': 'I like fantasy.', 'participant': 'user'},\n",
       " {'text': 'Bestsellers or something specific?', 'participant': 'assistant'},\n",
       " {'text': 'Show me the bestsellers.', 'participant': 'user'},\n",
       " {'text': 'These are some highly recommended books.',\n",
       "  'participant': 'assistant'},\n",
       " {'text': 'Who are the famous authors in this genre?', 'participant': 'user'},\n",
       " {'text': 'Which authors do you prefer?', 'participant': 'assistant'},\n",
       " {'text': 'I never heard about this author, but ihe seems interesting',\n",
       "  'participant': 'user'},\n",
       " {'text': \"Shall I provide more information about this author' book?\",\n",
       "  'participant': 'assistant'},\n",
       " {'text': 'No, this book looks good to me.', 'participant': 'user'},\n",
       " {'text': 'It seems like a great choice for you.', 'participant': 'assistant'}]"
      ]
     },
     "execution_count": 16,
     "metadata": {},
     "output_type": "execute_result"
    }
   ],
   "source": [
    "materialize_dialogue(graph.nx_graph, paths[0], alpha=1.)"
   ]
  },
  {
   "cell_type": "code",
   "execution_count": 17,
   "metadata": {},
   "outputs": [
    {
     "data": {
      "text/plain": [
       "{'theme': 'books',\n",
       " 'utterances': ['I want to read something.',\n",
       "  'I need a book.',\n",
       "  'Can you recommend a book?']}"
      ]
     },
     "execution_count": 17,
     "metadata": {},
     "output_type": "execute_result"
    }
   ],
   "source": [
    "graph.nx_graph.edges[1,2]"
   ]
  },
  {
   "cell_type": "code",
   "execution_count": 18,
   "metadata": {},
   "outputs": [
    {
     "data": {
      "text/plain": [
       "[1, 2, 3, 5, 6, 7, 8, 6, 7, 8, 6, 7, 8, 6, 7, 8, 6, 7, 8, 6, 7, 8, 9]"
      ]
     },
     "execution_count": 18,
     "metadata": {},
     "output_type": "execute_result"
    }
   ],
   "source": [
    "from src.dialogue_sampling.cycles import add_cycles\n",
    "\n",
    "paths_generator = nx.all_simple_paths(graph.nx_graph, source=1, target=9)\n",
    "paths = list(paths_generator)\n",
    "paths\n",
    "\n",
    "cycled_path = add_cycles(graph.nx_graph, paths[0], n_cycles=1, n_repeats=[5])\n",
    "cycled_path"
   ]
  },
  {
   "cell_type": "code",
   "execution_count": 19,
   "metadata": {},
   "outputs": [],
   "source": [
    "def node_path_to_edge_path(path: list[int]) -> list[tuple[int,int]]:\n",
    "    res = []\n",
    "    for i in range(len(path)-1):\n",
    "        res.append((path[i], path[i+1]))\n",
    "    return res"
   ]
  },
  {
   "cell_type": "code",
   "execution_count": 20,
   "metadata": {},
   "outputs": [
    {
     "data": {
      "text/plain": [
       "[{'text': 'I am ready to help you choose a book, a movie, or a game.',\n",
       "  'participant': 'assistant'},\n",
       " {'text': 'Can you recommend a book?', 'participant': 'user'},\n",
       " {'text': 'Are you interested in fiction or non-fiction?',\n",
       "  'participant': 'assistant'},\n",
       " {'text': \"I'm interested in fiction.\", 'participant': 'user'},\n",
       " {'text': 'What genres of fiction are you interested in?',\n",
       "  'participant': 'assistant'},\n",
       " {'text': 'I like fantasy.', 'participant': 'user'},\n",
       " {'text': 'Do you want to check out popular books.',\n",
       "  'participant': 'assistant'},\n",
       " {'text': 'Show me the bestsellers.', 'participant': 'user'},\n",
       " {'text': 'These are some highly recommended books.',\n",
       "  'participant': 'assistant'},\n",
       " {'text': 'Suggest some authors I should read.', 'participant': 'user'},\n",
       " {'text': 'Are there any authors you like?', 'participant': 'assistant'},\n",
       " {'text': 'I like this author', 'participant': 'user'},\n",
       " {'text': \"Do you want to know more about this author' books?\",\n",
       "  'participant': 'assistant'},\n",
       " {'text': 'Can you suggest other authors and titles?', 'participant': 'user'},\n",
       " {'text': 'These are some highly recommended books.',\n",
       "  'participant': 'assistant'},\n",
       " {'text': 'Suggest some authors I should read.', 'participant': 'user'},\n",
       " {'text': 'Do you have any favorite authors?', 'participant': 'assistant'},\n",
       " {'text': 'I like this author', 'participant': 'user'},\n",
       " {'text': \"Shall I provide more information about this author' book?\",\n",
       "  'participant': 'assistant'},\n",
       " {'text': 'Can you suggest other authors and titles?', 'participant': 'user'},\n",
       " {'text': 'Sure, this is top-5 books of chose genre',\n",
       "  'participant': 'assistant'},\n",
       " {'text': 'Any recommendations for authors?', 'participant': 'user'},\n",
       " {'text': 'Are there any authors you like?', 'participant': 'assistant'},\n",
       " {'text': 'I like this author', 'participant': 'user'},\n",
       " {'text': \"Would you like more details about this author' books?\",\n",
       "  'participant': 'assistant'},\n",
       " {'text': 'No, show me more books.', 'participant': 'user'},\n",
       " {'text': 'These are some highly recommended books.',\n",
       "  'participant': 'assistant'},\n",
       " {'text': 'Any recommendations for authors?', 'participant': 'user'},\n",
       " {'text': 'Are there any authors you like?', 'participant': 'assistant'},\n",
       " {'text': 'I never heard about this author, but ihe seems interesting',\n",
       "  'participant': 'user'},\n",
       " {'text': \"Do you want to know more about this author' books?\",\n",
       "  'participant': 'assistant'},\n",
       " {'text': 'Can you suggest other authors and titles?', 'participant': 'user'},\n",
       " {'text': 'Check out these popular books.', 'participant': 'assistant'},\n",
       " {'text': 'Suggest some authors I should read.', 'participant': 'user'},\n",
       " {'text': 'Are there any authors you like?', 'participant': 'assistant'},\n",
       " {'text': 'Give me the details of this authour.', 'participant': 'user'},\n",
       " {'text': \"Shall I provide more information about this author' book?\",\n",
       "  'participant': 'assistant'},\n",
       " {'text': 'No, show me more books.', 'participant': 'user'},\n",
       " {'text': 'These are some highly recommended books.',\n",
       "  'participant': 'assistant'},\n",
       " {'text': 'Any recommendations for authors?', 'participant': 'user'},\n",
       " {'text': 'Which authors do you prefer?', 'participant': 'assistant'},\n",
       " {'text': 'Give me the details of this authour.', 'participant': 'user'},\n",
       " {'text': \"Do you want to know more about this author' books?\",\n",
       "  'participant': 'assistant'},\n",
       " {'text': \"No, I think I'll go with this book.\", 'participant': 'user'},\n",
       " {'text': 'It seems like a great choice for you.', 'participant': 'assistant'}]"
      ]
     },
     "execution_count": 20,
     "metadata": {},
     "output_type": "execute_result"
    }
   ],
   "source": [
    "materialize_dialogue(graph.nx_graph, node_path_to_edge_path(cycled_path), alpha=0)"
   ]
  },
  {
   "cell_type": "code",
   "execution_count": 21,
   "metadata": {},
   "outputs": [
    {
     "data": {
      "text/plain": [
       "[{'text': 'Do you want to choose a book, a movie, or a game?',\n",
       "  'participant': 'assistant'},\n",
       " {'text': 'Can you recommend a book?', 'participant': 'user'},\n",
       " {'text': 'Would you like a fiction or a non-fiction book?',\n",
       "  'participant': 'assistant'},\n",
       " {'text': 'I want to read fiction.', 'participant': 'user'},\n",
       " {'text': 'Which genre of fiction do you prefer?', 'participant': 'assistant'},\n",
       " {'text': 'Do you have any mystery novels?', 'participant': 'user'},\n",
       " {'text': 'Bestsellers or something specific?', 'participant': 'assistant'},\n",
       " {'text': 'Show me the bestsellers.', 'participant': 'user'},\n",
       " {'text': 'Check out these popular books.', 'participant': 'assistant'},\n",
       " {'text': 'Suggest some authors I should read.', 'participant': 'user'},\n",
       " {'text': 'Which authors do you prefer?', 'participant': 'assistant'},\n",
       " {'text': 'Give me the details of this authour.', 'participant': 'user'},\n",
       " {'text': \"Would you like more details about this author' books?\",\n",
       "  'participant': 'assistant'},\n",
       " {'text': 'No, I want to see other popular books.', 'participant': 'user'},\n",
       " {'text': 'Sure, this is top-5 books of chose genre',\n",
       "  'participant': 'assistant'},\n",
       " {'text': 'Who are the famous authors in this genre?', 'participant': 'user'},\n",
       " {'text': 'Do you have any favorite authors?', 'participant': 'assistant'},\n",
       " {'text': 'I like this author', 'participant': 'user'},\n",
       " {'text': \"Do you want to know more about this author' books?\",\n",
       "  'participant': 'assistant'},\n",
       " {'text': 'No, I want to see other popular books.', 'participant': 'user'},\n",
       " {'text': 'Sure, this is top-5 books of chose genre',\n",
       "  'participant': 'assistant'},\n",
       " {'text': 'Any recommendations for authors?', 'participant': 'user'},\n",
       " {'text': 'Which authors do you prefer?', 'participant': 'assistant'},\n",
       " {'text': 'I never heard about this author, but ihe seems interesting',\n",
       "  'participant': 'user'},\n",
       " {'text': \"Shall I provide more information about this author' book?\",\n",
       "  'participant': 'assistant'},\n",
       " {'text': 'No, show me more books.', 'participant': 'user'},\n",
       " {'text': 'Check out these popular books.', 'participant': 'assistant'},\n",
       " {'text': 'Suggest some authors I should read.', 'participant': 'user'},\n",
       " {'text': 'Are there any authors you like?', 'participant': 'assistant'},\n",
       " {'text': 'Give me the details of this authour.', 'participant': 'user'},\n",
       " {'text': \"Shall I provide more information about this author' book?\",\n",
       "  'participant': 'assistant'},\n",
       " {'text': 'Can you suggest other authors and titles?', 'participant': 'user'},\n",
       " {'text': 'These are some highly recommended books.',\n",
       "  'participant': 'assistant'},\n",
       " {'text': 'Suggest some authors I should read.', 'participant': 'user'},\n",
       " {'text': 'Which authors do you prefer?', 'participant': 'assistant'},\n",
       " {'text': 'I never heard about this author, but ihe seems interesting',\n",
       "  'participant': 'user'},\n",
       " {'text': \"Would you like more details about this author' books?\",\n",
       "  'participant': 'assistant'},\n",
       " {'text': 'No, show me more books.', 'participant': 'user'},\n",
       " {'text': 'Sure, this is top-5 books of chose genre',\n",
       "  'participant': 'assistant'},\n",
       " {'text': 'Suggest some authors I should read.', 'participant': 'user'},\n",
       " {'text': 'Are there any authors you like?', 'participant': 'assistant'},\n",
       " {'text': 'I like this author', 'participant': 'user'},\n",
       " {'text': \"Shall I provide more information about this author' book?\",\n",
       "  'participant': 'assistant'},\n",
       " {'text': 'No, this book looks good to me.', 'participant': 'user'},\n",
       " {'text': 'I am sure you will like it', 'participant': 'assistant'}]"
      ]
     },
     "execution_count": 21,
     "metadata": {},
     "output_type": "execute_result"
    }
   ],
   "source": [
    "materialize_dialogue(graph.nx_graph, node_path_to_edge_path(cycled_path), alpha=1.)"
   ]
  },
  {
   "cell_type": "markdown",
   "metadata": {},
   "source": [
    "## constructive sampling"
   ]
  },
  {
   "cell_type": "code",
   "execution_count": 22,
   "metadata": {},
   "outputs": [
    {
     "name": "stdout",
     "output_type": "stream",
     "text": [
      "[1, 2, 3, 4, 5, 6, 7, 8, 9, 10, 11, 12, 13, 14, 15, 16, 17, 18, 19, 20, 21, 22]\n",
      "False\n"
     ]
    }
   ],
   "source": [
    "import json\n",
    "import os\n",
    "\n",
    "from src.graph import TYPES_OF_GRAPH, Graph\n",
    "\n",
    "path = '../data'\n",
    "\n",
    "input_path = os.path.join(path, 'theme_graph.json')\n",
    "graph_dict = json.load(open(input_path, 'r'))\n",
    "graph = Graph(graph_dict, TYPES_OF_GRAPH.DI)"
   ]
  },
  {
   "cell_type": "code",
   "execution_count": 23,
   "metadata": {},
   "outputs": [
    {
     "name": "stdout",
     "output_type": "stream",
     "text": [
      "Warning: for path [1, 16, 17, 18, 19, 20, 9] demanded n_cycles=1 is larger than number of unique cycles that can be added to provided path (n_possible_cycles=0), set n_cycles to n_possible_cycles\n"
     ]
    },
    {
     "data": {
      "text/plain": [
       "[[{'text': 'How can I help?', 'participant': 'assistant'},\n",
       "  {'text': 'Can you recommend a video game?', 'participant': 'user'},\n",
       "  {'text': \"You're looking for a video game recommendation.\",\n",
       "   'participant': 'assistant'},\n",
       "  {'text': 'Recommend me a genre of game.', 'participant': 'user'},\n",
       "  {'text': 'Do you have a specific game genre in mind?',\n",
       "   'participant': 'assistant'},\n",
       "  {'text': 'Show me the popular games.', 'participant': 'user'},\n",
       "  {'text': 'These are some highly recommended games.',\n",
       "   'participant': 'assistant'},\n",
       "  {'text': 'Recommend me games from my favorite developers.',\n",
       "   'participant': 'user'},\n",
       "  {'text': 'Are there any game developers you like?',\n",
       "   'participant': 'assistant'},\n",
       "  {'text': 'Give me the details of this game.', 'participant': 'user'},\n",
       "  {'text': 'Do you want to know more about this game?',\n",
       "   'participant': 'assistant'},\n",
       "  {'text': 'Thanks for the recommendation!', 'participant': 'user'},\n",
       "  {'text': 'It seems like a great choice for you.',\n",
       "   'participant': 'assistant'}],\n",
       " [{'text': 'I am ready to help you choose a book, a movie, or a game.',\n",
       "   'participant': 'assistant'},\n",
       "  {'text': 'I want to play a game.', 'participant': 'user'},\n",
       "  {'text': \"You're looking for a video game recommendation.\",\n",
       "   'participant': 'assistant'},\n",
       "  {'text': 'Recommend me a genre of game.', 'participant': 'user'},\n",
       "  {'text': 'What genre of games are you interested in?',\n",
       "   'participant': 'assistant'},\n",
       "  {'text': 'What do people think about this game?', 'participant': 'user'},\n",
       "  {'text': \"I'd like to know about the game's reviews.\",\n",
       "   'participant': 'assistant'},\n",
       "  {'text': \"Tell me more about the game's features.\", 'participant': 'user'},\n",
       "  {'text': 'What are the features of this game?', 'participant': 'assistant'},\n",
       "  {'text': 'What do other players think about this game?',\n",
       "   'participant': 'user'},\n",
       "  {'text': 'Can you tell me about the reviews?', 'participant': 'assistant'},\n",
       "  {'text': 'What are the features of this game?', 'participant': 'user'},\n",
       "  {'text': \"Can you tell me about the game's features?\",\n",
       "   'participant': 'assistant'},\n",
       "  {'text': \"Great, I'll check this out.\", 'participant': 'user'},\n",
       "  {'text': 'It seems like a great choice for you.',\n",
       "   'participant': 'assistant'}]]"
      ]
     },
     "execution_count": 23,
     "metadata": {},
     "output_type": "execute_result"
    }
   ],
   "source": [
    "from src.dialogue_sampling import sample_dialogues\n",
    "\n",
    "sample_dialogues(\n",
    "    graph=graph.nx_graph,\n",
    "    start_node=1,\n",
    "    terminal_node=9,\n",
    "    topics=['videogames'],\n",
    "    n_cycles=1,\n",
    "    n_repeats=[1],\n",
    "    uniqueness=10.\n",
    ")"
   ]
  },
  {
   "cell_type": "code",
   "execution_count": null,
   "metadata": {},
   "outputs": [],
   "source": []
  }
 ],
 "metadata": {
  "kernelspec": {
   "display_name": "venv",
   "language": "python",
   "name": "python3"
  },
  "language_info": {
   "codemirror_mode": {
    "name": "ipython",
    "version": 3
   },
   "file_extension": ".py",
   "mimetype": "text/x-python",
   "name": "python",
   "nbconvert_exporter": "python",
   "pygments_lexer": "ipython3",
   "version": "3.10.10"
  }
 },
 "nbformat": 4,
 "nbformat_minor": 2
}
