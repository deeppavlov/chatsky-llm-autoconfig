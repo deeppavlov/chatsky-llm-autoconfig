{
 "cells": [
  {
   "cell_type": "code",
   "execution_count": 1,
   "metadata": {},
   "outputs": [],
   "source": [
    "import sys\n",
    "\n",
    "sys.path.append(\"../\")"
   ]
  },
  {
   "cell_type": "markdown",
   "metadata": {},
   "source": [
    "## random walk"
   ]
  },
  {
   "cell_type": "code",
   "execution_count": 2,
   "metadata": {},
   "outputs": [
    {
     "name": "stdout",
     "output_type": "stream",
     "text": [
      "[1, 2, 3, 4, 5, 6, 7, 8, 9, 10, 11, 12, 13, 14, 15, 16, 17, 18, 19, 20, 21, 22]\n",
      "False\n"
     ]
    }
   ],
   "source": [
    "import json\n",
    "import os\n",
    "from pprint import pprint\n",
    "\n",
    "from src.graph import TYPES_OF_GRAPH, Graph\n",
    "from src.sample_dialogue import sample_dialogue\n",
    "\n",
    "path = '../data'\n",
    "\n",
    "input_path = os.path.join(path, 'theme_graph.json')\n",
    "graph_dict = json.load(open(input_path, 'r'))\n",
    "graph = Graph(graph_dict, TYPES_OF_GRAPH.DI)\n",
    "\n",
    "sampled_dialogue, sampled_base_graph = sample_dialogue(\n",
    "    graph.nx_graph,\n",
    "    start_node=1,\n",
    "    topic='books'\n",
    ")"
   ]
  },
  {
   "cell_type": "code",
   "execution_count": 3,
   "metadata": {},
   "outputs": [
    {
     "name": "stdout",
     "output_type": "stream",
     "text": [
      "{'edges': [{'source': 1,\n",
      "            'target': 2,\n",
      "            'theme': 'books',\n",
      "            'utterances': ['I need a book.']},\n",
      "           {'source': 2,\n",
      "            'target': 3,\n",
      "            'theme': 'books',\n",
      "            'utterances': [\"I'm interested in fiction.\"]},\n",
      "           {'source': 3,\n",
      "            'target': 5,\n",
      "            'theme': 'books',\n",
      "            'utterances': ['Do you have any mystery novels?']},\n",
      "           {'source': 5,\n",
      "            'target': 6,\n",
      "            'theme': 'books',\n",
      "            'utterances': ['I want to see the top books.']},\n",
      "           {'source': 6,\n",
      "            'target': 7,\n",
      "            'theme': 'books',\n",
      "            'utterances': ['Any recommendations for authors?']},\n",
      "           {'source': 7,\n",
      "            'target': 8,\n",
      "            'theme': 'books',\n",
      "            'utterances': ['Give me the details of this authour.']},\n",
      "           {'source': 8,\n",
      "            'target': 6,\n",
      "            'theme': 'books',\n",
      "            'utterances': ['No, I want to see other popular books.']},\n",
      "           {'source': 6,\n",
      "            'target': 7,\n",
      "            'theme': 'books',\n",
      "            'utterances': ['Suggest some authors I should read.']},\n",
      "           {'source': 7,\n",
      "            'target': 8,\n",
      "            'theme': 'books',\n",
      "            'utterances': ['Give me the details of this authour.']},\n",
      "           {'source': 8,\n",
      "            'target': 9,\n",
      "            'theme': 'books',\n",
      "            'utterances': [\"No, I think I'll go with this book.\"]}],\n",
      " 'nodes': [{'id': 1,\n",
      "            'label': 'start',\n",
      "            'theme': 'common',\n",
      "            'utterances': ['I am ready to help you choose a book, a movie, or '\n",
      "                           'a game.']},\n",
      "           {'id': 2,\n",
      "            'label': 'choosing_book',\n",
      "            'theme': 'books',\n",
      "            'utterances': ['Would you like a fiction or a non-fiction book?']},\n",
      "           {'id': 3,\n",
      "            'label': 'fiction',\n",
      "            'theme': 'books',\n",
      "            'utterances': ['Which genre of fiction do you prefer?']},\n",
      "           {'id': 5,\n",
      "            'label': 'popular_books',\n",
      "            'theme': 'books',\n",
      "            'utterances': ['Bestsellers or something specific?']},\n",
      "           {'id': 6,\n",
      "            'label': 'popular_books',\n",
      "            'theme': 'books',\n",
      "            'utterances': ['Check out these popular books.']},\n",
      "           {'id': 7,\n",
      "            'label': 'specific_authors',\n",
      "            'theme': 'books',\n",
      "            'utterances': ['Are there any authors you like?']},\n",
      "           {'id': 8,\n",
      "            'label': 'book_details',\n",
      "            'theme': 'books',\n",
      "            'utterances': [\"Do you want to know more about this author' \"\n",
      "                           'books?']},\n",
      "           {'id': 6,\n",
      "            'label': 'popular_books',\n",
      "            'theme': 'books',\n",
      "            'utterances': ['These are some highly recommended books.']},\n",
      "           {'id': 7,\n",
      "            'label': 'specific_authors',\n",
      "            'theme': 'books',\n",
      "            'utterances': ['Do you have any favorite authors?']},\n",
      "           {'id': 8,\n",
      "            'label': 'book_details',\n",
      "            'theme': 'books',\n",
      "            'utterances': [\"Do you want to know more about this author' \"\n",
      "                           'books?']},\n",
      "           {'id': 9,\n",
      "            'label': 'final_recommendation',\n",
      "            'theme': 'common',\n",
      "            'utterances': ['I am sure you will like it']}]}\n"
     ]
    }
   ],
   "source": [
    "pprint(sampled_base_graph)"
   ]
  },
  {
   "cell_type": "code",
   "execution_count": 4,
   "metadata": {},
   "outputs": [
    {
     "name": "stdout",
     "output_type": "stream",
     "text": [
      "[{'participant': 'assistant',\n",
      "  'text': 'I am ready to help you choose a book, a movie, or a game.'},\n",
      " {'participant': 'user', 'source': 1, 'target': 2, 'text': 'I need a book.'},\n",
      " {'participant': 'assistant',\n",
      "  'text': 'Would you like a fiction or a non-fiction book?'},\n",
      " {'participant': 'user',\n",
      "  'source': 2,\n",
      "  'target': 3,\n",
      "  'text': \"I'm interested in fiction.\"},\n",
      " {'participant': 'assistant', 'text': 'Which genre of fiction do you prefer?'},\n",
      " {'participant': 'user',\n",
      "  'source': 3,\n",
      "  'target': 5,\n",
      "  'text': 'Do you have any mystery novels?'},\n",
      " {'participant': 'assistant', 'text': 'Bestsellers or something specific?'},\n",
      " {'participant': 'user',\n",
      "  'source': 5,\n",
      "  'target': 6,\n",
      "  'text': 'I want to see the top books.'},\n",
      " {'participant': 'assistant', 'text': 'Check out these popular books.'},\n",
      " {'participant': 'user',\n",
      "  'source': 6,\n",
      "  'target': 7,\n",
      "  'text': 'Any recommendations for authors?'},\n",
      " {'participant': 'assistant', 'text': 'Are there any authors you like?'},\n",
      " {'participant': 'user',\n",
      "  'source': 7,\n",
      "  'target': 8,\n",
      "  'text': 'Give me the details of this authour.'},\n",
      " {'participant': 'assistant',\n",
      "  'text': \"Do you want to know more about this author' books?\"},\n",
      " {'participant': 'user',\n",
      "  'source': 8,\n",
      "  'target': 6,\n",
      "  'text': 'No, I want to see other popular books.'},\n",
      " {'participant': 'assistant',\n",
      "  'text': 'These are some highly recommended books.'},\n",
      " {'participant': 'user',\n",
      "  'source': 6,\n",
      "  'target': 7,\n",
      "  'text': 'Suggest some authors I should read.'},\n",
      " {'participant': 'assistant', 'text': 'Do you have any favorite authors?'},\n",
      " {'participant': 'user',\n",
      "  'source': 7,\n",
      "  'target': 8,\n",
      "  'text': 'Give me the details of this authour.'},\n",
      " {'participant': 'assistant',\n",
      "  'text': \"Do you want to know more about this author' books?\"},\n",
      " {'participant': 'user',\n",
      "  'source': 8,\n",
      "  'target': 9,\n",
      "  'text': \"No, I think I'll go with this book.\"},\n",
      " {'participant': 'assistant', 'text': 'I am sure you will like it'}]\n"
     ]
    }
   ],
   "source": [
    "pprint(sampled_dialogue)"
   ]
  },
  {
   "cell_type": "code",
   "execution_count": 5,
   "metadata": {},
   "outputs": [
    {
     "data": {
      "image/png": "[encoded data removed]",
      "text/plain": [
       "<Figure size 640x480 with 1 Axes>"
      ]
     },
     "metadata": {},
     "output_type": "display_data"
    }
   ],
   "source": [
    "import networkx as nx\n",
    "\n",
    "nx.draw_networkx(graph.nx_graph)"
   ]
  },
  {
   "cell_type": "markdown",
   "metadata": {},
   "source": [
    "## all simple paths"
   ]
  },
  {
   "cell_type": "code",
   "execution_count": 6,
   "metadata": {},
   "outputs": [],
   "source": [
    "paths_generator = nx.all_simple_edge_paths(graph.nx_graph, source=1, target=9)\n",
    "paths = list(paths_generator)"
   ]
  },
  {
   "cell_type": "code",
   "execution_count": 7,
   "metadata": {},
   "outputs": [
    {
     "data": {
      "text/plain": [
       "[[(1, 2), (2, 3), (3, 5), (5, 6), (6, 7), (7, 8), (8, 9)],\n",
       " [(1, 2), (2, 4), (4, 5), (5, 6), (6, 7), (7, 8), (8, 9)],\n",
       " [(1, 10), (10, 11), (11, 12), (12, 14), (14, 15), (15, 9)],\n",
       " [(1, 10), (10, 11), (11, 13), (13, 14), (14, 15), (15, 9)],\n",
       " [(1, 16), (16, 17), (17, 18), (18, 19), (19, 20), (20, 9)],\n",
       " [(1, 16), (16, 17), (17, 21), (21, 22), (22, 9)]]"
      ]
     },
     "execution_count": 7,
     "metadata": {},
     "output_type": "execute_result"
    }
   ],
   "source": [
    "paths"
   ]
  },
  {
   "cell_type": "code",
   "execution_count": 8,
   "metadata": {},
   "outputs": [
    {
     "name": "stdout",
     "output_type": "stream",
     "text": [
      "[{'participant': 'assistant',\n",
      "  'text': 'Do you want to choose a book, a movie, or a game?'},\n",
      " {'participant': 'user', 'text': 'I need a video game recommendation.'},\n",
      " {'participant': 'assistant', 'text': \"Sure, let's find a video game for you.\"},\n",
      " {'participant': 'user', 'text': \"I'm interested in a specific genre of game.\"},\n",
      " {'participant': 'assistant', 'text': 'Which genre of games do you prefer?'},\n",
      " {'participant': 'user', 'text': \"I want to know about the game's reviews.\"},\n",
      " {'participant': 'assistant',\n",
      "  'text': 'What are the reviews like for this game?'},\n",
      " {'participant': 'user', 'text': 'What are the features of this game?'},\n",
      " {'participant': 'assistant',\n",
      "  'text': \"Can you tell me about the game's features?\"},\n",
      " {'participant': 'user', 'text': 'Thanks for the recommendation!'},\n",
      " {'participant': 'assistant', 'text': 'Great choice!'}]\n"
     ]
    }
   ],
   "source": [
    "from src.sample_dialogue import materialize_dialogue\n",
    "\n",
    "pprint(materialize_dialogue(graph.nx_graph, paths[-1]))"
   ]
  },
  {
   "cell_type": "markdown",
   "metadata": {},
   "source": [
    "## simple cycles"
   ]
  },
  {
   "cell_type": "code",
   "execution_count": 9,
   "metadata": {},
   "outputs": [
    {
     "data": {
      "text/plain": [
       "[[6, 7, 8], [11, 12, 14], [11, 13, 14], [21, 22]]"
      ]
     },
     "execution_count": 9,
     "metadata": {},
     "output_type": "execute_result"
    }
   ],
   "source": [
    "all_cycles = nx.recursive_simple_cycles(graph.nx_graph)\n",
    "all_cycles"
   ]
  },
  {
   "cell_type": "code",
   "execution_count": 10,
   "metadata": {},
   "outputs": [
    {
     "data": {
      "text/plain": [
       "[[1, 2, 3, 5, 6, 7, 8, 9],\n",
       " [1, 2, 4, 5, 6, 7, 8, 9],\n",
       " [1, 10, 11, 12, 14, 15, 9],\n",
       " [1, 10, 11, 13, 14, 15, 9],\n",
       " [1, 16, 17, 18, 19, 20, 9],\n",
       " [1, 16, 17, 21, 22, 9]]"
      ]
     },
     "execution_count": 10,
     "metadata": {},
     "output_type": "execute_result"
    }
   ],
   "source": [
    "paths_generator = nx.all_simple_paths(graph.nx_graph, source=1, target=9)\n",
    "paths = list(paths_generator)\n",
    "paths"
   ]
  },
  {
   "cell_type": "code",
   "execution_count": 11,
   "metadata": {},
   "outputs": [
    {
     "data": {
      "text/plain": [
       "[1, 16, 17, 21, 22, 21, 22, 9]"
      ]
     },
     "execution_count": 11,
     "metadata": {},
     "output_type": "execute_result"
    }
   ],
   "source": [
    "from src.dialogue_sampling import add_cycles\n",
    "\n",
    "\n",
    "add_cycles(graph.nx_graph, paths[5], n_cycles=1, n_repeats=[1])"
   ]
  }
 ],
 "metadata": {
  "kernelspec": {
   "display_name": "venv",
   "language": "python",
   "name": "python3"
  },
  "language_info": {
   "codemirror_mode": {
    "name": "ipython",
    "version": 3
   },
   "file_extension": ".py",
   "mimetype": "text/x-python",
   "name": "python",
   "nbconvert_exporter": "python",
   "pygments_lexer": "ipython3",
   "version": "3.10.10"
  }
 },
 "nbformat": 4,
 "nbformat_minor": 2
}
