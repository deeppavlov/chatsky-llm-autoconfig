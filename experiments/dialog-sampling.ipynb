{
 "cells": [
  {
   "cell_type": "code",
   "execution_count": 1,
   "metadata": {},
   "outputs": [],
   "source": [
    "import sys\n",
    "\n",
    "sys.path.append(\"../\")"
   ]
  },
  {
   "cell_type": "markdown",
   "metadata": {},
   "source": [
    "## random walk"
   ]
  },
  {
   "cell_type": "code",
   "execution_count": 2,
   "metadata": {},
   "outputs": [
    {
     "name": "stdout",
     "output_type": "stream",
     "text": [
      "[1, 2, 3, 4, 5, 6, 7, 8, 9, 10, 11, 12, 13, 14, 15, 16, 17, 18, 19, 20, 21, 22]\n",
      "False\n"
     ]
    }
   ],
   "source": [
    "import json\n",
    "import os\n",
    "from pprint import pprint\n",
    "\n",
    "from src.graph import TYPES_OF_GRAPH, Graph\n",
    "from src.sample_dialogue import sample_dialogue\n",
    "\n",
    "path = '../data'\n",
    "\n",
    "input_path = os.path.join(path, 'theme_graph.json')\n",
    "graph_dict = json.load(open(input_path, 'r'))\n",
    "graph = Graph(graph_dict, TYPES_OF_GRAPH.DI)\n",
    "\n",
    "sampled_dialogue, sampled_base_graph = sample_dialogue(\n",
    "    graph.nx_graph,\n",
    "    start_node=1,\n",
    "    topic='books'\n",
    ")"
   ]
  },
  {
   "cell_type": "code",
   "execution_count": 3,
   "metadata": {},
   "outputs": [
    {
     "name": "stdout",
     "output_type": "stream",
     "text": [
      "{'edges': [{'source': 1,\n",
      "            'target': 2,\n",
      "            'theme': 'books',\n",
      "            'utterances': ['I want to read something.']},\n",
      "           {'source': 2,\n",
      "            'target': 3,\n",
      "            'theme': 'books',\n",
      "            'utterances': ['Recommend me a fiction book.']},\n",
      "           {'source': 3,\n",
      "            'target': 5,\n",
      "            'theme': 'books',\n",
      "            'utterances': ['I like fantasy.']},\n",
      "           {'source': 5,\n",
      "            'target': 6,\n",
      "            'theme': 'books',\n",
      "            'utterances': ['Show me the bestsellers.']},\n",
      "           {'source': 6,\n",
      "            'target': 7,\n",
      "            'theme': 'books',\n",
      "            'utterances': ['Who are the famous authors in this genre?']},\n",
      "           {'source': 7,\n",
      "            'target': 8,\n",
      "            'theme': 'books',\n",
      "            'utterances': ['Give me the details of this authour.']},\n",
      "           {'source': 8,\n",
      "            'target': 9,\n",
      "            'theme': 'books',\n",
      "            'utterances': [\"No, I think I'll go with this book.\"]}],\n",
      " 'nodes': [{'id': 1,\n",
      "            'label': 'start',\n",
      "            'theme': 'common',\n",
      "            'utterances': ['Do you want to choose a book, a movie, or a '\n",
      "                           'game?']},\n",
      "           {'id': 2,\n",
      "            'label': 'choosing_book',\n",
      "            'theme': 'books',\n",
      "            'utterances': ['How about something from the fiction genre?']},\n",
      "           {'id': 3,\n",
      "            'label': 'fiction',\n",
      "            'theme': 'books',\n",
      "            'utterances': ['Do you have a specific genre of fiction in mind?']},\n",
      "           {'id': 5,\n",
      "            'label': 'popular_books',\n",
      "            'theme': 'books',\n",
      "            'utterances': ['Do you look for somhing specific or want just '\n",
      "                           'bestsellers']},\n",
      "           {'id': 6,\n",
      "            'label': 'popular_books',\n",
      "            'theme': 'books',\n",
      "            'utterances': ['Sure, this is top-5 books of chose genre']},\n",
      "           {'id': 7,\n",
      "            'label': 'specific_authors',\n",
      "            'theme': 'books',\n",
      "            'utterances': ['Are there any authors you like?']},\n",
      "           {'id': 8,\n",
      "            'label': 'book_details',\n",
      "            'theme': 'books',\n",
      "            'utterances': [\"Do you want to know more about this author' \"\n",
      "                           'books?']},\n",
      "           {'id': 9,\n",
      "            'label': 'final_recommendation',\n",
      "            'theme': 'common',\n",
      "            'utterances': ['Great choice!']}]}\n"
     ]
    }
   ],
   "source": [
    "pprint(sampled_base_graph)"
   ]
  },
  {
   "cell_type": "code",
   "execution_count": 4,
   "metadata": {},
   "outputs": [
    {
     "name": "stdout",
     "output_type": "stream",
     "text": [
      "[{'participant': 'assistant',\n",
      "  'text': 'Do you want to choose a book, a movie, or a game?'},\n",
      " {'participant': 'user',\n",
      "  'source': 1,\n",
      "  'target': 2,\n",
      "  'text': 'I want to read something.'},\n",
      " {'participant': 'assistant',\n",
      "  'text': 'How about something from the fiction genre?'},\n",
      " {'participant': 'user',\n",
      "  'source': 2,\n",
      "  'target': 3,\n",
      "  'text': 'Recommend me a fiction book.'},\n",
      " {'participant': 'assistant',\n",
      "  'text': 'Do you have a specific genre of fiction in mind?'},\n",
      " {'participant': 'user', 'source': 3, 'target': 5, 'text': 'I like fantasy.'},\n",
      " {'participant': 'assistant',\n",
      "  'text': 'Do you look for somhing specific or want just bestsellers'},\n",
      " {'participant': 'user',\n",
      "  'source': 5,\n",
      "  'target': 6,\n",
      "  'text': 'Show me the bestsellers.'},\n",
      " {'participant': 'assistant',\n",
      "  'text': 'Sure, this is top-5 books of chose genre'},\n",
      " {'participant': 'user',\n",
      "  'source': 6,\n",
      "  'target': 7,\n",
      "  'text': 'Who are the famous authors in this genre?'},\n",
      " {'participant': 'assistant', 'text': 'Are there any authors you like?'},\n",
      " {'participant': 'user',\n",
      "  'source': 7,\n",
      "  'target': 8,\n",
      "  'text': 'Give me the details of this authour.'},\n",
      " {'participant': 'assistant',\n",
      "  'text': \"Do you want to know more about this author' books?\"},\n",
      " {'participant': 'user',\n",
      "  'source': 8,\n",
      "  'target': 9,\n",
      "  'text': \"No, I think I'll go with this book.\"},\n",
      " {'participant': 'assistant', 'text': 'Great choice!'}]\n"
     ]
    }
   ],
   "source": [
    "pprint(sampled_dialogue)"
   ]
  },
  {
   "cell_type": "code",
   "execution_count": 5,
   "metadata": {},
   "outputs": [
    {
     "data": {
      "image/png": "[encoded data removed]",
      "text/plain": [
       "<Figure size 640x480 with 1 Axes>"
      ]
     },
     "metadata": {},
     "output_type": "display_data"
    }
   ],
   "source": [
    "import networkx as nx\n",
    "\n",
    "nx.draw_networkx(graph.nx_graph)"
   ]
  },
  {
   "cell_type": "markdown",
   "metadata": {},
   "source": [
    "## all simple paths"
   ]
  },
  {
   "cell_type": "code",
   "execution_count": 6,
   "metadata": {},
   "outputs": [],
   "source": [
    "paths_generator = nx.all_simple_edge_paths(graph.nx_graph, source=1, target=9)\n",
    "paths = list(paths_generator)"
   ]
  },
  {
   "cell_type": "code",
   "execution_count": 7,
   "metadata": {},
   "outputs": [
    {
     "data": {
      "text/plain": [
       "[[(1, 2), (2, 3), (3, 5), (5, 6), (6, 7), (7, 8), (8, 9)],\n",
       " [(1, 2), (2, 4), (4, 5), (5, 6), (6, 7), (7, 8), (8, 9)],\n",
       " [(1, 10), (10, 11), (11, 12), (12, 14), (14, 15), (15, 9)],\n",
       " [(1, 10), (10, 11), (11, 13), (13, 14), (14, 15), (15, 9)],\n",
       " [(1, 16), (16, 17), (17, 18), (18, 19), (19, 20), (20, 9)],\n",
       " [(1, 16), (16, 17), (17, 21), (21, 22), (22, 9)]]"
      ]
     },
     "execution_count": 7,
     "metadata": {},
     "output_type": "execute_result"
    }
   ],
   "source": [
    "paths"
   ]
  },
  {
   "cell_type": "code",
   "execution_count": 8,
   "metadata": {},
   "outputs": [
    {
     "name": "stdout",
     "output_type": "stream",
     "text": [
      "[{'participant': 'assistant',\n",
      "  'text': 'I am ready to help you choose a book, a movie, or a game.'},\n",
      " {'participant': 'user', 'text': 'Can you recommend a video game?'},\n",
      " {'participant': 'assistant', 'text': 'Great! You want to play a game.'},\n",
      " {'participant': 'user', 'text': 'Recommend me a genre of game.'},\n",
      " {'participant': 'assistant', 'text': 'Which genre of games do you prefer?'},\n",
      " {'participant': 'user', 'text': 'What do people think about this game?'},\n",
      " {'participant': 'assistant', 'text': 'Can you tell me about the reviews?'},\n",
      " {'participant': 'user', 'text': 'What does this game offer?'},\n",
      " {'participant': 'assistant',\n",
      "  'text': \"Can you tell me about the game's features?\"},\n",
      " {'participant': 'user', 'text': \"Great, I'll check this out.\"},\n",
      " {'participant': 'assistant', 'text': 'Great choice!'}]\n"
     ]
    }
   ],
   "source": [
    "from src.sample_dialogue import materialize_dialogue\n",
    "\n",
    "pprint(materialize_dialogue(graph.nx_graph, paths[-1]))"
   ]
  },
  {
   "cell_type": "markdown",
   "metadata": {},
   "source": [
    "## add cycles"
   ]
  },
  {
   "cell_type": "code",
   "execution_count": 9,
   "metadata": {},
   "outputs": [
    {
     "data": {
      "text/plain": [
       "[[6, 7, 8], [11, 12, 14], [11, 13, 14], [21, 22]]"
      ]
     },
     "execution_count": 9,
     "metadata": {},
     "output_type": "execute_result"
    }
   ],
   "source": [
    "all_cycles = nx.recursive_simple_cycles(graph.nx_graph)\n",
    "all_cycles"
   ]
  },
  {
   "cell_type": "code",
   "execution_count": 10,
   "metadata": {},
   "outputs": [
    {
     "data": {
      "text/plain": [
       "[[1, 2, 3, 5, 6, 7, 8, 9],\n",
       " [1, 2, 4, 5, 6, 7, 8, 9],\n",
       " [1, 10, 11, 12, 14, 15, 9],\n",
       " [1, 10, 11, 13, 14, 15, 9],\n",
       " [1, 16, 17, 18, 19, 20, 9],\n",
       " [1, 16, 17, 21, 22, 9]]"
      ]
     },
     "execution_count": 10,
     "metadata": {},
     "output_type": "execute_result"
    }
   ],
   "source": [
    "paths_generator = nx.all_simple_paths(graph.nx_graph, source=1, target=9)\n",
    "paths = list(paths_generator)\n",
    "paths"
   ]
  },
  {
   "cell_type": "code",
   "execution_count": 11,
   "metadata": {},
   "outputs": [
    {
     "data": {
      "text/plain": [
       "[1, 16, 17, 21, 22, 21, 22, 9]"
      ]
     },
     "execution_count": 11,
     "metadata": {},
     "output_type": "execute_result"
    }
   ],
   "source": [
    "from src.dialogue_sampling import add_cycles\n",
    "\n",
    "\n",
    "add_cycles(graph.nx_graph, paths[5], n_cycles=1, n_repeats=[1])"
   ]
  },
  {
   "cell_type": "markdown",
   "metadata": {},
   "source": [
    "## topics"
   ]
  },
  {
   "cell_type": "code",
   "execution_count": 12,
   "metadata": {},
   "outputs": [
    {
     "data": {
      "text/plain": [
       "[[(1, 2), (2, 3), (3, 5), (5, 6), (6, 7), (7, 8), (8, 9)],\n",
       " [(1, 2), (2, 4), (4, 5), (5, 6), (6, 7), (7, 8), (8, 9)],\n",
       " [(1, 10), (10, 11), (11, 12), (12, 14), (14, 15), (15, 9)],\n",
       " [(1, 10), (10, 11), (11, 13), (13, 14), (14, 15), (15, 9)],\n",
       " [(1, 16), (16, 17), (17, 18), (18, 19), (19, 20), (20, 9)],\n",
       " [(1, 16), (16, 17), (17, 21), (21, 22), (22, 9)]]"
      ]
     },
     "execution_count": 12,
     "metadata": {},
     "output_type": "execute_result"
    }
   ],
   "source": [
    "paths_generator = nx.all_simple_edge_paths(graph.nx_graph, source=1, target=9)\n",
    "paths = list(paths_generator)\n",
    "paths"
   ]
  },
  {
   "cell_type": "code",
   "execution_count": 13,
   "metadata": {},
   "outputs": [
    {
     "name": "stdout",
     "output_type": "stream",
     "text": [
      "{'books'}\n",
      "{'books'}\n",
      "{'movies'}\n",
      "{'movies'}\n",
      "{'videogames'}\n",
      "{'videogames'}\n"
     ]
    }
   ],
   "source": [
    "from src.dialogue_sampling.topics import get_topics\n",
    "\n",
    "for p in paths:\n",
    "    print(get_topics(graph.nx_graph, p))"
   ]
  },
  {
   "cell_type": "markdown",
   "metadata": {},
   "source": [
    "## degree of uniqueness"
   ]
  },
  {
   "cell_type": "code",
   "execution_count": 14,
   "metadata": {},
   "outputs": [
    {
     "data": {
      "text/plain": [
       "[[(1, 2), (2, 3), (3, 5), (5, 6), (6, 7), (7, 8), (8, 9)],\n",
       " [(1, 2), (2, 4), (4, 5), (5, 6), (6, 7), (7, 8), (8, 9)],\n",
       " [(1, 10), (10, 11), (11, 12), (12, 14), (14, 15), (15, 9)],\n",
       " [(1, 10), (10, 11), (11, 13), (13, 14), (14, 15), (15, 9)],\n",
       " [(1, 16), (16, 17), (17, 18), (18, 19), (19, 20), (20, 9)],\n",
       " [(1, 16), (16, 17), (17, 21), (21, 22), (22, 9)]]"
      ]
     },
     "execution_count": 14,
     "metadata": {},
     "output_type": "execute_result"
    }
   ],
   "source": [
    "paths_generator = nx.all_simple_edge_paths(graph.nx_graph, source=1, target=9)\n",
    "paths = list(paths_generator)\n",
    "paths"
   ]
  },
  {
   "cell_type": "code",
   "execution_count": 15,
   "metadata": {},
   "outputs": [],
   "source": [
    "from src.dialogue_sampling.utterance import materialize_dialogue"
   ]
  },
  {
   "cell_type": "code",
   "execution_count": 24,
   "metadata": {},
   "outputs": [
    {
     "data": {
      "text/plain": [
       "[{'text': 'How can I help?', 'participant': 'assistant'},\n",
       " {'text': 'I want to read something.', 'participant': 'user'},\n",
       " {'text': 'How about something from the fiction genre?',\n",
       "  'participant': 'assistant'},\n",
       " {'text': 'I want to read fiction.', 'participant': 'user'},\n",
       " {'text': 'Which genre of fiction do you prefer?', 'participant': 'assistant'},\n",
       " {'text': 'How about science fiction?', 'participant': 'user'},\n",
       " {'text': 'Bestsellers or something specific?', 'participant': 'assistant'},\n",
       " {'text': 'Show me the bestsellers.', 'participant': 'user'},\n",
       " {'text': 'Sure, this is top-5 books of chose genre',\n",
       "  'participant': 'assistant'},\n",
       " {'text': 'Any recommendations for authors?', 'participant': 'user'},\n",
       " {'text': 'Which authors do you prefer?', 'participant': 'assistant'},\n",
       " {'text': 'I never heard about this author, but ihe seems interesting',\n",
       "  'participant': 'user'},\n",
       " {'text': \"Would you like more details about this author' books?\",\n",
       "  'participant': 'assistant'},\n",
       " {'text': 'No, this book looks good to me.', 'participant': 'user'},\n",
       " {'text': 'It seems like a great choice for you.', 'participant': 'assistant'}]"
      ]
     },
     "execution_count": 24,
     "metadata": {},
     "output_type": "execute_result"
    }
   ],
   "source": [
    "materialize_dialogue(graph.nx_graph, paths[0], alpha=1.)"
   ]
  },
  {
   "cell_type": "code",
   "execution_count": 25,
   "metadata": {},
   "outputs": [
    {
     "data": {
      "text/plain": [
       "{'theme': 'books',\n",
       " 'utterances': ['I want to read something.',\n",
       "  'I need a book.',\n",
       "  'Can you recommend a book?']}"
      ]
     },
     "execution_count": 25,
     "metadata": {},
     "output_type": "execute_result"
    }
   ],
   "source": [
    "graph.nx_graph.edges[1,2]"
   ]
  },
  {
   "cell_type": "code",
   "execution_count": 31,
   "metadata": {},
   "outputs": [
    {
     "data": {
      "text/plain": [
       "[1, 2, 3, 5, 6, 7, 8, 6, 7, 8, 6, 7, 8, 6, 7, 8, 6, 7, 8, 6, 7, 8, 9]"
      ]
     },
     "execution_count": 31,
     "metadata": {},
     "output_type": "execute_result"
    }
   ],
   "source": [
    "from src.dialogue_sampling import add_cycles\n",
    "\n",
    "paths_generator = nx.all_simple_paths(graph.nx_graph, source=1, target=9)\n",
    "paths = list(paths_generator)\n",
    "paths\n",
    "\n",
    "cycled_path = add_cycles(graph.nx_graph, paths[0], n_cycles=1, n_repeats=[5])\n",
    "cycled_path"
   ]
  },
  {
   "cell_type": "code",
   "execution_count": 33,
   "metadata": {},
   "outputs": [],
   "source": [
    "def node_path_to_edge_path(path: list[int]) -> list[tuple[int,int]]:\n",
    "    res = []\n",
    "    for i in range(len(path)-1):\n",
    "        res.append((path[i], path[i+1]))\n",
    "    return res"
   ]
  },
  {
   "cell_type": "code",
   "execution_count": 34,
   "metadata": {},
   "outputs": [
    {
     "data": {
      "text/plain": [
       "[{'text': 'How can I help?', 'participant': 'assistant'},\n",
       " {'text': 'Can you recommend a book?', 'participant': 'user'},\n",
       " {'text': 'How about something from the fiction genre?',\n",
       "  'participant': 'assistant'},\n",
       " {'text': 'Recommend me a fiction book.', 'participant': 'user'},\n",
       " {'text': 'Do you have a specific genre of fiction in mind?',\n",
       "  'participant': 'assistant'},\n",
       " {'text': 'How about science fiction?', 'participant': 'user'},\n",
       " {'text': 'Do you look for somhing specific or want just bestsellers',\n",
       "  'participant': 'assistant'},\n",
       " {'text': 'What are the popular books in this genre?', 'participant': 'user'},\n",
       " {'text': 'Check out these popular books.', 'participant': 'assistant'},\n",
       " {'text': 'Suggest some authors I should read.', 'participant': 'user'},\n",
       " {'text': 'Which authors do you prefer?', 'participant': 'assistant'},\n",
       " {'text': 'I like this author', 'participant': 'user'},\n",
       " {'text': \"Shall I provide more information about this author' book?\",\n",
       "  'participant': 'assistant'},\n",
       " {'text': 'Can you suggest other authors and titles?', 'participant': 'user'},\n",
       " {'text': 'Check out these popular books.', 'participant': 'assistant'},\n",
       " {'text': 'Suggest some authors I should read.', 'participant': 'user'},\n",
       " {'text': 'Which authors do you prefer?', 'participant': 'assistant'},\n",
       " {'text': 'I like this author', 'participant': 'user'},\n",
       " {'text': \"Would you like more details about this author' books?\",\n",
       "  'participant': 'assistant'},\n",
       " {'text': 'No, show me more books.', 'participant': 'user'},\n",
       " {'text': 'Sure, this is top-5 books of chose genre',\n",
       "  'participant': 'assistant'},\n",
       " {'text': 'Who are the famous authors in this genre?', 'participant': 'user'},\n",
       " {'text': 'Are there any authors you like?', 'participant': 'assistant'},\n",
       " {'text': 'Give me the details of this authour.', 'participant': 'user'},\n",
       " {'text': \"Shall I provide more information about this author' book?\",\n",
       "  'participant': 'assistant'},\n",
       " {'text': 'No, I want to see other popular books.', 'participant': 'user'},\n",
       " {'text': 'These are some highly recommended books.',\n",
       "  'participant': 'assistant'},\n",
       " {'text': 'Who are the famous authors in this genre?', 'participant': 'user'},\n",
       " {'text': 'Which authors do you prefer?', 'participant': 'assistant'},\n",
       " {'text': 'Give me the details of this authour.', 'participant': 'user'},\n",
       " {'text': \"Do you want to know more about this author' books?\",\n",
       "  'participant': 'assistant'},\n",
       " {'text': 'No, show me more books.', 'participant': 'user'},\n",
       " {'text': 'Sure, this is top-5 books of chose genre',\n",
       "  'participant': 'assistant'},\n",
       " {'text': 'Suggest some authors I should read.', 'participant': 'user'},\n",
       " {'text': 'Which authors do you prefer?', 'participant': 'assistant'},\n",
       " {'text': 'Give me the details of this authour.', 'participant': 'user'},\n",
       " {'text': \"Do you want to know more about this author' books?\",\n",
       "  'participant': 'assistant'},\n",
       " {'text': 'No, show me more books.', 'participant': 'user'},\n",
       " {'text': 'These are some highly recommended books.',\n",
       "  'participant': 'assistant'},\n",
       " {'text': 'Any recommendations for authors?', 'participant': 'user'},\n",
       " {'text': 'Which authors do you prefer?', 'participant': 'assistant'},\n",
       " {'text': 'Give me the details of this authour.', 'participant': 'user'},\n",
       " {'text': \"Do you want to know more about this author' books?\",\n",
       "  'participant': 'assistant'},\n",
       " {'text': 'No, this book looks good to me.', 'participant': 'user'},\n",
       " {'text': 'It seems like a great choice for you.', 'participant': 'assistant'}]"
      ]
     },
     "execution_count": 34,
     "metadata": {},
     "output_type": "execute_result"
    }
   ],
   "source": [
    "materialize_dialogue(graph.nx_graph, node_path_to_edge_path(cycled_path), alpha=0)"
   ]
  },
  {
   "cell_type": "code",
   "execution_count": 35,
   "metadata": {},
   "outputs": [
    {
     "data": {
      "text/plain": [
       "[{'text': 'Do you want to choose a book, a movie, or a game?',\n",
       "  'participant': 'assistant'},\n",
       " {'text': 'I need a book.', 'participant': 'user'},\n",
       " {'text': 'Would you like a fiction or a non-fiction book?',\n",
       "  'participant': 'assistant'},\n",
       " {'text': \"I'm interested in fiction.\", 'participant': 'user'},\n",
       " {'text': 'Do you have a specific genre of fiction in mind?',\n",
       "  'participant': 'assistant'},\n",
       " {'text': 'Do you have any mystery novels?', 'participant': 'user'},\n",
       " {'text': 'Do you want to check out popular books.',\n",
       "  'participant': 'assistant'},\n",
       " {'text': 'I want to see the top books.', 'participant': 'user'},\n",
       " {'text': 'Sure, this is top-5 books of chose genre',\n",
       "  'participant': 'assistant'},\n",
       " {'text': 'Any recommendations for authors?', 'participant': 'user'},\n",
       " {'text': 'Are there any authors you like?', 'participant': 'assistant'},\n",
       " {'text': 'Give me the details of this authour.', 'participant': 'user'},\n",
       " {'text': \"Would you like more details about this author' books?\",\n",
       "  'participant': 'assistant'},\n",
       " {'text': 'No, I want to see other popular books.', 'participant': 'user'},\n",
       " {'text': 'These are some highly recommended books.',\n",
       "  'participant': 'assistant'},\n",
       " {'text': 'Suggest some authors I should read.', 'participant': 'user'},\n",
       " {'text': 'Which authors do you prefer?', 'participant': 'assistant'},\n",
       " {'text': 'I like this author', 'participant': 'user'},\n",
       " {'text': \"Do you want to know more about this author' books?\",\n",
       "  'participant': 'assistant'},\n",
       " {'text': 'No, I want to see other popular books.', 'participant': 'user'},\n",
       " {'text': 'Check out these popular books.', 'participant': 'assistant'},\n",
       " {'text': 'Suggest some authors I should read.', 'participant': 'user'},\n",
       " {'text': 'Do you have any favorite authors?', 'participant': 'assistant'},\n",
       " {'text': 'I never heard about this author, but ihe seems interesting',\n",
       "  'participant': 'user'},\n",
       " {'text': \"Shall I provide more information about this author' book?\",\n",
       "  'participant': 'assistant'},\n",
       " {'text': 'Can you suggest other authors and titles?', 'participant': 'user'},\n",
       " {'text': 'Check out these popular books.', 'participant': 'assistant'},\n",
       " {'text': 'Who are the famous authors in this genre?', 'participant': 'user'},\n",
       " {'text': 'Are there any authors you like?', 'participant': 'assistant'},\n",
       " {'text': 'Give me the details of this authour.', 'participant': 'user'},\n",
       " {'text': \"Would you like more details about this author' books?\",\n",
       "  'participant': 'assistant'},\n",
       " {'text': 'No, show me more books.', 'participant': 'user'},\n",
       " {'text': 'Check out these popular books.', 'participant': 'assistant'},\n",
       " {'text': 'Who are the famous authors in this genre?', 'participant': 'user'},\n",
       " {'text': 'Which authors do you prefer?', 'participant': 'assistant'},\n",
       " {'text': 'I never heard about this author, but ihe seems interesting',\n",
       "  'participant': 'user'},\n",
       " {'text': \"Would you like more details about this author' books?\",\n",
       "  'participant': 'assistant'},\n",
       " {'text': 'No, I want to see other popular books.', 'participant': 'user'},\n",
       " {'text': 'Sure, this is top-5 books of chose genre',\n",
       "  'participant': 'assistant'},\n",
       " {'text': 'Suggest some authors I should read.', 'participant': 'user'},\n",
       " {'text': 'Are there any authors you like?', 'participant': 'assistant'},\n",
       " {'text': 'I like this author', 'participant': 'user'},\n",
       " {'text': \"Do you want to know more about this author' books?\",\n",
       "  'participant': 'assistant'},\n",
       " {'text': 'No, this book looks good to me.', 'participant': 'user'},\n",
       " {'text': 'It seems like a great choice for you.', 'participant': 'assistant'}]"
      ]
     },
     "execution_count": 35,
     "metadata": {},
     "output_type": "execute_result"
    }
   ],
   "source": [
    "materialize_dialogue(graph.nx_graph, node_path_to_edge_path(cycled_path), alpha=1.)"
   ]
  },
  {
   "cell_type": "code",
   "execution_count": null,
   "metadata": {},
   "outputs": [],
   "source": []
  }
 ],
 "metadata": {
  "kernelspec": {
   "display_name": "venv",
   "language": "python",
   "name": "python3"
  },
  "language_info": {
   "codemirror_mode": {
    "name": "ipython",
    "version": 3
   },
   "file_extension": ".py",
   "mimetype": "text/x-python",
   "name": "python",
   "nbconvert_exporter": "python",
   "pygments_lexer": "ipython3",
   "version": "3.10.10"
  }
 },
 "nbformat": 4,
 "nbformat_minor": 2
}
