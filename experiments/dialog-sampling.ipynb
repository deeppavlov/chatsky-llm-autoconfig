{
 "cells": [
  {
   "cell_type": "code",
   "execution_count": 1,
   "metadata": {},
   "outputs": [],
   "source": [
    "import sys\n",
    "\n",
    "sys.path.append(\"../\")"
   ]
  },
  {
   "cell_type": "markdown",
   "metadata": {},
   "source": [
    "## random walk"
   ]
  },
  {
   "cell_type": "code",
   "execution_count": 2,
   "metadata": {},
   "outputs": [
    {
     "name": "stdout",
     "output_type": "stream",
     "text": [
      "[1, 2, 3, 4, 5, 6, 7, 8, 9, 10, 11, 12, 13, 14, 15, 16, 17, 18, 19, 20, 21, 22]\n",
      "False\n"
     ]
    }
   ],
   "source": [
    "import json\n",
    "import os\n",
    "from pprint import pprint\n",
    "\n",
    "from src.graph import TYPES_OF_GRAPH, Graph\n",
    "from src.sample_dialogue import sample_dialogue\n",
    "\n",
    "path = '../data'\n",
    "\n",
    "input_path = os.path.join(path, 'theme_graph.json')\n",
    "graph_dict = json.load(open(input_path, 'r'))\n",
    "graph = Graph(graph_dict, TYPES_OF_GRAPH.DI)\n",
    "\n",
    "sampled_dialogue, sampled_base_graph = sample_dialogue(\n",
    "    graph.nx_graph,\n",
    "    start_node=1,\n",
    "    topic='books'\n",
    ")"
   ]
  },
  {
   "cell_type": "code",
   "execution_count": 3,
   "metadata": {},
   "outputs": [
    {
     "name": "stdout",
     "output_type": "stream",
     "text": [
      "{'edges': [{'source': 1,\n",
      "            'target': 2,\n",
      "            'theme': 'books',\n",
      "            'utterances': ['I need a book.']},\n",
      "           {'source': 2,\n",
      "            'target': 3,\n",
      "            'theme': 'books',\n",
      "            'utterances': ['Recommend me a fiction book.']},\n",
      "           {'source': 3,\n",
      "            'target': 5,\n",
      "            'theme': 'books',\n",
      "            'utterances': ['How about science fiction?']},\n",
      "           {'source': 5,\n",
      "            'target': 6,\n",
      "            'theme': 'books',\n",
      "            'utterances': ['What are the popular books in this genre?']},\n",
      "           {'source': 6,\n",
      "            'target': 7,\n",
      "            'theme': 'books',\n",
      "            'utterances': ['Any recommendations for authors?']},\n",
      "           {'source': 7,\n",
      "            'target': 8,\n",
      "            'theme': 'books',\n",
      "            'utterances': ['Give me the details of this authour.']},\n",
      "           {'source': 8,\n",
      "            'target': 9,\n",
      "            'theme': 'books',\n",
      "            'utterances': [\"I'll choose this book.\"]}],\n",
      " 'nodes': [{'id': 1,\n",
      "            'label': 'start',\n",
      "            'theme': 'common',\n",
      "            'utterances': ['I am ready to help you choose a book, a movie, or '\n",
      "                           'a game.']},\n",
      "           {'id': 2,\n",
      "            'label': 'choosing_book',\n",
      "            'theme': 'books',\n",
      "            'utterances': ['Would you like a fiction or a non-fiction book?']},\n",
      "           {'id': 3,\n",
      "            'label': 'fiction',\n",
      "            'theme': 'books',\n",
      "            'utterances': ['What genres of fiction are you interested in?']},\n",
      "           {'id': 5,\n",
      "            'label': 'popular_books',\n",
      "            'theme': 'books',\n",
      "            'utterances': ['Do you want to check out popular books.']},\n",
      "           {'id': 6,\n",
      "            'label': 'popular_books',\n",
      "            'theme': 'books',\n",
      "            'utterances': ['These are some highly recommended books.']},\n",
      "           {'id': 7,\n",
      "            'label': 'specific_authors',\n",
      "            'theme': 'books',\n",
      "            'utterances': ['Are there any authors you like?']},\n",
      "           {'id': 8,\n",
      "            'label': 'book_details',\n",
      "            'theme': 'books',\n",
      "            'utterances': ['Shall I provide more information about this '\n",
      "                           \"author' book?\"]},\n",
      "           {'id': 9,\n",
      "            'label': 'final_recommendation',\n",
      "            'theme': 'common',\n",
      "            'utterances': ['I am sure you will like it']}]}\n"
     ]
    }
   ],
   "source": [
    "pprint(sampled_base_graph)"
   ]
  },
  {
   "cell_type": "code",
   "execution_count": 4,
   "metadata": {},
   "outputs": [
    {
     "name": "stdout",
     "output_type": "stream",
     "text": [
      "[{'participant': 'assistant',\n",
      "  'text': 'I am ready to help you choose a book, a movie, or a game.'},\n",
      " {'participant': 'user', 'source': 1, 'target': 2, 'text': 'I need a book.'},\n",
      " {'participant': 'assistant',\n",
      "  'text': 'Would you like a fiction or a non-fiction book?'},\n",
      " {'participant': 'user',\n",
      "  'source': 2,\n",
      "  'target': 3,\n",
      "  'text': 'Recommend me a fiction book.'},\n",
      " {'participant': 'assistant',\n",
      "  'text': 'What genres of fiction are you interested in?'},\n",
      " {'participant': 'user',\n",
      "  'source': 3,\n",
      "  'target': 5,\n",
      "  'text': 'How about science fiction?'},\n",
      " {'participant': 'assistant',\n",
      "  'text': 'Do you want to check out popular books.'},\n",
      " {'participant': 'user',\n",
      "  'source': 5,\n",
      "  'target': 6,\n",
      "  'text': 'What are the popular books in this genre?'},\n",
      " {'participant': 'assistant',\n",
      "  'text': 'These are some highly recommended books.'},\n",
      " {'participant': 'user',\n",
      "  'source': 6,\n",
      "  'target': 7,\n",
      "  'text': 'Any recommendations for authors?'},\n",
      " {'participant': 'assistant', 'text': 'Are there any authors you like?'},\n",
      " {'participant': 'user',\n",
      "  'source': 7,\n",
      "  'target': 8,\n",
      "  'text': 'Give me the details of this authour.'},\n",
      " {'participant': 'assistant',\n",
      "  'text': \"Shall I provide more information about this author' book?\"},\n",
      " {'participant': 'user',\n",
      "  'source': 8,\n",
      "  'target': 9,\n",
      "  'text': \"I'll choose this book.\"},\n",
      " {'participant': 'assistant', 'text': 'I am sure you will like it'}]\n"
     ]
    }
   ],
   "source": [
    "pprint(sampled_dialogue)"
   ]
  },
  {
   "cell_type": "code",
   "execution_count": 38,
   "metadata": {},
   "outputs": [
    {
     "data": {
      "image/png": "[encoded data removed]",
      "text/plain": [
       "<Figure size 640x480 with 1 Axes>"
      ]
     },
     "metadata": {},
     "output_type": "display_data"
    }
   ],
   "source": [
    "import networkx as nx\n",
    "\n",
    "nx.draw_networkx(graph.nx_graph)"
   ]
  },
  {
   "cell_type": "markdown",
   "metadata": {},
   "source": [
    "## all simple paths"
   ]
  },
  {
   "cell_type": "code",
   "execution_count": 6,
   "metadata": {},
   "outputs": [],
   "source": [
    "paths_generator = nx.all_simple_edge_paths(graph.nx_graph, source=1, target=9)\n",
    "paths = list(paths_generator)"
   ]
  },
  {
   "cell_type": "code",
   "execution_count": 7,
   "metadata": {},
   "outputs": [
    {
     "data": {
      "text/plain": [
       "[[(1, 2), (2, 3), (3, 5), (5, 6), (6, 7), (7, 8), (8, 9)],\n",
       " [(1, 2), (2, 4), (4, 5), (5, 6), (6, 7), (7, 8), (8, 9)],\n",
       " [(1, 10), (10, 11), (11, 12), (12, 14), (14, 15), (15, 9)],\n",
       " [(1, 10), (10, 11), (11, 13), (13, 14), (14, 15), (15, 9)],\n",
       " [(1, 16), (16, 17), (17, 18), (18, 19), (19, 20), (20, 9)],\n",
       " [(1, 16), (16, 17), (17, 21), (21, 22), (22, 9)]]"
      ]
     },
     "execution_count": 7,
     "metadata": {},
     "output_type": "execute_result"
    }
   ],
   "source": [
    "paths"
   ]
  },
  {
   "cell_type": "code",
   "execution_count": 8,
   "metadata": {},
   "outputs": [
    {
     "name": "stdout",
     "output_type": "stream",
     "text": [
      "[{'participant': 'assistant',\n",
      "  'text': 'Do you want to choose a book, a movie, or a game?'},\n",
      " {'participant': 'user', 'text': 'Can you recommend a video game?'},\n",
      " {'participant': 'assistant',\n",
      "  'text': \"You're looking for a video game recommendation.\"},\n",
      " {'participant': 'user', 'text': \"I'm interested in a specific genre of game.\"},\n",
      " {'participant': 'assistant', 'text': 'Which genre of games do you prefer?'},\n",
      " {'participant': 'user', 'text': 'Tell me about the reviews for this game.'},\n",
      " {'participant': 'assistant',\n",
      "  'text': 'What are the reviews like for this game?'},\n",
      " {'participant': 'user', 'text': \"Tell me more about the game's features.\"},\n",
      " {'participant': 'assistant', 'text': 'What are the features of this game?'},\n",
      " {'participant': 'user', 'text': \"I'll definitely play this one.\"},\n",
      " {'participant': 'assistant', 'text': 'It seems like a great choice for you.'}]\n"
     ]
    }
   ],
   "source": [
    "from src.sample_dialogue import materialize_dialogue\n",
    "\n",
    "pprint(materialize_dialogue(graph.nx_graph, paths[-1]))"
   ]
  },
  {
   "cell_type": "markdown",
   "metadata": {},
   "source": [
    "## simple cycles"
   ]
  },
  {
   "cell_type": "code",
   "execution_count": 9,
   "metadata": {},
   "outputs": [
    {
     "data": {
      "text/plain": [
       "{6, 7, 8, 11, 12, 13, 14, 21, 22}"
      ]
     },
     "execution_count": 9,
     "metadata": {},
     "output_type": "execute_result"
    }
   ],
   "source": [
    "import itertools as it\n",
    "\n",
    "all_cycles = nx.recursive_simple_cycles(graph.nx_graph)\n",
    "set(it.chain.from_iterable(all_cycles))"
   ]
  },
  {
   "cell_type": "code",
   "execution_count": 48,
   "metadata": {},
   "outputs": [],
   "source": [
    "def find_possible_cycles(nx_graph: nx.DiGraph | nx.MultiGraph, path: list[int]):\n",
    "    path_nodes_set = set(path)\n",
    "    all_cycles = nx.recursive_simple_cycles(nx_graph)\n",
    "    res = filter(\n",
    "        lambda cycle: len(set(cycle) & path_nodes_set) > 0,\n",
    "        all_cycles\n",
    "    )\n",
    "    return list(res)\n",
    "\n",
    "\n",
    "def get_repeated_cycle(cycle: list[int], n_repeats: int):\n",
    "    res = cycle * n_repeats\n",
    "    return res\n",
    "\n",
    "\n",
    "def get_node2cycle_dict(cycles: list[list[int]]):\n",
    "    \"\"\"mapping: node_id -> list of cycle ids where this node is occured\"\"\"\n",
    "    res = {}\n",
    "    for i_cycle, cycle in enumerate(cycles):\n",
    "        for node_id in cycle:\n",
    "            res[node_id] = res.get(node_id, []) + [i_cycle]\n",
    "    return res\n",
    "\n",
    "\n",
    "def get_sorted_cycles(path: list[int], cycles: list[list[int]]):\n",
    "    node2cycle = get_node2cycle_dict(cycles)    \n",
    "\n",
    "    ids_within_path = []        # index of node met in kth cycle\n",
    "    sorted_cycles = []      # cycles sorted in order of appearance on the path\n",
    "\n",
    "    for i, node_id in enumerate(path):\n",
    "        cycle_ids = node2cycle.get(node_id, None)\n",
    "        \n",
    "        if not cycle_ids:\n",
    "            continue\n",
    "        \n",
    "        cur_cycles = [cycles[j] for j in cycle_ids]\n",
    "        if i > 0:\n",
    "            cur_cycles = [c for c in cur_cycles if path[i-1] not in c]\n",
    "        cur_cycles = [cycle_shift_to_head(c, node_id) for c in cur_cycles]\n",
    "\n",
    "        if len(cur_cycles) > 0:\n",
    "            ids_within_path.append(i * len(cur_cycles))\n",
    "            sorted_cycles.extend(cur_cycles)\n",
    "\n",
    "    return sorted_cycles, ids_within_path\n",
    "\n",
    "\n",
    "def repeat_and_insert_cycles(path: list[int], cycles: list[list[int]], indexes: list[int], n_repeats: list[int]):\n",
    "    res = path[:]\n",
    "    n_repeats_gen = iter(n_repeats)\n",
    "    \n",
    "    for cycle, i in zip(cycles[::-1], indexes[::-1]):\n",
    "        repeated_cycle = get_repeated_cycle(cycle, next(n_repeats_gen, n_repeats[-1]))\n",
    "        for node_id in repeated_cycle[::-1]:\n",
    "            res.insert(i, node_id)\n",
    "\n",
    "    return res\n",
    "\n",
    "\n",
    "def cycle_shift_to_head(lst: list, head_elem):\n",
    "    i = lst.index(head_elem)\n",
    "    return lst[i:] + lst[:i]\n",
    "\n",
    "\n",
    "def concat_lists(lists: list[list]):\n",
    "    res = []\n",
    "    for lst in lists:\n",
    "        res.extend(lst)\n",
    "    return res\n",
    "\n",
    "\n",
    "def add_cycles(nx_graph, path: list[int], n_cycles: int, n_repeats: list[int]):\n",
    "    assert n_cycles >= len(n_repeats)\n",
    "\n",
    "    possible_cycles = find_possible_cycles(nx_graph, path)\n",
    "    n_possible_cycles = len(possible_cycles)\n",
    "   \n",
    "    if n_cycles > n_possible_cycles:\n",
    "        print(f'demanded {n_cycles=} is larger than number of unique cycles that can be added to provided path ({n_possible_cycles=})')\n",
    "        print('set n_cycles to n_possible_cycles')\n",
    "        n_cycles = n_possible_cycles\n",
    "        n_repeats = n_repeats[:n_cycles]\n",
    "        cycles = possible_cycles\n",
    "    else:\n",
    "        cycles = possible_cycles[:n_cycles]\n",
    "    \n",
    "    sorted_cycles, indexes_to_insert = get_sorted_cycles(path, cycles)\n",
    "    res = repeat_and_insert_cycles(path, sorted_cycles, indexes_to_insert, n_repeats)\n",
    "    \n",
    "    return res\n",
    "    "
   ]
  },
  {
   "cell_type": "code",
   "execution_count": 49,
   "metadata": {},
   "outputs": [
    {
     "data": {
      "text/plain": [
       "[[1, 2, 3, 5, 6, 7, 8, 9],\n",
       " [1, 2, 4, 5, 6, 7, 8, 9],\n",
       " [1, 10, 11, 12, 14, 15, 9],\n",
       " [1, 10, 11, 13, 14, 15, 9],\n",
       " [1, 16, 17, 18, 19, 20, 9],\n",
       " [1, 16, 17, 21, 22, 9]]"
      ]
     },
     "execution_count": 49,
     "metadata": {},
     "output_type": "execute_result"
    }
   ],
   "source": [
    "paths_generator = nx.all_simple_paths(graph.nx_graph, source=1, target=9)\n",
    "paths = list(paths_generator)\n",
    "paths"
   ]
  },
  {
   "cell_type": "code",
   "execution_count": 57,
   "metadata": {},
   "outputs": [
    {
     "name": "stdout",
     "output_type": "stream",
     "text": [
      "demanded n_cycles=3 is larger than number of unique cycles that can be added to provided path (n_possible_cycles=2)\n",
      "set n_cycles to n_possible_cycles\n"
     ]
    },
    {
     "data": {
      "text/plain": [
       "[1, 10, 11, 12, 11, 13, 14, 14, 11, 13, 14, 15, 9]"
      ]
     },
     "execution_count": 57,
     "metadata": {},
     "output_type": "execute_result"
    }
   ],
   "source": [
    "add_cycles(graph.nx_graph, paths[2], n_cycles=3, n_repeats=[1])"
   ]
  },
  {
   "cell_type": "code",
   "execution_count": 31,
   "metadata": {},
   "outputs": [
    {
     "data": {
      "text/plain": [
       "[1, 2, 3, 1, 2, 3]"
      ]
     },
     "execution_count": 31,
     "metadata": {},
     "output_type": "execute_result"
    }
   ],
   "source": [
    "[1,2,3] * 2"
   ]
  }
 ],
 "metadata": {
  "kernelspec": {
   "display_name": "venv",
   "language": "python",
   "name": "python3"
  },
  "language_info": {
   "codemirror_mode": {
    "name": "ipython",
    "version": 3
   },
   "file_extension": ".py",
   "mimetype": "text/x-python",
   "name": "python",
   "nbconvert_exporter": "python",
   "pygments_lexer": "ipython3",
   "version": "3.10.10"
  }
 },
 "nbformat": 4,
 "nbformat_minor": 2
}
