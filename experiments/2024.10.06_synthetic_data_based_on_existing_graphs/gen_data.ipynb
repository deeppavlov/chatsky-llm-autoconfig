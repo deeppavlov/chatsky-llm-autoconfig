{
 "cells": [
  {
   "cell_type": "code",
   "execution_count": 1,
   "metadata": {},
   "outputs": [
    {
     "name": "stderr",
     "output_type": "stream",
     "text": [
      "/home/askatasuna/.cache/pypoetry/virtualenvs/dff-llm-integration-VcuUrJCU-py3.12/lib/python3.12/site-packages/IPython/core/interactiveshell.py:3577: LangChainDeprecationWarning: As of langchain-core 0.3.0, LangChain uses pydantic v2 internally. The langchain_core.pydantic_v1 module was a compatibility shim for pydantic v1, and should no longer be used. Please update the code to import from Pydantic directly.\n",
      "\n",
      "For example, replace imports like: `from langchain_core.pydantic_v1 import BaseModel`\n",
      "with: `from pydantic import BaseModel`\n",
      "or the v1 compatibility namespace if you are working in a code base that has not been fully upgraded to pydantic 2 yet. \tfrom pydantic.v1 import BaseModel\n",
      "\n",
      "  exec(code_obj, self.user_global_ns, self.user_ns)\n"
     ]
    },
    {
     "data": {
      "text/plain": [
       "True"
      ]
     },
     "execution_count": 1,
     "metadata": {},
     "output_type": "execute_result"
    }
   ],
   "source": [
    "from langchain_openai import ChatOpenAI\n",
    "from langchain_core.messages import HumanMessage, SystemMessage\n",
    "from langchain_core.output_parsers import StrOutputParser\n",
    "from langchain_core.prompts import ChatPromptTemplate\n",
    "from langchain_core.pydantic_v1 import BaseModel, Field\n",
    "import matplotlib.pyplot as plt\n",
    "import random\n",
    "import json\n",
    "from dotenv import load_dotenv\n",
    "import os\n",
    "from tqdm import tqdm\n",
    "import time\n",
    "import networkx as nx\n",
    "load_dotenv() "
   ]
  },
  {
   "cell_type": "markdown",
   "metadata": {},
   "source": [
    "Let's try to chain this thing"
   ]
  },
  {
   "cell_type": "code",
   "execution_count": 33,
   "metadata": {},
   "outputs": [],
   "source": [
    "with open(\"prompts/prompt_v2.txt\", 'r') as f:\n",
    "    prompt = HumanMessage(f.read())\n",
    "\n",
    "with open(\"prompts/prompt_augmentation.txt\", 'r') as f:\n",
    "    aug_prompt = f.read()\n",
    "\n",
    "history = [prompt]"
   ]
  },
  {
   "cell_type": "code",
   "execution_count": 34,
   "metadata": {},
   "outputs": [],
   "source": [
    "gen_model = ChatOpenAI(model=\"gpt-4o-mini\", api_key=os.getenv(\"OPENAI_API_KEY\"), base_url=os.getenv(\"OPENAI_BASE_URL\"), temperature=0)\n",
    "check_model = ChatOpenAI(model=\"gpt-4o-mini\", api_key=os.getenv(\"OPENAI_API_KEY\"), base_url=os.getenv(\"OPENAI_BASE_URL\"), temperature=0)\n",
    "\n",
    "check_triplet_prompt = ChatPromptTemplate.from_template(\"decide if the triplet is valid. triplet: {triplet}\")\n",
    "augmentation_prompt = ChatPromptTemplate.from_template(aug_prompt)\n"
   ]
  },
  {
   "cell_type": "code",
   "execution_count": 64,
   "metadata": {},
   "outputs": [],
   "source": [
    "def generate_dialogue_graph_pair():\n",
    "    response = gen_model.invoke(history)\n",
    "    try:\n",
    "        return json.loads(response.content)\n",
    "    except json.JSONDecodeError:\n",
    "        print(\"Error: Invalid JSON response. Retrying...\")\n",
    "        return None"
   ]
  },
  {
   "cell_type": "code",
   "execution_count": 65,
   "metadata": {},
   "outputs": [
    {
     "name": "stderr",
     "output_type": "stream",
     "text": [
      "100%|██████████| 10/10 [01:36<00:00,  9.66s/it]"
     ]
    },
    {
     "name": "stdout",
     "output_type": "stream",
     "text": [
      "Generation complete. Results saved to dialogue_graph_pairs.json\n"
     ]
    },
    {
     "name": "stderr",
     "output_type": "stream",
     "text": [
      "\n"
     ]
    }
   ],
   "source": [
    "results = []\n",
    "for i in tqdm(range(10)):\n",
    "    pair = None\n",
    "    while pair is None:\n",
    "        pair = generate_dialogue_graph_pair()\n",
    "        if pair is not None:\n",
    "            pair['id'] = i + 1\n",
    "            results.append(pair)\n",
    "        else:\n",
    "            print(\"Invalid JSON.\")\n",
    "    time.sleep(1)  # Add a small delay between requests to avoid rate limiting\n",
    "\n",
    "with open('dialogue_graph_pairs.json', 'w') as f:\n",
    "    json.dump(results, f, indent=2)\n",
    "\n",
    "print(\"Generation complete. Results saved to dialogue_graph_pairs.json\")"
   ]
  },
  {
   "cell_type": "code",
   "execution_count": 10,
   "metadata": {},
   "outputs": [],
   "source": [
    "def visualize_graph(graph, title):\n",
    "    G = nx.DiGraph()\n",
    "    for node in graph[\"nodes\"]:\n",
    "        G.add_node(node[\"id\"], label=node[\"label\"])\n",
    "    for edge in graph[\"edges\"]:\n",
    "        G.add_edge(edge[\"source\"], edge[\"target\"], label=edge[\"utterances\"])\n",
    "\n",
    "    pos = nx.spring_layout(G)\n",
    "    nx.draw(G, pos, with_labels=True, node_color=\"lightblue\", node_size=500, font_size=8, arrows=True)\n",
    "    edge_labels = nx.get_edge_attributes(G, \"label\")\n",
    "    nx.draw_networkx_edge_labels(G, pos, edge_labels=edge_labels, font_size=6)\n",
    "    plt.title(title)\n",
    "    plt.axis(\"off\")"
   ]
  },
  {
   "cell_type": "code",
   "execution_count": 2,
   "metadata": {},
   "outputs": [],
   "source": [
    "with open('dialogue_graph_pairs.json', 'r') as f:\n",
    "    graphs = json.load(f)"
   ]
  },
  {
   "cell_type": "code",
   "execution_count": 3,
   "metadata": {},
   "outputs": [],
   "source": [
    "def dialogues_from_graph(graph, readable: bool=False):\n",
    "    # Create a directed graph from the JSON input\n",
    "    G = nx.DiGraph()\n",
    "    \n",
    "    # Add nodes and edges to the graph\n",
    "    for node in graph['nodes']:\n",
    "        # Ensure 'is_start' is included in the node attributes\n",
    "        G.add_node(node['id'], label=node['label'], utterances=node['utterances'], is_start=node.get('is_start', False))\n",
    "    \n",
    "    for edge in graph['edges']:\n",
    "        G.add_edge(edge['source'], edge['target'], utterances=edge['utterances'])\n",
    "    \n",
    "    # Start the dialogue from the starting node\n",
    "    start_nodes = [node for node in G.nodes if G.nodes[node].get('is_start', True)]\n",
    "    if not start_nodes:\n",
    "        raise ValueError(\"No starting node found in the graph.\")\n",
    "    \n",
    "    current_node = random.choice(start_nodes)  # Randomly select one of the starting nodes\n",
    "    dialogue = []\n",
    "    visited_nodes = set()  # Track visited nodes to prevent cycles\n",
    "    \n",
    "    # Generate a dialogue by traversing the graph\n",
    "    while True:\n",
    "        # Get the current node's utterances\n",
    "        node_utterances = G.nodes[current_node]['utterances']\n",
    "        # print(\"NODE:\", node_utterances)\n",
    "        dialogue.append(random.choice(node_utterances))  # Randomly select an utterance\n",
    "        \n",
    "        # Mark the current node as visited\n",
    "        visited_nodes.add(current_node)\n",
    "        \n",
    "        # Get the next possible nodes to traverse\n",
    "        next_nodes = list(G.successors(current_node))\n",
    "        if not next_nodes:  # If there are no successors, break the loop\n",
    "            break\n",
    "        \n",
    "        # Filter out already visited nodes to prevent cycles\n",
    "        next_nodes = [node for node in next_nodes if node not in visited_nodes]\n",
    "        if not next_nodes:  # If all next nodes have been visited, break the loop\n",
    "            break\n",
    "        \n",
    "        next_node = random.choice(next_nodes)\n",
    "        \n",
    "        # Get the edge utterances between the current node and the next node\n",
    "        edge_utterances = G[current_node][next_node]['utterances']\n",
    "        # print(\"EDGE:\", edge_utterances)\n",
    "        dialogue.append(random.choice(edge_utterances)) \n",
    "        # Randomly select the next node to traverse\n",
    "        current_node = next_node\n",
    "    \n",
    "    if readable:\n",
    "        out = \"\"\n",
    "        for i in range(len(dialogue)):\n",
    "            if i % 2 == 0:\n",
    "                out += f\"ASSISTANT: {dialogue[i]}\\n\"\n",
    "            else:\n",
    "                out += f\"USER: {dialogue[i]}\\n\"\n",
    "        return out\n",
    "    return dialogue"
   ]
  },
  {
   "cell_type": "code",
   "execution_count": 6,
   "metadata": {},
   "outputs": [
    {
     "name": "stdout",
     "output_type": "stream",
     "text": [
      "ASSISTANT: Welcome! What can I do for you?\n",
      "USER: I want to book a flight.\n",
      "ASSISTANT: Where would you like to fly to?\n",
      "USER: I would like to fly from New York to London.\n",
      "ASSISTANT: What time of day do you prefer to fly?\n",
      "USER: I prefer a morning flight.\n",
      "ASSISTANT: Would you like to try a different flight option?\n",
      "\n"
     ]
    }
   ],
   "source": [
    "print(dialogues_from_graph(graphs[1], readable=True))"
   ]
  },
  {
   "cell_type": "code",
   "execution_count": 12,
   "metadata": {},
   "outputs": [
    {
     "data": {
      "image/png": "[encoded data removed]",
      "text/plain": [
       "<Figure size 640x480 with 1 Axes>"
      ]
     },
     "metadata": {},
     "output_type": "display_data"
    }
   ],
   "source": [
    "visualize_graph(graphs[1], \"Test graph\")\n"
   ]
  },
  {
   "cell_type": "code",
   "execution_count": 20,
   "metadata": {},
   "outputs": [],
   "source": [
    "class Dialogue(BaseModel):\n",
    "    sensibility: float = Field(description=\"Sensibility meter float from 0.0 to 1.0. If the dialogue make sense, logical and can be heard in speech between real people value is higher.\")\n",
    "    comment: str = Field(description=\"Commentary on why this score for the sensibility was made\")\n",
    "\n",
    "model = ChatOpenAI(model=\"gpt-4o-mini\", api_key=os.getenv(\"OPENAI_API_KEY\"), base_url=os.getenv(\"OPENAI_BASE_URL\"), temperature=0)\n",
    "check_model = model.with_structured_output(Dialogue)\n"
   ]
  },
  {
   "cell_type": "code",
   "execution_count": 23,
   "metadata": {},
   "outputs": [
    {
     "name": "stderr",
     "output_type": "stream",
     "text": [
      "10it [00:26,  2.64s/it]\n"
     ]
    }
   ],
   "source": [
    "scores = {}\n",
    "for _, i in tqdm(enumerate(graphs)):\n",
    "    dialogue = dialogues_from_graph(i, readable=True)\n",
    "    res = await check_model.ainvoke(dialogue)\n",
    "    scores[_] = {}\n",
    "    scores[_][\"dialogue\"] = dialogue\n",
    "    scores[_][\"score\"] = res.sensibility\n",
    "    scores[_][\"comment\"] = res.comment\n",
    "\n",
    "with open(\"scores.json\", 'w') as f:\n",
    "    f.write(json.dumps(scores, indent=2))"
   ]
  },
  {
   "cell_type": "code",
   "execution_count": 36,
   "metadata": {},
   "outputs": [],
   "source": [
    "async def augment_data(graph: dict, themes: set, amount: int=5) -> list[dict]:\n",
    "    res = []\n",
    "    for theme in themes:\n",
    "        for i in range(amount):\n",
    "            result = await model.ainvoke(augmentation_prompt.format(THEME=theme, graph=graph))\n",
    "            try:\n",
    "                g = json.loads(result.content)\n",
    "                res.append(g)\n",
    "            except Exception:\n",
    "                print(\"invalid graph\")\n",
    "    with open(\"augmented_graphs.json\", 'w') as f:\n",
    "        f.write(json.dumps(res, indent=2))"
   ]
  },
  {
   "cell_type": "code",
   "execution_count": 37,
   "metadata": {},
   "outputs": [],
   "source": [
    "await augment_data(graphs[1], {\"library\", \"camping\", \"cooking\"})"
   ]
  },
  {
   "cell_type": "code",
   "execution_count": null,
   "metadata": {},
   "outputs": [],
   "source": [
    "with open('augmented_graphs.json', 'r') as f:\n",
    "    pass"
   ]
  }
 ],
 "metadata": {
  "kernelspec": {
   "display_name": ".venv",
   "language": "python",
   "name": "python3"
  },
  "language_info": {
   "codemirror_mode": {
    "name": "ipython",
    "version": 3
   },
   "file_extension": ".py",
   "mimetype": "text/x-python",
   "name": "python",
   "nbconvert_exporter": "python",
   "pygments_lexer": "ipython3",
   "version": "3.12.7"
  }
 },
 "nbformat": 4,
 "nbformat_minor": 2
}
