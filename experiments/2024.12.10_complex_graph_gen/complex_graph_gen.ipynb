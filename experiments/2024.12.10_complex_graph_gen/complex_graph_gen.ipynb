{
 "cells": [
  {
   "cell_type": "code",
   "execution_count": 1,
   "metadata": {},
   "outputs": [
    {
     "data": {
      "text/plain": [
       "True"
      ]
     },
     "execution_count": 1,
     "metadata": {},
     "output_type": "execute_result"
    }
   ],
   "source": [
    "from langchain_openai import ChatOpenAI\n",
    "from dotenv import load_dotenv\n",
    "import os\n",
    "load_dotenv() "
   ]
  },
  {
   "cell_type": "markdown",
   "metadata": {},
   "source": [
    "## Test Graph Creation"
   ]
  },
  {
   "cell_type": "code",
   "execution_count": 2,
   "metadata": {},
   "outputs": [],
   "source": [
    "from langchain.prompts import PromptTemplate\n",
    "\n",
    "simple_graph_prompt = PromptTemplate.from_template(\n",
    "    \"\"\"\n",
    "Create a dialogue graph for a {topic} conversation that follows these rules:\n",
    "\n",
    "1. Each assistant message (node) must be a clear question or statement that expects a specific type of response\n",
    "2. Each user message (edge) must directly answer or respond to the previous assistant message\n",
    "3. Include these basic flows:\n",
    "   - Main success path (completing the primary task)\n",
    "   - Early exit path (user decides not to proceed)\n",
    "   - Return path (user wants to modify earlier choice)\n",
    "\n",
    "Example of correct flow:\n",
    "Assistant: \"What type of coffee would you like?\"\n",
    "User: \"A latte please\"\n",
    "Assistant: \"Would you like that hot or iced?\"\n",
    "User: \"Hot please\"\n",
    "\n",
    "Example of incorrect flow:\n",
    "Assistant: \"What type of coffee would you like?\"\n",
    "User: \"No thank you\" (This response doesn't match the question)\n",
    "\n",
    "Format:\n",
    "{{\n",
    "    \"edges\": [\n",
    "        {{ \"source\": 1, \"target\": 2, \"utterances\": [\"I'd like a coffee\"] }},\n",
    "        {{ \"source\": 2, \"target\": 3, \"utterances\": [\"A latte please\"] }}\n",
    "    ],\n",
    "    \"nodes\": [\n",
    "        {{ \"id\": 1, \"label\": \"welcome\", \"is_start\": true, \"utterances\": [\"Welcome! How can I help?\"] }},\n",
    "        {{ \"id\": 2, \"label\": \"ask_drink\", \"is_start\": false, \"utterances\": [\"What would you like to drink?\"] }}\n",
    "    ]\n",
    "}}\n",
    "\n",
    "Return ONLY the JSON without any additional text.\n",
    "\"\"\"\n",
    ")"
   ]
  },
  {
   "cell_type": "code",
   "execution_count": 3,
   "metadata": {},
   "outputs": [],
   "source": [
    "from chatsky_llm_autoconfig.algorithms.dialogue_generation import DialogueSampler\n",
    "from chatsky_llm_autoconfig.algorithms.topic_graph_generation import CycleGraphGenerator\n",
    "from chatsky_llm_autoconfig.metrics.llm_metrics import are_triplets_valid\n",
    "from langchain_openai import ChatOpenAI\n",
    "from pathlib import Path\n",
    "import os\n",
    "import json\n",
    "from datetime import datetime\n",
    "\n",
    "\n",
    "def generate_valid_dialogues(topics: list[str], output_dir: str = \"generated_datasets\") -> None:\n",
    "    # Setup\n",
    "    Path(output_dir).mkdir(exist_ok=True)\n",
    "    \n",
    "    # Initialize with default prompt if complex_graph_prompt is not defined\n",
    "    graph_generator = CycleGraphGenerator(prompt=simple_graph_prompt)  # Remove prompt parameter if not needed\n",
    "    sampler = DialogueSampler()\n",
    "    gen_model = ChatOpenAI(\n",
    "        model='o1-mini',\n",
    "        api_key=os.getenv(\"OPENAI_API_KEY\"),\n",
    "        base_url=os.getenv(\"OPENAI_BASE_URL\"),\n",
    "    )\n",
    "    \n",
    "    valid_model = ChatOpenAI(\n",
    "        model='gpt-4o',\n",
    "        api_key=os.getenv(\"OPENAI_API_KEY\"),\n",
    "        base_url=os.getenv(\"OPENAI_BASE_URL\"),\n",
    "    )\n",
    "    \n",
    "    valid_results = []\n",
    "    \n",
    "    # Generate and validate graphs\n",
    "    for topic in topics:\n",
    "        try:\n",
    "            # Generate and validate using the model name from your ChatOpenAI instance\n",
    "            graph = graph_generator.invoke(topic=topic, model=gen_model)\n",
    "            validation_result = are_triplets_valid(graph, valid_model)\n",
    "            \n",
    "            print(f\"Topic: {topic}\")\n",
    "            print(f\"Validation result: {validation_result}\")\n",
    "            \n",
    "            # If valid, sample dialogue and save\n",
    "            if validation_result[\"value\"]:\n",
    "                sampled_dialogues = sampler.invoke(graph, 1, -1)\n",
    "                valid_results.append({\n",
    "                    \"graph\": graph.graph_dict,\n",
    "                    \"topic\": topic,\n",
    "                    \"dialogues\": [d.model_dump() for d in sampled_dialogues],\n",
    "                    \"validation_result\": validation_result\n",
    "                })\n",
    "                print(f\"✅ Valid dialogue generated for topic: {topic}\")\n",
    "            else:\n",
    "                print(f\"❌ Invalid dialogue for topic: {topic}\")\n",
    "                \n",
    "        except Exception as e:\n",
    "            print(f\"Error processing {topic}: {str(e)}\")\n",
    "            continue\n",
    "\n",
    "    # Save results\n",
    "    if valid_results:\n",
    "        output_file = Path(output_dir) / f\"valid_dialogues_{datetime.now().strftime('%Y%m%d_%H%M%S')}.json\"\n",
    "        with open(output_file, 'w', encoding='utf-8') as f:\n",
    "            json.dump(valid_results, f, ensure_ascii=False, indent=2)\n",
    "        print(f\"\\nSaved {len(valid_results)} valid dialogues to: {output_file}\")\n",
    "\n",
    "\n",
    "\n",
    "                "
   ]
  },
  {
   "cell_type": "code",
   "execution_count": 4,
   "metadata": {},
   "outputs": [
    {
     "name": "stderr",
     "output_type": "stream",
     "text": [
      "INFO:httpx:HTTP Request: POST http://193.187.173.33:8002/api/providers/openai/v1/chat/completions \"HTTP/1.1 200 OK\"\n",
      "INFO:httpx:HTTP Request: POST http://193.187.173.33:8002/api/providers/openai/v1/chat/completions \"HTTP/1.1 200 OK\"\n",
      "INFO:httpx:HTTP Request: POST http://193.187.173.33:8002/api/providers/openai/v1/chat/completions \"HTTP/1.1 200 OK\"\n",
      "INFO:httpx:HTTP Request: POST http://193.187.173.33:8002/api/providers/openai/v1/chat/completions \"HTTP/1.1 200 OK\"\n",
      "INFO:httpx:HTTP Request: POST http://193.187.173.33:8002/api/providers/openai/v1/chat/completions \"HTTP/1.1 200 OK\"\n",
      "INFO:httpx:HTTP Request: POST http://193.187.173.33:8002/api/providers/openai/v1/chat/completions \"HTTP/1.1 200 OK\"\n",
      "INFO:httpx:HTTP Request: POST http://193.187.173.33:8002/api/providers/openai/v1/chat/completions \"HTTP/1.1 200 OK\"\n",
      "INFO:httpx:HTTP Request: POST http://193.187.173.33:8002/api/providers/openai/v1/chat/completions \"HTTP/1.1 200 OK\"\n",
      "INFO:httpx:HTTP Request: POST http://193.187.173.33:8002/api/providers/openai/v1/chat/completions \"HTTP/1.1 200 OK\"\n"
     ]
    },
    {
     "name": "stdout",
     "output_type": "stream",
     "text": [
      "Topic: medical appointment scheduling\n",
      "Validation result: {'value': True, 'description': 'All transitions are valid.'}\n",
      "✅ Valid dialogue generated for topic: medical appointment scheduling\n"
     ]
    },
    {
     "name": "stderr",
     "output_type": "stream",
     "text": [
      "INFO:httpx:HTTP Request: POST http://193.187.173.33:8002/api/providers/openai/v1/chat/completions \"HTTP/1.1 200 OK\"\n",
      "INFO:httpx:HTTP Request: POST http://193.187.173.33:8002/api/providers/openai/v1/chat/completions \"HTTP/1.1 200 OK\"\n",
      "INFO:httpx:HTTP Request: POST http://193.187.173.33:8002/api/providers/openai/v1/chat/completions \"HTTP/1.1 200 OK\"\n",
      "INFO:httpx:HTTP Request: POST http://193.187.173.33:8002/api/providers/openai/v1/chat/completions \"HTTP/1.1 200 OK\"\n",
      "INFO:httpx:HTTP Request: POST http://193.187.173.33:8002/api/providers/openai/v1/chat/completions \"HTTP/1.1 200 OK\"\n",
      "INFO:httpx:HTTP Request: POST http://193.187.173.33:8002/api/providers/openai/v1/chat/completions \"HTTP/1.1 200 OK\"\n",
      "INFO:httpx:HTTP Request: POST http://193.187.173.33:8002/api/providers/openai/v1/chat/completions \"HTTP/1.1 200 OK\"\n",
      "INFO:httpx:HTTP Request: POST http://193.187.173.33:8002/api/providers/openai/v1/chat/completions \"HTTP/1.1 200 OK\"\n",
      "INFO:httpx:HTTP Request: POST http://193.187.173.33:8002/api/providers/openai/v1/chat/completions \"HTTP/1.1 200 OK\"\n",
      "INFO:httpx:HTTP Request: POST http://193.187.173.33:8002/api/providers/openai/v1/chat/completions \"HTTP/1.1 200 OK\"\n"
     ]
    },
    {
     "name": "stdout",
     "output_type": "stream",
     "text": [
      "Topic: food delivery service\n",
      "Validation result: {'value': True, 'description': 'All transitions are valid.'}\n",
      "✅ Valid dialogue generated for topic: food delivery service\n"
     ]
    },
    {
     "name": "stderr",
     "output_type": "stream",
     "text": [
      "INFO:httpx:HTTP Request: POST http://193.187.173.33:8002/api/providers/openai/v1/chat/completions \"HTTP/1.1 200 OK\"\n",
      "INFO:httpx:HTTP Request: POST http://193.187.173.33:8002/api/providers/openai/v1/chat/completions \"HTTP/1.1 200 OK\"\n",
      "INFO:httpx:HTTP Request: POST http://193.187.173.33:8002/api/providers/openai/v1/chat/completions \"HTTP/1.1 200 OK\"\n",
      "INFO:httpx:HTTP Request: POST http://193.187.173.33:8002/api/providers/openai/v1/chat/completions \"HTTP/1.1 200 OK\"\n",
      "INFO:httpx:HTTP Request: POST http://193.187.173.33:8002/api/providers/openai/v1/chat/completions \"HTTP/1.1 200 OK\"\n",
      "INFO:httpx:HTTP Request: POST http://193.187.173.33:8002/api/providers/openai/v1/chat/completions \"HTTP/1.1 200 OK\"\n",
      "INFO:httpx:HTTP Request: POST http://193.187.173.33:8002/api/providers/openai/v1/chat/completions \"HTTP/1.1 200 OK\"\n",
      "INFO:httpx:HTTP Request: POST http://193.187.173.33:8002/api/providers/openai/v1/chat/completions \"HTTP/1.1 200 OK\"\n",
      "INFO:httpx:HTTP Request: POST http://193.187.173.33:8002/api/providers/openai/v1/chat/completions \"HTTP/1.1 200 OK\"\n",
      "INFO:httpx:HTTP Request: POST http://193.187.173.33:8002/api/providers/openai/v1/chat/completions \"HTTP/1.1 200 OK\"\n",
      "INFO:root:Invalid transition: The transition is invalid because the assistant's first response asks the user to choose a membership type, and the user responds with a membership choice, which should logically complete the interaction rather than lead to the assistant asking the same question again. The flow is redundant and does not move the conversation forward naturally.\n"
     ]
    },
    {
     "name": "stdout",
     "output_type": "stream",
     "text": [
      "Topic: fitness membership registration\n",
      "Validation result: {'value': False, 'description': \"Invalid transition: The transition is invalid because the assistant's first response asks the user to choose a membership type, and the user responds with a membership choice, which should logically complete the interaction rather than lead to the assistant asking the same question again. The flow is redundant and does not move the conversation forward naturally.\"}\n",
      "❌ Invalid dialogue for topic: fitness membership registration\n"
     ]
    },
    {
     "name": "stderr",
     "output_type": "stream",
     "text": [
      "INFO:httpx:HTTP Request: POST http://193.187.173.33:8002/api/providers/openai/v1/chat/completions \"HTTP/1.1 200 OK\"\n",
      "INFO:httpx:HTTP Request: POST http://193.187.173.33:8002/api/providers/openai/v1/chat/completions \"HTTP/1.1 200 OK\"\n",
      "INFO:httpx:HTTP Request: POST http://193.187.173.33:8002/api/providers/openai/v1/chat/completions \"HTTP/1.1 200 OK\"\n",
      "INFO:httpx:HTTP Request: POST http://193.187.173.33:8002/api/providers/openai/v1/chat/completions \"HTTP/1.1 200 OK\"\n",
      "INFO:httpx:HTTP Request: POST http://193.187.173.33:8002/api/providers/openai/v1/chat/completions \"HTTP/1.1 200 OK\"\n",
      "INFO:httpx:HTTP Request: POST http://193.187.173.33:8002/api/providers/openai/v1/chat/completions \"HTTP/1.1 200 OK\"\n",
      "INFO:httpx:HTTP Request: POST http://193.187.173.33:8002/api/providers/openai/v1/chat/completions \"HTTP/1.1 200 OK\"\n",
      "INFO:httpx:HTTP Request: POST http://193.187.173.33:8002/api/providers/openai/v1/chat/completions \"HTTP/1.1 200 OK\"\n",
      "INFO:httpx:HTTP Request: POST http://193.187.173.33:8002/api/providers/openai/v1/chat/completions \"HTTP/1.1 200 OK\"\n",
      "INFO:httpx:HTTP Request: POST http://193.187.173.33:8002/api/providers/openai/v1/chat/completions \"HTTP/1.1 200 OK\"\n",
      "INFO:httpx:HTTP Request: POST http://193.187.173.33:8002/api/providers/openai/v1/chat/completions \"HTTP/1.1 200 OK\"\n",
      "INFO:httpx:HTTP Request: POST http://193.187.173.33:8002/api/providers/openai/v1/chat/completions \"HTTP/1.1 200 OK\"\n"
     ]
    },
    {
     "name": "stdout",
     "output_type": "stream",
     "text": [
      "Topic: apartment rental application\n",
      "Validation result: {'value': True, 'description': 'All transitions are valid.'}\n",
      "✅ Valid dialogue generated for topic: apartment rental application\n"
     ]
    },
    {
     "name": "stderr",
     "output_type": "stream",
     "text": [
      "INFO:httpx:HTTP Request: POST http://193.187.173.33:8002/api/providers/openai/v1/chat/completions \"HTTP/1.1 200 OK\"\n"
     ]
    },
    {
     "name": "stdout",
     "output_type": "stream",
     "text": [
      "Error processing tech support assistance: None cannot be a node\n"
     ]
    },
    {
     "name": "stderr",
     "output_type": "stream",
     "text": [
      "INFO:httpx:HTTP Request: POST http://193.187.173.33:8002/api/providers/openai/v1/chat/completions \"HTTP/1.1 200 OK\"\n",
      "INFO:httpx:HTTP Request: POST http://193.187.173.33:8002/api/providers/openai/v1/chat/completions \"HTTP/1.1 200 OK\"\n",
      "INFO:httpx:HTTP Request: POST http://193.187.173.33:8002/api/providers/openai/v1/chat/completions \"HTTP/1.1 200 OK\"\n",
      "INFO:httpx:HTTP Request: POST http://193.187.173.33:8002/api/providers/openai/v1/chat/completions \"HTTP/1.1 200 OK\"\n",
      "INFO:httpx:HTTP Request: POST http://193.187.173.33:8002/api/providers/openai/v1/chat/completions \"HTTP/1.1 200 OK\"\n",
      "INFO:httpx:HTTP Request: POST http://193.187.173.33:8002/api/providers/openai/v1/chat/completions \"HTTP/1.1 200 OK\"\n",
      "INFO:httpx:HTTP Request: POST http://193.187.173.33:8002/api/providers/openai/v1/chat/completions \"HTTP/1.1 200 OK\"\n",
      "INFO:httpx:HTTP Request: POST http://193.187.173.33:8002/api/providers/openai/v1/chat/completions \"HTTP/1.1 200 OK\"\n",
      "INFO:httpx:HTTP Request: POST http://193.187.173.33:8002/api/providers/openai/v1/chat/completions \"HTTP/1.1 200 OK\"\n",
      "INFO:httpx:HTTP Request: POST http://193.187.173.33:8002/api/providers/openai/v1/chat/completions \"HTTP/1.1 200 OK\"\n",
      "INFO:httpx:HTTP Request: POST http://193.187.173.33:8002/api/providers/openai/v1/chat/completions \"HTTP/1.1 200 OK\"\n",
      "INFO:httpx:HTTP Request: POST http://193.187.173.33:8002/api/providers/openai/v1/chat/completions \"HTTP/1.1 200 OK\"\n",
      "INFO:httpx:HTTP Request: POST http://193.187.173.33:8002/api/providers/openai/v1/chat/completions \"HTTP/1.1 200 OK\"\n",
      "INFO:root:Invalid transition: The sequence is invalid because the assistant's follow-up question does not directly address the user's specific request to modify the destination. The user explicitly stated they want to modify the destination, so the assistant should confirm or proceed with that modification rather than asking which detail the user wants to modify.\n",
      "INFO:httpx:HTTP Request: POST http://193.187.173.33:8002/api/providers/openai/v1/chat/completions \"HTTP/1.1 200 OK\"\n"
     ]
    },
    {
     "name": "stdout",
     "output_type": "stream",
     "text": [
      "Topic: travel package booking\n",
      "Validation result: {'value': False, 'description': \"Invalid transition: The sequence is invalid because the assistant's follow-up question does not directly address the user's specific request to modify the destination. The user explicitly stated they want to modify the destination, so the assistant should confirm or proceed with that modification rather than asking which detail the user wants to modify.\"}\n",
      "❌ Invalid dialogue for topic: travel package booking\n"
     ]
    },
    {
     "name": "stderr",
     "output_type": "stream",
     "text": [
      "INFO:httpx:HTTP Request: POST http://193.187.173.33:8002/api/providers/openai/v1/chat/completions \"HTTP/1.1 200 OK\"\n",
      "INFO:httpx:HTTP Request: POST http://193.187.173.33:8002/api/providers/openai/v1/chat/completions \"HTTP/1.1 200 OK\"\n",
      "INFO:httpx:HTTP Request: POST http://193.187.173.33:8002/api/providers/openai/v1/chat/completions \"HTTP/1.1 200 OK\"\n",
      "INFO:httpx:HTTP Request: POST http://193.187.173.33:8002/api/providers/openai/v1/chat/completions \"HTTP/1.1 200 OK\"\n",
      "INFO:httpx:HTTP Request: POST http://193.187.173.33:8002/api/providers/openai/v1/chat/completions \"HTTP/1.1 200 OK\"\n",
      "INFO:httpx:HTTP Request: POST http://193.187.173.33:8002/api/providers/openai/v1/chat/completions \"HTTP/1.1 200 OK\"\n",
      "INFO:httpx:HTTP Request: POST http://193.187.173.33:8002/api/providers/openai/v1/chat/completions \"HTTP/1.1 200 OK\"\n",
      "INFO:httpx:HTTP Request: POST http://193.187.173.33:8002/api/providers/openai/v1/chat/completions \"HTTP/1.1 200 OK\"\n",
      "INFO:httpx:HTTP Request: POST http://193.187.173.33:8002/api/providers/openai/v1/chat/completions \"HTTP/1.1 200 OK\"\n",
      "INFO:httpx:HTTP Request: POST http://193.187.173.33:8002/api/providers/openai/v1/chat/completions \"HTTP/1.1 200 OK\"\n",
      "INFO:httpx:HTTP Request: POST http://193.187.173.33:8002/api/providers/openai/v1/chat/completions \"HTTP/1.1 200 OK\"\n",
      "INFO:httpx:HTTP Request: POST http://193.187.173.33:8002/api/providers/openai/v1/chat/completions \"HTTP/1.1 200 OK\"\n"
     ]
    },
    {
     "name": "stdout",
     "output_type": "stream",
     "text": [
      "Topic: insurance policy purchase\n",
      "Validation result: {'value': True, 'description': 'All transitions are valid.'}\n",
      "✅ Valid dialogue generated for topic: insurance policy purchase\n"
     ]
    },
    {
     "name": "stderr",
     "output_type": "stream",
     "text": [
      "INFO:httpx:HTTP Request: POST http://193.187.173.33:8002/api/providers/openai/v1/chat/completions \"HTTP/1.1 200 OK\"\n",
      "INFO:httpx:HTTP Request: POST http://193.187.173.33:8002/api/providers/openai/v1/chat/completions \"HTTP/1.1 200 OK\"\n",
      "INFO:httpx:HTTP Request: POST http://193.187.173.33:8002/api/providers/openai/v1/chat/completions \"HTTP/1.1 200 OK\"\n",
      "INFO:httpx:HTTP Request: POST http://193.187.173.33:8002/api/providers/openai/v1/chat/completions \"HTTP/1.1 200 OK\"\n",
      "INFO:httpx:HTTP Request: POST http://193.187.173.33:8002/api/providers/openai/v1/chat/completions \"HTTP/1.1 200 OK\"\n",
      "INFO:httpx:HTTP Request: POST http://193.187.173.33:8002/api/providers/openai/v1/chat/completions \"HTTP/1.1 200 OK\"\n",
      "INFO:httpx:HTTP Request: POST http://193.187.173.33:8002/api/providers/openai/v1/chat/completions \"HTTP/1.1 200 OK\"\n",
      "INFO:httpx:HTTP Request: POST http://193.187.173.33:8002/api/providers/openai/v1/chat/completions \"HTTP/1.1 200 OK\"\n",
      "INFO:httpx:HTTP Request: POST http://193.187.173.33:8002/api/providers/openai/v1/chat/completions \"HTTP/1.1 200 OK\"\n",
      "INFO:httpx:HTTP Request: POST http://193.187.173.33:8002/api/providers/openai/v1/chat/completions \"HTTP/1.1 200 OK\"\n"
     ]
    },
    {
     "name": "stdout",
     "output_type": "stream",
     "text": [
      "Topic: pet grooming service\n",
      "Validation result: {'value': True, 'description': 'All transitions are valid.'}\n",
      "✅ Valid dialogue generated for topic: pet grooming service\n"
     ]
    },
    {
     "name": "stderr",
     "output_type": "stream",
     "text": [
      "INFO:httpx:HTTP Request: POST http://193.187.173.33:8002/api/providers/openai/v1/chat/completions \"HTTP/1.1 200 OK\"\n"
     ]
    },
    {
     "name": "stdout",
     "output_type": "stream",
     "text": [
      "Error processing moving service arrangement: None cannot be a node\n"
     ]
    },
    {
     "name": "stderr",
     "output_type": "stream",
     "text": [
      "INFO:httpx:HTTP Request: POST http://193.187.173.33:8002/api/providers/openai/v1/chat/completions \"HTTP/1.1 200 OK\"\n",
      "INFO:httpx:HTTP Request: POST http://193.187.173.33:8002/api/providers/openai/v1/chat/completions \"HTTP/1.1 200 OK\"\n",
      "INFO:httpx:HTTP Request: POST http://193.187.173.33:8002/api/providers/openai/v1/chat/completions \"HTTP/1.1 200 OK\"\n",
      "INFO:httpx:HTTP Request: POST http://193.187.173.33:8002/api/providers/openai/v1/chat/completions \"HTTP/1.1 200 OK\"\n",
      "INFO:httpx:HTTP Request: POST http://193.187.173.33:8002/api/providers/openai/v1/chat/completions \"HTTP/1.1 200 OK\"\n",
      "INFO:httpx:HTTP Request: POST http://193.187.173.33:8002/api/providers/openai/v1/chat/completions \"HTTP/1.1 429 Too Many Requests\"\n",
      "INFO:openai._base_client:Retrying request to /chat/completions in 0.385124 seconds\n",
      "INFO:httpx:HTTP Request: POST http://193.187.173.33:8002/api/providers/openai/v1/chat/completions \"HTTP/1.1 429 Too Many Requests\"\n",
      "INFO:openai._base_client:Retrying request to /chat/completions in 0.829101 seconds\n",
      "INFO:httpx:HTTP Request: POST http://193.187.173.33:8002/api/providers/openai/v1/chat/completions \"HTTP/1.1 429 Too Many Requests\"\n"
     ]
    },
    {
     "name": "stdout",
     "output_type": "stream",
     "text": [
      "Error processing home cleaning service: Error code: 429 - {'error': {'code': '429', 'message': '[BricksLLM] too many requests', 'type': ''}}\n",
      "\n",
      "Saved 5 valid dialogues to: generated_datasets/valid_dialogues_20241211_153057.json\n"
     ]
    }
   ],
   "source": [
    "# Run generation\n",
    "topics = [\n",
    "    \"medical appointment scheduling\",\n",
    "    \"food delivery service\",\n",
    "    \"fitness membership registration\",\n",
    "    \"apartment rental application\",\n",
    "    \"tech support assistance\",\n",
    "    \"travel package booking\",\n",
    "    \"insurance policy purchase\",\n",
    "    \"pet grooming service\",\n",
    "    \"moving service arrangement\",\n",
    "    \"home cleaning service\"\n",
    "]\n",
    "\n",
    "\n",
    "generate_valid_dialogues(topics)"
   ]
  },
  {
   "cell_type": "code",
   "execution_count": 5,
   "metadata": {},
   "outputs": [
    {
     "name": "stdout",
     "output_type": "stream",
     "text": [
      "\n",
      "Processing file: valid_dialogues_20241211_153057.json\n",
      "================================================================================\n",
      "\n",
      "Topic: medical appointment scheduling\n",
      "\n",
      "Dialogue 1:\n",
      "- text='Welcome to our clinic! Would you like to schedule a medical appointment?' participant='assistant'\n",
      "- text='No, thank you.' participant='user'\n",
      "- text='Alright, let me know if you need anything else. Have a great day!' participant='assistant'\n",
      "\n",
      "Dialogue 2:\n",
      "- text='Welcome to our clinic! Would you like to schedule a medical appointment?' participant='assistant'\n",
      "- text='Yes, I would like to schedule a medical appointment.' participant='user'\n",
      "- text='What type of appointment would you like to schedule? (e.g., General Checkup, Specialist Consultation)' participant='assistant'\n",
      "- text='I want a Specialist Consultation.' participant='user'\n",
      "- text='Please provide your preferred date and time.' participant='assistant'\n",
      "- text='Next Monday at 10 AM.' participant='user'\n",
      "- text='Please provide your full name.' participant='assistant'\n",
      "- text='John Doe' participant='user'\n",
      "- text='Thank you, {Name}. Your appointment for a {Type} is scheduled on {Date and Time}. Would you like to do anything else?' participant='assistant'\n",
      "- text=\"No, that's all.\" participant='user'\n",
      "- text='Alright, let me know if you need anything else. Have a great day!' participant='assistant'\n",
      "--------------------------------------------------\n",
      "\n",
      "Topic: food delivery service\n",
      "\n",
      "Dialogue 1:\n",
      "- text='Welcome to QuickBite! What would you like to order today?' participant='assistant'\n",
      "- text='I want to place an order' participant='user'\n",
      "- text='What would you like to eat?' participant='assistant'\n",
      "- text=\"I'd like a burger\" participant='user'\n",
      "- text='Would you like any drinks with that?' participant='assistant'\n",
      "- text='Yes, I would like a drink' participant='user'\n",
      "- text='Please provide your delivery address.' participant='assistant'\n",
      "- text='123 Main St' participant='user'\n",
      "- text='Your order has been placed. Would you like anything else?' participant='assistant'\n",
      "- text='I want to change my order' participant='user'\n",
      "- text='Sure, what would you like to change?' participant='assistant'\n",
      "- text='Can I select a different item?' participant='user'\n",
      "--------------------------------------------------\n",
      "\n",
      "Topic: apartment rental application\n",
      "\n",
      "Dialogue 1:\n",
      "- text='Welcome to the Apartment Rental Application. Can I get your full name to start?' participant='assistant'\n",
      "- text=\"I'd like to apply, my name is Jane Smith\" participant='user'\n",
      "- text='What is your desired move-in date?' participant='assistant'\n",
      "- text=\"I'd like to move in on July 15\" participant='user'\n",
      "- text='What is your preferred apartment size or number of bedrooms?' participant='assistant'\n",
      "- text='One bedroom' participant='user'\n",
      "- text='Do you have any specific location preferences or neighborhoods in mind?' participant='assistant'\n",
      "- text='Downtown' participant='user'\n",
      "- text='Would you like to submit your application now?' participant='assistant'\n",
      "- text='Yes' participant='user'\n",
      "- text='Thank you! Your application has been submitted.' participant='assistant'\n",
      "--------------------------------------------------\n",
      "\n",
      "Topic: insurance policy purchase\n",
      "\n",
      "Dialogue 1:\n",
      "- text='Welcome to ABC Insurance! How can I assist you with your insurance needs today?' participant='assistant'\n",
      "- text='I want to buy insurance' participant='user'\n",
      "- text='What type of insurance are you interested in? (e.g., auto, home, life)' participant='assistant'\n",
      "- text='life' participant='user'\n",
      "- text='Please provide some details about your {insurance_type} insurance needs.' participant='assistant'\n",
      "- text='I want to modify my choice' participant='user'\n",
      "- text='Which part would you like to modify?' participant='assistant'\n",
      "- text='I want to change the insurance type' participant='user'\n",
      "\n",
      "Dialogue 2:\n",
      "- text='Welcome to ABC Insurance! How can I assist you with your insurance needs today?' participant='assistant'\n",
      "- text='I want to buy insurance' participant='user'\n",
      "- text='What type of insurance are you interested in? (e.g., auto, home, life)' participant='assistant'\n",
      "- text='life' participant='user'\n",
      "- text='Please provide some details about your {insurance_type} insurance needs.' participant='assistant'\n",
      "- text='Here are my details' participant='user'\n",
      "- text='Based on your information, your estimated quote is $500 per year. Would you like to proceed?' participant='assistant'\n",
      "- text='I want to change my details' participant='user'\n",
      "- text='Which part would you like to modify?' participant='assistant'\n",
      "- text='I want to change the insurance type' participant='user'\n",
      "--------------------------------------------------\n",
      "\n",
      "Topic: pet grooming service\n",
      "\n",
      "Dialogue 1:\n",
      "- text='Welcome to our pet grooming service! How can I assist you today?' participant='assistant'\n",
      "- text=\"I don't need to proceed\" participant='user'\n",
      "- text='Thank you! Have a great day.' participant='assistant'\n",
      "\n",
      "Dialogue 2:\n",
      "- text='Welcome to our pet grooming service! How can I assist you today?' participant='assistant'\n",
      "- text='I want to make an appointment' participant='user'\n",
      "- text='What type of pet do you have?' participant='assistant'\n",
      "- text='I changed my mind' participant='user'\n",
      "- text='Thank you! Have a great day.' participant='assistant'\n",
      "\n",
      "Dialogue 3:\n",
      "- text='Welcome to our pet grooming service! How can I assist you today?' participant='assistant'\n",
      "- text='I want to make an appointment' participant='user'\n",
      "- text='What type of pet do you have?' participant='assistant'\n",
      "- text='Other' participant='user'\n",
      "- text='What breed and size is your pet?' participant='assistant'\n",
      "- text='Actually, I have a cat' participant='user'\n",
      "- text='What type of pet do you have?' participant='assistant'\n",
      "- text='I changed my mind' participant='user'\n",
      "- text='Thank you! Have a great day.' participant='assistant'\n",
      "\n",
      "Dialogue 4:\n",
      "- text='Welcome to our pet grooming service! How can I assist you today?' participant='assistant'\n",
      "- text='I want to make an appointment' participant='user'\n",
      "- text='What type of pet do you have?' participant='assistant'\n",
      "- text='Other' participant='user'\n",
      "- text='What breed and size is your pet?' participant='assistant'\n",
      "- text='Siamese, small size' participant='user'\n",
      "- text='When would you like to schedule the appointment?' participant='assistant'\n",
      "- text='I want to choose another date' participant='user'\n",
      "- text='What type of pet do you have?' participant='assistant'\n",
      "- text='I changed my mind' participant='user'\n",
      "- text='Thank you! Have a great day.' participant='assistant'\n",
      "\n",
      "Dialogue 5:\n",
      "- text='Welcome to our pet grooming service! How can I assist you today?' participant='assistant'\n",
      "- text='I want to make an appointment' participant='user'\n",
      "- text='What type of pet do you have?' participant='assistant'\n",
      "- text='Other' participant='user'\n",
      "- text='What breed and size is your pet?' participant='assistant'\n",
      "- text='Siamese, small size' participant='user'\n",
      "- text='When would you like to schedule the appointment?' participant='assistant'\n",
      "- text='Tomorrow' participant='user'\n",
      "- text='Your appointment is scheduled. Is there anything else I can help you with?' participant='assistant'\n",
      "- text='No, thank you' participant='user'\n",
      "- text='Thank you! Have a great day.' participant='assistant'\n",
      "--------------------------------------------------\n"
     ]
    }
   ],
   "source": [
    "from chatsky_llm_autoconfig.algorithms.dialogue_generation import DialogueSampler\n",
    "from chatsky_llm_autoconfig.graph import Graph\n",
    "import json\n",
    "from pathlib import Path\n",
    "\n",
    "# Initialize sampler\n",
    "sampler = DialogueSampler()\n",
    "\n",
    "# Get all JSON files in the directory\n",
    "dataset_dir = Path(\"generated_datasets\")\n",
    "json_files = list(dataset_dir.glob(\"*.json\"))\n",
    "\n",
    "for json_path in json_files:\n",
    "    print(f\"\\nProcessing file: {json_path.name}\")\n",
    "    print(\"=\" * 80)\n",
    "    \n",
    "    # Load JSON file\n",
    "    with open(json_path, \"r\") as f:\n",
    "        data = json.load(f)\n",
    "\n",
    "    # Process each graph\n",
    "    for entry in data:\n",
    "        print(f\"\\nTopic: {entry['topic']}\")\n",
    "        graph = Graph(entry[\"graph\"])\n",
    "        \n",
    "        # Sample dialogues\n",
    "        dialogues = sampler.invoke(graph, 1, -1)\n",
    "        \n",
    "        # Print all dialogues\n",
    "        for i, dialogue in enumerate(dialogues, 1):\n",
    "            print(f\"\\nDialogue {i}:\")\n",
    "            for message in dialogue.messages:\n",
    "                print(f\"- {message}\")\n",
    "            \n",
    "        print(\"-\" * 50)"
   ]
  }
 ],
 "metadata": {
  "kernelspec": {
   "display_name": ".venv",
   "language": "python",
   "name": "python3"
  },
  "language_info": {
   "codemirror_mode": {
    "name": "ipython",
    "version": 3
   },
   "file_extension": ".py",
   "mimetype": "text/x-python",
   "name": "python",
   "nbconvert_exporter": "python",
   "pygments_lexer": "ipython3",
   "version": "3.12.7"
  }
 },
 "nbformat": 4,
 "nbformat_minor": 2
}
