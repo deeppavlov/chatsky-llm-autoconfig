{
 "cells": [
  {
   "cell_type": "code",
   "execution_count": 1,
   "metadata": {},
   "outputs": [],
   "source": [
    "import sys \n",
    "import json\n",
    "# Insert the path of modules folder  \n",
    "sys.path.insert(0, \"~/Документы/DeepPavlov/dff-llm-integration\") "
   ]
  },
  {
   "cell_type": "code",
   "execution_count": 2,
   "metadata": {},
   "outputs": [],
   "source": [
    "import networkx as nx\n",
    "import matplotlib.pyplot as plt\n",
    "from graph_src.graph import TYPES_OF_GRAPH, Graph\n",
    "from graph_src.utils_functions import do_mapping\n",
    "from metric.metric_calc import jaccard_nodes, jaccard_edges\n",
    "from metric.triplet_matching import triplet_match as match\n"
   ]
  },
  {
   "cell_type": "markdown",
   "metadata": {},
   "source": [
    "## Базовая модель дополнения графа\n",
    "\n",
    "#### В случае корректного дополнения"
   ]
  },
  {
   "cell_type": "code",
   "execution_count": 32,
   "metadata": {},
   "outputs": [],
   "source": [
    "with open('./correct_subgraph_metric_calc/initial_graph.json', 'r') as f:\n",
    "    ground_truth = json.load(f)\n",
    "\n",
    "with open('./correct_subgraph_metric_calc/gpt_response.json', 'r') as g:\n",
    "    generated = json.load(g)\n",
    "\n",
    "with open('./correct_subgraph_metric_calc/graph_to_give_gpt.json', 'r') as g:\n",
    "    graph_to_reconstruct = json.load(g)"
   ]
  },
  {
   "cell_type": "code",
   "execution_count": 4,
   "metadata": {},
   "outputs": [],
   "source": [
    "ground_truth_graph = Graph(ground_truth, TYPES_OF_GRAPH.MULTI)\n",
    "generated_graph = Graph(generated, TYPES_OF_GRAPH.MULTI)\n",
    "need_complement_graph =  Graph(graph_to_reconstruct, TYPES_OF_GRAPH.MULTI)\n",
    "\n",
    "G1 = ground_truth_graph.nx_graph\n",
    "G2 = generated_graph.nx_graph\n",
    "G3 = need_complement_graph.nx_graph"
   ]
  },
  {
   "cell_type": "code",
   "execution_count": 5,
   "metadata": {},
   "outputs": [
    {
     "name": "stdout",
     "output_type": "stream",
     "text": [
      "Graphs are isomorphic and correct\n"
     ]
    },
    {
     "data": {
      "text/plain": [
       "{2: 2, 4: 3, 5: 4, 6: 5, 1: 1, 3: 8, 7: 6, 8: 7}"
      ]
     },
     "execution_count": 5,
     "metadata": {},
     "output_type": "execute_result"
    }
   ],
   "source": [
    "do_mapping(G1, G2)"
   ]
  },
  {
   "cell_type": "code",
   "execution_count": 6,
   "metadata": {},
   "outputs": [
    {
     "name": "stdout",
     "output_type": "stream",
     "text": [
      "The nodes of edges 3->2 and 4->2 has something in common, but not complete match: Sources: ['Added it to your cart. Anything else?'], ['Done. Anything else?']\n",
      "The nodes of edges 3->2 and 4->2 has something in common, but not complete match: Targets: ['Which books would you like to order?', 'What would you like to buy?'], ['Which books would you like to order?', 'What would you like to buy?']\n",
      "The nodes of edges 3->7 and 4->6 has something in common, but not complete match: Sources: ['Added it to your cart. Anything else?'], ['Done. Anything else?']\n",
      "The nodes of edges 3->7 and 4->6 has something in common, but not complete match: Targets: ['Okay, everything is done, you can go to cart and finish the order.'], ['Okay, everything is done, you can go to cart and finish the order.']\n",
      "The nodes of edges 3->7 and 5->6 has something in common, but not complete match: Sources: ['Added it to your cart. Anything else?'], ['Okay. Anything else?']\n",
      "The nodes of edges 3->7 and 5->6 has something in common, but not complete match: Targets: ['Okay, everything is done, you can go to cart and finish the order.'], ['Okay, everything is done, you can go to cart and finish the order.']\n",
      "The nodes of edges 5->7 and 5->6 has something in common, but not complete match: Sources: ['Done. Anything else?'], ['Okay. Anything else?']\n",
      "The nodes of edges 5->7 and 5->6 has something in common, but not complete match: Targets: ['Okay, everything is done, you can go to cart and finish the order.'], ['Okay, everything is done, you can go to cart and finish the order.']\n",
      "The nodes of edges 6->7 and 4->6 has something in common, but not complete match: Sources: ['Okay. Anything else?'], ['Done. Anything else?']\n",
      "The nodes of edges 6->7 and 4->6 has something in common, but not complete match: Targets: ['Okay, everything is done, you can go to cart and finish the order.'], ['Okay, everything is done, you can go to cart and finish the order.']\n"
     ]
    }
   ],
   "source": [
    "node_mapping, edge_mapping = match(G1, G3)"
   ]
  },
  {
   "cell_type": "code",
   "execution_count": 7,
   "metadata": {},
   "outputs": [
    {
     "data": {
      "text/plain": [
       "{'1->2': '1->2',\n",
       " '2->3': None,\n",
       " '2->4': '2->3',\n",
       " '3->2': None,\n",
       " '3->7': None,\n",
       " '4->5': '3->4',\n",
       " '4->6': '3->5',\n",
       " '5->2': '4->2',\n",
       " '5->7': '4->6',\n",
       " '6->2': '5->2',\n",
       " '6->7': '5->6',\n",
       " '7->8': '6->7'}"
      ]
     },
     "execution_count": 7,
     "metadata": {},
     "output_type": "execute_result"
    }
   ],
   "source": [
    "edge_mapping"
   ]
  },
  {
   "cell_type": "code",
   "execution_count": null,
   "metadata": {},
   "outputs": [],
   "source": [
    "node_mapping, edge_mapping = match(G1, G2)"
   ]
  },
  {
   "cell_type": "code",
   "execution_count": 19,
   "metadata": {},
   "outputs": [],
   "source": [
    "values_edges, indices_edges, matrix_edges = jaccard_edges(G1.edges(data=True), G2.edges(data=True), verbose=False, return_matrix=True)\n",
    "values_nodes, indices_nodes, matrix_nodes = jaccard_nodes(G1.nodes(data=True), G2.nodes(data=True), verbose=False, return_matrix=True)"
   ]
  },
  {
   "cell_type": "code",
   "execution_count": 20,
   "metadata": {},
   "outputs": [
    {
     "data": {
      "text/plain": [
       "{2: 2, 4: 3, 5: 4, 6: 5, 1: 1, 3: 8, 7: 6, 8: 7}"
      ]
     },
     "execution_count": 20,
     "metadata": {},
     "output_type": "execute_result"
    }
   ],
   "source": [
    "node_mapping"
   ]
  },
  {
   "cell_type": "code",
   "execution_count": 21,
   "metadata": {},
   "outputs": [
    {
     "data": {
      "text/plain": [
       "{'1->2': '1->2',\n",
       " '2->3': '2->8',\n",
       " '2->4': '2->3',\n",
       " '3->2': '8->2',\n",
       " '3->7': '8->6',\n",
       " '4->5': '3->4',\n",
       " '4->6': '3->5',\n",
       " '5->2': '4->2',\n",
       " '5->7': '4->6',\n",
       " '6->2': '5->2',\n",
       " '6->7': '5->6',\n",
       " '7->8': '6->7'}"
      ]
     },
     "execution_count": 21,
     "metadata": {},
     "output_type": "execute_result"
    }
   ],
   "source": [
    "edge_mapping"
   ]
  },
  {
   "cell_type": "markdown",
   "metadata": {},
   "source": [
    "### В случае некорректного дополнения"
   ]
  },
  {
   "cell_type": "code",
   "execution_count": 33,
   "metadata": {},
   "outputs": [],
   "source": [
    "with open('./incorrect_subgraph_metric_calc/initial_graph.json', 'r') as f:\n",
    "    ground_truth = json.load(f)\n",
    "\n",
    "with open('./incorrect_subgraph_metric_calc/gpt_response.json', 'r') as g:\n",
    "    generated = json.load(g)\n",
    "\n",
    "with open('./incorrect_subgraph_metric_calc/graph_to_give_gpt.json', 'r') as g:\n",
    "    graph_to_reconstruct = json.load(g)"
   ]
  },
  {
   "cell_type": "code",
   "execution_count": 34,
   "metadata": {},
   "outputs": [],
   "source": [
    "ground_truth_graph = Graph(ground_truth, TYPES_OF_GRAPH.MULTI)\n",
    "generated_graph = Graph(generated, TYPES_OF_GRAPH.MULTI)\n",
    "need_complement_graph =  Graph(graph_to_reconstruct, TYPES_OF_GRAPH.MULTI)\n",
    "\n",
    "G1 = ground_truth_graph.nx_graph\n",
    "G2 = generated_graph.nx_graph\n",
    "G3 = need_complement_graph.nx_graph"
   ]
  },
  {
   "cell_type": "code",
   "execution_count": 10,
   "metadata": {},
   "outputs": [],
   "source": [
    "values_edges, indices_edges, matrix_edges = jaccard_edges(G1.edges(data=True), G2.edges(data=True), verbose=False, return_matrix=True)\n",
    "values_nodes, indices_nodes, matrix_nodes = jaccard_nodes(G1.nodes(data=True), G2.nodes(data=True), verbose=False, return_matrix=True)"
   ]
  },
  {
   "cell_type": "code",
   "execution_count": null,
   "metadata": {},
   "outputs": [],
   "source": [
    "do_mapping(G1, G2)"
   ]
  },
  {
   "cell_type": "code",
   "execution_count": 35,
   "metadata": {},
   "outputs": [
    {
     "name": "stdout",
     "output_type": "stream",
     "text": [
      "The nodes of edges 3->2 and 4->2 has something in common, but not complete match: Sources: ['Added it to your cart. Anything else?'], ['Done. Anything else?']\n",
      "The nodes of edges 3->2 and 4->2 has something in common, but not complete match: Targets: ['Which books would you like to order?', 'What would you like to buy?'], ['Which books would you like to order?', 'What would you like to buy?']\n",
      "The nodes of edges 3->7 and 4->6 has something in common, but not complete match: Sources: ['Added it to your cart. Anything else?'], ['Done. Anything else?']\n",
      "The nodes of edges 3->7 and 4->6 has something in common, but not complete match: Targets: ['Okay, everything is done, you can go to cart and finish the order.'], ['Okay, everything is done, you can go to cart and finish the order.']\n",
      "The nodes of edges 3->7 and 5->6 has something in common, but not complete match: Sources: ['Added it to your cart. Anything else?'], ['Okay. Anything else?']\n",
      "The nodes of edges 3->7 and 5->6 has something in common, but not complete match: Targets: ['Okay, everything is done, you can go to cart and finish the order.'], ['Okay, everything is done, you can go to cart and finish the order.']\n",
      "The nodes of edges 6->7 and 4->6 has something in common, but not complete match: Sources: ['Okay. Anything else?'], ['Done. Anything else?']\n",
      "The nodes of edges 6->7 and 4->6 has something in common, but not complete match: Targets: ['Okay, everything is done, you can go to cart and finish the order.'], ['Okay, everything is done, you can go to cart and finish the order.']\n"
     ]
    }
   ],
   "source": [
    "node_mapping, edge_mapping = match(G1, G3)"
   ]
  },
  {
   "cell_type": "code",
   "execution_count": 36,
   "metadata": {},
   "outputs": [
    {
     "data": {
      "text/plain": [
       "{1: 1, 2: 2, 3: None, 4: 3, 5: 4, 6: 5, 7: 6, 8: 7}"
      ]
     },
     "execution_count": 36,
     "metadata": {},
     "output_type": "execute_result"
    }
   ],
   "source": [
    "node_mapping"
   ]
  },
  {
   "cell_type": "code",
   "execution_count": 37,
   "metadata": {},
   "outputs": [
    {
     "data": {
      "text/plain": [
       "{'1->2': '1->2',\n",
       " '2->3': None,\n",
       " '2->4': '2->3',\n",
       " '3->2': None,\n",
       " '3->7': None,\n",
       " '4->5': '3->4',\n",
       " '4->6': '3->5',\n",
       " '5->2': None,\n",
       " '5->7': None,\n",
       " '6->2': None,\n",
       " '6->7': '5->6',\n",
       " '7->8': '6->7'}"
      ]
     },
     "execution_count": 37,
     "metadata": {},
     "output_type": "execute_result"
    }
   ],
   "source": [
    "edge_mapping"
   ]
  },
  {
   "cell_type": "code",
   "execution_count": 38,
   "metadata": {},
   "outputs": [
    {
     "name": "stdout",
     "output_type": "stream",
     "text": [
      "The nodes of edges 3->2 and 8->6 has something in common, but not complete match: Sources: ['Added it to your cart. Anything else?'], ['Added it to your cart. Anything else?']\n",
      "The nodes of edges 3->2 and 8->6 has something in common, but not complete match: Targets: ['Which books would you like to order?', 'What would you like to buy?'], ['Okay, everything is done, you can go to cart and finish the order.']\n",
      "The nodes of edges 3->7 and 5->6 has something in common, but not complete match: Sources: ['Added it to your cart. Anything else?'], ['Okay. Anything else?']\n",
      "The nodes of edges 3->7 and 5->6 has something in common, but not complete match: Targets: ['Okay, everything is done, you can go to cart and finish the order.'], ['Okay, everything is done, you can go to cart and finish the order.']\n"
     ]
    }
   ],
   "source": [
    "node_mapping, edge_mapping = match(G1, G2)"
   ]
  },
  {
   "cell_type": "code",
   "execution_count": 39,
   "metadata": {},
   "outputs": [
    {
     "data": {
      "text/plain": [
       "{1: 1, 2: 2, 3: 8, 4: 3, 5: 4, 6: 5, 7: 6, 8: 7}"
      ]
     },
     "execution_count": 39,
     "metadata": {},
     "output_type": "execute_result"
    }
   ],
   "source": [
    "node_mapping"
   ]
  },
  {
   "cell_type": "code",
   "execution_count": 40,
   "metadata": {},
   "outputs": [
    {
     "data": {
      "text/plain": [
       "{'1->2': '1->2',\n",
       " '2->3': '2->8',\n",
       " '2->4': '2->3',\n",
       " '3->2': None,\n",
       " '3->7': None,\n",
       " '4->5': '3->4',\n",
       " '4->6': '3->5',\n",
       " '5->2': '4->2',\n",
       " '5->7': '4->6',\n",
       " '6->2': '5->2',\n",
       " '6->7': '5->6',\n",
       " '7->8': '6->7'}"
      ]
     },
     "execution_count": 40,
     "metadata": {},
     "output_type": "execute_result"
    }
   ],
   "source": [
    "edge_mapping"
   ]
  },
  {
   "cell_type": "markdown",
   "metadata": {},
   "source": [
    "### еще тест"
   ]
  },
  {
   "cell_type": "code",
   "execution_count": 41,
   "metadata": {},
   "outputs": [],
   "source": [
    "with open('./incorrect_subgraph_metric_calc_2/initial_graph.json', 'r') as f:\n",
    "    ground_truth = json.load(f)\n",
    "\n",
    "with open('./incorrect_subgraph_metric_calc_2/gpt_response.json', 'r') as g:\n",
    "    generated = json.load(g)\n",
    "\n",
    "with open('./incorrect_subgraph_metric_calc_2/graph_to_give_gpt.json', 'r') as g:\n",
    "    graph_to_reconstruct = json.load(g)"
   ]
  },
  {
   "cell_type": "code",
   "execution_count": 42,
   "metadata": {},
   "outputs": [],
   "source": [
    "ground_truth_graph = Graph(ground_truth, TYPES_OF_GRAPH.MULTI)\n",
    "generated_graph = Graph(generated, TYPES_OF_GRAPH.MULTI)\n",
    "need_complement_graph =  Graph(graph_to_reconstruct, TYPES_OF_GRAPH.MULTI)\n",
    "\n",
    "G1 = ground_truth_graph.nx_graph\n",
    "G2 = generated_graph.nx_graph\n",
    "G3 = need_complement_graph.nx_graph\n"
   ]
  },
  {
   "cell_type": "code",
   "execution_count": 45,
   "metadata": {},
   "outputs": [
    {
     "name": "stdout",
     "output_type": "stream",
     "text": [
      "The nodes of edges 3->2 and 5->2 has something in common, but not complete match: Sources: ['Added it to your cart. Anything else?'], ['Done. Anything else?']\n",
      "The nodes of edges 3->2 and 5->2 has something in common, but not complete match: Targets: ['Which books would you like to order?', 'What would you like to buy?'], ['Which books would you like to order?', 'What would you like to buy?']\n",
      "The nodes of edges 3->7 and 5->6 has something in common, but not complete match: Sources: ['Added it to your cart. Anything else?'], ['Done. Anything else?']\n",
      "The nodes of edges 3->7 and 5->6 has something in common, but not complete match: Targets: ['Okay, everything is done, you can go to cart and finish the order.'], ['Okay, everything is done, you can go to cart and finish the order.']\n",
      "The nodes of edges 5->2 and 3->2 has something in common, but not complete match: Sources: ['Done. Anything else?'], ['Added it to your cart. Anything else?']\n",
      "The nodes of edges 5->2 and 3->2 has something in common, but not complete match: Targets: ['Which books would you like to order?', 'What would you like to buy?'], ['Which books would you like to order?', 'What would you like to buy?']\n",
      "The nodes of edges 5->7 and 3->6 has something in common, but not complete match: Sources: ['Done. Anything else?'], ['Added it to your cart. Anything else?']\n",
      "The nodes of edges 5->7 and 3->6 has something in common, but not complete match: Targets: ['Okay, everything is done, you can go to cart and finish the order.'], ['Okay, everything is done, you can go to cart and finish the order.']\n",
      "The nodes of edges 6->7 and 3->6 has something in common, but not complete match: Sources: ['Okay. Anything else?'], ['Added it to your cart. Anything else?']\n",
      "The nodes of edges 6->7 and 3->6 has something in common, but not complete match: Targets: ['Okay, everything is done, you can go to cart and finish the order.'], ['Okay, everything is done, you can go to cart and finish the order.']\n",
      "The nodes of edges 6->7 and 5->6 has something in common, but not complete match: Sources: ['Okay. Anything else?'], ['Done. Anything else?']\n",
      "The nodes of edges 6->7 and 5->6 has something in common, but not complete match: Targets: ['Okay, everything is done, you can go to cart and finish the order.'], ['Okay, everything is done, you can go to cart and finish the order.']\n"
     ]
    }
   ],
   "source": [
    "node_mapping, edge_mapping = match(G1, G3)"
   ]
  },
  {
   "cell_type": "code",
   "execution_count": 46,
   "metadata": {},
   "outputs": [
    {
     "data": {
      "text/plain": [
       "{1: 1, 2: 2, 3: 3, 4: 4, 5: 5, 6: None, 7: 6, 8: 7}"
      ]
     },
     "execution_count": 46,
     "metadata": {},
     "output_type": "execute_result"
    }
   ],
   "source": [
    "node_mapping"
   ]
  },
  {
   "cell_type": "code",
   "execution_count": 47,
   "metadata": {},
   "outputs": [
    {
     "data": {
      "text/plain": [
       "{'1->2': '1->2',\n",
       " '2->3': '2->3',\n",
       " '2->4': '2->4',\n",
       " '3->2': '3->2',\n",
       " '3->7': '3->6',\n",
       " '4->5': '4->5',\n",
       " '4->6': None,\n",
       " '5->2': '5->2',\n",
       " '5->7': '5->6',\n",
       " '6->2': None,\n",
       " '6->7': None,\n",
       " '7->8': '6->7'}"
      ]
     },
     "execution_count": 47,
     "metadata": {},
     "output_type": "execute_result"
    }
   ],
   "source": [
    "edge_mapping"
   ]
  },
  {
   "cell_type": "code",
   "execution_count": 43,
   "metadata": {},
   "outputs": [
    {
     "name": "stdout",
     "output_type": "stream",
     "text": [
      "Graphs are isomorphic\n",
      "The nodes of edges 3->2 and 5->2 has something in common, but not complete match: Sources: ['Added it to your cart. Anything else?'], ['Done. Anything else?']\n",
      "The nodes of edges 3->2 and 5->2 has something in common, but not complete match: Targets: ['Which books would you like to order?', 'What would you like to buy?'], ['Which books would you like to order?', 'What would you like to buy?']\n",
      "The nodes of edges 3->7 and 5->6 has something in common, but not complete match: Sources: ['Added it to your cart. Anything else?'], ['Done. Anything else?']\n",
      "The nodes of edges 3->7 and 5->6 has something in common, but not complete match: Targets: ['Okay, everything is done, you can go to cart and finish the order.'], ['Okay, everything is done, you can go to cart and finish the order.']\n",
      "The nodes of edges 3->7 and 8->6 has something in common, but not complete match: Sources: ['Added it to your cart. Anything else?'], ['Okay. Anything else?']\n",
      "The nodes of edges 3->7 and 8->6 has something in common, but not complete match: Targets: ['Okay, everything is done, you can go to cart and finish the order.'], ['Okay, everything is done, you can go to cart and finish the order.']\n",
      "The nodes of edges 5->2 and 3->2 has something in common, but not complete match: Sources: ['Done. Anything else?'], ['Added it to your cart. Anything else?']\n",
      "The nodes of edges 5->2 and 3->2 has something in common, but not complete match: Targets: ['Which books would you like to order?', 'What would you like to buy?'], ['Which books would you like to order?', 'What would you like to buy?']\n",
      "The nodes of edges 5->7 and 3->6 has something in common, but not complete match: Sources: ['Done. Anything else?'], ['Added it to your cart. Anything else?']\n",
      "The nodes of edges 5->7 and 3->6 has something in common, but not complete match: Targets: ['Okay, everything is done, you can go to cart and finish the order.'], ['Okay, everything is done, you can go to cart and finish the order.']\n",
      "The nodes of edges 5->7 and 8->6 has something in common, but not complete match: Sources: ['Done. Anything else?'], ['Okay. Anything else?']\n",
      "The nodes of edges 5->7 and 8->6 has something in common, but not complete match: Targets: ['Okay, everything is done, you can go to cart and finish the order.'], ['Okay, everything is done, you can go to cart and finish the order.']\n",
      "The nodes of edges 6->7 and 3->6 has something in common, but not complete match: Sources: ['Okay. Anything else?'], ['Added it to your cart. Anything else?']\n",
      "The nodes of edges 6->7 and 3->6 has something in common, but not complete match: Targets: ['Okay, everything is done, you can go to cart and finish the order.'], ['Okay, everything is done, you can go to cart and finish the order.']\n",
      "The nodes of edges 6->7 and 5->6 has something in common, but not complete match: Sources: ['Okay. Anything else?'], ['Done. Anything else?']\n",
      "The nodes of edges 6->7 and 5->6 has something in common, but not complete match: Targets: ['Okay, everything is done, you can go to cart and finish the order.'], ['Okay, everything is done, you can go to cart and finish the order.']\n"
     ]
    }
   ],
   "source": [
    "node_mapping, edge_mapping = match(G1, G2)"
   ]
  },
  {
   "cell_type": "code",
   "execution_count": 31,
   "metadata": {},
   "outputs": [
    {
     "name": "stdout",
     "output_type": "stream",
     "text": [
      "Graphs are isomorphic and correct\n"
     ]
    },
    {
     "data": {
      "text/plain": [
       "{2: 2, 4: 4, 5: 8, 6: 5, 1: 1, 3: 3, 7: 6, 8: 7}"
      ]
     },
     "execution_count": 31,
     "metadata": {},
     "output_type": "execute_result"
    }
   ],
   "source": [
    "do_mapping(G1, G2)"
   ]
  },
  {
   "cell_type": "code",
   "execution_count": 44,
   "metadata": {},
   "outputs": [
    {
     "data": {
      "text/plain": [
       "{'1->2': '1->2',\n",
       " '2->3': '2->3',\n",
       " '2->4': '2->4',\n",
       " '3->2': '3->2',\n",
       " '3->7': '3->6',\n",
       " '4->5': '4->5',\n",
       " '4->6': '4->8',\n",
       " '5->2': '5->2',\n",
       " '5->7': '5->6',\n",
       " '6->2': '8->2',\n",
       " '6->7': '8->6',\n",
       " '7->8': '6->7'}"
      ]
     },
     "execution_count": 44,
     "metadata": {},
     "output_type": "execute_result"
    }
   ],
   "source": [
    "edge_mapping"
   ]
  },
  {
   "cell_type": "markdown",
   "metadata": {},
   "source": [
    "### Цикл из которого убрали одно ребро "
   ]
  },
  {
   "cell_type": "code",
   "execution_count": 48,
   "metadata": {},
   "outputs": [],
   "source": [
    "with open('./cycle_with_missing_edge/initial_graph.json', 'r') as f:\n",
    "    ground_truth = json.load(f)\n",
    "\n",
    "with open('./cycle_with_missing_edge/gpt_response.json', 'r') as g:\n",
    "    generated = json.load(g)\n",
    "\n",
    "with open('./cycle_with_missing_edge/graph_to_give_gpt.json', 'r') as g:\n",
    "    graph_to_reconstruct = json.load(g)"
   ]
  },
  {
   "cell_type": "code",
   "execution_count": 49,
   "metadata": {},
   "outputs": [],
   "source": [
    "ground_truth_graph = Graph(ground_truth, TYPES_OF_GRAPH.MULTI)\n",
    "generated_graph = Graph(generated, TYPES_OF_GRAPH.MULTI)\n",
    "need_complement_graph =  Graph(graph_to_reconstruct, TYPES_OF_GRAPH.MULTI)\n",
    "\n",
    "G1 = ground_truth_graph.nx_graph\n",
    "G2 = generated_graph.nx_graph\n",
    "G3 = need_complement_graph.nx_graph\n"
   ]
  },
  {
   "cell_type": "code",
   "execution_count": 50,
   "metadata": {},
   "outputs": [],
   "source": [
    "node_mapping, edge_mapping = match(G1, G3)"
   ]
  },
  {
   "cell_type": "code",
   "execution_count": 51,
   "metadata": {},
   "outputs": [
    {
     "data": {
      "text/plain": [
       "{1: 1, 2: 2, 3: 3, 4: 4}"
      ]
     },
     "execution_count": 51,
     "metadata": {},
     "output_type": "execute_result"
    }
   ],
   "source": [
    "node_mapping"
   ]
  },
  {
   "cell_type": "code",
   "execution_count": 52,
   "metadata": {},
   "outputs": [
    {
     "data": {
      "text/plain": [
       "{'1->2': '1->2', '2->3': '2->3', '3->4': '3->4', '4->3': None, '4->1': '4->1'}"
      ]
     },
     "execution_count": 52,
     "metadata": {},
     "output_type": "execute_result"
    }
   ],
   "source": [
    "edge_mapping"
   ]
  },
  {
   "cell_type": "code",
   "execution_count": 53,
   "metadata": {},
   "outputs": [
    {
     "name": "stdout",
     "output_type": "stream",
     "text": [
      "The nodes of edges 4->3 and 4->5 has something in common, but not complete match: Sources: ['Something is wrong, can you please use other payment method or start order again'], ['Something is wrong, can you please use other payment method or start order again']\n",
      "The nodes of edges 4->3 and 4->5 has something in common, but not complete match: Targets: ['Please, enter the payment method you would like to use: cash or credit card.'], ['Please enter your new payment method.']\n"
     ]
    }
   ],
   "source": [
    "node_mapping, edge_mapping = match(G1, G2)"
   ]
  },
  {
   "cell_type": "code",
   "execution_count": 54,
   "metadata": {},
   "outputs": [
    {
     "data": {
      "text/plain": [
       "{1: 1, 2: 2, 3: 3, 4: 4}"
      ]
     },
     "execution_count": 54,
     "metadata": {},
     "output_type": "execute_result"
    }
   ],
   "source": [
    "node_mapping"
   ]
  },
  {
   "cell_type": "code",
   "execution_count": 55,
   "metadata": {},
   "outputs": [
    {
     "data": {
      "text/plain": [
       "{'1->2': '1->2', '2->3': '2->3', '3->4': '3->4', '4->3': None, '4->1': '4->1'}"
      ]
     },
     "execution_count": 55,
     "metadata": {},
     "output_type": "execute_result"
    }
   ],
   "source": [
    "edge_mapping"
   ]
  },
  {
   "cell_type": "markdown",
   "metadata": {},
   "source": [
    "### Цепочка из которой убрали ноду"
   ]
  },
  {
   "cell_type": "code",
   "execution_count": 56,
   "metadata": {},
   "outputs": [],
   "source": [
    "with open('./simple_chain/initial_graph.json', 'r') as f:\n",
    "    ground_truth = json.load(f)\n",
    "\n",
    "with open('./simple_chain/gpt_response.json', 'r') as g:\n",
    "    generated = json.load(g)\n",
    "\n",
    "with open('./simple_chain/graph_to_give_gpt.json', 'r') as g:\n",
    "    graph_to_reconstruct = json.load(g)"
   ]
  },
  {
   "cell_type": "code",
   "execution_count": 57,
   "metadata": {},
   "outputs": [],
   "source": [
    "ground_truth_graph = Graph(ground_truth, TYPES_OF_GRAPH.MULTI)\n",
    "generated_graph = Graph(generated, TYPES_OF_GRAPH.MULTI)\n",
    "need_complement_graph =  Graph(graph_to_reconstruct, TYPES_OF_GRAPH.MULTI)\n",
    "\n",
    "G1 = ground_truth_graph.nx_graph\n",
    "G2 = generated_graph.nx_graph\n",
    "G3 = need_complement_graph.nx_graph"
   ]
  },
  {
   "cell_type": "code",
   "execution_count": 58,
   "metadata": {},
   "outputs": [
    {
     "name": "stdout",
     "output_type": "stream",
     "text": [
      "The nodes of edges 3->4 and 3->4 has something in common, but not complete match: Sources: ['Please enter delivery method would you like to use? We currently offer pickup or home delivery.'], ['Please enter delivery method would you like to use? We currently offer pickup or home delivery.']\n",
      "The nodes of edges 3->4 and 3->4 has something in common, but not complete match: Targets: ['Please, enter the payment method you would like to use: cash or credit card.'], ['Done', 'Success']\n"
     ]
    }
   ],
   "source": [
    "node_mapping, edge_mapping = match(G1, G3)"
   ]
  },
  {
   "cell_type": "code",
   "execution_count": 59,
   "metadata": {},
   "outputs": [
    {
     "data": {
      "text/plain": [
       "{1: 1, 2: 2, 3: 3, 4: None, 5: None}"
      ]
     },
     "execution_count": 59,
     "metadata": {},
     "output_type": "execute_result"
    }
   ],
   "source": [
    "node_mapping"
   ]
  },
  {
   "cell_type": "code",
   "execution_count": 60,
   "metadata": {},
   "outputs": [
    {
     "data": {
      "text/plain": [
       "{'1->2': '1->2', '2->3': '2->3', '3->4': None, '4->5': None}"
      ]
     },
     "execution_count": 60,
     "metadata": {},
     "output_type": "execute_result"
    }
   ],
   "source": [
    "edge_mapping"
   ]
  },
  {
   "cell_type": "code",
   "execution_count": 61,
   "metadata": {},
   "outputs": [
    {
     "name": "stdout",
     "output_type": "stream",
     "text": [
      "Graphs are isomorphic\n"
     ]
    }
   ],
   "source": [
    "node_mapping, edge_mapping = match(G1, G2)"
   ]
  },
  {
   "cell_type": "code",
   "execution_count": 62,
   "metadata": {},
   "outputs": [
    {
     "data": {
      "text/plain": [
       "{'1->2': '1->2', '2->3': '2->3', '3->4': '3->4', '4->5': '4->5'}"
      ]
     },
     "execution_count": 62,
     "metadata": {},
     "output_type": "execute_result"
    }
   ],
   "source": [
    "edge_mapping"
   ]
  },
  {
   "cell_type": "code",
   "execution_count": 63,
   "metadata": {},
   "outputs": [
    {
     "data": {
      "text/plain": [
       "{2: 2, 3: 3, 1: 1, 4: 4, 5: 5}"
      ]
     },
     "execution_count": 63,
     "metadata": {},
     "output_type": "execute_result"
    }
   ],
   "source": [
    "node_mapping"
   ]
  }
 ],
 "metadata": {
  "kernelspec": {
   "display_name": "Python 3",
   "language": "python",
   "name": "python3"
  },
  "language_info": {
   "codemirror_mode": {
    "name": "ipython",
    "version": 3
   },
   "file_extension": ".py",
   "mimetype": "text/x-python",
   "name": "python",
   "nbconvert_exporter": "python",
   "pygments_lexer": "ipython3",
   "version": "3.9.12"
  }
 },
 "nbformat": 4,
 "nbformat_minor": 2
}
