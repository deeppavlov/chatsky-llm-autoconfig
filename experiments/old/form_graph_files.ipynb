{
 "cells": [
  {
   "cell_type": "code",
   "execution_count": 1,
   "metadata": {},
   "outputs": [],
   "source": [
    "import os\n",
    "import sys\n",
    "import json \n",
    "\n",
    "# sys.path.append(\"../\")\n",
    "# from src.utils import read_json, save_json"
   ]
  },
  {
   "cell_type": "code",
   "execution_count": 2,
   "metadata": {},
   "outputs": [],
   "source": [
    "def save_json(data: dict, filename: str) -> None:\n",
    "    with open(filename, \"w\", encoding=\"utf-8\") as file:\n",
    "        json.dump(data, file, indent=4, ensure_ascii=False)\n",
    "\n",
    "\n",
    "def read_json(path):\n",
    "    with open(path, mode=\"r\") as file:\n",
    "        data = file.read()\n",
    "    return json.loads(data)"
   ]
  },
  {
   "cell_type": "code",
   "execution_count": 3,
   "metadata": {},
   "outputs": [],
   "source": [
    "def prep_graph(graph: dict):\n",
    "    def wrap_in_list(item):\n",
    "        if isinstance(item, str):\n",
    "            return [item]\n",
    "        return item\n",
    "\n",
    "    # Обработка edges\n",
    "    for edge in graph['edges']:\n",
    "        edge['utterances'] = wrap_in_list(edge['utterances'])\n",
    "\n",
    "    # Обработка nodes\n",
    "    for node in graph['nodes']:\n",
    "        node['utterances'] = wrap_in_list(node['utterances'])\n",
    "    return graph"
   ]
  },
  {
   "cell_type": "code",
   "execution_count": 4,
   "metadata": {},
   "outputs": [],
   "source": [
    "def form_graph_file(\n",
    "    dialog_id: int,\n",
    "    samping_method: str,\n",
    "    dialog_path: str,\n",
    "    init_graph_path: str,\n",
    "    gen_graph_path: str,\n",
    "    incomplete_graph_path: str | None = None,\n",
    "    dialog_field: str = 'dialog'\n",
    ") -> dict:\n",
    "    dialog = read_json(dialog_path)[dialog_field]\n",
    "    init_graph = prep_graph(read_json(init_graph_path))\n",
    "    gen_graph = prep_graph(read_json(gen_graph_path))\n",
    "    incomplete_graph = prep_graph(read_json(incomplete_graph_path)) if incomplete_graph_path else {}\n",
    "\n",
    "    graph_file = {\n",
    "        \"dialog_id\": dialog_id,\n",
    "        \"samping_method\": samping_method,\n",
    "        \"dialog\": dialog,\n",
    "        \"target_graph\": init_graph,\n",
    "        \"predicted_graph\": gen_graph,\n",
    "        \"base_graph\": incomplete_graph,\n",
    "    }\n",
    "    return graph_file"
   ]
  },
  {
   "cell_type": "code",
   "execution_count": 5,
   "metadata": {},
   "outputs": [],
   "source": [
    "res = []\n",
    "id = 0\n",
    "\n",
    "exp_path = '../experiments/graph_complement'\n",
    "dirs = [name for name in os.listdir(exp_path) if os.path.isdir(os.path.join(exp_path, name))]\n",
    "for dir in dirs:\n",
    "    graph_file = form_graph_file(\n",
    "        dialog_id = id,\n",
    "        samping_method = dir,\n",
    "        dialog_path = f'{exp_path}/{dir}/dialog_to_give.json',\n",
    "        init_graph_path = f'{exp_path}/{dir}/initial_graph.json',\n",
    "        gen_graph_path = f'{exp_path}/{dir}/gpt_response.json',\n",
    "        incomplete_graph_path = f'{exp_path}/{dir}/graph_to_give_gpt.json'\n",
    "    )\n",
    "    res.append(graph_file)\n",
    "    id += 1\n",
    "\n",
    "exp_path = '../experiments/graph_construction'\n",
    "dirs = [name for name in os.listdir(exp_path) if os.path.isdir(os.path.join(exp_path, name))]\n",
    "for dir in dirs:\n",
    "    if os.path.isfile(f'{exp_path}/{dir}/partial_gt_graph.json'):\n",
    "        graph_file = form_graph_file(\n",
    "            dialog_id = id,\n",
    "            samping_method = dir,\n",
    "            dialog_path = f'{exp_path}/{dir}/dialog_to_give.json',\n",
    "            init_graph_path = f'{exp_path}/{dir}/initial_graph.json',\n",
    "            gen_graph_path = f'{exp_path}/{dir}/gpt_response1.json',\n",
    "            incomplete_graph_path = f'{exp_path}/{dir}/partial_gt_graph.json'\n",
    "        )\n",
    "        res.append(graph_file)\n",
    "        id += 1\n",
    "    else:\n",
    "        graph_file = form_graph_file(\n",
    "            dialog_id = id,\n",
    "            samping_method = dir,\n",
    "            dialog_path = f'{exp_path}/{dir}/dialog_to_give.json',\n",
    "            init_graph_path = f'{exp_path}/{dir}/initial_graph.json',\n",
    "            gen_graph_path = f'{exp_path}/{dir}/gpt_response1.json',\n",
    "            dialog_field = 'dialog1'\n",
    "        )\n",
    "        res.append(graph_file)\n",
    "        id += 1\n",
    "\n",
    "        graph_file = form_graph_file(\n",
    "            dialog_id = id,\n",
    "            samping_method = dir,\n",
    "            dialog_path = f'{exp_path}/{dir}/dialog_to_give.json',\n",
    "            init_graph_path = f'{exp_path}/{dir}/initial_graph.json',\n",
    "            gen_graph_path = f'{exp_path}/{dir}/gpt_response2.json',\n",
    "            dialog_field = 'dialog2'\n",
    "        )\n",
    "        res.append(graph_file)\n",
    "        id += 1"
   ]
  },
  {
   "cell_type": "code",
   "execution_count": 6,
   "metadata": {},
   "outputs": [],
   "source": [
    "from collections import defaultdict\n",
    "\n",
    "def combine_utterances(data):\n",
    "    # Используем defaultdict для объединения словарей с одинаковыми source и target\n",
    "    combined_data = defaultdict(lambda: {\"utterances\": []})\n",
    "\n",
    "    for entry in data:\n",
    "        key = (entry[\"source\"], entry[\"target\"])\n",
    "        combined_data[key][\"source\"] = entry[\"source\"]\n",
    "        combined_data[key][\"target\"] = entry[\"target\"]\n",
    "        combined_data[key][\"utterances\"].extend(entry[\"utterances\"])\n",
    "\n",
    "    # Преобразуем defaultdict обратно в список словарей\n",
    "    result = list(combined_data.values())\n",
    "    \n",
    "    return result"
   ]
  },
  {
   "cell_type": "code",
   "execution_count": 8,
   "metadata": {},
   "outputs": [],
   "source": [
    "for dialog_info in res:\n",
    "    for graph_name in (\"target_graph\", \"predicted_graph\", \"base_graph\"):\n",
    "        if dialog_info[graph_name]:\n",
    "            dialog_info[graph_name]['edges'] = combine_utterances(dialog_info[graph_name]['edges'])"
   ]
  },
  {
   "cell_type": "code",
   "execution_count": 9,
   "metadata": {},
   "outputs": [],
   "source": [
    "save_json(res, '../data/data.json')"
   ]
  },
  {
   "cell_type": "code",
   "execution_count": null,
   "metadata": {},
   "outputs": [],
   "source": []
  }
 ],
 "metadata": {
  "kernelspec": {
   "display_name": "Python 3",
   "language": "python",
   "name": "python3"
  },
  "language_info": {
   "codemirror_mode": {
    "name": "ipython",
    "version": 3
   },
   "file_extension": ".py",
   "mimetype": "text/x-python",
   "name": "python",
   "nbconvert_exporter": "python",
   "pygments_lexer": "ipython3",
   "version": "3.11.5"
  }
 },
 "nbformat": 4,
 "nbformat_minor": 2
}
