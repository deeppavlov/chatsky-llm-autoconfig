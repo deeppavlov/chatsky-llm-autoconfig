{
 "cells": [
  {
   "cell_type": "code",
   "execution_count": 11,
   "metadata": {},
   "outputs": [
    {
     "data": {
      "text/plain": [
       "True"
      ]
     },
     "execution_count": 11,
     "metadata": {},
     "output_type": "execute_result"
    }
   ],
   "source": [
    "from langchain_openai import ChatOpenAI\n",
    "from dotenv import load_dotenv\n",
    "import os\n",
    "load_dotenv() "
   ]
  },
  {
   "cell_type": "markdown",
   "metadata": {},
   "source": [
    "## Cycle Graph Generation"
   ]
  },
  {
   "cell_type": "code",
   "execution_count": 12,
   "metadata": {},
   "outputs": [
    {
     "name": "stderr",
     "output_type": "stream",
     "text": [
      "INFO:httpx:HTTP Request: POST http://193.187.173.33:8002/api/providers/openai/v1/chat/completions \"HTTP/1.1 200 OK\"\n",
      "INFO:httpx:HTTP Request: POST http://193.187.173.33:8002/api/providers/openai/v1/chat/completions \"HTTP/1.1 200 OK\"\n",
      "INFO:httpx:HTTP Request: POST http://193.187.173.33:8002/api/providers/openai/v1/chat/completions \"HTTP/1.1 200 OK\"\n",
      "INFO:httpx:HTTP Request: POST http://193.187.173.33:8002/api/providers/openai/v1/chat/completions \"HTTP/1.1 200 OK\"\n",
      "INFO:httpx:HTTP Request: POST http://193.187.173.33:8002/api/providers/openai/v1/chat/completions \"HTTP/1.1 200 OK\"\n",
      "INFO:httpx:HTTP Request: POST http://193.187.173.33:8002/api/providers/openai/v1/chat/completions \"HTTP/1.1 200 OK\"\n"
     ]
    },
    {
     "name": "stdout",
     "output_type": "stream",
     "text": [
      "Graph: graph_dict={'edges': [{'source': 1, 'target': 2, 'utterances': [\"I'd like to book a hotel room\"]}, {'source': 2, 'target': 3, 'utterances': ['A double room for two nights']}, {'source': 3, 'target': 4, 'utterances': [\"Yes, that's correct\"]}, {'source': 4, 'target': 5, 'utterances': [\"Here's my credit card information\"]}, {'source': 5, 'target': 2, 'utterances': [\"I'd like to book another room\"]}], 'nodes': [{'id': 1, 'label': 'welcome', 'is_start': True, 'utterances': ['Welcome to our hotel booking service! How can I assist you today?']}, {'id': 2, 'label': 'ask_room_type', 'is_start': False, 'utterances': ['What type of room would you like to book and for how many nights?']}, {'id': 3, 'label': 'confirm_details', 'is_start': False, 'utterances': [\"You've selected a double room for two nights. Is this correct?\"]}, {'id': 4, 'label': 'payment', 'is_start': False, 'utterances': ['Great! Please provide your payment details to proceed.']}, {'id': 5, 'label': 'completed', 'is_start': False, 'utterances': ['Thank you for your booking! Would you like to book another room?']}]} graph=<networkx.classes.digraph.DiGraph object at 0x1133e3440> node_mapping={}\n",
      "Sampled dialogue: assistant: Welcome to our hotel booking service! How can I assist you today?\n",
      "user: I'd like to book a hotel room\n",
      "assistant: What type of room would you like to book and for how many nights?\n",
      "user: A double room for two nights\n",
      "assistant: You've selected a double room for two nights. Is this correct?\n",
      "user: Yes, that's correct\n",
      "assistant: Great! Please provide your payment details to proceed.\n",
      "user: Here's my credit card information\n",
      "assistant: Thank you for your booking! Would you like to book another room?\n",
      "user: I'd like to book another room\n"
     ]
    },
    {
     "name": "stderr",
     "output_type": "stream",
     "text": [
      "INFO:httpx:HTTP Request: POST http://193.187.173.33:8002/api/providers/openai/v1/chat/completions \"HTTP/1.1 200 OK\"\n",
      "INFO:httpx:HTTP Request: POST http://193.187.173.33:8002/api/providers/openai/v1/chat/completions \"HTTP/1.1 200 OK\"\n",
      "INFO:httpx:HTTP Request: POST http://193.187.173.33:8002/api/providers/openai/v1/chat/completions \"HTTP/1.1 200 OK\"\n",
      "INFO:httpx:HTTP Request: POST http://193.187.173.33:8002/api/providers/openai/v1/chat/completions \"HTTP/1.1 200 OK\"\n",
      "INFO:httpx:HTTP Request: POST http://193.187.173.33:8002/api/providers/openai/v1/chat/completions \"HTTP/1.1 200 OK\"\n",
      "INFO:httpx:HTTP Request: POST http://193.187.173.33:8002/api/providers/openai/v1/chat/completions \"HTTP/1.1 200 OK\"\n",
      "INFO:httpx:HTTP Request: POST http://193.187.173.33:8002/api/providers/openai/v1/chat/completions \"HTTP/1.1 200 OK\"\n",
      "INFO:httpx:HTTP Request: POST http://193.187.173.33:8002/api/providers/openai/v1/chat/completions \"HTTP/1.1 200 OK\"\n",
      "INFO:httpx:HTTP Request: POST http://193.187.173.33:8002/api/providers/openai/v1/chat/completions \"HTTP/1.1 200 OK\"\n"
     ]
    },
    {
     "name": "stdout",
     "output_type": "stream",
     "text": [
      "Graph: graph_dict={'edges': [{'source': 1, 'target': 2, 'utterances': [\"I'd like to schedule a doctor's appointment\"]}, {'source': 2, 'target': 3, 'utterances': ['I need an appointment for a general check-up']}, {'source': 3, 'target': 4, 'utterances': ['Next Monday works for me']}, {'source': 4, 'target': 5, 'utterances': ['Yes, that time is perfect']}, {'source': 5, 'target': 6, 'utterances': [\"Here's my insurance information\"]}, {'source': 6, 'target': 2, 'utterances': [\"I'd like to schedule another appointment\"]}], 'nodes': [{'id': 1, 'label': 'welcome', 'is_start': True, 'utterances': ['Welcome to the clinic! How can I assist you today?']}, {'id': 2, 'label': 'ask_appointment_type', 'is_start': False, 'utterances': ['What type of appointment do you need?']}, {'id': 3, 'label': 'ask_date', 'is_start': False, 'utterances': ['When would you like to schedule your appointment?']}, {'id': 4, 'label': 'confirm_time', 'is_start': False, 'utterances': ['We have an opening next Monday at 10 AM. Does that work for you?']}, {'id': 5, 'label': 'insurance_info', 'is_start': False, 'utterances': ['Great! Could you please provide your insurance information?']}, {'id': 6, 'label': 'completed', 'is_start': False, 'utterances': ['Thank you! Your appointment is confirmed. Would you like to schedule another appointment?']}]} graph=<networkx.classes.digraph.DiGraph object at 0x1165eb020> node_mapping={}\n",
      "Sampled dialogue: assistant: Welcome to the clinic! How can I assist you today?\n",
      "user: I'd like to schedule a doctor's appointment\n",
      "assistant: What type of appointment do you need?\n",
      "user: I need an appointment for a general check-up\n",
      "assistant: When would you like to schedule your appointment?\n",
      "user: Next Monday works for me\n",
      "assistant: We have an opening next Monday at 10 AM. Does that work for you?\n",
      "user: Yes, that time is perfect\n",
      "assistant: Great! Could you please provide your insurance information?\n",
      "user: Here's my insurance information\n",
      "assistant: Thank you! Your appointment is confirmed. Would you like to schedule another appointment?\n",
      "user: I'd like to schedule another appointment\n"
     ]
    },
    {
     "name": "stderr",
     "output_type": "stream",
     "text": [
      "INFO:httpx:HTTP Request: POST http://193.187.173.33:8002/api/providers/openai/v1/chat/completions \"HTTP/1.1 200 OK\"\n",
      "INFO:httpx:HTTP Request: POST http://193.187.173.33:8002/api/providers/openai/v1/chat/completions \"HTTP/1.1 200 OK\"\n",
      "INFO:httpx:HTTP Request: POST http://193.187.173.33:8002/api/providers/openai/v1/chat/completions \"HTTP/1.1 200 OK\"\n",
      "INFO:httpx:HTTP Request: POST http://193.187.173.33:8002/api/providers/openai/v1/chat/completions \"HTTP/1.1 200 OK\"\n",
      "INFO:httpx:HTTP Request: POST http://193.187.173.33:8002/api/providers/openai/v1/chat/completions \"HTTP/1.1 200 OK\"\n",
      "INFO:httpx:HTTP Request: POST http://193.187.173.33:8002/api/providers/openai/v1/chat/completions \"HTTP/1.1 200 OK\"\n",
      "INFO:httpx:HTTP Request: POST http://193.187.173.33:8002/api/providers/openai/v1/chat/completions \"HTTP/1.1 200 OK\"\n",
      "INFO:httpx:HTTP Request: POST http://193.187.173.33:8002/api/providers/openai/v1/chat/completions \"HTTP/1.1 200 OK\"\n",
      "INFO:httpx:HTTP Request: POST http://193.187.173.33:8002/api/providers/openai/v1/chat/completions \"HTTP/1.1 200 OK\"\n",
      "INFO:root:Invalid transition from ['Would you like to add anything else to your order?'] to ['Thank you for your order! Would you like to order more food?'] via edge '[\"No, that's all\"]': The transition is invalid because the target utterance suggests the possibility of ordering more food, which contradicts the user's response of 'No, that's all.' This indicates that the user does not wish to add anything further, making the assistant's follow-up question about ordering more food illogical.\n",
      "INFO:httpx:HTTP Request: POST http://193.187.173.33:8002/api/providers/openai/v1/chat/completions \"HTTP/1.1 200 OK\"\n",
      "INFO:httpx:HTTP Request: POST http://193.187.173.33:8002/api/providers/openai/v1/chat/completions \"HTTP/1.1 200 OK\"\n",
      "INFO:httpx:HTTP Request: POST http://193.187.173.33:8002/api/providers/openai/v1/chat/completions \"HTTP/1.1 200 OK\"\n",
      "INFO:httpx:HTTP Request: POST http://193.187.173.33:8002/api/providers/openai/v1/chat/completions \"HTTP/1.1 200 OK\"\n",
      "INFO:httpx:HTTP Request: POST http://193.187.173.33:8002/api/providers/openai/v1/chat/completions \"HTTP/1.1 200 OK\"\n",
      "INFO:httpx:HTTP Request: POST http://193.187.173.33:8002/api/providers/openai/v1/chat/completions \"HTTP/1.1 200 OK\"\n",
      "INFO:httpx:HTTP Request: POST http://193.187.173.33:8002/api/providers/openai/v1/chat/completions \"HTTP/1.1 200 OK\"\n",
      "INFO:httpx:HTTP Request: POST http://193.187.173.33:8002/api/providers/openai/v1/chat/completions \"HTTP/1.1 200 OK\"\n",
      "INFO:httpx:HTTP Request: POST http://193.187.173.33:8002/api/providers/openai/v1/chat/completions \"HTTP/1.1 200 OK\"\n"
     ]
    },
    {
     "name": "stdout",
     "output_type": "stream",
     "text": [
      "Graph: graph_dict={'edges': [{'source': 1, 'target': 2, 'utterances': [\"Hi, I'm having trouble with my laptop\"]}, {'source': 2, 'target': 3, 'utterances': ['The screen is flickering']}, {'source': 3, 'target': 4, 'utterances': [\"Yes, I've tried restarting it\"]}, {'source': 4, 'target': 5, 'utterances': [\"No, I haven't updated the drivers recently\"]}, {'source': 5, 'target': 6, 'utterances': [\"Sure, I'll update the drivers now\"]}, {'source': 6, 'target': 7, 'utterances': ['Yes, the issue is resolved']}, {'source': 7, 'target': 2, 'utterances': [\"Actually, there's another issue\"]}], 'nodes': [{'id': 1, 'label': 'welcome', 'is_start': True, 'utterances': ['Welcome to tech support! How can I assist you today?']}, {'id': 2, 'label': 'ask_issue', 'is_start': False, 'utterances': [\"Can you describe the issue you're experiencing?\"]}, {'id': 3, 'label': 'troubleshoot_restart', 'is_start': False, 'utterances': ['Have you tried restarting your laptop?']}, {'id': 4, 'label': 'ask_drivers', 'is_start': False, 'utterances': [\"Have you updated your laptop's drivers recently?\"]}, {'id': 5, 'label': 'guide_update', 'is_start': False, 'utterances': ['Please update your drivers and let me know if the issue persists.']}, {'id': 6, 'label': 'confirm_resolution', 'is_start': False, 'utterances': ['Is the issue resolved after updating the drivers?']}, {'id': 7, 'label': 'additional_help', 'is_start': False, 'utterances': ['Great! Is there anything else I can help you with?']}]} graph=<networkx.classes.digraph.DiGraph object at 0x1242dd8b0> node_mapping={}\n",
      "Sampled dialogue: assistant: Welcome to tech support! How can I assist you today?\n",
      "user: Hi, I'm having trouble with my laptop\n",
      "assistant: Can you describe the issue you're experiencing?\n",
      "user: The screen is flickering\n",
      "assistant: Have you tried restarting your laptop?\n",
      "user: Yes, I've tried restarting it\n",
      "assistant: Have you updated your laptop's drivers recently?\n",
      "user: No, I haven't updated the drivers recently\n",
      "assistant: Please update your drivers and let me know if the issue persists.\n",
      "user: Sure, I'll update the drivers now\n",
      "assistant: Is the issue resolved after updating the drivers?\n",
      "user: Yes, the issue is resolved\n",
      "assistant: Great! Is there anything else I can help you with?\n",
      "user: Actually, there's another issue\n"
     ]
    },
    {
     "name": "stderr",
     "output_type": "stream",
     "text": [
      "INFO:httpx:HTTP Request: POST http://193.187.173.33:8002/api/providers/openai/v1/chat/completions \"HTTP/1.1 200 OK\"\n",
      "INFO:httpx:HTTP Request: POST http://193.187.173.33:8002/api/providers/openai/v1/chat/completions \"HTTP/1.1 200 OK\"\n",
      "INFO:httpx:HTTP Request: POST http://193.187.173.33:8002/api/providers/openai/v1/chat/completions \"HTTP/1.1 200 OK\"\n",
      "INFO:httpx:HTTP Request: POST http://193.187.173.33:8002/api/providers/openai/v1/chat/completions \"HTTP/1.1 200 OK\"\n",
      "INFO:httpx:HTTP Request: POST http://193.187.173.33:8002/api/providers/openai/v1/chat/completions \"HTTP/1.1 200 OK\"\n",
      "INFO:httpx:HTTP Request: POST http://193.187.173.33:8002/api/providers/openai/v1/chat/completions \"HTTP/1.1 200 OK\"\n",
      "INFO:httpx:HTTP Request: POST http://193.187.173.33:8002/api/providers/openai/v1/chat/completions \"HTTP/1.1 200 OK\"\n",
      "INFO:httpx:HTTP Request: POST http://193.187.173.33:8002/api/providers/openai/v1/chat/completions \"HTTP/1.1 200 OK\"\n",
      "INFO:httpx:HTTP Request: POST http://193.187.173.33:8002/api/providers/openai/v1/chat/completions \"HTTP/1.1 200 OK\"\n"
     ]
    },
    {
     "name": "stdout",
     "output_type": "stream",
     "text": [
      "Graph: graph_dict={'edges': [{'source': 1, 'target': 2, 'utterances': [\"Hi, I'd like to buy movie tickets\"]}, {'source': 2, 'target': 3, 'utterances': [\"I'd like to see the new action movie\"]}, {'source': 3, 'target': 4, 'utterances': ['Yes, two tickets please']}, {'source': 4, 'target': 5, 'utterances': [\"Here's my credit card\"]}, {'source': 5, 'target': 6, 'utterances': [\"No, that's all for now\"]}, {'source': 6, 'target': 2, 'utterances': [\"Actually, I'd like to buy tickets for another movie\"]}], 'nodes': [{'id': 1, 'label': 'welcome', 'is_start': True, 'utterances': ['Welcome to the cinema! How can I assist you today?']}, {'id': 2, 'label': 'ask_movie', 'is_start': False, 'utterances': ['Which movie would you like to see?']}, {'id': 3, 'label': 'ask_tickets', 'is_start': False, 'utterances': ['How many tickets would you like for the action movie?']}, {'id': 4, 'label': 'payment', 'is_start': False, 'utterances': [\"Great! That'll be $20. How would you like to pay?\"]}, {'id': 5, 'label': 'additional', 'is_start': False, 'utterances': ['Thank you! Would you like to purchase tickets for another movie?']}, {'id': 6, 'label': 'completed', 'is_start': False, 'utterances': ['Enjoy your movie! If you need anything else, feel free to ask.']}]} graph=<networkx.classes.digraph.DiGraph object at 0x1244216a0> node_mapping={}\n",
      "Sampled dialogue: assistant: Welcome to the cinema! How can I assist you today?\n",
      "user: Hi, I'd like to buy movie tickets\n",
      "assistant: Which movie would you like to see?\n",
      "user: I'd like to see the new action movie\n",
      "assistant: How many tickets would you like for the action movie?\n",
      "user: Yes, two tickets please\n",
      "assistant: Great! That'll be $20. How would you like to pay?\n",
      "user: Here's my credit card\n",
      "assistant: Thank you! Would you like to purchase tickets for another movie?\n",
      "user: No, that's all for now\n",
      "assistant: Enjoy your movie! If you need anything else, feel free to ask.\n",
      "user: Actually, I'd like to buy tickets for another movie\n"
     ]
    },
    {
     "name": "stderr",
     "output_type": "stream",
     "text": [
      "INFO:httpx:HTTP Request: POST http://193.187.173.33:8002/api/providers/openai/v1/chat/completions \"HTTP/1.1 200 OK\"\n",
      "INFO:httpx:HTTP Request: POST http://193.187.173.33:8002/api/providers/openai/v1/chat/completions \"HTTP/1.1 200 OK\"\n",
      "INFO:httpx:HTTP Request: POST http://193.187.173.33:8002/api/providers/openai/v1/chat/completions \"HTTP/1.1 200 OK\"\n",
      "INFO:httpx:HTTP Request: POST http://193.187.173.33:8002/api/providers/openai/v1/chat/completions \"HTTP/1.1 200 OK\"\n",
      "INFO:httpx:HTTP Request: POST http://193.187.173.33:8002/api/providers/openai/v1/chat/completions \"HTTP/1.1 200 OK\"\n",
      "INFO:httpx:HTTP Request: POST http://193.187.173.33:8002/api/providers/openai/v1/chat/completions \"HTTP/1.1 200 OK\"\n",
      "INFO:httpx:HTTP Request: POST http://193.187.173.33:8002/api/providers/openai/v1/chat/completions \"HTTP/1.1 200 OK\"\n",
      "INFO:httpx:HTTP Request: POST http://193.187.173.33:8002/api/providers/openai/v1/chat/completions \"HTTP/1.1 200 OK\"\n"
     ]
    },
    {
     "name": "stdout",
     "output_type": "stream",
     "text": [
      "Graph: graph_dict={'edges': [{'source': 1, 'target': 2, 'utterances': [\"Hi, I'm interested in registering for a gym membership\"]}, {'source': 2, 'target': 3, 'utterances': [\"I'd like the monthly plan\"]}, {'source': 3, 'target': 4, 'utterances': ['Yes, I have my ID with me']}, {'source': 4, 'target': 5, 'utterances': [\"Here's my payment information\"]}, {'source': 5, 'target': 2, 'utterances': [\"I'd like to register another member\"]}], 'nodes': [{'id': 1, 'label': 'welcome', 'is_start': True, 'utterances': ['Welcome to our gym! How can I assist you with membership registration today?']}, {'id': 2, 'label': 'ask_membership_type', 'is_start': False, 'utterances': ['What type of membership plan are you interested in?']}, {'id': 3, 'label': 'confirm_id', 'is_start': False, 'utterances': [\"You've chosen the monthly plan. Do you have your ID for verification?\"]}, {'id': 4, 'label': 'payment', 'is_start': False, 'utterances': ['Thank you! The monthly plan is $30. How would you like to pay?']}, {'id': 5, 'label': 'completed', 'is_start': False, 'utterances': ['Your registration is complete! Would you like to register another member?']}]} graph=<networkx.classes.digraph.DiGraph object at 0x1244217f0> node_mapping={}\n",
      "Sampled dialogue: assistant: Welcome to our gym! How can I assist you with membership registration today?\n",
      "user: Hi, I'm interested in registering for a gym membership\n",
      "assistant: What type of membership plan are you interested in?\n",
      "user: I'd like the monthly plan\n",
      "assistant: You've chosen the monthly plan. Do you have your ID for verification?\n",
      "user: Yes, I have my ID with me\n",
      "assistant: Thank you! The monthly plan is $30. How would you like to pay?\n",
      "user: Here's my payment information\n",
      "assistant: Your registration is complete! Would you like to register another member?\n",
      "user: I'd like to register another member\n"
     ]
    },
    {
     "name": "stderr",
     "output_type": "stream",
     "text": [
      "INFO:httpx:HTTP Request: POST http://193.187.173.33:8002/api/providers/openai/v1/chat/completions \"HTTP/1.1 200 OK\"\n",
      "INFO:httpx:HTTP Request: POST http://193.187.173.33:8002/api/providers/openai/v1/chat/completions \"HTTP/1.1 200 OK\"\n",
      "INFO:httpx:HTTP Request: POST http://193.187.173.33:8002/api/providers/openai/v1/chat/completions \"HTTP/1.1 200 OK\"\n",
      "INFO:httpx:HTTP Request: POST http://193.187.173.33:8002/api/providers/openai/v1/chat/completions \"HTTP/1.1 200 OK\"\n",
      "INFO:httpx:HTTP Request: POST http://193.187.173.33:8002/api/providers/openai/v1/chat/completions \"HTTP/1.1 200 OK\"\n",
      "INFO:httpx:HTTP Request: POST http://193.187.173.33:8002/api/providers/openai/v1/chat/completions \"HTTP/1.1 200 OK\"\n",
      "INFO:httpx:HTTP Request: POST http://193.187.173.33:8002/api/providers/openai/v1/chat/completions \"HTTP/1.1 200 OK\"\n",
      "INFO:httpx:HTTP Request: POST http://193.187.173.33:8002/api/providers/openai/v1/chat/completions \"HTTP/1.1 200 OK\"\n"
     ]
    },
    {
     "name": "stdout",
     "output_type": "stream",
     "text": [
      "Graph: graph_dict={'edges': [{'source': 1, 'target': 2, 'utterances': ['Hi, I need a car maintenance service']}, {'source': 2, 'target': 3, 'utterances': ['I need an oil change']}, {'source': 3, 'target': 4, 'utterances': ['Yes, I have a coupon']}, {'source': 4, 'target': 5, 'utterances': [\"Here's my payment\"]}, {'source': 5, 'target': 2, 'utterances': [\"I'd like to schedule another service\"]}], 'nodes': [{'id': 1, 'label': 'welcome', 'is_start': True, 'utterances': ['Welcome to our car service center! How can I assist you today?']}, {'id': 2, 'label': 'service_type', 'is_start': False, 'utterances': ['What type of maintenance service do you need?']}, {'id': 3, 'label': 'confirm_coupon', 'is_start': False, 'utterances': ['You mentioned an oil change. Do you have any coupons or discounts to apply?']}, {'id': 4, 'label': 'payment', 'is_start': False, 'utterances': [\"Great! That'll be $30 after the discount. Please proceed with payment.\"]}, {'id': 5, 'label': 'completed', 'is_start': False, 'utterances': ['Thank you! Would you like to schedule another service?']}]} graph=<networkx.classes.digraph.DiGraph object at 0x13704ca40> node_mapping={}\n",
      "Sampled dialogue: assistant: Welcome to our car service center! How can I assist you today?\n",
      "user: Hi, I need a car maintenance service\n",
      "assistant: What type of maintenance service do you need?\n",
      "user: I need an oil change\n",
      "assistant: You mentioned an oil change. Do you have any coupons or discounts to apply?\n",
      "user: Yes, I have a coupon\n",
      "assistant: Great! That'll be $30 after the discount. Please proceed with payment.\n",
      "user: Here's my payment\n",
      "assistant: Thank you! Would you like to schedule another service?\n",
      "user: I'd like to schedule another service\n"
     ]
    },
    {
     "name": "stderr",
     "output_type": "stream",
     "text": [
      "INFO:httpx:HTTP Request: POST http://193.187.173.33:8002/api/providers/openai/v1/chat/completions \"HTTP/1.1 200 OK\"\n",
      "INFO:httpx:HTTP Request: POST http://193.187.173.33:8002/api/providers/openai/v1/chat/completions \"HTTP/1.1 200 OK\"\n",
      "INFO:httpx:HTTP Request: POST http://193.187.173.33:8002/api/providers/openai/v1/chat/completions \"HTTP/1.1 200 OK\"\n",
      "INFO:httpx:HTTP Request: POST http://193.187.173.33:8002/api/providers/openai/v1/chat/completions \"HTTP/1.1 200 OK\"\n",
      "INFO:httpx:HTTP Request: POST http://193.187.173.33:8002/api/providers/openai/v1/chat/completions \"HTTP/1.1 200 OK\"\n",
      "INFO:httpx:HTTP Request: POST http://193.187.173.33:8002/api/providers/openai/v1/chat/completions \"HTTP/1.1 200 OK\"\n",
      "INFO:httpx:HTTP Request: POST http://193.187.173.33:8002/api/providers/openai/v1/chat/completions \"HTTP/1.1 200 OK\"\n",
      "INFO:httpx:HTTP Request: POST http://193.187.173.33:8002/api/providers/openai/v1/chat/completions \"HTTP/1.1 200 OK\"\n",
      "INFO:httpx:HTTP Request: POST http://193.187.173.33:8002/api/providers/openai/v1/chat/completions \"HTTP/1.1 200 OK\"\n",
      "INFO:httpx:HTTP Request: POST http://193.187.173.33:8002/api/providers/openai/v1/chat/completions \"HTTP/1.1 200 OK\"\n"
     ]
    },
    {
     "name": "stdout",
     "output_type": "stream",
     "text": [
      "Graph: graph_dict={'edges': [{'source': 1, 'target': 2, 'utterances': [\"I'd like to book a flight\"]}, {'source': 2, 'target': 3, 'utterances': ['To New York, please']}, {'source': 3, 'target': 4, 'utterances': ['Yes, departing on the 15th']}, {'source': 4, 'target': 5, 'utterances': ['Economy class']}, {'source': 5, 'target': 6, 'utterances': [\"Yes, that's correct\"]}, {'source': 6, 'target': 7, 'utterances': [\"Here's my payment information\"]}, {'source': 7, 'target': 2, 'utterances': [\"I'd like to book another flight\"]}], 'nodes': [{'id': 1, 'label': 'welcome', 'is_start': True, 'utterances': ['Welcome to Flight Reservations! How can I assist you today?']}, {'id': 2, 'label': 'ask_destination', 'is_start': False, 'utterances': ['Which destination are you flying to?']}, {'id': 3, 'label': 'ask_departure_date', 'is_start': False, 'utterances': ['What date would you like to depart?']}, {'id': 4, 'label': 'ask_class', 'is_start': False, 'utterances': ['Which class would you prefer: Economy, Business, or First?']}, {'id': 5, 'label': 'confirm_details', 'is_start': False, 'utterances': [\"To confirm, you're flying to New York on the 15th in Economy class. Is that correct?\"]}, {'id': 6, 'label': 'payment', 'is_start': False, 'utterances': ['Great! Please provide your payment information to proceed.']}, {'id': 7, 'label': 'completed', 'is_start': False, 'utterances': ['Thank you for your payment! Would you like to book another flight?']}]} graph=<networkx.classes.digraph.DiGraph object at 0x12431c770> node_mapping={}\n",
      "Sampled dialogue: assistant: Welcome to Flight Reservations! How can I assist you today?\n",
      "user: I'd like to book a flight\n",
      "assistant: Which destination are you flying to?\n",
      "user: To New York, please\n",
      "assistant: What date would you like to depart?\n",
      "user: Yes, departing on the 15th\n",
      "assistant: Which class would you prefer: Economy, Business, or First?\n",
      "user: Economy class\n",
      "assistant: To confirm, you're flying to New York on the 15th in Economy class. Is that correct?\n",
      "user: Yes, that's correct\n",
      "assistant: Great! Please provide your payment information to proceed.\n",
      "user: Here's my payment information\n",
      "assistant: Thank you for your payment! Would you like to book another flight?\n",
      "user: I'd like to book another flight\n"
     ]
    },
    {
     "name": "stderr",
     "output_type": "stream",
     "text": [
      "INFO:httpx:HTTP Request: POST http://193.187.173.33:8002/api/providers/openai/v1/chat/completions \"HTTP/1.1 200 OK\"\n",
      "INFO:httpx:HTTP Request: POST http://193.187.173.33:8002/api/providers/openai/v1/chat/completions \"HTTP/1.1 200 OK\"\n",
      "INFO:httpx:HTTP Request: POST http://193.187.173.33:8002/api/providers/openai/v1/chat/completions \"HTTP/1.1 200 OK\"\n",
      "INFO:httpx:HTTP Request: POST http://193.187.173.33:8002/api/providers/openai/v1/chat/completions \"HTTP/1.1 200 OK\"\n",
      "INFO:httpx:HTTP Request: POST http://193.187.173.33:8002/api/providers/openai/v1/chat/completions \"HTTP/1.1 200 OK\"\n",
      "INFO:httpx:HTTP Request: POST http://193.187.173.33:8002/api/providers/openai/v1/chat/completions \"HTTP/1.1 200 OK\"\n",
      "INFO:httpx:HTTP Request: POST http://193.187.173.33:8002/api/providers/openai/v1/chat/completions \"HTTP/1.1 200 OK\"\n",
      "INFO:httpx:HTTP Request: POST http://193.187.173.33:8002/api/providers/openai/v1/chat/completions \"HTTP/1.1 200 OK\"\n",
      "INFO:httpx:HTTP Request: POST http://193.187.173.33:8002/api/providers/openai/v1/chat/completions \"HTTP/1.1 200 OK\"\n",
      "INFO:root:Invalid transition from [\"Thank you! That'll be $15. Please proceed with payment.\"] to ['Thank you for your order! Would you like to order another pizza?'] via edge '[\"Here's my payment\"]': The transition is invalid because the source utterance indicates that the payment process is being completed, while the target utterance suggests a continuation of ordering, which is not logically connected to the completion of the payment.\n",
      "INFO:httpx:HTTP Request: POST http://193.187.173.33:8002/api/providers/openai/v1/chat/completions \"HTTP/1.1 200 OK\"\n",
      "INFO:httpx:HTTP Request: POST http://193.187.173.33:8002/api/providers/openai/v1/chat/completions \"HTTP/1.1 200 OK\"\n",
      "INFO:httpx:HTTP Request: POST http://193.187.173.33:8002/api/providers/openai/v1/chat/completions \"HTTP/1.1 200 OK\"\n",
      "INFO:httpx:HTTP Request: POST http://193.187.173.33:8002/api/providers/openai/v1/chat/completions \"HTTP/1.1 200 OK\"\n",
      "INFO:httpx:HTTP Request: POST http://193.187.173.33:8002/api/providers/openai/v1/chat/completions \"HTTP/1.1 200 OK\"\n",
      "INFO:httpx:HTTP Request: POST http://193.187.173.33:8002/api/providers/openai/v1/chat/completions \"HTTP/1.1 200 OK\"\n",
      "INFO:httpx:HTTP Request: POST http://193.187.173.33:8002/api/providers/openai/v1/chat/completions \"HTTP/1.1 200 OK\"\n"
     ]
    },
    {
     "name": "stdout",
     "output_type": "stream",
     "text": [
      "Graph: graph_dict={'edges': [{'source': 1, 'target': 2, 'utterances': [\"I'd like to book a hair appointment\"]}, {'source': 2, 'target': 3, 'utterances': ['A haircut and color']}, {'source': 3, 'target': 4, 'utterances': ['Yes, that date works for me']}, {'source': 4, 'target': 5, 'utterances': [\"Here's my contact information\"]}, {'source': 5, 'target': 2, 'utterances': [\"I'd like to book another appointment\"]}], 'nodes': [{'id': 1, 'label': 'welcome', 'is_start': True, 'utterances': ['Welcome to our salon! How can I assist you today?']}, {'id': 2, 'label': 'ask_service', 'is_start': False, 'utterances': ['What service would you like to book?']}, {'id': 3, 'label': 'confirm_date', 'is_start': False, 'utterances': ['We have an opening on Friday at 3 PM. Does that work for you?']}, {'id': 4, 'label': 'collect_info', 'is_start': False, 'utterances': ['Great! Could you please provide your contact information?']}, {'id': 5, 'label': 'completed', 'is_start': False, 'utterances': ['Thank you! Your appointment is confirmed. Would you like to book another service?']}]} graph=<networkx.classes.digraph.DiGraph object at 0x12441abd0> node_mapping={}\n",
      "Sampled dialogue: assistant: Welcome to our salon! How can I assist you today?\n",
      "user: I'd like to book a hair appointment\n",
      "assistant: What service would you like to book?\n",
      "user: A haircut and color\n",
      "assistant: We have an opening on Friday at 3 PM. Does that work for you?\n",
      "user: Yes, that date works for me\n",
      "assistant: Great! Could you please provide your contact information?\n",
      "user: Here's my contact information\n",
      "assistant: Thank you! Your appointment is confirmed. Would you like to book another service?\n",
      "user: I'd like to book another appointment\n"
     ]
    },
    {
     "name": "stderr",
     "output_type": "stream",
     "text": [
      "INFO:httpx:HTTP Request: POST http://193.187.173.33:8002/api/providers/openai/v1/chat/completions \"HTTP/1.1 200 OK\"\n",
      "INFO:httpx:HTTP Request: POST http://193.187.173.33:8002/api/providers/openai/v1/chat/completions \"HTTP/1.1 200 OK\"\n",
      "INFO:httpx:HTTP Request: POST http://193.187.173.33:8002/api/providers/openai/v1/chat/completions \"HTTP/1.1 200 OK\"\n",
      "INFO:httpx:HTTP Request: POST http://193.187.173.33:8002/api/providers/openai/v1/chat/completions \"HTTP/1.1 200 OK\"\n",
      "INFO:httpx:HTTP Request: POST http://193.187.173.33:8002/api/providers/openai/v1/chat/completions \"HTTP/1.1 200 OK\"\n",
      "INFO:httpx:HTTP Request: POST http://193.187.173.33:8002/api/providers/openai/v1/chat/completions \"HTTP/1.1 200 OK\"\n",
      "INFO:httpx:HTTP Request: POST http://193.187.173.33:8002/api/providers/openai/v1/chat/completions \"HTTP/1.1 200 OK\"\n",
      "INFO:httpx:HTTP Request: POST http://193.187.173.33:8002/api/providers/openai/v1/chat/completions \"HTTP/1.1 200 OK\"\n",
      "INFO:httpx:HTTP Request: POST http://193.187.173.33:8002/api/providers/openai/v1/chat/completions \"HTTP/1.1 200 OK\"\n"
     ]
    },
    {
     "name": "stdout",
     "output_type": "stream",
     "text": [
      "Graph: graph_dict={'edges': [{'source': 1, 'target': 2, 'utterances': [\"Hi, I'm here to set up my internet service.\"]}, {'source': 2, 'target': 3, 'utterances': ['Yes, I have the router and cables ready.']}, {'source': 3, 'target': 4, 'utterances': ['Yes, the lights are blinking as described.']}, {'source': 4, 'target': 5, 'utterances': ['Yes, I can see the network name.']}, {'source': 5, 'target': 6, 'utterances': ['Yes, the internet is working now.']}, {'source': 6, 'target': 2, 'utterances': [\"I'd like to set up another device.\"]}], 'nodes': [{'id': 1, 'label': 'welcome', 'is_start': True, 'utterances': ['Welcome! How can I assist you with your internet service today?']}, {'id': 2, 'label': 'check_equipment', 'is_start': False, 'utterances': ['Do you have your router and cables ready for setup?']}, {'id': 3, 'label': 'check_lights', 'is_start': False, 'utterances': ['Are the lights on the router blinking as expected?']}, {'id': 4, 'label': 'check_network', 'is_start': False, 'utterances': ['Can you see the network name on your device?']}, {'id': 5, 'label': 'confirm_connection', 'is_start': False, 'utterances': ['Is the internet connection working on your device?']}, {'id': 6, 'label': 'completed', 'is_start': False, 'utterances': ['Great! Your internet service is set up. Would you like to set up another device?']}]} graph=<networkx.classes.digraph.DiGraph object at 0x124422990> node_mapping={}\n",
      "Sampled dialogue: assistant: Welcome! How can I assist you with your internet service today?\n",
      "user: Hi, I'm here to set up my internet service.\n",
      "assistant: Do you have your router and cables ready for setup?\n",
      "user: Yes, I have the router and cables ready.\n",
      "assistant: Are the lights on the router blinking as expected?\n",
      "user: Yes, the lights are blinking as described.\n",
      "assistant: Can you see the network name on your device?\n",
      "user: Yes, I can see the network name.\n",
      "assistant: Is the internet connection working on your device?\n",
      "user: Yes, the internet is working now.\n",
      "assistant: Great! Your internet service is set up. Would you like to set up another device?\n",
      "user: I'd like to set up another device.\n"
     ]
    },
    {
     "name": "stderr",
     "output_type": "stream",
     "text": [
      "INFO:httpx:HTTP Request: POST http://193.187.173.33:8002/api/providers/openai/v1/chat/completions \"HTTP/1.1 200 OK\"\n",
      "INFO:httpx:HTTP Request: POST http://193.187.173.33:8002/api/providers/openai/v1/chat/completions \"HTTP/1.1 200 OK\"\n",
      "INFO:httpx:HTTP Request: POST http://193.187.173.33:8002/api/providers/openai/v1/chat/completions \"HTTP/1.1 200 OK\"\n",
      "INFO:httpx:HTTP Request: POST http://193.187.173.33:8002/api/providers/openai/v1/chat/completions \"HTTP/1.1 200 OK\"\n",
      "INFO:httpx:HTTP Request: POST http://193.187.173.33:8002/api/providers/openai/v1/chat/completions \"HTTP/1.1 200 OK\"\n",
      "INFO:httpx:HTTP Request: POST http://193.187.173.33:8002/api/providers/openai/v1/chat/completions \"HTTP/1.1 200 OK\"\n",
      "INFO:httpx:HTTP Request: POST http://193.187.173.33:8002/api/providers/openai/v1/chat/completions \"HTTP/1.1 200 OK\"\n",
      "INFO:httpx:HTTP Request: POST http://193.187.173.33:8002/api/providers/openai/v1/chat/completions \"HTTP/1.1 200 OK\"\n"
     ]
    },
    {
     "name": "stdout",
     "output_type": "stream",
     "text": [
      "Graph: graph_dict={'edges': [{'source': 1, 'target': 2, 'utterances': ['Hi, I need help with my bank account']}, {'source': 2, 'target': 3, 'utterances': ['I forgot my account password']}, {'source': 3, 'target': 4, 'utterances': ['Yes, I have my ID ready']}, {'source': 4, 'target': 5, 'utterances': ['Yes, please reset my password']}, {'source': 5, 'target': 2, 'utterances': ['I need help with another account issue']}], 'nodes': [{'id': 1, 'label': 'welcome', 'is_start': True, 'utterances': ['Welcome to bank support! How can I assist you today?']}, {'id': 2, 'label': 'ask_issue', 'is_start': False, 'utterances': ['What specific issue are you experiencing with your account?']}, {'id': 3, 'label': 'confirm_id', 'is_start': False, 'utterances': [\"To reset your password, I'll need to verify your identity. Do you have your ID ready?\"]}, {'id': 4, 'label': 'reset_password', 'is_start': False, 'utterances': ['Thank you for verifying your ID. Would you like me to proceed with resetting your password?']}, {'id': 5, 'label': 'completed', 'is_start': False, 'utterances': ['Your password has been reset. Is there anything else I can assist you with?']}]} graph=<networkx.classes.digraph.DiGraph object at 0x137027410> node_mapping={}\n",
      "Sampled dialogue: assistant: Welcome to bank support! How can I assist you today?\n",
      "user: Hi, I need help with my bank account\n",
      "assistant: What specific issue are you experiencing with your account?\n",
      "user: I forgot my account password\n",
      "assistant: To reset your password, I'll need to verify your identity. Do you have your ID ready?\n",
      "user: Yes, I have my ID ready\n",
      "assistant: Thank you for verifying your ID. Would you like me to proceed with resetting your password?\n",
      "user: Yes, please reset my password\n",
      "assistant: Your password has been reset. Is there anything else I can assist you with?\n",
      "user: I need help with another account issue\n"
     ]
    },
    {
     "name": "stderr",
     "output_type": "stream",
     "text": [
      "INFO:httpx:HTTP Request: POST http://193.187.173.33:8002/api/providers/openai/v1/chat/completions \"HTTP/1.1 200 OK\"\n",
      "INFO:httpx:HTTP Request: POST http://193.187.173.33:8002/api/providers/openai/v1/chat/completions \"HTTP/1.1 200 OK\"\n",
      "INFO:httpx:HTTP Request: POST http://193.187.173.33:8002/api/providers/openai/v1/chat/completions \"HTTP/1.1 200 OK\"\n",
      "INFO:httpx:HTTP Request: POST http://193.187.173.33:8002/api/providers/openai/v1/chat/completions \"HTTP/1.1 200 OK\"\n",
      "INFO:httpx:HTTP Request: POST http://193.187.173.33:8002/api/providers/openai/v1/chat/completions \"HTTP/1.1 200 OK\"\n",
      "INFO:httpx:HTTP Request: POST http://193.187.173.33:8002/api/providers/openai/v1/chat/completions \"HTTP/1.1 200 OK\"\n",
      "INFO:httpx:HTTP Request: POST http://193.187.173.33:8002/api/providers/openai/v1/chat/completions \"HTTP/1.1 200 OK\"\n",
      "INFO:httpx:HTTP Request: POST http://193.187.173.33:8002/api/providers/openai/v1/chat/completions \"HTTP/1.1 200 OK\"\n",
      "INFO:httpx:HTTP Request: POST http://193.187.173.33:8002/api/providers/openai/v1/chat/completions \"HTTP/1.1 200 OK\"\n",
      "INFO:httpx:HTTP Request: POST http://193.187.173.33:8002/api/providers/openai/v1/chat/completions \"HTTP/1.1 200 OK\"\n",
      "INFO:root:Invalid transition from ['Thank you for choosing us! Would you like to book another appointment?'] to ['What type of pet do you have?'] via edge '[\"I'd like to book another appointment\"]': The transition is invalid because the assistant's response in the target utterance ('What type of pet do you have?') does not logically follow from the user's request to book another appointment. The assistant should ideally confirm the appointment details or ask for a specific date and time instead of inquiring about the type of pet.\n",
      "INFO:httpx:HTTP Request: POST http://193.187.173.33:8002/api/providers/openai/v1/chat/completions \"HTTP/1.1 200 OK\"\n",
      "INFO:httpx:HTTP Request: POST http://193.187.173.33:8002/api/providers/openai/v1/chat/completions \"HTTP/1.1 200 OK\"\n",
      "INFO:httpx:HTTP Request: POST http://193.187.173.33:8002/api/providers/openai/v1/chat/completions \"HTTP/1.1 200 OK\"\n",
      "INFO:httpx:HTTP Request: POST http://193.187.173.33:8002/api/providers/openai/v1/chat/completions \"HTTP/1.1 200 OK\"\n",
      "INFO:httpx:HTTP Request: POST http://193.187.173.33:8002/api/providers/openai/v1/chat/completions \"HTTP/1.1 200 OK\"\n",
      "INFO:httpx:HTTP Request: POST http://193.187.173.33:8002/api/providers/openai/v1/chat/completions \"HTTP/1.1 200 OK\"\n"
     ]
    },
    {
     "name": "stdout",
     "output_type": "stream",
     "text": [
      "Graph: graph_dict={'edges': [{'source': 1, 'target': 2, 'utterances': [\"Hi, I'm interested in upgrading my mobile phone plan\"]}, {'source': 2, 'target': 3, 'utterances': [\"I'd like more data, please\"]}, {'source': 3, 'target': 4, 'utterances': ['Yes, that sounds good']}, {'source': 4, 'target': 5, 'utterances': [\"Here's my payment information\"]}, {'source': 5, 'target': 2, 'utterances': [\"I'd like to explore more upgrade options\"]}], 'nodes': [{'id': 1, 'label': 'welcome', 'is_start': True, 'utterances': ['Welcome! How can I assist you with your mobile plan today?']}, {'id': 2, 'label': 'ask_upgrade_type', 'is_start': False, 'utterances': ['What kind of upgrade are you interested in?']}, {'id': 3, 'label': 'confirm_upgrade', 'is_start': False, 'utterances': [\"You've chosen to add more data to your plan. Is that correct?\"]}, {'id': 4, 'label': 'payment', 'is_start': False, 'utterances': ['Great choice! The additional data will be $10 extra per month. Please proceed with payment.']}, {'id': 5, 'label': 'completed', 'is_start': False, 'utterances': ['Thank you for upgrading! Would you like to explore more options?']}]} graph=<networkx.classes.digraph.DiGraph object at 0x1243190a0> node_mapping={}\n",
      "Sampled dialogue: assistant: Welcome! How can I assist you with your mobile plan today?\n",
      "user: Hi, I'm interested in upgrading my mobile phone plan\n",
      "assistant: What kind of upgrade are you interested in?\n",
      "user: I'd like more data, please\n",
      "assistant: You've chosen to add more data to your plan. Is that correct?\n",
      "user: Yes, that sounds good\n",
      "assistant: Great choice! The additional data will be $10 extra per month. Please proceed with payment.\n",
      "user: Here's my payment information\n",
      "assistant: Thank you for upgrading! Would you like to explore more options?\n",
      "user: I'd like to explore more upgrade options\n"
     ]
    },
    {
     "name": "stderr",
     "output_type": "stream",
     "text": [
      "INFO:httpx:HTTP Request: POST http://193.187.173.33:8002/api/providers/openai/v1/chat/completions \"HTTP/1.1 200 OK\"\n",
      "INFO:httpx:HTTP Request: POST http://193.187.173.33:8002/api/providers/openai/v1/chat/completions \"HTTP/1.1 200 OK\"\n",
      "INFO:httpx:HTTP Request: POST http://193.187.173.33:8002/api/providers/openai/v1/chat/completions \"HTTP/1.1 200 OK\"\n",
      "INFO:httpx:HTTP Request: POST http://193.187.173.33:8002/api/providers/openai/v1/chat/completions \"HTTP/1.1 200 OK\"\n",
      "INFO:httpx:HTTP Request: POST http://193.187.173.33:8002/api/providers/openai/v1/chat/completions \"HTTP/1.1 200 OK\"\n",
      "INFO:httpx:HTTP Request: POST http://193.187.173.33:8002/api/providers/openai/v1/chat/completions \"HTTP/1.1 200 OK\"\n",
      "INFO:httpx:HTTP Request: POST http://193.187.173.33:8002/api/providers/openai/v1/chat/completions \"HTTP/1.1 200 OK\"\n",
      "INFO:httpx:HTTP Request: POST http://193.187.173.33:8002/api/providers/openai/v1/chat/completions \"HTTP/1.1 200 OK\"\n",
      "INFO:httpx:HTTP Request: POST http://193.187.173.33:8002/api/providers/openai/v1/chat/completions \"HTTP/1.1 200 OK\"\n",
      "INFO:httpx:HTTP Request: POST http://193.187.173.33:8002/api/providers/openai/v1/chat/completions \"HTTP/1.1 200 OK\"\n"
     ]
    },
    {
     "name": "stdout",
     "output_type": "stream",
     "text": [
      "Graph: graph_dict={'edges': [{'source': 1, 'target': 2, 'utterances': [\"Hi, I'd like to book a house cleaning service\"]}, {'source': 2, 'target': 3, 'utterances': ['I need a deep cleaning']}, {'source': 3, 'target': 4, 'utterances': ['Yes, that date works for me']}, {'source': 4, 'target': 5, 'utterances': [\"Here's my address\"]}, {'source': 5, 'target': 6, 'utterances': [\"Yes, I'd like to add window cleaning\"]}, {'source': 6, 'target': 7, 'utterances': [\"Here's my payment information\"]}, {'source': 7, 'target': 2, 'utterances': [\"I'd like to book another cleaning service\"]}], 'nodes': [{'id': 1, 'label': 'welcome', 'is_start': True, 'utterances': ['Welcome to our cleaning service! How can I assist you today?']}, {'id': 2, 'label': 'ask_service_type', 'is_start': False, 'utterances': ['What type of cleaning service are you interested in?']}, {'id': 3, 'label': 'confirm_date', 'is_start': False, 'utterances': ['We have availability on the 15th. Does that work for you?']}, {'id': 4, 'label': 'get_address', 'is_start': False, 'utterances': ['Great! Could you please provide your address?']}, {'id': 5, 'label': 'additional_services', 'is_start': False, 'utterances': ['Would you like to add any additional services, such as window cleaning?']}, {'id': 6, 'label': 'payment', 'is_start': False, 'utterances': ['Thank you! Please provide your payment information to complete the booking.']}, {'id': 7, 'label': 'completed', 'is_start': False, 'utterances': ['Your booking is confirmed! Would you like to schedule another service?']}]} graph=<networkx.classes.digraph.DiGraph object at 0x1242dc050> node_mapping={}\n",
      "Sampled dialogue: assistant: Welcome to our cleaning service! How can I assist you today?\n",
      "user: Hi, I'd like to book a house cleaning service\n",
      "assistant: What type of cleaning service are you interested in?\n",
      "user: I need a deep cleaning\n",
      "assistant: We have availability on the 15th. Does that work for you?\n",
      "user: Yes, that date works for me\n",
      "assistant: Great! Could you please provide your address?\n",
      "user: Here's my address\n",
      "assistant: Would you like to add any additional services, such as window cleaning?\n",
      "user: Yes, I'd like to add window cleaning\n",
      "assistant: Thank you! Please provide your payment information to complete the booking.\n",
      "user: Here's my payment information\n",
      "assistant: Your booking is confirmed! Would you like to schedule another service?\n",
      "user: I'd like to book another cleaning service\n"
     ]
    },
    {
     "name": "stderr",
     "output_type": "stream",
     "text": [
      "INFO:httpx:HTTP Request: POST http://193.187.173.33:8002/api/providers/openai/v1/chat/completions \"HTTP/1.1 200 OK\"\n",
      "INFO:httpx:HTTP Request: POST http://193.187.173.33:8002/api/providers/openai/v1/chat/completions \"HTTP/1.1 200 OK\"\n",
      "INFO:httpx:HTTP Request: POST http://193.187.173.33:8002/api/providers/openai/v1/chat/completions \"HTTP/1.1 200 OK\"\n",
      "INFO:httpx:HTTP Request: POST http://193.187.173.33:8002/api/providers/openai/v1/chat/completions \"HTTP/1.1 200 OK\"\n",
      "INFO:httpx:HTTP Request: POST http://193.187.173.33:8002/api/providers/openai/v1/chat/completions \"HTTP/1.1 401 Unauthorized\"\n"
     ]
    },
    {
     "ename": "AuthenticationError",
     "evalue": "Error code: 401 - {'error': {'code': '401', 'message': '[BricksLLM] key InnPr********************************************** has been revoked', 'type': ''}}",
     "output_type": "error",
     "traceback": [
      "\u001b[0;31m---------------------------------------------------------------------------\u001b[0m",
      "\u001b[0;31mAuthenticationError\u001b[0m                       Traceback (most recent call last)",
      "Cell \u001b[0;32mIn[12], line 134\u001b[0m\n\u001b[1;32m    131\u001b[0m num_augmentations \u001b[38;5;241m=\u001b[39m \u001b[38;5;241m2\u001b[39m\n\u001b[1;32m    133\u001b[0m \u001b[38;5;66;03m# Collect dialogues\u001b[39;00m\n\u001b[0;32m--> 134\u001b[0m dialogue_collection \u001b[38;5;241m=\u001b[39m \u001b[43mgenerate_dialogues\u001b[49m\u001b[43m(\u001b[49m\u001b[43mtopics\u001b[49m\u001b[43m,\u001b[49m\u001b[43m \u001b[49m\u001b[43mnum_augmentations\u001b[49m\u001b[38;5;241;43m=\u001b[39;49m\u001b[43mnum_augmentations\u001b[49m\u001b[43m)\u001b[49m\n\u001b[1;32m    136\u001b[0m saved_path \u001b[38;5;241m=\u001b[39m save_dataset(dialogue_collection, num_augmentations)\n",
      "Cell \u001b[0;32mIn[12], line 44\u001b[0m, in \u001b[0;36mgenerate_dialogues\u001b[0;34m(topics, num_augmentations, model_name)\u001b[0m\n\u001b[1;32m     41\u001b[0m \u001b[38;5;28;01mfor\u001b[39;00m topic \u001b[38;5;129;01min\u001b[39;00m topics:\n\u001b[1;32m     42\u001b[0m     \u001b[38;5;66;03m# Generate graph and validate\u001b[39;00m\n\u001b[1;32m     43\u001b[0m     graph \u001b[38;5;241m=\u001b[39m graph_generator\u001b[38;5;241m.\u001b[39minvoke(topic\u001b[38;5;241m=\u001b[39mtopic)\n\u001b[0;32m---> 44\u001b[0m     is_valid \u001b[38;5;241m=\u001b[39m \u001b[43mare_triplets_valid\u001b[49m\u001b[43m(\u001b[49m\u001b[43mgraph\u001b[49m\u001b[43m,\u001b[49m\u001b[43m \u001b[49m\u001b[43mmodel\u001b[49m\u001b[43m,\u001b[49m\u001b[43m \u001b[49m\u001b[43mtopic\u001b[49m\u001b[43m)\u001b[49m\n\u001b[1;32m     46\u001b[0m     \u001b[38;5;28;01mif\u001b[39;00m is_valid[\u001b[38;5;124m\"\u001b[39m\u001b[38;5;124mvalue\u001b[39m\u001b[38;5;124m\"\u001b[39m]:\n\u001b[1;32m     47\u001b[0m         \u001b[38;5;28mprint\u001b[39m(\u001b[38;5;124mf\u001b[39m\u001b[38;5;124m\"\u001b[39m\u001b[38;5;124mGraph: \u001b[39m\u001b[38;5;132;01m{\u001b[39;00mgraph\u001b[38;5;132;01m}\u001b[39;00m\u001b[38;5;124m\"\u001b[39m)\n",
      "File \u001b[0;32m~/Documents/Projects/deeppavlov/chatsky-llm-autoconfig/dev_packages/chatsky_llm_autoconfig/chatsky_llm_autoconfig/metrics/llm_metrics.py:124\u001b[0m, in \u001b[0;36mare_triplets_valid\u001b[0;34m(G, model, topic)\u001b[0m\n\u001b[1;32m    116\u001b[0m input_data \u001b[38;5;241m=\u001b[39m {\n\u001b[1;32m    117\u001b[0m     \u001b[38;5;124m\"\u001b[39m\u001b[38;5;124msource_utterances\u001b[39m\u001b[38;5;124m\"\u001b[39m: source_utterances,\n\u001b[1;32m    118\u001b[0m     \u001b[38;5;124m\"\u001b[39m\u001b[38;5;124medge_utterances\u001b[39m\u001b[38;5;124m\"\u001b[39m: edge_utterances,\n\u001b[1;32m    119\u001b[0m     \u001b[38;5;124m\"\u001b[39m\u001b[38;5;124mtarget_utterances\u001b[39m\u001b[38;5;124m\"\u001b[39m: target_utterances,\n\u001b[1;32m    120\u001b[0m     \u001b[38;5;124m\"\u001b[39m\u001b[38;5;124mtopic\u001b[39m\u001b[38;5;124m\"\u001b[39m: topic,\n\u001b[1;32m    121\u001b[0m }\n\u001b[1;32m    123\u001b[0m triplet_check_chain \u001b[38;5;241m=\u001b[39m triplet_validate_prompt \u001b[38;5;241m|\u001b[39m model \u001b[38;5;241m|\u001b[39m parser\n\u001b[0;32m--> 124\u001b[0m response \u001b[38;5;241m=\u001b[39m \u001b[43mtriplet_check_chain\u001b[49m\u001b[38;5;241;43m.\u001b[39;49m\u001b[43minvoke\u001b[49m\u001b[43m(\u001b[49m\u001b[43minput_data\u001b[49m\u001b[43m)\u001b[49m\n\u001b[1;32m    126\u001b[0m \u001b[38;5;28;01mif\u001b[39;00m \u001b[38;5;129;01mnot\u001b[39;00m response\u001b[38;5;241m.\u001b[39misValid:\n\u001b[1;32m    127\u001b[0m     overall_valid \u001b[38;5;241m=\u001b[39m \u001b[38;5;28;01mFalse\u001b[39;00m\n",
      "File \u001b[0;32m~/Documents/Projects/deeppavlov/chatsky-llm-autoconfig/.venv/lib/python3.12/site-packages/langchain_core/runnables/base.py:3024\u001b[0m, in \u001b[0;36mRunnableSequence.invoke\u001b[0;34m(self, input, config, **kwargs)\u001b[0m\n\u001b[1;32m   3022\u001b[0m             \u001b[38;5;28minput\u001b[39m \u001b[38;5;241m=\u001b[39m context\u001b[38;5;241m.\u001b[39mrun(step\u001b[38;5;241m.\u001b[39minvoke, \u001b[38;5;28minput\u001b[39m, config, \u001b[38;5;241m*\u001b[39m\u001b[38;5;241m*\u001b[39mkwargs)\n\u001b[1;32m   3023\u001b[0m         \u001b[38;5;28;01melse\u001b[39;00m:\n\u001b[0;32m-> 3024\u001b[0m             \u001b[38;5;28minput\u001b[39m \u001b[38;5;241m=\u001b[39m \u001b[43mcontext\u001b[49m\u001b[38;5;241;43m.\u001b[39;49m\u001b[43mrun\u001b[49m\u001b[43m(\u001b[49m\u001b[43mstep\u001b[49m\u001b[38;5;241;43m.\u001b[39;49m\u001b[43minvoke\u001b[49m\u001b[43m,\u001b[49m\u001b[43m \u001b[49m\u001b[38;5;28;43minput\u001b[39;49m\u001b[43m,\u001b[49m\u001b[43m \u001b[49m\u001b[43mconfig\u001b[49m\u001b[43m)\u001b[49m\n\u001b[1;32m   3025\u001b[0m \u001b[38;5;66;03m# finish the root run\u001b[39;00m\n\u001b[1;32m   3026\u001b[0m \u001b[38;5;28;01mexcept\u001b[39;00m \u001b[38;5;167;01mBaseException\u001b[39;00m \u001b[38;5;28;01mas\u001b[39;00m e:\n",
      "File \u001b[0;32m~/Documents/Projects/deeppavlov/chatsky-llm-autoconfig/.venv/lib/python3.12/site-packages/langchain_core/language_models/chat_models.py:286\u001b[0m, in \u001b[0;36mBaseChatModel.invoke\u001b[0;34m(self, input, config, stop, **kwargs)\u001b[0m\n\u001b[1;32m    275\u001b[0m \u001b[38;5;28;01mdef\u001b[39;00m \u001b[38;5;21minvoke\u001b[39m(\n\u001b[1;32m    276\u001b[0m     \u001b[38;5;28mself\u001b[39m,\n\u001b[1;32m    277\u001b[0m     \u001b[38;5;28minput\u001b[39m: LanguageModelInput,\n\u001b[0;32m   (...)\u001b[0m\n\u001b[1;32m    281\u001b[0m     \u001b[38;5;241m*\u001b[39m\u001b[38;5;241m*\u001b[39mkwargs: Any,\n\u001b[1;32m    282\u001b[0m ) \u001b[38;5;241m-\u001b[39m\u001b[38;5;241m>\u001b[39m BaseMessage:\n\u001b[1;32m    283\u001b[0m     config \u001b[38;5;241m=\u001b[39m ensure_config(config)\n\u001b[1;32m    284\u001b[0m     \u001b[38;5;28;01mreturn\u001b[39;00m cast(\n\u001b[1;32m    285\u001b[0m         ChatGeneration,\n\u001b[0;32m--> 286\u001b[0m         \u001b[38;5;28;43mself\u001b[39;49m\u001b[38;5;241;43m.\u001b[39;49m\u001b[43mgenerate_prompt\u001b[49m\u001b[43m(\u001b[49m\n\u001b[1;32m    287\u001b[0m \u001b[43m            \u001b[49m\u001b[43m[\u001b[49m\u001b[38;5;28;43mself\u001b[39;49m\u001b[38;5;241;43m.\u001b[39;49m\u001b[43m_convert_input\u001b[49m\u001b[43m(\u001b[49m\u001b[38;5;28;43minput\u001b[39;49m\u001b[43m)\u001b[49m\u001b[43m]\u001b[49m\u001b[43m,\u001b[49m\n\u001b[1;32m    288\u001b[0m \u001b[43m            \u001b[49m\u001b[43mstop\u001b[49m\u001b[38;5;241;43m=\u001b[39;49m\u001b[43mstop\u001b[49m\u001b[43m,\u001b[49m\n\u001b[1;32m    289\u001b[0m \u001b[43m            \u001b[49m\u001b[43mcallbacks\u001b[49m\u001b[38;5;241;43m=\u001b[39;49m\u001b[43mconfig\u001b[49m\u001b[38;5;241;43m.\u001b[39;49m\u001b[43mget\u001b[49m\u001b[43m(\u001b[49m\u001b[38;5;124;43m\"\u001b[39;49m\u001b[38;5;124;43mcallbacks\u001b[39;49m\u001b[38;5;124;43m\"\u001b[39;49m\u001b[43m)\u001b[49m\u001b[43m,\u001b[49m\n\u001b[1;32m    290\u001b[0m \u001b[43m            \u001b[49m\u001b[43mtags\u001b[49m\u001b[38;5;241;43m=\u001b[39;49m\u001b[43mconfig\u001b[49m\u001b[38;5;241;43m.\u001b[39;49m\u001b[43mget\u001b[49m\u001b[43m(\u001b[49m\u001b[38;5;124;43m\"\u001b[39;49m\u001b[38;5;124;43mtags\u001b[39;49m\u001b[38;5;124;43m\"\u001b[39;49m\u001b[43m)\u001b[49m\u001b[43m,\u001b[49m\n\u001b[1;32m    291\u001b[0m \u001b[43m            \u001b[49m\u001b[43mmetadata\u001b[49m\u001b[38;5;241;43m=\u001b[39;49m\u001b[43mconfig\u001b[49m\u001b[38;5;241;43m.\u001b[39;49m\u001b[43mget\u001b[49m\u001b[43m(\u001b[49m\u001b[38;5;124;43m\"\u001b[39;49m\u001b[38;5;124;43mmetadata\u001b[39;49m\u001b[38;5;124;43m\"\u001b[39;49m\u001b[43m)\u001b[49m\u001b[43m,\u001b[49m\n\u001b[1;32m    292\u001b[0m \u001b[43m            \u001b[49m\u001b[43mrun_name\u001b[49m\u001b[38;5;241;43m=\u001b[39;49m\u001b[43mconfig\u001b[49m\u001b[38;5;241;43m.\u001b[39;49m\u001b[43mget\u001b[49m\u001b[43m(\u001b[49m\u001b[38;5;124;43m\"\u001b[39;49m\u001b[38;5;124;43mrun_name\u001b[39;49m\u001b[38;5;124;43m\"\u001b[39;49m\u001b[43m)\u001b[49m\u001b[43m,\u001b[49m\n\u001b[1;32m    293\u001b[0m \u001b[43m            \u001b[49m\u001b[43mrun_id\u001b[49m\u001b[38;5;241;43m=\u001b[39;49m\u001b[43mconfig\u001b[49m\u001b[38;5;241;43m.\u001b[39;49m\u001b[43mpop\u001b[49m\u001b[43m(\u001b[49m\u001b[38;5;124;43m\"\u001b[39;49m\u001b[38;5;124;43mrun_id\u001b[39;49m\u001b[38;5;124;43m\"\u001b[39;49m\u001b[43m,\u001b[49m\u001b[43m \u001b[49m\u001b[38;5;28;43;01mNone\u001b[39;49;00m\u001b[43m)\u001b[49m\u001b[43m,\u001b[49m\n\u001b[1;32m    294\u001b[0m \u001b[43m            \u001b[49m\u001b[38;5;241;43m*\u001b[39;49m\u001b[38;5;241;43m*\u001b[39;49m\u001b[43mkwargs\u001b[49m\u001b[43m,\u001b[49m\n\u001b[1;32m    295\u001b[0m \u001b[43m        \u001b[49m\u001b[43m)\u001b[49m\u001b[38;5;241m.\u001b[39mgenerations[\u001b[38;5;241m0\u001b[39m][\u001b[38;5;241m0\u001b[39m],\n\u001b[1;32m    296\u001b[0m     )\u001b[38;5;241m.\u001b[39mmessage\n",
      "File \u001b[0;32m~/Documents/Projects/deeppavlov/chatsky-llm-autoconfig/.venv/lib/python3.12/site-packages/langchain_core/language_models/chat_models.py:786\u001b[0m, in \u001b[0;36mBaseChatModel.generate_prompt\u001b[0;34m(self, prompts, stop, callbacks, **kwargs)\u001b[0m\n\u001b[1;32m    778\u001b[0m \u001b[38;5;28;01mdef\u001b[39;00m \u001b[38;5;21mgenerate_prompt\u001b[39m(\n\u001b[1;32m    779\u001b[0m     \u001b[38;5;28mself\u001b[39m,\n\u001b[1;32m    780\u001b[0m     prompts: \u001b[38;5;28mlist\u001b[39m[PromptValue],\n\u001b[0;32m   (...)\u001b[0m\n\u001b[1;32m    783\u001b[0m     \u001b[38;5;241m*\u001b[39m\u001b[38;5;241m*\u001b[39mkwargs: Any,\n\u001b[1;32m    784\u001b[0m ) \u001b[38;5;241m-\u001b[39m\u001b[38;5;241m>\u001b[39m LLMResult:\n\u001b[1;32m    785\u001b[0m     prompt_messages \u001b[38;5;241m=\u001b[39m [p\u001b[38;5;241m.\u001b[39mto_messages() \u001b[38;5;28;01mfor\u001b[39;00m p \u001b[38;5;129;01min\u001b[39;00m prompts]\n\u001b[0;32m--> 786\u001b[0m     \u001b[38;5;28;01mreturn\u001b[39;00m \u001b[38;5;28;43mself\u001b[39;49m\u001b[38;5;241;43m.\u001b[39;49m\u001b[43mgenerate\u001b[49m\u001b[43m(\u001b[49m\u001b[43mprompt_messages\u001b[49m\u001b[43m,\u001b[49m\u001b[43m \u001b[49m\u001b[43mstop\u001b[49m\u001b[38;5;241;43m=\u001b[39;49m\u001b[43mstop\u001b[49m\u001b[43m,\u001b[49m\u001b[43m \u001b[49m\u001b[43mcallbacks\u001b[49m\u001b[38;5;241;43m=\u001b[39;49m\u001b[43mcallbacks\u001b[49m\u001b[43m,\u001b[49m\u001b[43m \u001b[49m\u001b[38;5;241;43m*\u001b[39;49m\u001b[38;5;241;43m*\u001b[39;49m\u001b[43mkwargs\u001b[49m\u001b[43m)\u001b[49m\n",
      "File \u001b[0;32m~/Documents/Projects/deeppavlov/chatsky-llm-autoconfig/.venv/lib/python3.12/site-packages/langchain_core/language_models/chat_models.py:643\u001b[0m, in \u001b[0;36mBaseChatModel.generate\u001b[0;34m(self, messages, stop, callbacks, tags, metadata, run_name, run_id, **kwargs)\u001b[0m\n\u001b[1;32m    641\u001b[0m         \u001b[38;5;28;01mif\u001b[39;00m run_managers:\n\u001b[1;32m    642\u001b[0m             run_managers[i]\u001b[38;5;241m.\u001b[39mon_llm_error(e, response\u001b[38;5;241m=\u001b[39mLLMResult(generations\u001b[38;5;241m=\u001b[39m[]))\n\u001b[0;32m--> 643\u001b[0m         \u001b[38;5;28;01mraise\u001b[39;00m e\n\u001b[1;32m    644\u001b[0m flattened_outputs \u001b[38;5;241m=\u001b[39m [\n\u001b[1;32m    645\u001b[0m     LLMResult(generations\u001b[38;5;241m=\u001b[39m[res\u001b[38;5;241m.\u001b[39mgenerations], llm_output\u001b[38;5;241m=\u001b[39mres\u001b[38;5;241m.\u001b[39mllm_output)  \u001b[38;5;66;03m# type: ignore[list-item]\u001b[39;00m\n\u001b[1;32m    646\u001b[0m     \u001b[38;5;28;01mfor\u001b[39;00m res \u001b[38;5;129;01min\u001b[39;00m results\n\u001b[1;32m    647\u001b[0m ]\n\u001b[1;32m    648\u001b[0m llm_output \u001b[38;5;241m=\u001b[39m \u001b[38;5;28mself\u001b[39m\u001b[38;5;241m.\u001b[39m_combine_llm_outputs([res\u001b[38;5;241m.\u001b[39mllm_output \u001b[38;5;28;01mfor\u001b[39;00m res \u001b[38;5;129;01min\u001b[39;00m results])\n",
      "File \u001b[0;32m~/Documents/Projects/deeppavlov/chatsky-llm-autoconfig/.venv/lib/python3.12/site-packages/langchain_core/language_models/chat_models.py:633\u001b[0m, in \u001b[0;36mBaseChatModel.generate\u001b[0;34m(self, messages, stop, callbacks, tags, metadata, run_name, run_id, **kwargs)\u001b[0m\n\u001b[1;32m    630\u001b[0m \u001b[38;5;28;01mfor\u001b[39;00m i, m \u001b[38;5;129;01min\u001b[39;00m \u001b[38;5;28menumerate\u001b[39m(messages):\n\u001b[1;32m    631\u001b[0m     \u001b[38;5;28;01mtry\u001b[39;00m:\n\u001b[1;32m    632\u001b[0m         results\u001b[38;5;241m.\u001b[39mappend(\n\u001b[0;32m--> 633\u001b[0m             \u001b[38;5;28;43mself\u001b[39;49m\u001b[38;5;241;43m.\u001b[39;49m\u001b[43m_generate_with_cache\u001b[49m\u001b[43m(\u001b[49m\n\u001b[1;32m    634\u001b[0m \u001b[43m                \u001b[49m\u001b[43mm\u001b[49m\u001b[43m,\u001b[49m\n\u001b[1;32m    635\u001b[0m \u001b[43m                \u001b[49m\u001b[43mstop\u001b[49m\u001b[38;5;241;43m=\u001b[39;49m\u001b[43mstop\u001b[49m\u001b[43m,\u001b[49m\n\u001b[1;32m    636\u001b[0m \u001b[43m                \u001b[49m\u001b[43mrun_manager\u001b[49m\u001b[38;5;241;43m=\u001b[39;49m\u001b[43mrun_managers\u001b[49m\u001b[43m[\u001b[49m\u001b[43mi\u001b[49m\u001b[43m]\u001b[49m\u001b[43m \u001b[49m\u001b[38;5;28;43;01mif\u001b[39;49;00m\u001b[43m \u001b[49m\u001b[43mrun_managers\u001b[49m\u001b[43m \u001b[49m\u001b[38;5;28;43;01melse\u001b[39;49;00m\u001b[43m \u001b[49m\u001b[38;5;28;43;01mNone\u001b[39;49;00m\u001b[43m,\u001b[49m\n\u001b[1;32m    637\u001b[0m \u001b[43m                \u001b[49m\u001b[38;5;241;43m*\u001b[39;49m\u001b[38;5;241;43m*\u001b[39;49m\u001b[43mkwargs\u001b[49m\u001b[43m,\u001b[49m\n\u001b[1;32m    638\u001b[0m \u001b[43m            \u001b[49m\u001b[43m)\u001b[49m\n\u001b[1;32m    639\u001b[0m         )\n\u001b[1;32m    640\u001b[0m     \u001b[38;5;28;01mexcept\u001b[39;00m \u001b[38;5;167;01mBaseException\u001b[39;00m \u001b[38;5;28;01mas\u001b[39;00m e:\n\u001b[1;32m    641\u001b[0m         \u001b[38;5;28;01mif\u001b[39;00m run_managers:\n",
      "File \u001b[0;32m~/Documents/Projects/deeppavlov/chatsky-llm-autoconfig/.venv/lib/python3.12/site-packages/langchain_core/language_models/chat_models.py:851\u001b[0m, in \u001b[0;36mBaseChatModel._generate_with_cache\u001b[0;34m(self, messages, stop, run_manager, **kwargs)\u001b[0m\n\u001b[1;32m    849\u001b[0m \u001b[38;5;28;01melse\u001b[39;00m:\n\u001b[1;32m    850\u001b[0m     \u001b[38;5;28;01mif\u001b[39;00m inspect\u001b[38;5;241m.\u001b[39msignature(\u001b[38;5;28mself\u001b[39m\u001b[38;5;241m.\u001b[39m_generate)\u001b[38;5;241m.\u001b[39mparameters\u001b[38;5;241m.\u001b[39mget(\u001b[38;5;124m\"\u001b[39m\u001b[38;5;124mrun_manager\u001b[39m\u001b[38;5;124m\"\u001b[39m):\n\u001b[0;32m--> 851\u001b[0m         result \u001b[38;5;241m=\u001b[39m \u001b[38;5;28;43mself\u001b[39;49m\u001b[38;5;241;43m.\u001b[39;49m\u001b[43m_generate\u001b[49m\u001b[43m(\u001b[49m\n\u001b[1;32m    852\u001b[0m \u001b[43m            \u001b[49m\u001b[43mmessages\u001b[49m\u001b[43m,\u001b[49m\u001b[43m \u001b[49m\u001b[43mstop\u001b[49m\u001b[38;5;241;43m=\u001b[39;49m\u001b[43mstop\u001b[49m\u001b[43m,\u001b[49m\u001b[43m \u001b[49m\u001b[43mrun_manager\u001b[49m\u001b[38;5;241;43m=\u001b[39;49m\u001b[43mrun_manager\u001b[49m\u001b[43m,\u001b[49m\u001b[43m \u001b[49m\u001b[38;5;241;43m*\u001b[39;49m\u001b[38;5;241;43m*\u001b[39;49m\u001b[43mkwargs\u001b[49m\n\u001b[1;32m    853\u001b[0m \u001b[43m        \u001b[49m\u001b[43m)\u001b[49m\n\u001b[1;32m    854\u001b[0m     \u001b[38;5;28;01melse\u001b[39;00m:\n\u001b[1;32m    855\u001b[0m         result \u001b[38;5;241m=\u001b[39m \u001b[38;5;28mself\u001b[39m\u001b[38;5;241m.\u001b[39m_generate(messages, stop\u001b[38;5;241m=\u001b[39mstop, \u001b[38;5;241m*\u001b[39m\u001b[38;5;241m*\u001b[39mkwargs)\n",
      "File \u001b[0;32m~/Documents/Projects/deeppavlov/chatsky-llm-autoconfig/.venv/lib/python3.12/site-packages/langchain_openai/chat_models/base.py:707\u001b[0m, in \u001b[0;36mBaseChatOpenAI._generate\u001b[0;34m(self, messages, stop, run_manager, **kwargs)\u001b[0m\n\u001b[1;32m    705\u001b[0m     generation_info \u001b[38;5;241m=\u001b[39m {\u001b[38;5;124m\"\u001b[39m\u001b[38;5;124mheaders\u001b[39m\u001b[38;5;124m\"\u001b[39m: \u001b[38;5;28mdict\u001b[39m(raw_response\u001b[38;5;241m.\u001b[39mheaders)}\n\u001b[1;32m    706\u001b[0m \u001b[38;5;28;01melse\u001b[39;00m:\n\u001b[0;32m--> 707\u001b[0m     response \u001b[38;5;241m=\u001b[39m \u001b[38;5;28;43mself\u001b[39;49m\u001b[38;5;241;43m.\u001b[39;49m\u001b[43mclient\u001b[49m\u001b[38;5;241;43m.\u001b[39;49m\u001b[43mcreate\u001b[49m\u001b[43m(\u001b[49m\u001b[38;5;241;43m*\u001b[39;49m\u001b[38;5;241;43m*\u001b[39;49m\u001b[43mpayload\u001b[49m\u001b[43m)\u001b[49m\n\u001b[1;32m    708\u001b[0m \u001b[38;5;28;01mreturn\u001b[39;00m \u001b[38;5;28mself\u001b[39m\u001b[38;5;241m.\u001b[39m_create_chat_result(response, generation_info)\n",
      "File \u001b[0;32m~/Documents/Projects/deeppavlov/chatsky-llm-autoconfig/.venv/lib/python3.12/site-packages/openai/_utils/_utils.py:275\u001b[0m, in \u001b[0;36mrequired_args.<locals>.inner.<locals>.wrapper\u001b[0;34m(*args, **kwargs)\u001b[0m\n\u001b[1;32m    273\u001b[0m             msg \u001b[38;5;241m=\u001b[39m \u001b[38;5;124mf\u001b[39m\u001b[38;5;124m\"\u001b[39m\u001b[38;5;124mMissing required argument: \u001b[39m\u001b[38;5;132;01m{\u001b[39;00mquote(missing[\u001b[38;5;241m0\u001b[39m])\u001b[38;5;132;01m}\u001b[39;00m\u001b[38;5;124m\"\u001b[39m\n\u001b[1;32m    274\u001b[0m     \u001b[38;5;28;01mraise\u001b[39;00m \u001b[38;5;167;01mTypeError\u001b[39;00m(msg)\n\u001b[0;32m--> 275\u001b[0m \u001b[38;5;28;01mreturn\u001b[39;00m \u001b[43mfunc\u001b[49m\u001b[43m(\u001b[49m\u001b[38;5;241;43m*\u001b[39;49m\u001b[43margs\u001b[49m\u001b[43m,\u001b[49m\u001b[43m \u001b[49m\u001b[38;5;241;43m*\u001b[39;49m\u001b[38;5;241;43m*\u001b[39;49m\u001b[43mkwargs\u001b[49m\u001b[43m)\u001b[49m\n",
      "File \u001b[0;32m~/Documents/Projects/deeppavlov/chatsky-llm-autoconfig/.venv/lib/python3.12/site-packages/openai/resources/chat/completions.py:829\u001b[0m, in \u001b[0;36mCompletions.create\u001b[0;34m(self, messages, model, audio, frequency_penalty, function_call, functions, logit_bias, logprobs, max_completion_tokens, max_tokens, metadata, modalities, n, parallel_tool_calls, prediction, presence_penalty, response_format, seed, service_tier, stop, store, stream, stream_options, temperature, tool_choice, tools, top_logprobs, top_p, user, extra_headers, extra_query, extra_body, timeout)\u001b[0m\n\u001b[1;32m    788\u001b[0m \u001b[38;5;129m@required_args\u001b[39m([\u001b[38;5;124m\"\u001b[39m\u001b[38;5;124mmessages\u001b[39m\u001b[38;5;124m\"\u001b[39m, \u001b[38;5;124m\"\u001b[39m\u001b[38;5;124mmodel\u001b[39m\u001b[38;5;124m\"\u001b[39m], [\u001b[38;5;124m\"\u001b[39m\u001b[38;5;124mmessages\u001b[39m\u001b[38;5;124m\"\u001b[39m, \u001b[38;5;124m\"\u001b[39m\u001b[38;5;124mmodel\u001b[39m\u001b[38;5;124m\"\u001b[39m, \u001b[38;5;124m\"\u001b[39m\u001b[38;5;124mstream\u001b[39m\u001b[38;5;124m\"\u001b[39m])\n\u001b[1;32m    789\u001b[0m \u001b[38;5;28;01mdef\u001b[39;00m \u001b[38;5;21mcreate\u001b[39m(\n\u001b[1;32m    790\u001b[0m     \u001b[38;5;28mself\u001b[39m,\n\u001b[0;32m   (...)\u001b[0m\n\u001b[1;32m    826\u001b[0m     timeout: \u001b[38;5;28mfloat\u001b[39m \u001b[38;5;241m|\u001b[39m httpx\u001b[38;5;241m.\u001b[39mTimeout \u001b[38;5;241m|\u001b[39m \u001b[38;5;28;01mNone\u001b[39;00m \u001b[38;5;241m|\u001b[39m NotGiven \u001b[38;5;241m=\u001b[39m NOT_GIVEN,\n\u001b[1;32m    827\u001b[0m ) \u001b[38;5;241m-\u001b[39m\u001b[38;5;241m>\u001b[39m ChatCompletion \u001b[38;5;241m|\u001b[39m Stream[ChatCompletionChunk]:\n\u001b[1;32m    828\u001b[0m     validate_response_format(response_format)\n\u001b[0;32m--> 829\u001b[0m     \u001b[38;5;28;01mreturn\u001b[39;00m \u001b[38;5;28;43mself\u001b[39;49m\u001b[38;5;241;43m.\u001b[39;49m\u001b[43m_post\u001b[49m\u001b[43m(\u001b[49m\n\u001b[1;32m    830\u001b[0m \u001b[43m        \u001b[49m\u001b[38;5;124;43m\"\u001b[39;49m\u001b[38;5;124;43m/chat/completions\u001b[39;49m\u001b[38;5;124;43m\"\u001b[39;49m\u001b[43m,\u001b[49m\n\u001b[1;32m    831\u001b[0m \u001b[43m        \u001b[49m\u001b[43mbody\u001b[49m\u001b[38;5;241;43m=\u001b[39;49m\u001b[43mmaybe_transform\u001b[49m\u001b[43m(\u001b[49m\n\u001b[1;32m    832\u001b[0m \u001b[43m            \u001b[49m\u001b[43m{\u001b[49m\n\u001b[1;32m    833\u001b[0m \u001b[43m                \u001b[49m\u001b[38;5;124;43m\"\u001b[39;49m\u001b[38;5;124;43mmessages\u001b[39;49m\u001b[38;5;124;43m\"\u001b[39;49m\u001b[43m:\u001b[49m\u001b[43m \u001b[49m\u001b[43mmessages\u001b[49m\u001b[43m,\u001b[49m\n\u001b[1;32m    834\u001b[0m \u001b[43m                \u001b[49m\u001b[38;5;124;43m\"\u001b[39;49m\u001b[38;5;124;43mmodel\u001b[39;49m\u001b[38;5;124;43m\"\u001b[39;49m\u001b[43m:\u001b[49m\u001b[43m \u001b[49m\u001b[43mmodel\u001b[49m\u001b[43m,\u001b[49m\n\u001b[1;32m    835\u001b[0m \u001b[43m                \u001b[49m\u001b[38;5;124;43m\"\u001b[39;49m\u001b[38;5;124;43maudio\u001b[39;49m\u001b[38;5;124;43m\"\u001b[39;49m\u001b[43m:\u001b[49m\u001b[43m \u001b[49m\u001b[43maudio\u001b[49m\u001b[43m,\u001b[49m\n\u001b[1;32m    836\u001b[0m \u001b[43m                \u001b[49m\u001b[38;5;124;43m\"\u001b[39;49m\u001b[38;5;124;43mfrequency_penalty\u001b[39;49m\u001b[38;5;124;43m\"\u001b[39;49m\u001b[43m:\u001b[49m\u001b[43m \u001b[49m\u001b[43mfrequency_penalty\u001b[49m\u001b[43m,\u001b[49m\n\u001b[1;32m    837\u001b[0m \u001b[43m                \u001b[49m\u001b[38;5;124;43m\"\u001b[39;49m\u001b[38;5;124;43mfunction_call\u001b[39;49m\u001b[38;5;124;43m\"\u001b[39;49m\u001b[43m:\u001b[49m\u001b[43m \u001b[49m\u001b[43mfunction_call\u001b[49m\u001b[43m,\u001b[49m\n\u001b[1;32m    838\u001b[0m \u001b[43m                \u001b[49m\u001b[38;5;124;43m\"\u001b[39;49m\u001b[38;5;124;43mfunctions\u001b[39;49m\u001b[38;5;124;43m\"\u001b[39;49m\u001b[43m:\u001b[49m\u001b[43m \u001b[49m\u001b[43mfunctions\u001b[49m\u001b[43m,\u001b[49m\n\u001b[1;32m    839\u001b[0m \u001b[43m                \u001b[49m\u001b[38;5;124;43m\"\u001b[39;49m\u001b[38;5;124;43mlogit_bias\u001b[39;49m\u001b[38;5;124;43m\"\u001b[39;49m\u001b[43m:\u001b[49m\u001b[43m \u001b[49m\u001b[43mlogit_bias\u001b[49m\u001b[43m,\u001b[49m\n\u001b[1;32m    840\u001b[0m \u001b[43m                \u001b[49m\u001b[38;5;124;43m\"\u001b[39;49m\u001b[38;5;124;43mlogprobs\u001b[39;49m\u001b[38;5;124;43m\"\u001b[39;49m\u001b[43m:\u001b[49m\u001b[43m \u001b[49m\u001b[43mlogprobs\u001b[49m\u001b[43m,\u001b[49m\n\u001b[1;32m    841\u001b[0m \u001b[43m                \u001b[49m\u001b[38;5;124;43m\"\u001b[39;49m\u001b[38;5;124;43mmax_completion_tokens\u001b[39;49m\u001b[38;5;124;43m\"\u001b[39;49m\u001b[43m:\u001b[49m\u001b[43m \u001b[49m\u001b[43mmax_completion_tokens\u001b[49m\u001b[43m,\u001b[49m\n\u001b[1;32m    842\u001b[0m \u001b[43m                \u001b[49m\u001b[38;5;124;43m\"\u001b[39;49m\u001b[38;5;124;43mmax_tokens\u001b[39;49m\u001b[38;5;124;43m\"\u001b[39;49m\u001b[43m:\u001b[49m\u001b[43m \u001b[49m\u001b[43mmax_tokens\u001b[49m\u001b[43m,\u001b[49m\n\u001b[1;32m    843\u001b[0m \u001b[43m                \u001b[49m\u001b[38;5;124;43m\"\u001b[39;49m\u001b[38;5;124;43mmetadata\u001b[39;49m\u001b[38;5;124;43m\"\u001b[39;49m\u001b[43m:\u001b[49m\u001b[43m \u001b[49m\u001b[43mmetadata\u001b[49m\u001b[43m,\u001b[49m\n\u001b[1;32m    844\u001b[0m \u001b[43m                \u001b[49m\u001b[38;5;124;43m\"\u001b[39;49m\u001b[38;5;124;43mmodalities\u001b[39;49m\u001b[38;5;124;43m\"\u001b[39;49m\u001b[43m:\u001b[49m\u001b[43m \u001b[49m\u001b[43mmodalities\u001b[49m\u001b[43m,\u001b[49m\n\u001b[1;32m    845\u001b[0m \u001b[43m                \u001b[49m\u001b[38;5;124;43m\"\u001b[39;49m\u001b[38;5;124;43mn\u001b[39;49m\u001b[38;5;124;43m\"\u001b[39;49m\u001b[43m:\u001b[49m\u001b[43m \u001b[49m\u001b[43mn\u001b[49m\u001b[43m,\u001b[49m\n\u001b[1;32m    846\u001b[0m \u001b[43m                \u001b[49m\u001b[38;5;124;43m\"\u001b[39;49m\u001b[38;5;124;43mparallel_tool_calls\u001b[39;49m\u001b[38;5;124;43m\"\u001b[39;49m\u001b[43m:\u001b[49m\u001b[43m \u001b[49m\u001b[43mparallel_tool_calls\u001b[49m\u001b[43m,\u001b[49m\n\u001b[1;32m    847\u001b[0m \u001b[43m                \u001b[49m\u001b[38;5;124;43m\"\u001b[39;49m\u001b[38;5;124;43mprediction\u001b[39;49m\u001b[38;5;124;43m\"\u001b[39;49m\u001b[43m:\u001b[49m\u001b[43m \u001b[49m\u001b[43mprediction\u001b[49m\u001b[43m,\u001b[49m\n\u001b[1;32m    848\u001b[0m \u001b[43m                \u001b[49m\u001b[38;5;124;43m\"\u001b[39;49m\u001b[38;5;124;43mpresence_penalty\u001b[39;49m\u001b[38;5;124;43m\"\u001b[39;49m\u001b[43m:\u001b[49m\u001b[43m \u001b[49m\u001b[43mpresence_penalty\u001b[49m\u001b[43m,\u001b[49m\n\u001b[1;32m    849\u001b[0m \u001b[43m                \u001b[49m\u001b[38;5;124;43m\"\u001b[39;49m\u001b[38;5;124;43mresponse_format\u001b[39;49m\u001b[38;5;124;43m\"\u001b[39;49m\u001b[43m:\u001b[49m\u001b[43m \u001b[49m\u001b[43mresponse_format\u001b[49m\u001b[43m,\u001b[49m\n\u001b[1;32m    850\u001b[0m \u001b[43m                \u001b[49m\u001b[38;5;124;43m\"\u001b[39;49m\u001b[38;5;124;43mseed\u001b[39;49m\u001b[38;5;124;43m\"\u001b[39;49m\u001b[43m:\u001b[49m\u001b[43m \u001b[49m\u001b[43mseed\u001b[49m\u001b[43m,\u001b[49m\n\u001b[1;32m    851\u001b[0m \u001b[43m                \u001b[49m\u001b[38;5;124;43m\"\u001b[39;49m\u001b[38;5;124;43mservice_tier\u001b[39;49m\u001b[38;5;124;43m\"\u001b[39;49m\u001b[43m:\u001b[49m\u001b[43m \u001b[49m\u001b[43mservice_tier\u001b[49m\u001b[43m,\u001b[49m\n\u001b[1;32m    852\u001b[0m \u001b[43m                \u001b[49m\u001b[38;5;124;43m\"\u001b[39;49m\u001b[38;5;124;43mstop\u001b[39;49m\u001b[38;5;124;43m\"\u001b[39;49m\u001b[43m:\u001b[49m\u001b[43m \u001b[49m\u001b[43mstop\u001b[49m\u001b[43m,\u001b[49m\n\u001b[1;32m    853\u001b[0m \u001b[43m                \u001b[49m\u001b[38;5;124;43m\"\u001b[39;49m\u001b[38;5;124;43mstore\u001b[39;49m\u001b[38;5;124;43m\"\u001b[39;49m\u001b[43m:\u001b[49m\u001b[43m \u001b[49m\u001b[43mstore\u001b[49m\u001b[43m,\u001b[49m\n\u001b[1;32m    854\u001b[0m \u001b[43m                \u001b[49m\u001b[38;5;124;43m\"\u001b[39;49m\u001b[38;5;124;43mstream\u001b[39;49m\u001b[38;5;124;43m\"\u001b[39;49m\u001b[43m:\u001b[49m\u001b[43m \u001b[49m\u001b[43mstream\u001b[49m\u001b[43m,\u001b[49m\n\u001b[1;32m    855\u001b[0m \u001b[43m                \u001b[49m\u001b[38;5;124;43m\"\u001b[39;49m\u001b[38;5;124;43mstream_options\u001b[39;49m\u001b[38;5;124;43m\"\u001b[39;49m\u001b[43m:\u001b[49m\u001b[43m \u001b[49m\u001b[43mstream_options\u001b[49m\u001b[43m,\u001b[49m\n\u001b[1;32m    856\u001b[0m \u001b[43m                \u001b[49m\u001b[38;5;124;43m\"\u001b[39;49m\u001b[38;5;124;43mtemperature\u001b[39;49m\u001b[38;5;124;43m\"\u001b[39;49m\u001b[43m:\u001b[49m\u001b[43m \u001b[49m\u001b[43mtemperature\u001b[49m\u001b[43m,\u001b[49m\n\u001b[1;32m    857\u001b[0m \u001b[43m                \u001b[49m\u001b[38;5;124;43m\"\u001b[39;49m\u001b[38;5;124;43mtool_choice\u001b[39;49m\u001b[38;5;124;43m\"\u001b[39;49m\u001b[43m:\u001b[49m\u001b[43m \u001b[49m\u001b[43mtool_choice\u001b[49m\u001b[43m,\u001b[49m\n\u001b[1;32m    858\u001b[0m \u001b[43m                \u001b[49m\u001b[38;5;124;43m\"\u001b[39;49m\u001b[38;5;124;43mtools\u001b[39;49m\u001b[38;5;124;43m\"\u001b[39;49m\u001b[43m:\u001b[49m\u001b[43m \u001b[49m\u001b[43mtools\u001b[49m\u001b[43m,\u001b[49m\n\u001b[1;32m    859\u001b[0m \u001b[43m                \u001b[49m\u001b[38;5;124;43m\"\u001b[39;49m\u001b[38;5;124;43mtop_logprobs\u001b[39;49m\u001b[38;5;124;43m\"\u001b[39;49m\u001b[43m:\u001b[49m\u001b[43m \u001b[49m\u001b[43mtop_logprobs\u001b[49m\u001b[43m,\u001b[49m\n\u001b[1;32m    860\u001b[0m \u001b[43m                \u001b[49m\u001b[38;5;124;43m\"\u001b[39;49m\u001b[38;5;124;43mtop_p\u001b[39;49m\u001b[38;5;124;43m\"\u001b[39;49m\u001b[43m:\u001b[49m\u001b[43m \u001b[49m\u001b[43mtop_p\u001b[49m\u001b[43m,\u001b[49m\n\u001b[1;32m    861\u001b[0m \u001b[43m                \u001b[49m\u001b[38;5;124;43m\"\u001b[39;49m\u001b[38;5;124;43muser\u001b[39;49m\u001b[38;5;124;43m\"\u001b[39;49m\u001b[43m:\u001b[49m\u001b[43m \u001b[49m\u001b[43muser\u001b[49m\u001b[43m,\u001b[49m\n\u001b[1;32m    862\u001b[0m \u001b[43m            \u001b[49m\u001b[43m}\u001b[49m\u001b[43m,\u001b[49m\n\u001b[1;32m    863\u001b[0m \u001b[43m            \u001b[49m\u001b[43mcompletion_create_params\u001b[49m\u001b[38;5;241;43m.\u001b[39;49m\u001b[43mCompletionCreateParams\u001b[49m\u001b[43m,\u001b[49m\n\u001b[1;32m    864\u001b[0m \u001b[43m        \u001b[49m\u001b[43m)\u001b[49m\u001b[43m,\u001b[49m\n\u001b[1;32m    865\u001b[0m \u001b[43m        \u001b[49m\u001b[43moptions\u001b[49m\u001b[38;5;241;43m=\u001b[39;49m\u001b[43mmake_request_options\u001b[49m\u001b[43m(\u001b[49m\n\u001b[1;32m    866\u001b[0m \u001b[43m            \u001b[49m\u001b[43mextra_headers\u001b[49m\u001b[38;5;241;43m=\u001b[39;49m\u001b[43mextra_headers\u001b[49m\u001b[43m,\u001b[49m\u001b[43m \u001b[49m\u001b[43mextra_query\u001b[49m\u001b[38;5;241;43m=\u001b[39;49m\u001b[43mextra_query\u001b[49m\u001b[43m,\u001b[49m\u001b[43m \u001b[49m\u001b[43mextra_body\u001b[49m\u001b[38;5;241;43m=\u001b[39;49m\u001b[43mextra_body\u001b[49m\u001b[43m,\u001b[49m\u001b[43m \u001b[49m\u001b[43mtimeout\u001b[49m\u001b[38;5;241;43m=\u001b[39;49m\u001b[43mtimeout\u001b[49m\n\u001b[1;32m    867\u001b[0m \u001b[43m        \u001b[49m\u001b[43m)\u001b[49m\u001b[43m,\u001b[49m\n\u001b[1;32m    868\u001b[0m \u001b[43m        \u001b[49m\u001b[43mcast_to\u001b[49m\u001b[38;5;241;43m=\u001b[39;49m\u001b[43mChatCompletion\u001b[49m\u001b[43m,\u001b[49m\n\u001b[1;32m    869\u001b[0m \u001b[43m        \u001b[49m\u001b[43mstream\u001b[49m\u001b[38;5;241;43m=\u001b[39;49m\u001b[43mstream\u001b[49m\u001b[43m \u001b[49m\u001b[38;5;129;43;01mor\u001b[39;49;00m\u001b[43m \u001b[49m\u001b[38;5;28;43;01mFalse\u001b[39;49;00m\u001b[43m,\u001b[49m\n\u001b[1;32m    870\u001b[0m \u001b[43m        \u001b[49m\u001b[43mstream_cls\u001b[49m\u001b[38;5;241;43m=\u001b[39;49m\u001b[43mStream\u001b[49m\u001b[43m[\u001b[49m\u001b[43mChatCompletionChunk\u001b[49m\u001b[43m]\u001b[49m\u001b[43m,\u001b[49m\n\u001b[1;32m    871\u001b[0m \u001b[43m    \u001b[49m\u001b[43m)\u001b[49m\n",
      "File \u001b[0;32m~/Documents/Projects/deeppavlov/chatsky-llm-autoconfig/.venv/lib/python3.12/site-packages/openai/_base_client.py:1277\u001b[0m, in \u001b[0;36mSyncAPIClient.post\u001b[0;34m(self, path, cast_to, body, options, files, stream, stream_cls)\u001b[0m\n\u001b[1;32m   1263\u001b[0m \u001b[38;5;28;01mdef\u001b[39;00m \u001b[38;5;21mpost\u001b[39m(\n\u001b[1;32m   1264\u001b[0m     \u001b[38;5;28mself\u001b[39m,\n\u001b[1;32m   1265\u001b[0m     path: \u001b[38;5;28mstr\u001b[39m,\n\u001b[0;32m   (...)\u001b[0m\n\u001b[1;32m   1272\u001b[0m     stream_cls: \u001b[38;5;28mtype\u001b[39m[_StreamT] \u001b[38;5;241m|\u001b[39m \u001b[38;5;28;01mNone\u001b[39;00m \u001b[38;5;241m=\u001b[39m \u001b[38;5;28;01mNone\u001b[39;00m,\n\u001b[1;32m   1273\u001b[0m ) \u001b[38;5;241m-\u001b[39m\u001b[38;5;241m>\u001b[39m ResponseT \u001b[38;5;241m|\u001b[39m _StreamT:\n\u001b[1;32m   1274\u001b[0m     opts \u001b[38;5;241m=\u001b[39m FinalRequestOptions\u001b[38;5;241m.\u001b[39mconstruct(\n\u001b[1;32m   1275\u001b[0m         method\u001b[38;5;241m=\u001b[39m\u001b[38;5;124m\"\u001b[39m\u001b[38;5;124mpost\u001b[39m\u001b[38;5;124m\"\u001b[39m, url\u001b[38;5;241m=\u001b[39mpath, json_data\u001b[38;5;241m=\u001b[39mbody, files\u001b[38;5;241m=\u001b[39mto_httpx_files(files), \u001b[38;5;241m*\u001b[39m\u001b[38;5;241m*\u001b[39moptions\n\u001b[1;32m   1276\u001b[0m     )\n\u001b[0;32m-> 1277\u001b[0m     \u001b[38;5;28;01mreturn\u001b[39;00m cast(ResponseT, \u001b[38;5;28;43mself\u001b[39;49m\u001b[38;5;241;43m.\u001b[39;49m\u001b[43mrequest\u001b[49m\u001b[43m(\u001b[49m\u001b[43mcast_to\u001b[49m\u001b[43m,\u001b[49m\u001b[43m \u001b[49m\u001b[43mopts\u001b[49m\u001b[43m,\u001b[49m\u001b[43m \u001b[49m\u001b[43mstream\u001b[49m\u001b[38;5;241;43m=\u001b[39;49m\u001b[43mstream\u001b[49m\u001b[43m,\u001b[49m\u001b[43m \u001b[49m\u001b[43mstream_cls\u001b[49m\u001b[38;5;241;43m=\u001b[39;49m\u001b[43mstream_cls\u001b[49m\u001b[43m)\u001b[49m)\n",
      "File \u001b[0;32m~/Documents/Projects/deeppavlov/chatsky-llm-autoconfig/.venv/lib/python3.12/site-packages/openai/_base_client.py:954\u001b[0m, in \u001b[0;36mSyncAPIClient.request\u001b[0;34m(self, cast_to, options, remaining_retries, stream, stream_cls)\u001b[0m\n\u001b[1;32m    951\u001b[0m \u001b[38;5;28;01melse\u001b[39;00m:\n\u001b[1;32m    952\u001b[0m     retries_taken \u001b[38;5;241m=\u001b[39m \u001b[38;5;241m0\u001b[39m\n\u001b[0;32m--> 954\u001b[0m \u001b[38;5;28;01mreturn\u001b[39;00m \u001b[38;5;28;43mself\u001b[39;49m\u001b[38;5;241;43m.\u001b[39;49m\u001b[43m_request\u001b[49m\u001b[43m(\u001b[49m\n\u001b[1;32m    955\u001b[0m \u001b[43m    \u001b[49m\u001b[43mcast_to\u001b[49m\u001b[38;5;241;43m=\u001b[39;49m\u001b[43mcast_to\u001b[49m\u001b[43m,\u001b[49m\n\u001b[1;32m    956\u001b[0m \u001b[43m    \u001b[49m\u001b[43moptions\u001b[49m\u001b[38;5;241;43m=\u001b[39;49m\u001b[43moptions\u001b[49m\u001b[43m,\u001b[49m\n\u001b[1;32m    957\u001b[0m \u001b[43m    \u001b[49m\u001b[43mstream\u001b[49m\u001b[38;5;241;43m=\u001b[39;49m\u001b[43mstream\u001b[49m\u001b[43m,\u001b[49m\n\u001b[1;32m    958\u001b[0m \u001b[43m    \u001b[49m\u001b[43mstream_cls\u001b[49m\u001b[38;5;241;43m=\u001b[39;49m\u001b[43mstream_cls\u001b[49m\u001b[43m,\u001b[49m\n\u001b[1;32m    959\u001b[0m \u001b[43m    \u001b[49m\u001b[43mretries_taken\u001b[49m\u001b[38;5;241;43m=\u001b[39;49m\u001b[43mretries_taken\u001b[49m\u001b[43m,\u001b[49m\n\u001b[1;32m    960\u001b[0m \u001b[43m\u001b[49m\u001b[43m)\u001b[49m\n",
      "File \u001b[0;32m~/Documents/Projects/deeppavlov/chatsky-llm-autoconfig/.venv/lib/python3.12/site-packages/openai/_base_client.py:1058\u001b[0m, in \u001b[0;36mSyncAPIClient._request\u001b[0;34m(self, cast_to, options, retries_taken, stream, stream_cls)\u001b[0m\n\u001b[1;32m   1055\u001b[0m         err\u001b[38;5;241m.\u001b[39mresponse\u001b[38;5;241m.\u001b[39mread()\n\u001b[1;32m   1057\u001b[0m     log\u001b[38;5;241m.\u001b[39mdebug(\u001b[38;5;124m\"\u001b[39m\u001b[38;5;124mRe-raising status error\u001b[39m\u001b[38;5;124m\"\u001b[39m)\n\u001b[0;32m-> 1058\u001b[0m     \u001b[38;5;28;01mraise\u001b[39;00m \u001b[38;5;28mself\u001b[39m\u001b[38;5;241m.\u001b[39m_make_status_error_from_response(err\u001b[38;5;241m.\u001b[39mresponse) \u001b[38;5;28;01mfrom\u001b[39;00m \u001b[38;5;28;01mNone\u001b[39;00m\n\u001b[1;32m   1060\u001b[0m \u001b[38;5;28;01mreturn\u001b[39;00m \u001b[38;5;28mself\u001b[39m\u001b[38;5;241m.\u001b[39m_process_response(\n\u001b[1;32m   1061\u001b[0m     cast_to\u001b[38;5;241m=\u001b[39mcast_to,\n\u001b[1;32m   1062\u001b[0m     options\u001b[38;5;241m=\u001b[39moptions,\n\u001b[0;32m   (...)\u001b[0m\n\u001b[1;32m   1066\u001b[0m     retries_taken\u001b[38;5;241m=\u001b[39mretries_taken,\n\u001b[1;32m   1067\u001b[0m )\n",
      "\u001b[0;31mAuthenticationError\u001b[0m: Error code: 401 - {'error': {'code': '401', 'message': '[BricksLLM] key InnPr********************************************** has been revoked', 'type': ''}}"
     ]
    }
   ],
   "source": [
    "from chatsky_llm_autoconfig.algorithms.dialogue_augmentation import DialogAugmentation\n",
    "from chatsky_llm_autoconfig.algorithms.dialogue_generation import DialogueSampler\n",
    "from chatsky_llm_autoconfig.algorithms.topic_graph_generation import CycleGraphGenerator\n",
    "from chatsky_llm_autoconfig.metrics.llm_metrics import are_triplets_valid\n",
    "from typing import List, Dict, Any\n",
    "import os\n",
    "import json\n",
    "from datetime import datetime\n",
    "from pathlib import Path\n",
    "\n",
    "def generate_dialogues(\n",
    "    topics: List[str], \n",
    "    num_augmentations: int = 2,\n",
    "    model_name: str = \"gpt-4o-mini\"\n",
    ") -> List[Dict[str, Any]]:\n",
    "    \"\"\"\n",
    "    Collects dialogues for each topic and returns them in a structured format.\n",
    "    \n",
    "    Args:\n",
    "        topics: List of conversation topics\n",
    "        num_augmentations: Number of augmented dialogues to generate per topic\n",
    "        model_name: Name of the model to use\n",
    "        \n",
    "    Returns:\n",
    "        List of dictionaries containing graph, topic, and dialogues for each topic\n",
    "    \"\"\"\n",
    "    # Initialize components\n",
    "    graph_generator = CycleGraphGenerator()\n",
    "    sampler = DialogueSampler()\n",
    "    augmenter = DialogAugmentation()\n",
    "    \n",
    "    model = ChatOpenAI(\n",
    "        model=model_name, \n",
    "        api_key=os.getenv(\"OPENAI_API_KEY\"), \n",
    "        base_url=os.getenv(\"OPENAI_BASE_URL\"), \n",
    "        temperature=0\n",
    "    )\n",
    "    \n",
    "    results = []\n",
    "    \n",
    "    for topic in topics:\n",
    "        # Generate graph and validate\n",
    "        graph = graph_generator.invoke(topic=topic)\n",
    "        is_valid = are_triplets_valid(graph, model, topic)\n",
    "        \n",
    "        if is_valid[\"value\"]:\n",
    "            print(f\"Graph: {graph}\")\n",
    "            sampled_dialogue = sampler.invoke(graph, 1, -1)[0]\n",
    "            \n",
    "            print(f\"Sampled dialogue: {sampled_dialogue}\")\n",
    "            \n",
    "            # Initialize dialogues array with the sampled dialogue\n",
    "            dialogues = [sampled_dialogue.model_dump()]\n",
    "            \n",
    "            # Generate augmented versions\n",
    "            for _ in range(num_augmentations):\n",
    "                augmented = augmenter.invoke(dialogue=sampled_dialogue, topic=topic)\n",
    "                dialogues.append(augmented.model_dump())\n",
    "            \n",
    "            # Create result entry\n",
    "            result_entry = {\n",
    "                \"graph\": graph.graph_dict,\n",
    "                \"topic\": topic,\n",
    "                \"dialogues\": dialogues\n",
    "            }\n",
    "            \n",
    "            results.append(result_entry)\n",
    "            \n",
    "    return results\n",
    "\n",
    "def save_dataset(data: List[Dict[str, Any]], num_augmentations: int):\n",
    "    \"\"\"\n",
    "    Saves the dataset with a structured filename.\n",
    "    \n",
    "    Args:\n",
    "        data: List of dictionaries containing graph, topic, and dialogues\n",
    "        num_augmentations: Number of augmented dialogues generated\n",
    "    \"\"\"\n",
    "    # Create dataset directory if it doesn't exist\n",
    "    dataset_dir = Path(\"./dataset\")\n",
    "    dataset_dir.mkdir(parents=True, exist_ok=True)\n",
    "    \n",
    "    # Generate filename with timestamp and dataset info\n",
    "    total_dialogues = 1 + num_augmentations\n",
    "    filename = f\"dialogue_dataset_{len(data)}_topics_{total_dialogues}.json\"\n",
    "    \n",
    "    # Full path for the file\n",
    "    file_path = dataset_dir / filename\n",
    "    \n",
    "    # Convert Graph objects to their dictionary representation\n",
    "    serializable_data = []\n",
    "    for entry in data:\n",
    "        serializable_entry = {\n",
    "            \"graph\": entry[\"graph\"],  # Use graph_dict instead of Graph object\n",
    "            \"topic\": entry[\"topic\"],\n",
    "            \"dialogues\": entry[\"dialogues\"]\n",
    "        }\n",
    "        serializable_data.append(serializable_entry)\n",
    "    \n",
    "    # Save the data\n",
    "    with open(file_path, 'w', encoding='utf-8') as f:\n",
    "        json.dump(serializable_data, f, indent=2, ensure_ascii=False)\n",
    "    \n",
    "    print(f\"Dataset saved to: {file_path}\")\n",
    "    return file_path\n",
    "# Example usage\n",
    "topics = [\n",
    "    \"booking a hotel room\",                    # Travel/Accommodation\n",
    "    \"scheduling a doctor's appointment\",       # Healthcare\n",
    "    \"ordering food delivery\",                  # Food Service\n",
    "    \"tech support for a laptop issue\",         # Technical Support\n",
    "    \"buying movie tickets\",                    # Entertainment\n",
    "    \"gym membership registration\",             # Fitness\n",
    "    \"car maintenance service\",                 # Automotive\n",
    "    \"flight reservation\",                      # Travel\n",
    "    \"pizza delivery customization\",            # Food Service\n",
    "    \"hair salon appointment booking\",          # Personal Care\n",
    "    \"internet service installation\",           # Utilities\n",
    "    \"banking account assistance\",              # Financial Services\n",
    "    \"pet grooming appointment\",               # Pet Services\n",
    "    \"mobile phone plan upgrade\",              # Telecommunications\n",
    "    \"house cleaning service booking\",          # Home Services\n",
    "    \"online therapy session booking\",          # Mental Health\n",
    "    \"language course enrollment\",              # Education\n",
    "    \"covid-19 test scheduling\",               # Healthcare\n",
    "    \"food delivery subscription\",              # Food Service\n",
    "    \"remote work tech support\"                # Technical Support\n",
    "]\n",
    "\n",
    "# Number of augmentations (total dialogues will be num_augmentations + 1)\n",
    "num_augmentations = 2\n",
    "\n",
    "# Collect dialogues\n",
    "dialogue_collection = generate_dialogues(topics, num_augmentations=num_augmentations)\n",
    "\n",
    "saved_path = save_dataset(dialogue_collection, num_augmentations)\n"
   ]
  }
 ],
 "metadata": {
  "kernelspec": {
   "display_name": ".venv",
   "language": "python",
   "name": "python3"
  },
  "language_info": {
   "codemirror_mode": {
    "name": "ipython",
    "version": 3
   },
   "file_extension": ".py",
   "mimetype": "text/x-python",
   "name": "python",
   "nbconvert_exporter": "python",
   "pygments_lexer": "ipython3",
   "version": "3.12.7"
  }
 },
 "nbformat": 4,
 "nbformat_minor": 2
}
