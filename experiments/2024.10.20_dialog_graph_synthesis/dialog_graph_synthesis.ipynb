{
 "cells": [
  {
   "cell_type": "code",
   "execution_count": 1,
   "metadata": {},
   "outputs": [
    {
     "name": "stderr",
     "output_type": "stream",
     "text": [
      "/Users/dmitriimartynov/Documents/Projects/deeppavlov/chatsky-llm-autoconfig/.venv/lib/python3.12/site-packages/IPython/core/interactiveshell.py:3577: LangChainDeprecationWarning: As of langchain-core 0.3.0, LangChain uses pydantic v2 internally. The langchain_core.pydantic_v1 module was a compatibility shim for pydantic v1, and should no longer be used. Please update the code to import from Pydantic directly.\n",
      "\n",
      "For example, replace imports like: `from langchain_core.pydantic_v1 import BaseModel`\n",
      "with: `from pydantic import BaseModel`\n",
      "or the v1 compatibility namespace if you are working in a code base that has not been fully upgraded to pydantic 2 yet. \tfrom pydantic.v1 import BaseModel\n",
      "\n",
      "  exec(code_obj, self.user_global_ns, self.user_ns)\n"
     ]
    },
    {
     "data": {
      "text/plain": [
       "True"
      ]
     },
     "execution_count": 1,
     "metadata": {},
     "output_type": "execute_result"
    }
   ],
   "source": [
    "from langchain_openai import ChatOpenAI\n",
    "from langchain_core.messages import HumanMessage, SystemMessage\n",
    "from langchain_core.output_parsers import StrOutputParser\n",
    "from langchain_core.prompts import ChatPromptTemplate\n",
    "from langchain_core.pydantic_v1 import BaseModel, Field\n",
    "import matplotlib.pyplot as plt\n",
    "import random\n",
    "import json\n",
    "from dotenv import load_dotenv\n",
    "import os\n",
    "from tqdm import tqdm\n",
    "import time\n",
    "import networkx as nx\n",
    "load_dotenv() "
   ]
  },
  {
   "cell_type": "markdown",
   "metadata": {},
   "source": [
    "## Cycle Graph Creation"
   ]
  },
  {
   "cell_type": "markdown",
   "metadata": {},
   "source": [
    "Prompt"
   ]
  },
  {
   "cell_type": "code",
   "execution_count": 2,
   "metadata": {},
   "outputs": [],
   "source": [
    "from langchain.prompts import PromptTemplate\n",
    "\n",
    "cycle_graph_generation_prompt = PromptTemplate.from_template(\n",
    "    '''\n",
    "        Your task is to create a dialogue graph based on a given topic. \n",
    "        The dialogue must be written in English, consist of exactly two people talking, show user-assistant interaction, \n",
    "        and be cyclic (the last phrase should connect the last node with the first node). \n",
    "        You have an example of a dialogue from a customer chatbot system. \n",
    "        You also have an example of a set of rules describing how the chatbot system works—it is a set of nodes where the chatbot system responds \n",
    "        and a set of transitions that are triggered by user requests. \n",
    "        So NODES must consist of utterances from the assistant (chatbot), and EDGES must consist of utterances from the user.\n",
    "        Here is the example of the set of rules:\n",
    "\n",
    "        \"edges\": [\n",
    "            {{ \"source\": 1, \"target\": 2, \"utterances\": [\"I need to make an order\", \"I want to order from you\"] }},\n",
    "            {{ \"source\": 2, \"target\": 3, \"utterances\": [\"I would like to purchase 'Pale Fire' and 'Anna Karenina', please\", \"I want to buy two books: 'Pale Fire' and 'Anna Karenina'\"] }},\n",
    "            {{ \"source\": 3, \"target\": 4, \"utterances\": [\"Cash\", \"I'll pay in cash\"] }},\n",
    "            {{ \"source\": 3, \"target\": 4, \"utterances\": [\"With credit card, please\", \"I'd like to pay by card\"] }},\n",
    "            {{ \"source\": 4, \"target\": 3, \"utterances\": [\"I will enter a new payment method\", \"Let me try a different payment option\"] }},\n",
    "            {{ \"source\": 4, \"target\": 1, \"utterances\": [\"Start new order\", \"I want to start over\"] }}\n",
    "        ],\n",
    "         \"nodes\": [\n",
    "            {{ \"id\": 1, \"label\": \"start\", \"is_start\": true, \"utterances\": [\"How can I help?\", \"Welcome! What can I do for you?\"] }},\n",
    "            {{ \"id\": 2, \"label\": \"ask_books\", \"is_start\": false, \"utterances\": [\"Which books would you like to order?\", \"What books are you interested in?\"] }},\n",
    "            {{ \"id\": 3, \"label\": \"ask_payment_method\", \"is_start\": false, \"utterances\": [\"Please select your payment method: cash or credit card.\", \"How would you like to pay? We accept cash or credit card.\"] }},\n",
    "            {{ \"id\": 4, \"label\": \"ask_to_redo\", \"is_start\": false, \"utterances\": [\"Something went wrong. Would you like to try another payment method or start a new order?\", \"There seems to be an issue. You can try a different payment method or begin a new order.\"] }}\n",
    "        ]\n",
    "\n",
    "        Your task is to create a dialogue graph about the following topic: {topic}. \n",
    "        The graph must be a valid JSON string in the specified format, \n",
    "        using the structure and naming conventions from the examples. \n",
    "        Return ONLY the JSON string in plain text (no code blocks) without any additional commentaries. \n",
    "        All utterances must be arrays containing exactly 2 semantically equivalent variations of the same message.\n",
    "        Come up with an original dialogue themed around the given topic.\n",
    "    '''\n",
    ")"
   ]
  },
  {
   "cell_type": "code",
   "execution_count": 14,
   "metadata": {},
   "outputs": [],
   "source": [
    "from langchain_core.output_parsers import StrOutputParser\n",
    "from pydantic import BaseModel, Field\n",
    "from typing import List, Optional\n",
    "from langchain_core.output_parsers import JsonOutputParser\n",
    "\n",
    "class Edge(BaseModel):\n",
    "    source: int = Field(description=\"ID of the source node\")\n",
    "    target: int = Field(description=\"ID of the target node\")\n",
    "    utterances: str = Field(description=\"User's utterance that triggers this transition\")\n",
    "\n",
    "class Node(BaseModel):\n",
    "    id: int = Field(description=\"Unique identifier for the node\")\n",
    "    label: str = Field(description=\"Label describing the node's purpose\")\n",
    "    is_start: bool = Field(description=\"Whether this is the starting node\")\n",
    "    utterances: List[str] = Field(description=\"Possible assistant responses at this node\")\n",
    "\n",
    "class DialogueGraph(BaseModel):\n",
    "    edges: List[Edge] = Field(description=\"List of transitions between nodes\")\n",
    "    nodes: List[Node] = Field(description=\"List of nodes representing assistant states\")\n",
    "\n",
    "\n",
    "parser = JsonOutputParser(pydantic_object=DialogueGraph)\n",
    "\n",
    "\n",
    "model = ChatOpenAI(model=\"gpt-4o-mini\", api_key=os.getenv(\"OPENAI_API_KEY\"), base_url=os.getenv(\"OPENAI_BASE_URL\"), temperature=0)\n",
    "\n",
    "generate_graph_chain = cycle_graph_generation_prompt | model | parser\n",
    "\n"
   ]
  },
  {
   "cell_type": "code",
   "execution_count": 25,
   "metadata": {},
   "outputs": [],
   "source": [
    "graph = generate_graph_chain.invoke({\"topic\": \"Dialog about cooking between assistant and customer\"})"
   ]
  },
  {
   "cell_type": "code",
   "execution_count": 26,
   "metadata": {},
   "outputs": [
    {
     "data": {
      "text/plain": [
       "{'edges': [{'source': 1,\n",
       "   'target': 2,\n",
       "   'utterances': 'I want to cook something delicious.'},\n",
       "  {'source': 1, 'target': 2, 'utterances': 'Can you help me with a recipe?'},\n",
       "  {'source': 2,\n",
       "   'target': 3,\n",
       "   'utterances': 'What type of dish are you interested in making?'},\n",
       "  {'source': 3, 'target': 4, 'utterances': 'I want to make a pasta dish.'},\n",
       "  {'source': 3, 'target': 4, 'utterances': \"I'm thinking about a dessert.\"},\n",
       "  {'source': 4,\n",
       "   'target': 3,\n",
       "   'utterances': 'Do you have any specific ingredients in mind?'},\n",
       "  {'source': 4,\n",
       "   'target': 1,\n",
       "   'utterances': \"Let's start over, I need a different recipe.\"}],\n",
       " 'nodes': [{'id': 1,\n",
       "   'label': 'start',\n",
       "   'is_start': True,\n",
       "   'utterances': ['Hello! How can I assist you with cooking today?',\n",
       "    'What would you like to cook?']},\n",
       "  {'id': 2,\n",
       "   'label': 'ask_dish_type',\n",
       "   'is_start': False,\n",
       "   'utterances': ['What kind of dish are you looking to prepare?']},\n",
       "  {'id': 3,\n",
       "   'label': 'ask_ingredients',\n",
       "   'is_start': False,\n",
       "   'utterances': ['What ingredients do you have available?']},\n",
       "  {'id': 4,\n",
       "   'label': 'ask_to_redo',\n",
       "   'is_start': False,\n",
       "   'utterances': ['If you want to change the recipe, just let me know!']}]}"
      ]
     },
     "execution_count": 26,
     "metadata": {},
     "output_type": "execute_result"
    }
   ],
   "source": [
    "graph"
   ]
  },
  {
   "cell_type": "code",
   "execution_count": 20,
   "metadata": {},
   "outputs": [
    {
     "data": {
      "image/png": "[encoded data removed]",
      "text/plain": [
       "<Figure size 640x480 with 1 Axes>"
      ]
     },
     "metadata": {},
     "output_type": "display_data"
    }
   ],
   "source": [
    "from chatsky_llm_autoconfig.graph import Graph\n",
    "converted_graph =  Graph(graph)\n",
    "converted_graph.visualise()"
   ]
  },
  {
   "cell_type": "markdown",
   "metadata": {},
   "source": [
    "## Best Graph Selection"
   ]
  },
  {
   "cell_type": "code",
   "execution_count": 27,
   "metadata": {},
   "outputs": [
    {
     "name": "stdout",
     "output_type": "stream",
     "text": [
      "{'source_utterances': ['Hello! How can I assist you with cooking today?', 'What would you like to cook?'], 'edge_utterance': 'I want to cook something delicious.', 'target_utterances': ['What kind of dish are you looking to prepare?']}\n",
      "is_valid=True\n",
      "{'source_utterances': ['Hello! How can I assist you with cooking today?', 'What would you like to cook?'], 'edge_utterance': 'Can you help me with a recipe?', 'target_utterances': ['What kind of dish are you looking to prepare?']}\n",
      "is_valid=True\n",
      "{'source_utterances': ['What kind of dish are you looking to prepare?'], 'edge_utterance': 'What type of dish are you interested in making?', 'target_utterances': ['What ingredients do you have available?']}\n",
      "is_valid=True\n",
      "{'source_utterances': ['What ingredients do you have available?'], 'edge_utterance': 'I want to make a pasta dish.', 'target_utterances': ['If you want to change the recipe, just let me know!']}\n",
      "is_valid=True\n",
      "{'source_utterances': ['What ingredients do you have available?'], 'edge_utterance': \"I'm thinking about a dessert.\", 'target_utterances': ['If you want to change the recipe, just let me know!']}\n",
      "is_valid=True\n",
      "{'source_utterances': ['If you want to change the recipe, just let me know!'], 'edge_utterance': 'Do you have any specific ingredients in mind?', 'target_utterances': ['What ingredients do you have available?']}\n",
      "is_valid=True\n",
      "{'source_utterances': ['If you want to change the recipe, just let me know!'], 'edge_utterance': \"Let's start over, I need a different recipe.\", 'target_utterances': ['Hello! How can I assist you with cooking today?', 'What would you like to cook?']}\n",
      "is_valid=True\n"
     ]
    },
    {
     "data": {
      "text/plain": [
       "True"
      ]
     },
     "execution_count": 27,
     "metadata": {},
     "output_type": "execute_result"
    }
   ],
   "source": [
    "from langchain.prompts import PromptTemplate\n",
    "from langchain.output_parsers import PydanticOutputParser\n",
    "from pydantic import BaseModel, Field\n",
    "from typing import List\n",
    "import os\n",
    "\n",
    "\n",
    "def is_graph_valid(graph):\n",
    "    \"\"\"\n",
    "    Validates the dialog graph structure and logical transitions between nodes.\n",
    "\n",
    "    Parameters:\n",
    "        graph (dict): A dictionary containing 'nodes' and 'edges' of the graph.\n",
    "\n",
    "    Returns:\n",
    "        bool: True if the graph is valid, False otherwise.\n",
    "    \"\"\"\n",
    "    # Create a mapping from node IDs to node data for quick access\n",
    "    node_map = {node['id']: node for node in graph['nodes']}\n",
    "    valid = True\n",
    "\n",
    "    for edge in graph['edges']:\n",
    "        source_id = edge['source']\n",
    "        target_id = edge['target']\n",
    "        edge_utterance = edge['utterances']\n",
    "\n",
    "        # Check if source and target nodes exist\n",
    "        if source_id not in node_map:\n",
    "            print(f\"Invalid edge: source node {source_id} does not exist.\")\n",
    "            valid = False\n",
    "            continue\n",
    "        if target_id not in node_map:\n",
    "            print(f\"Invalid edge: target node {target_id} does not exist.\")\n",
    "            valid = False\n",
    "            continue\n",
    "\n",
    "        source_node = node_map[source_id]\n",
    "        target_node = node_map[target_id]\n",
    "\n",
    "        # Get utterances from nodes\n",
    "        source_utterances = source_node.get('utterances', [])\n",
    "        target_utterances = target_node.get('utterances', [])\n",
    "\n",
    "        # Validate the transition\n",
    "        if not validate_transition(source_utterances, edge_utterance, target_utterances):\n",
    "            print(f\"Invalid transition from node {source_id} to node {target_id} via edge '{edge_utterance}'.\")\n",
    "            valid = False\n",
    "\n",
    "    return valid\n",
    "\n",
    "\n",
    "prompt_template = \"\"\"Given the following dialog parts:\n",
    "- Source utterances: {source_utterances}\n",
    "- Edge utterance: {edge_utterance}\n",
    "- Target utterances: {target_utterances}\n",
    "\n",
    "Is the transition from the source utterances through the edge utterance to the target utterances valid in a dialog graph?\n",
    "\n",
    "Provide your answer in the following JSON format:\n",
    "{{{{\"is_valid\": true or false}}}}\n",
    "\n",
    "Your answer:\"\"\"\n",
    "\n",
    "prompt = PromptTemplate(\n",
    "    input_variables=[\"source_utterances\", \"edge_utterance\", \"target_utterances\"],\n",
    "    template=prompt_template,\n",
    ")\n",
    "\n",
    "# Initialize the model\n",
    "model = ChatOpenAI(\n",
    "    model=\"gpt-4o-mini\",\n",
    "    api_key=os.getenv(\"OPENAI_API_KEY\"),\n",
    "    base_url=os.getenv(\"OPENAI_BASE_URL\"),\n",
    "    temperature=0\n",
    ")\n",
    "\n",
    "class TransitionValidationResult(BaseModel):\n",
    "    is_valid: bool = Field(description=\"Whether the transition is valid or not.\")\n",
    "\n",
    "# Initialize the output parser\n",
    "parser = PydanticOutputParser(pydantic_object=TransitionValidationResult)\n",
    "\n",
    "# Create the LLM chain with the prompt and parser\n",
    "triplet_check_chain = prompt | model | parser\n",
    "\n",
    "# Define the validate_transition function\n",
    "def validate_transition(source_utterances: List[str], edge_utterance: str, target_utterances: List[str]) -> bool:\n",
    "    \"\"\"\n",
    "    Validates a single transition in the graph using GPT-4-0 mini.\n",
    "\n",
    "    Parameters:\n",
    "        source_utterances (List[str]): Utterances from the source node.\n",
    "        edge_utterance (str): The utterance on the edge.\n",
    "        target_utterances (List[str]): Utterances from the target node.\n",
    "\n",
    "    Returns:\n",
    "        bool: True if the transition is valid, False otherwise.\n",
    "    \"\"\"\n",
    "    # Prepare input data for the chain\n",
    "    input_data = {\n",
    "        \"source_utterances\": source_utterances,\n",
    "        \"edge_utterance\": edge_utterance,\n",
    "        \"target_utterances\": target_utterances\n",
    "    }\n",
    "    # Run the chain and get the response\n",
    "    response = triplet_check_chain.invoke(input_data)\n",
    "    # The response is parsed into a TransitionValidationResult object\n",
    "    print(input_data)\n",
    "    print(response)\n",
    "    \n",
    "    is_valid = response.is_valid\n",
    "    return is_valid\n",
    "\n",
    "\n",
    "is_graph_valid(graph)\n"
   ]
  }
 ],
 "metadata": {
  "kernelspec": {
   "display_name": ".venv",
   "language": "python",
   "name": "python3"
  },
  "language_info": {
   "codemirror_mode": {
    "name": "ipython",
    "version": 3
   },
   "file_extension": ".py",
   "mimetype": "text/x-python",
   "name": "python",
   "nbconvert_exporter": "python",
   "pygments_lexer": "ipython3",
   "version": "3.12.7"
  }
 },
 "nbformat": 4,
 "nbformat_minor": 2
}
