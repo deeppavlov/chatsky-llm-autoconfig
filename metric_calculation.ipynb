{
 "cells": [
  {
   "cell_type": "code",
   "execution_count": 5,
   "metadata": {},
   "outputs": [],
   "source": [
    "import json"
   ]
  },
  {
   "cell_type": "code",
   "execution_count": 78,
   "metadata": {},
   "outputs": [],
   "source": [
    "with open('./sampled_dialogues.json', 'r') as f:\n",
    "    true_content = json.load(f)\n",
    "\n",
    "with open('./remade_dialogue_routes.json', 'r') as f2:\n",
    "    pred_content = json.load(f2)\n",
    "\n",
    "with open('./types_of_dialogues.json', 'r') as f3:\n",
    "    types_content = json.load(f3)"
   ]
  },
  {
   "cell_type": "code",
   "execution_count": 29,
   "metadata": {},
   "outputs": [
    {
     "name": "stdout",
     "output_type": "stream",
     "text": [
      "{'links': [{'source': 1, 'target': 1, 'request': 'I need your help'}, {'source': 1, 'target': 1, 'request': 'Hello'}, {'source': 1, 'target': 1, 'request': 'Hi'}], 'nodes': [{'id': 1, 'label': 'start', 'is_start': True, 'response': 'How can I help?'}]}\n",
      "{'links': [{'source': 1, 'target': 2, 'request': 'I need to make an order'}, {'source': 1, 'target': 2, 'request': 'I want to order from you'}, {'source': 2, 'target': 3, 'request': \"I would like to purchase 'Pale Fire' and 'Anna Karenina', please\"}, {'source': 2, 'target': 3, 'request': 'One War and Piece in hard cover and one Pride and Prejudice'}, {'source': 3, 'target': 4, 'request': 'I will pickup my order'}, {'source': 3, 'target': 4, 'request': 'Delivery to the address: Pine Driveway, 45'}, {'source': 4, 'target': 5, 'request': 'Cash'}, {'source': 4, 'target': 5, 'request': 'With credit card, please'}], 'nodes': [{'id': 1, 'label': 'start', 'is_start': True, 'response': 'How can I help?'}, {'id': 2, 'label': 'ask_item', 'is_start': False, 'response': 'Which books would you like to order?'}, {'id': 3, 'label': 'ask_delivery', 'is_start': False, 'response': 'Which delivery method would you like to use? We currently offer pickup or home delivery.'}, {'id': 4, 'label': 'ask_payment_method', 'is_start': False, 'response': 'Please, enter the payment method you would like to use: cash or credit card.'}, {'id': 5, 'label': 'success', 'is_start': False, 'response': 'Success'}]}\n",
      "{'links': [{'source': 1, 'target': 2, 'request': 'I need to make an order'}, {'source': 1, 'target': 2, 'request': 'I want to order from you'}, {'source': 2, 'target': 3, 'request': \"I would like to purchase 'Pale Fire' and 'Anna Karenina', please\"}, {'source': 2, 'target': 3, 'request': 'One War and Piece in hard cover and one Pride and Prejudice'}, {'source': 3, 'target': 4, 'request': 'I will pickup my order'}, {'source': 3, 'target': 4, 'request': 'Delivery to the address: Pine Driveway, 45'}, {'source': 4, 'target': 5, 'request': 'Cash'}, {'source': 4, 'target': 5, 'request': 'With credit card, please'}, {'source': 5, 'target': 1, 'request': 'Thanks'}, {'source': 5, 'target': 1, 'request': 'Goodbye'}, {'source': 5, 'target': 1, 'request': 'Excellent'}], 'nodes': [{'id': 1, 'label': 'start', 'is_start': True, 'response': 'Is there anything can I help with?'}, {'id': 2, 'label': 'ask_item', 'is_start': False, 'response': 'Which books would you like to order?'}, {'id': 3, 'label': 'ask_delivery', 'is_start': False, 'response': 'Which delivery method would you like to use? We currently offer pickup or home delivery.'}, {'id': 4, 'label': 'ask_payment_method', 'is_start': False, 'response': 'Please, enter the payment method you would like to use: cash or credit card.'}, {'id': 5, 'label': 'success', 'is_start': False, 'response': 'Success'}]}\n",
      "{'links': [{'source': 1, 'target': 2, 'request': 'I need to make an order'}, {'source': 1, 'target': 2, 'request': 'I want to order from you'}, {'source': 2, 'target': 3, 'request': \"I would like to purchase 'Pale Fire' and 'Anna Karenina', please\"}, {'source': 2, 'target': 3, 'request': 'One War and Piece in hard cover and one Pride and Prejudice'}, {'source': 3, 'target': 4, 'request': 'I will pickup my order'}, {'source': 3, 'target': 4, 'request': 'Delivery to the address: Pine Driveway, 45'}, {'source': 4, 'target': 5, 'request': 'Cash'}, {'source': 4, 'target': 5, 'request': 'With credit card, please'}, {'source': 5, 'target': 1, 'request': 'Thanks'}, {'source': 5, 'target': 1, 'request': 'Goodbye'}, {'source': 5, 'target': 1, 'request': 'Excellent'}, {'source': 1, 'target': 6, 'request': 'I would like to change the information about my order number 33543'}, {'source': 1, 'target': 6, 'request': 'I made a typo in my order, can you correct it? Order number 54456'}, {'source': 6, 'target': 7, 'request': 'I would like to change delivery from pickup to home delivery'}, {'source': 6, 'target': 7, 'request': 'I would like to change delivery from house delivery to pickup'}, {'source': 7, 'target': 10, 'request': 'Good, thanks'}, {'source': 6, 'target': 8, 'request': 'I would like to change payment method from cash to card'}, {'source': 6, 'target': 8, 'request': 'I would like to change payment method from credit card to cash'}, {'source': 8, 'target': 10, 'request': 'Good, thanks'}, {'source': 7, 'target': 6, 'request': 'I also would like to change something else about my order'}, {'source': 8, 'target': 6, 'request': 'I also would like to change something else about my order'}, {'source': 6, 'target': 9, 'request': \"I want to add a book 'Cather in the Rye'\"}, {'source': 9, 'target': 10, 'request': \"Thank you, that's all\"}, {'source': 9, 'target': 10, 'request': 'Good, thanks'}], 'nodes': [{'id': 1, 'label': 'start', 'is_start': True, 'response': 'Is there anything can I help with?'}, {'id': 2, 'label': 'ask_item', 'is_start': False, 'response': 'Which books would you like to order?'}, {'id': 3, 'label': 'ask_delivery', 'is_start': False, 'response': 'Which delivery method would you like to use? We currently offer pickup or home delivery.'}, {'id': 4, 'label': 'ask_payment_method', 'is_start': False, 'response': 'Please, enter the payment method you would like to use: cash or credit card.'}, {'id': 5, 'label': 'success', 'is_start': False, 'response': 'Success'}, {'id': 6, 'label': 'change_info', 'is_start': False, 'response': 'Sure, what would you like to change?'}, {'id': 7, 'label': 'change_delivery', 'is_start': False, 'response': \"Okay, it's changed\"}, {'id': 8, 'label': 'change_payment', 'is_start': False, 'response': \"Okay, it's changed\"}, {'id': 9, 'label': 'add_books', 'is_start': False, 'response': 'Done, this is added to your order!'}, {'id': 10, 'label': 'confirm', 'is_start': False, 'response': 'Done!'}]}\n",
      "{'links': [{'source': 1, 'target': 2, 'request': 'I need to make an order'}, {'source': 1, 'target': 2, 'request': 'I want to order from you'}, {'source': 2, 'target': 3, 'request': \"I would like to purchase 'Pale Fire' and 'Anna Karenina', please\"}, {'source': 2, 'target': 3, 'request': 'One War and Piece in hard cover and one Pride and Prejudice'}, {'source': 3, 'target': 4, 'request': 'I will pickup my order'}, {'source': 3, 'target': 4, 'request': 'Delivery to the address: Pine Driveway, 45'}, {'source': 4, 'target': 5, 'request': 'Cash'}, {'source': 4, 'target': 1, 'request': \"I've changed my mind, can we start again\"}, {'source': 4, 'target': 1, 'request': 'Start again'}, {'source': 4, 'target': 1, 'request': 'Please cancel my order'}, {'source': 4, 'target': 5, 'request': 'With credit card, please'}, {'source': 5, 'target': 1, 'request': 'Thanks'}, {'source': 5, 'target': 1, 'request': 'Goodbye'}, {'source': 5, 'target': 1, 'request': 'Excellent'}], 'nodes': [{'id': 1, 'label': 'start', 'is_start': True, 'response': 'Is there anything can I help with?'}, {'id': 2, 'label': 'ask_item', 'is_start': False, 'response': 'Which books would you like to order?'}, {'id': 3, 'label': 'ask_delivery', 'is_start': False, 'response': 'Which delivery method would you like to use? We currently offer pickup or home delivery.'}, {'id': 4, 'label': 'ask_payment_method', 'is_start': False, 'response': 'Please, enter the payment method you would like to use: cash or credit card.'}, {'id': 5, 'label': 'success', 'is_start': False, 'response': 'Success'}]}\n"
     ]
    }
   ],
   "source": [
    "for x in types_content.values():\n",
    "    print(x)"
   ]
  },
  {
   "cell_type": "code",
   "execution_count": 15,
   "metadata": {},
   "outputs": [
    {
     "data": {
      "text/plain": [
       "dict_values([{'examples': [{'dialog_with_known_nodes': [{'text': 'Hello', 'participant': 'user', 'source': 1, 'target': 1}, {'text': 'How can I help?', 'participant': 'assistant'}], 'dialog': [{'text': 'Hello', 'participant': 'user'}, {'text': 'How can I help?', 'participant': 'assistant'}]}, {'dialog_with_known_nodes': [{'text': 'I need your help', 'participant': 'user', 'source': 1, 'target': 1}, {'text': 'How can I help?', 'participant': 'assistant'}], 'dialog': [{'text': 'I need your help', 'participant': 'user'}, {'text': 'How can I help?', 'participant': 'assistant'}]}]}, {'examples': [{'dialog_with_known_nodes': [{'text': 'I need to make an order', 'participant': 'user', 'source': 1, 'target': 2}, {'text': 'Which books would you like to order?', 'participant': 'assistant', 'source': 2, 'target': 3}, {'text': \"I would like to purchase 'Pale Fire' and 'Anna Karenina', please\", 'participant': 'user', 'source': 2, 'target': 3}, {'text': 'Which delivery method would you like to use? We currently offer pickup or home delivery.', 'participant': 'assistant', 'source': 3, 'target': 4}, {'text': 'Delivery to the address: Pine Driveway, 45', 'participant': 'user', 'source': 3, 'target': 4}, {'text': 'Please, enter the payment method you would like to use: cash or credit card.', 'participant': 'assistant', 'source': 4, 'target': 5}, {'text': 'With credit card, please.', 'participant': 'user', 'source': 4, 'target': 5}, {'text': 'Success', 'participant': 'assistant', 'source': 5, 'target': 5}], 'dialog': [{'text': 'I need to make an order', 'participant': 'user'}, {'text': 'Which books would you like to order?', 'participant': 'assistant'}, {'text': \"I would like to purchase 'Pale Fire' and 'Anna Karenina', please\", 'participant': 'user'}, {'text': 'Which delivery method would you like to use? We currently offer pickup or home delivery.', 'participant': 'assistant'}, {'text': 'Delivery to the address: Pine Driveway, 45', 'participant': 'user'}, {'text': 'Please, enter the payment method you would like to use: cash or credit card.', 'participant': 'assistant'}, {'text': 'With credit card, please.', 'participant': 'user'}, {'text': 'Success', 'participant': 'assistant'}]}, {'dialog_with_known_nodes': [{'text': 'I want to order from you', 'participant': 'user', 'source': 1, 'target': 2}, {'text': 'Which books would you like to order?', 'participant': 'assistant', 'source': 2, 'target': 3}, {'text': 'One War and Piece in hard cover and one Pride and Prejudice', 'participant': 'user', 'source': 2, 'target': 3}, {'text': 'Which delivery method would you like to use? We currently offer pickup or home delivery.', 'participant': 'assistant', 'source': 3, 'target': 4}, {'text': 'I will pickup my order', 'participant': 'user', 'source': 3, 'target': 4}, {'text': 'Please, enter the payment method you would like to use: cash or credit card.', 'participant': 'assistant', 'source': 4, 'target': 5}, {'text': 'Cash', 'participant': 'user', 'source': 4, 'target': 5}, {'text': 'Success', 'participant': 'assistant', 'source': 5, 'target': 5}], 'dialog': [{'text': 'I want to order from you', 'participant': 'user'}, {'text': 'Which books would you like to order?', 'participant': 'assistant'}, {'text': 'One War and Piece in hard cover and one Pride and Prejudice', 'participant': 'user'}, {'text': 'Which delivery method would you like to use? We currently offer pickup or home delivery.', 'participant': 'assistant'}, {'text': 'I will pickup my order', 'participant': 'user'}, {'text': 'Please, enter the payment method you would like to use: cash or credit card.', 'participant': 'assistant'}, {'text': 'Cash.', 'participant': 'user'}, {'text': 'Success', 'participant': 'assistant'}]}]}, {'examples': [{'dialog_with_known_nodes': [{'text': 'I need to make an order', 'participant': 'user', 'source': 1, 'target': 2}, {'text': 'Which books would you like to order?', 'participant': 'assistant', 'source': 2, 'target': 3}, {'text': \"I would like to purchase 'Pale Fire' and 'Anna Karenina', please\", 'participant': 'user', 'source': 2, 'target': 3}, {'text': 'Which delivery method would you like to use? We currently offer pickup or home delivery.', 'participant': 'assistant', 'source': 3, 'target': 4}, {'text': 'Delivery to the address: Pine Driveway, 45', 'participant': 'user', 'source': 3, 'target': 4}, {'text': 'Please, enter the payment method you would like to use: cash or credit card.', 'participant': 'assistant', 'source': 4, 'target': 5}, {'text': 'With credit card, please.', 'participant': 'user', 'source': 4, 'target': 5}, {'text': 'Success', 'participant': 'assistant', 'source': 5, 'target': 1}, {'text': 'Thanks', 'participant': 'user', 'source': 5, 'target': 1}], 'dialog': [{'text': 'I need to make an order', 'participant': 'user'}, {'text': 'Which books would you like to order?', 'participant': 'assistant'}, {'text': \"I would like to purchase 'Pale Fire' and 'Anna Karenina', please\", 'participant': 'user'}, {'text': 'Which delivery method would you like to use? We currently offer pickup or home delivery.', 'participant': 'assistant'}, {'text': 'Delivery to the address: Pine Driveway, 45', 'participant': 'user'}, {'text': 'Please, enter the payment method you would like to use: cash or credit card.', 'participant': 'assistant'}, {'text': 'With credit card, please.', 'participant': 'user'}, {'text': 'Success', 'participant': 'assistant'}, {'text': 'Thanks', 'participant': 'user'}]}, {'dialog_with_known_nodes': [{'text': 'I want to order from you', 'participant': 'user', 'source': 1, 'target': 2}, {'text': 'Which books would you like to order?', 'participant': 'assistant', 'source': 2, 'target': 3}, {'text': \"I would like to purchase 'Pale Fire' and 'Anna Karenina', please\", 'participant': 'user', 'source': 2, 'target': 3}, {'text': 'Which delivery method would you like to use? We currently offer pickup or home delivery.', 'participant': 'assistant', 'source': 3, 'target': 4}, {'text': 'Delivery to the address: Pine Driveway, 45', 'participant': 'user', 'source': 3, 'target': 4}, {'text': 'Please, enter the payment method you would like to use: cash or credit card.', 'participant': 'assistant', 'source': 4, 'target': 5}, {'text': 'Cash', 'participant': 'user', 'source': 4, 'target': 5}, {'text': 'Success', 'participant': 'assistant', 'source': 5, 'target': 1}, {'text': 'Goodbye', 'participant': 'user', 'source': 5, 'target': 1}], 'dialog': [{'text': 'I want to order from you', 'participant': 'user'}, {'text': 'Which books would you like to order?', 'participant': 'assistant'}, {'text': \"I would like to purchase 'Pale Fire' and 'Anna Karenina', please\", 'participant': 'user'}, {'text': 'Which delivery method would you like to use? We currently offer pickup or home delivery.', 'participant': 'assistant'}, {'text': 'Delivery to the address: Pine Driveway, 45', 'participant': 'user'}, {'text': 'Please, enter the payment method you would like to use: cash or credit card.', 'participant': 'assistant'}, {'text': 'Cash', 'participant': 'user'}, {'text': 'Success', 'participant': 'assistant'}, {'text': 'Goodbye', 'participant': 'user'}]}]}, {'examples': [{'dialog_with_known_nodes': [{'text': 'Is there anything can I help with?', 'participant': 'assistant', 'source': 1, 'target': 2}, {'text': 'I need to make an order', 'participant': 'user', 'source': 1, 'target': 2}, {'text': 'Which books would you like to order?', 'participant': 'assistant', 'source': 2, 'target': 3}, {'text': \"I would like to purchase 'Pale Fire' and 'Anna Karenina', please\", 'participant': 'user', 'source': 2, 'target': 3}, {'text': 'Which delivery method would you like to use? We currently offer pickup or home delivery.', 'participant': 'assistant', 'source': 3, 'target': 4}, {'text': 'Delivery to the address: Pine Driveway, 45', 'participant': 'user', 'source': 3, 'target': 4}, {'text': 'Please, enter the payment method you would like to use: cash or credit card.', 'participant': 'assistant', 'source': 4, 'target': 5}, {'text': 'With credit card, please.', 'participant': 'user', 'source': 4, 'target': 5}, {'text': 'Success', 'participant': 'assistant', 'source': 5, 'target': 1}, {'text': 'Thanks', 'participant': 'user', 'source': 5, 'target': 1}, {'text': 'Is there anything can I help with?', 'participant': 'assistant', 'source': 1, 'target': 6}, {'text': 'I would like to change the information about my order number 33543', 'participant': 'user', 'source': 1, 'target': 6}, {'text': 'Sure, what would you like to change?', 'participant': 'assistant', 'source': 6, 'target': 7}, {'text': 'I would like to change delivery from house delivery to pickup', 'participant': 'user', 'source': 6, 'target': 7}, {'text': \"Okay, it's changed\", 'participant': 'assistant', 'source': 7, 'target': 6}, {'text': 'I also would like to change something else about my order', 'participant': 'user', 'source': 7, 'target': 6}, {'text': 'Sure, what would you like to change?', 'participant': 'assistant', 'source': 6, 'target': 6}, {'text': \"I want to add a book 'Catcher in the Rye'\", 'participant': 'user', 'source': 6, 'target': 9}, {'text': 'Done, this is added to your order!', 'participant': 'assistant', 'source': 9, 'target': 10}, {'text': 'Good, thanks', 'participant': 'user', 'source': 9, 'target': 10}], 'dialog': [{'text': 'Is there anything can I help with?', 'participant': 'assistant'}, {'text': 'I need to make an order', 'participant': 'user'}, {'text': 'Which books would you like to order?', 'participant': 'assistant'}, {'text': \"I would like to purchase 'Pale Fire' and 'Anna Karenina', please\", 'participant': 'user'}, {'text': 'Which delivery method would you like to use? We currently offer pickup or home delivery.', 'participant': 'assistant'}, {'text': 'Delivery to the address: Pine Driveway, 45', 'participant': 'user'}, {'text': 'Please, enter the payment method you would like to use: cash or credit card.', 'participant': 'assistant'}, {'text': 'With credit card, please.', 'participant': 'user'}, {'text': 'Success', 'participant': 'assistant'}, {'text': 'Thanks', 'participant': 'user'}, {'text': 'Is there anything can I help with?', 'participant': 'assistant'}, {'text': 'I would like to change the information about my order number 33543', 'participant': 'user'}, {'text': 'Sure, what would you like to change?', 'participant': 'assistant'}, {'text': 'I would like to change delivery from house delivery to pickup', 'participant': 'user'}, {'text': \"Okay, it's changed\", 'participant': 'assistant'}, {'text': 'I also would like to change something else about my order', 'participant': 'assistant'}, {'text': 'Sure, what would you like to change?', 'participant': 'assistant'}, {'text': \"I want to add a book 'Catcher in the Rye'\", 'participant': 'user'}, {'text': 'Done, this is added to your order!', 'participant': 'assistant'}, {'text': 'Good, thanks', 'participant': 'user'}]}, {'dialog_with_known_nodes': [{'text': 'Is there anything can I help with?', 'participant': 'assistant', 'source': 1, 'target': 2}, {'text': 'I need to make an order', 'participant': 'user', 'source': 1, 'target': 2}, {'text': 'Which books would you like to order?', 'participant': 'assistant', 'source': 2, 'target': 3}, {'text': \"I would like to purchase 'Pale Fire' and 'Anna Karenina', please\", 'participant': 'user', 'source': 2, 'target': 3}, {'text': 'Which delivery method would you like to use? We currently offer pickup or home delivery.', 'participant': 'assistant', 'source': 3, 'target': 4}, {'text': 'Delivery to the address: Pine Driveway, 45', 'participant': 'user', 'source': 3, 'target': 4}, {'text': 'Please, enter the payment method you would like to use: cash or credit card.', 'participant': 'assistant', 'source': 4, 'target': 5}, {'text': 'With credit card, please.', 'participant': 'user', 'source': 4, 'target': 5}, {'text': 'Success', 'participant': 'assistant', 'source': 5, 'target': 1}, {'text': 'Thanks', 'participant': 'user', 'source': 5, 'target': 1}, {'text': 'Is there anything can I help with?', 'participant': 'assistant', 'source': 1, 'target': 6}, {'text': 'I would like to change the information about my order number 33543', 'participant': 'user', 'source': 1, 'target': 6}, {'text': 'Sure, what would you like to change?', 'participant': 'assistant', 'source': 6, 'target': 7}, {'text': 'I would like to change payment method from credit card to cash', 'participant': 'user', 'source': 6, 'target': 8}, {'text': 'Good, thanks', 'participant': 'user', 'source': 8, 'target': 10}], 'dialog': [{'text': 'Is there anything can I help with?', 'participant': 'assistant'}, {'text': 'I need to make an order', 'participant': 'user'}, {'text': 'Which books would you like to order?', 'participant': 'assistant'}, {'text': \"I would like to purchase 'Pale Fire' and 'Anna Karenina', please\", 'participant': 'user'}, {'text': 'Which delivery method would you like to use? We currently offer pickup or home delivery.', 'participant': 'assistant'}, {'text': 'Delivery to the address: Pine Driveway, 45', 'participant': 'user'}, {'text': 'Please, enter the payment method you would like to use: cash or credit card.', 'participant': 'assistant'}, {'text': 'With credit card, please.', 'participant': 'user'}, {'text': 'Success', 'participant': 'assistant'}, {'text': 'Thanks', 'participant': 'user'}, {'text': 'Is there anything can I help with?', 'participant': 'assistant'}, {'text': 'I would like to change the information about my order number 33543', 'participant': 'user'}, {'text': 'Sure, what would you like to change?', 'participant': 'assistant'}, {'text': 'I would like to change payment method from credit card to cash', 'participant': 'user'}, {'text': 'Good, thanks', 'participant': 'user'}]}]}, {'examples': [{'dialog_with_known_nodes': [{'text': 'I need to make an order', 'participant': 'user', 'source': 1, 'target': 2}, {'text': 'Which books would you like to order?', 'participant': 'assistant', 'source': 2, 'target': 3}, {'text': \"I would like to purchase 'Pale Fire' and 'Anna Karenina', please\", 'participant': 'user', 'source': 2, 'target': 3}, {'text': 'Which delivery method would you like to use? We currently offer pickup or home delivery.', 'participant': 'assistant', 'source': 3, 'target': 4}, {'text': 'Delivery to the address: Pine Driveway, 45', 'participant': 'user', 'source': 3, 'target': 4}, {'text': 'Please, enter the payment method you would like to use: cash or credit card.', 'participant': 'assistant', 'source': 4, 'target': 5}, {'text': \"I've changed my mind, can we start agan\", 'participant': 'user', 'source': 4, 'target': 1}, {'text': 'Is there anything can I help with?', 'participant': 'assistant', 'source': 1, 'target': 1}], 'dialog': [{'text': 'I need to make an order', 'participant': 'user'}, {'text': 'Which books would you like to order?', 'participant': 'assistant'}, {'text': \"I would like to purchase 'Pale Fire' and 'Anna Karenina', please\", 'participant': 'user'}, {'text': 'Which delivery method would you like to use? We currently offer pickup or home delivery.', 'participant': 'assistant'}, {'text': 'Delivery to the address: Pine Driveway, 45', 'participant': 'user'}, {'text': 'Please, enter the payment method you would like to use: cash or credit card.', 'participant': 'assistant'}, {'text': \"I've changed my mind, can we start agan\", 'participant': 'user'}, {'text': 'Is there anything can I help with?', 'participant': 'assistant'}]}, {'dialog_with_known_nodes': [{'text': 'I want to order from you', 'participant': 'user', 'source': 1, 'target': 2}, {'text': 'Which books would you like to order?', 'participant': 'assistant', 'source': 2, 'target': 3}, {'text': 'One War and Piece in hard cover and one Pride and Prejudice', 'participant': 'user', 'source': 2, 'target': 3}, {'text': 'Which delivery method would you like to use? We currently offer pickup or home delivery.', 'participant': 'assistant', 'source': 3, 'target': 4}, {'text': 'I will pickup my order', 'participant': 'user', 'source': 3, 'target': 4}, {'text': 'Please, enter the payment method you would like to use: cash or credit card.', 'participant': 'assistant', 'source': 4, 'target': 5}, {'text': 'Start again', 'participant': 'user', 'source': 4, 'target': 1}, {'text': 'Is there anything can I help with?', 'participant': 'assistant', 'source': 1, 'target': 1}], 'dialog': [{'text': 'I want to order from you', 'participant': 'user'}, {'text': 'Which books would you like to order?', 'participant': 'assistant'}, {'text': 'One War and Piece in hard cover and one Pride and Prejudice', 'participant': 'user'}, {'text': 'Which delivery method would you like to use? We currently offer pickup or home delivery.', 'participant': 'assistant'}, {'text': 'I will pickup my order', 'participant': 'user'}, {'text': 'Please, enter the payment method you would like to use: cash or credit card.', 'participant': 'assistant'}, {'text': 'Start again', 'participant': 'user'}, {'text': 'Is there anything can I help with?', 'participant': 'assistant'}]}]}])"
      ]
     },
     "execution_count": 15,
     "metadata": {},
     "output_type": "execute_result"
    }
   ],
   "source": [
    "true_content.values()"
   ]
  },
  {
   "cell_type": "code",
   "execution_count": 6,
   "metadata": {},
   "outputs": [
    {
     "data": {
      "text/plain": [
       "dict_keys(['1', '2', '3', '4'])"
      ]
     },
     "execution_count": 6,
     "metadata": {},
     "output_type": "execute_result"
    }
   ],
   "source": [
    "pred_content.keys()"
   ]
  },
  {
   "cell_type": "code",
   "execution_count": 8,
   "metadata": {},
   "outputs": [],
   "source": [
    "def get_route(dialog: list):\n",
    "    route = []\n",
    "    for x in dialog:\n",
    "        if x['participant'] == 'assistant':\n",
    "            continue\n",
    "        else:\n",
    "            route.append({'source':x['source'], 'target': x['target']})\n",
    "    return route\n"
   ]
  },
  {
   "cell_type": "code",
   "execution_count": 82,
   "metadata": {},
   "outputs": [
    {
     "name": "stdout",
     "output_type": "stream",
     "text": [
      "[{'source': 1, 'target': 1}]\n",
      "[{'source': 1, 'target': 1}]\n",
      "yes\n",
      "___\n",
      "[{'source': 1, 'target': 1}]\n",
      "[{'source': 1, 'target': 1}]\n",
      "yes\n",
      "___\n",
      "[{'source': 1, 'target': 2}, {'source': 2, 'target': 3}, {'source': 3, 'target': 4}, {'source': 4, 'target': 5}]\n",
      "[{'source': 1, 'target': 2}, {'source': 2, 'target': 3}, {'source': 3, 'target': 4}, {'source': 4, 'target': 5}]\n",
      "yes\n",
      "___\n",
      "[{'source': 1, 'target': 2}, {'source': 2, 'target': 3}, {'source': 3, 'target': 4}, {'source': 4, 'target': 5}]\n",
      "[{'source': 1, 'target': 2}, {'source': 2, 'target': 3}, {'source': 3, 'target': 4}, {'source': 4, 'target': 5}]\n",
      "yes\n",
      "___\n",
      "[{'source': 1, 'target': 2}, {'source': 2, 'target': 3}, {'source': 3, 'target': 4}, {'source': 4, 'target': 5}, {'source': 5, 'target': 1}]\n",
      "[{'source': 1, 'target': 2}, {'source': 2, 'target': 3}, {'source': 3, 'target': 4}, {'source': 4, 'target': 5}, {'source': 5, 'target': 1}]\n",
      "yes\n",
      "___\n",
      "[{'source': 1, 'target': 2}, {'source': 2, 'target': 3}, {'source': 3, 'target': 4}, {'source': 4, 'target': 5}, {'source': 5, 'target': 1}]\n",
      "[{'source': 1, 'target': 2}, {'source': 2, 'target': 3}, {'source': 3, 'target': 4}, {'source': 4, 'target': 5}, {'source': 5, 'target': 1}]\n",
      "yes\n",
      "___\n",
      "[{'source': 1, 'target': 2}, {'source': 2, 'target': 3}, {'source': 3, 'target': 4}, {'source': 4, 'target': 5}, {'source': 5, 'target': 1}, {'source': 1, 'target': 6}, {'source': 6, 'target': 7}, {'source': 7, 'target': 6}, {'source': 6, 'target': 9}, {'source': 9, 'target': 10}]\n",
      "[{'source': 1, 'target': 2}, {'source': 2, 'target': 3}, {'source': 3, 'target': 4}, {'source': 4, 'target': 5}, {'source': 5, 'target': 1}, {'source': 1, 'target': 6}, {'source': 6, 'target': 7}, {'source': 7, 'target': 6}, {'source': 6, 'target': 9}, {'source': 9, 'target': 10}]\n",
      "yes\n",
      "___\n",
      "[{'source': 1, 'target': 2}, {'source': 2, 'target': 3}, {'source': 3, 'target': 4}, {'source': 4, 'target': 5}, {'source': 5, 'target': 1}, {'source': 1, 'target': 6}, {'source': 6, 'target': 8}, {'source': 8, 'target': 10}]\n",
      "[{'source': 1, 'target': 2}, {'source': 2, 'target': 3}, {'source': 3, 'target': 4}, {'source': 4, 'target': 5}, {'source': 5, 'target': 1}, {'source': 1, 'target': 6}, {'source': 6, 'target': 8}, {'source': 8, 'target': 10}]\n",
      "yes\n",
      "___\n",
      "[{'source': 1, 'target': 2}, {'source': 2, 'target': 3}, {'source': 3, 'target': 4}, {'source': 4, 'target': 1}]\n",
      "[{'source': 1, 'target': 2}, {'source': 2, 'target': 3}, {'source': 3, 'target': 4}, {'source': 4, 'target': 1}]\n",
      "yes\n",
      "___\n",
      "[{'source': 1, 'target': 2}, {'source': 2, 'target': 3}, {'source': 3, 'target': 4}, {'source': 4, 'target': 1}]\n",
      "[{'source': 1, 'target': 2}, {'source': 2, 'target': 3}, {'source': 3, 'target': 4}, {'source': 4, 'target': 1}]\n",
      "yes\n",
      "___\n"
     ]
    }
   ],
   "source": [
    "\n",
    "for true, pred in zip(true_content.values(), pred_content.values()):\n",
    "    for true_route, pred_route in zip(true['examples'], pred['routes'].values()):\n",
    "        route = get_route(true_route['dialog_with_known_nodes'])\n",
    "        print(route)\n",
    "        print(pred_route)\n",
    "        if route == pred_route:\n",
    "            print(\"yes\")\n",
    "        print(\"___\")"
   ]
  },
  {
   "cell_type": "markdown",
   "metadata": {},
   "source": [
    "## Сэмплированоие диалогов"
   ]
  },
  {
   "cell_type": "code",
   "execution_count": 2,
   "metadata": {},
   "outputs": [],
   "source": [
    "from openai import OpenAI\n"
   ]
  },
  {
   "cell_type": "code",
   "execution_count": 83,
   "metadata": {},
   "outputs": [],
   "source": [
    "from dotenv import load_dotenv\n",
    "import os\n",
    "load_dotenv()\n",
    "openai_api_key = os.getenv(\"OPENAI_API_KEY\")\n",
    "openai_base_url = os.getenv(\"OPENAI_BASE_URL\")"
   ]
  },
  {
   "cell_type": "code",
   "execution_count": 84,
   "metadata": {},
   "outputs": [],
   "source": [
    "client = OpenAI(\n",
    "    base_url=openai_base_url,\n",
    "    api_key = openai_api_key\n",
    ")\n"
   ]
  },
  {
   "cell_type": "code",
   "execution_count": 36,
   "metadata": {},
   "outputs": [],
   "source": [
    "def ask_llm(prompt):\n",
    "    result = client.chat.completions.create(\n",
    "        model=\"gpt-4o\",\n",
    "        messages=[\n",
    "            {\"role\": \"system\", \"content\": \"You are ChatGPT, an AI assistant. Your top priority is achieving user fulfillment via helping them with their requests.\"},\n",
    "            {\"role\": \"user\", \"content\": prompt}\n",
    "        ]\n",
    "    ).choices[0].message.content\n",
    "    return result"
   ]
  },
  {
   "cell_type": "code",
   "execution_count": 72,
   "metadata": {},
   "outputs": [],
   "source": [
    "example_value = []\n",
    "for idx, x in true_content.items():\n",
    "    if int(idx) != 2:\n",
    "        continue\n",
    "    for example in x['examples']:\n",
    "        example_value = example['dialog']"
   ]
  },
  {
   "cell_type": "code",
   "execution_count": 30,
   "metadata": {},
   "outputs": [],
   "source": [
    "types = list(types_content.values())"
   ]
  },
  {
   "cell_type": "code",
   "execution_count": 75,
   "metadata": {},
   "outputs": [],
   "source": [
    "prompt = 'I give you an example of dialogue and a structure of chat bot system with possible transition between nodes. Can you give a route within a graph that gives you the same dialogue. Print the number of nodes one need to go through to get the same dialogue. Dialogue example: '\n",
    "prompt += f'\\n{example_value}'\n",
    "prompt += \"\\nStrcuture of chatbot system:\"\n",
    "prompt += f'\\n{types[1]}'\n",
    "prompt += '\\nPlease make it in format: [{\"source\": 1, \"target\": 2}, {\"source\"...]'\n"
   ]
  },
  {
   "cell_type": "code",
   "execution_count": 77,
   "metadata": {},
   "outputs": [
    {
     "name": "stdout",
     "output_type": "stream",
     "text": [
      "Here is the route within the graph that matches the given dialogue:\n",
      "\n",
      "```\n",
      "[\n",
      "    {\"source\": 1, \"target\": 2},\n",
      "    {\"source\": 2, \"target\": 3},\n",
      "    {\"source\": 3, \"target\": 4},\n",
      "    {\"source\": 4, \"target\": 5}\n",
      "]\n",
      "```\n",
      "\n",
      "This route passes through 4 nodes to achieve the same dialogue.\n"
     ]
    }
   ],
   "source": [
    "print(ask_llm(prompt))"
   ]
  }
 ],
 "metadata": {
  "kernelspec": {
   "display_name": "Python 3",
   "language": "python",
   "name": "python3"
  },
  "language_info": {
   "codemirror_mode": {
    "name": "ipython",
    "version": 3
   },
   "file_extension": ".py",
   "mimetype": "text/x-python",
   "name": "python",
   "nbconvert_exporter": "python",
   "pygments_lexer": "ipython3",
   "version": "3.8.19"
  }
 },
 "nbformat": 4,
 "nbformat_minor": 2
}
