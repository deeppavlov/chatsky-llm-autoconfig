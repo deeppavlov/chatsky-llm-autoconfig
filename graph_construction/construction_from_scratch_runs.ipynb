{
 "cells": [
  {
   "cell_type": "code",
   "execution_count": 1,
   "metadata": {},
   "outputs": [],
   "source": [
    "import sys \n",
    "import json\n",
    "# Insert the path of modules folder  \n",
    "sys.path.insert(0, \"/Users/anastasia/Documents/DFF_LLM/dff-llm-integration\") "
   ]
  },
  {
   "cell_type": "code",
   "execution_count": 2,
   "metadata": {},
   "outputs": [],
   "source": [
    "import networkx as nx\n",
    "import matplotlib.pyplot as plt\n",
    "from graph_src.graph import TYPES_OF_GRAPH, Graph\n",
    "from graph_src.utils_functions import do_mapping\n",
    "from metric.jaccard import jaccard_nodes, jaccard_edges\n",
    "from metric.triplet_matching import triplet_match as match"
   ]
  },
  {
   "cell_type": "code",
   "execution_count": 3,
   "metadata": {},
   "outputs": [],
   "source": [
    "def print_edge_mapping(edge_mapping):\n",
    "    print(edge_mapping)\n",
    "    print(\"Mapped edges: \", sum(1 for value in edge_mapping.values() if value is not None) / len(edge_mapping))"
   ]
  },
  {
   "cell_type": "markdown",
   "metadata": {},
   "source": [
    "# Тест 0 - одна нода"
   ]
  },
  {
   "cell_type": "code",
   "execution_count": 4,
   "metadata": {},
   "outputs": [],
   "source": [
    "test_name = 'single_node'\n",
    "with open(f'./{test_name}/initial_graph.json', 'r') as f:\n",
    "    ground_truth = json.load(f)\n",
    "\n",
    "with open(f'./{test_name}/gpt_response1.json', 'r') as g:\n",
    "    first_version = json.load(g)\n",
    "\n",
    "with open(f'./{test_name}/gpt_response2.json', 'r') as g:\n",
    "    second_version = json.load(g)"
   ]
  },
  {
   "cell_type": "code",
   "execution_count": 5,
   "metadata": {},
   "outputs": [],
   "source": [
    "ground_truth_graph = Graph(ground_truth, TYPES_OF_GRAPH.MULTI)\n",
    "generated_graph1 = Graph(first_version, TYPES_OF_GRAPH.MULTI)\n",
    "generated_graph2 =  Graph(second_version, TYPES_OF_GRAPH.MULTI)"
   ]
  },
  {
   "cell_type": "code",
   "execution_count": 7,
   "metadata": {},
   "outputs": [],
   "source": [
    "node_mapping, edge_mapping = match(ground_truth_graph, generated_graph1)"
   ]
  },
  {
   "cell_type": "code",
   "execution_count": null,
   "metadata": {},
   "outputs": [
    {
     "name": "stdout",
     "output_type": "stream",
     "text": [
      "{'1->1': '1->1'}\n",
      "Mapped edges:  1.0\n"
     ]
    }
   ],
   "source": [
    "print_edge_mapping(edge_mapping)"
   ]
  },
  {
   "cell_type": "code",
   "execution_count": 8,
   "metadata": {},
   "outputs": [
    {
     "name": "stdout",
     "output_type": "stream",
     "text": [
      "Graphs are isomorphic\n"
     ]
    }
   ],
   "source": [
    "node_mapping, edge_mapping = match(ground_truth_graph, generated_graph2)"
   ]
  },
  {
   "cell_type": "code",
   "execution_count": null,
   "metadata": {},
   "outputs": [
    {
     "name": "stdout",
     "output_type": "stream",
     "text": [
      "{'1->1': '1->1'}\n",
      "Mapped edges:  1.0\n"
     ]
    }
   ],
   "source": [
    "print_edge_mapping(edge_mapping)"
   ]
  },
  {
   "cell_type": "markdown",
   "metadata": {},
   "source": [
    "# Тест 1 - цепочка"
   ]
  },
  {
   "cell_type": "code",
   "execution_count": 13,
   "metadata": {},
   "outputs": [],
   "source": [
    "test_name = 'simple_chain'\n",
    "with open(f'./{test_name}/initial_graph.json', 'r') as f:\n",
    "    ground_truth = json.load(f)\n",
    "\n",
    "with open(f'./{test_name}/gpt_response1.json', 'r') as g:\n",
    "    first_version = json.load(g)\n",
    "\n",
    "with open(f'./{test_name}/gpt_response2.json', 'r') as g:\n",
    "    second_version = json.load(g)"
   ]
  },
  {
   "cell_type": "code",
   "execution_count": 14,
   "metadata": {},
   "outputs": [],
   "source": [
    "ground_truth_graph = Graph(ground_truth, TYPES_OF_GRAPH.MULTI)\n",
    "generated_graph1 = Graph(first_version, TYPES_OF_GRAPH.MULTI)\n",
    "generated_graph2 =  Graph(second_version, TYPES_OF_GRAPH.MULTI)\n",
    "\n",
    "G1 = ground_truth_graph.nx_graph\n",
    "G2 = generated_graph1.nx_graph\n",
    "G3 = generated_graph2.nx_graph"
   ]
  },
  {
   "cell_type": "markdown",
   "metadata": {},
   "source": [
    "графы пересекаются, но реплики не до конца совпадают"
   ]
  },
  {
   "cell_type": "code",
   "execution_count": 15,
   "metadata": {},
   "outputs": [],
   "source": [
    "node_mapping, edge_mapping = match(ground_truth_graph, generated_graph1)"
   ]
  },
  {
   "cell_type": "code",
   "execution_count": 16,
   "metadata": {},
   "outputs": [
    {
     "data": {
      "text/plain": [
       "{1: 1, 2: 2, 3: 3, 4: 4, 5: 5}"
      ]
     },
     "execution_count": 16,
     "metadata": {},
     "output_type": "execute_result"
    }
   ],
   "source": [
    "node_mapping"
   ]
  },
  {
   "cell_type": "code",
   "execution_count": 17,
   "metadata": {},
   "outputs": [
    {
     "data": {
      "text/plain": [
       "{'1->2': '1->2', '2->3': '2->3', '3->4': '3->4', '4->5': '4->5'}"
      ]
     },
     "execution_count": 17,
     "metadata": {},
     "output_type": "execute_result"
    }
   ],
   "source": [
    "edge_mapping"
   ]
  },
  {
   "cell_type": "markdown",
   "metadata": {},
   "source": [
    "реплики полностью совпадают"
   ]
  },
  {
   "cell_type": "code",
   "execution_count": 18,
   "metadata": {},
   "outputs": [
    {
     "name": "stdout",
     "output_type": "stream",
     "text": [
      "Graphs are isomorphic\n"
     ]
    }
   ],
   "source": [
    "node_mapping, edge_mapping = match(ground_truth_graph, generated_graph2)"
   ]
  },
  {
   "cell_type": "code",
   "execution_count": 19,
   "metadata": {},
   "outputs": [
    {
     "data": {
      "text/plain": [
       "{2: 2, 3: 3, 1: 1, 4: 4, 5: 5}"
      ]
     },
     "execution_count": 19,
     "metadata": {},
     "output_type": "execute_result"
    }
   ],
   "source": [
    "node_mapping"
   ]
  },
  {
   "cell_type": "code",
   "execution_count": 20,
   "metadata": {},
   "outputs": [
    {
     "data": {
      "text/plain": [
       "{'1->2': '1->2', '2->3': '2->3', '3->4': '3->4', '4->5': '4->5'}"
      ]
     },
     "execution_count": 20,
     "metadata": {},
     "output_type": "execute_result"
    }
   ],
   "source": [
    "edge_mapping"
   ]
  },
  {
   "cell_type": "markdown",
   "metadata": {},
   "source": [
    "# Тест 2 - цикл"
   ]
  },
  {
   "cell_type": "code",
   "execution_count": null,
   "metadata": {},
   "outputs": [],
   "source": [
    "test_name = 'cycle'\n",
    "with open(f'./{test_name}/initial_graph.json', 'r') as f:\n",
    "    ground_truth = json.load(f)\n",
    "\n",
    "with open(f'./{test_name}/gpt_response1.json', 'r') as g:\n",
    "    first_version = json.load(g)\n",
    "\n",
    "with open(f'./{test_name}/gpt_response2.json', 'r') as g:\n",
    "    second_version = json.load(g)"
   ]
  },
  {
   "cell_type": "code",
   "execution_count": null,
   "metadata": {},
   "outputs": [],
   "source": [
    "ground_truth_graph = Graph(ground_truth, TYPES_OF_GRAPH.MULTI)\n",
    "generated_graph1 = Graph(first_version, TYPES_OF_GRAPH.MULTI)\n",
    "generated_graph2 =  Graph(second_version, TYPES_OF_GRAPH.MULTI)\n",
    "\n",
    "G1 = ground_truth_graph.nx_graph\n",
    "G2 = generated_graph1.nx_graph\n",
    "G3 = generated_graph2.nx_graph"
   ]
  },
  {
   "cell_type": "code",
   "execution_count": null,
   "metadata": {},
   "outputs": [],
   "source": [
    "node_mapping, edge_mapping = match(ground_truth_graph, generated_graph1)"
   ]
  },
  {
   "cell_type": "code",
   "execution_count": null,
   "metadata": {},
   "outputs": [
    {
     "data": {
      "text/plain": [
       "{1: 1, 2: 2, 3: 3, 4: 4}"
      ]
     },
     "execution_count": 26,
     "metadata": {},
     "output_type": "execute_result"
    }
   ],
   "source": [
    "node_mapping"
   ]
  },
  {
   "cell_type": "code",
   "execution_count": null,
   "metadata": {},
   "outputs": [
    {
     "data": {
      "text/plain": [
       "{'1->2': '1->2', '2->3': '2->3', '3->4': '3->4', '4->3': '4->3', '4->1': None}"
      ]
     },
     "execution_count": 27,
     "metadata": {},
     "output_type": "execute_result"
    }
   ],
   "source": [
    "edge_mapping"
   ]
  },
  {
   "cell_type": "markdown",
   "metadata": {},
   "source": [
    "мы не учитываем последнее ребро так как диалог его не кодировал, поэтому качество 100%"
   ]
  },
  {
   "cell_type": "code",
   "execution_count": null,
   "metadata": {},
   "outputs": [
    {
     "name": "stdout",
     "output_type": "stream",
     "text": [
      "The nodes of edges 4->1 and 4->3 has something in common, but not complete match: Sources: ['Something is wrong, can you please use other payment method or start order again'], ['Something is wrong, can you please use other payment method or start order again']\n",
      "The nodes of edges 4->1 and 4->3 has something in common, but not complete match: Targets: ['How can I help?', 'Hello'], ['Please, enter the payment method you would like to use: cash or credit card.']\n"
     ]
    }
   ],
   "source": [
    "node_mapping, edge_mapping = match(ground_truth_graph, generated_graph2)"
   ]
  },
  {
   "cell_type": "code",
   "execution_count": null,
   "metadata": {},
   "outputs": [
    {
     "data": {
      "text/plain": [
       "{1: 1, 2: 2, 3: 3, 4: 4}"
      ]
     },
     "execution_count": 15,
     "metadata": {},
     "output_type": "execute_result"
    }
   ],
   "source": [
    "node_mapping"
   ]
  },
  {
   "cell_type": "code",
   "execution_count": null,
   "metadata": {},
   "outputs": [
    {
     "data": {
      "text/plain": [
       "{'1->2': '1->2', '2->3': '2->3', '3->4': '3->4', '4->3': '4->3', '4->1': None}"
      ]
     },
     "execution_count": 16,
     "metadata": {},
     "output_type": "execute_result"
    }
   ],
   "source": [
    "edge_mapping"
   ]
  },
  {
   "cell_type": "markdown",
   "metadata": {},
   "source": [
    "тут уже ребро 4-1 должно учитываться так как диалог его содержит"
   ]
  },
  {
   "cell_type": "code",
   "execution_count": null,
   "metadata": {},
   "outputs": [
    {
     "name": "stdout",
     "output_type": "stream",
     "text": [
      "{'1->2': '1->2', '2->3': '2->3', '3->4': '3->4', '4->3': '4->3', '4->1': None}\n",
      "Mapped edges:  0.8\n"
     ]
    }
   ],
   "source": [
    "print_edge_mapping(edge_mapping)"
   ]
  },
  {
   "cell_type": "markdown",
   "metadata": {},
   "source": [
    "# Тест 3 - сложный граф - цепочка 1 (1 - 2 - 3 - 7)"
   ]
  },
  {
   "cell_type": "code",
   "execution_count": 7,
   "metadata": {},
   "outputs": [],
   "source": [
    "test_name = 'complex_graph_chain1'\n",
    "\n",
    "with open(f'./{test_name}/partial_gt_graph.json', 'r') as f:\n",
    "    ground_truth = json.load(f)\n",
    "\n",
    "with open(f'./{test_name}/gpt_response1.json', 'r') as g:\n",
    "    first_version = json.load(g)"
   ]
  },
  {
   "cell_type": "code",
   "execution_count": 8,
   "metadata": {},
   "outputs": [],
   "source": [
    "ground_truth_graph = Graph(ground_truth, TYPES_OF_GRAPH.MULTI)\n",
    "generated_graph1 = Graph(first_version, TYPES_OF_GRAPH.MULTI)\n",
    "\n",
    "G1 = ground_truth_graph.nx_graph\n",
    "G2 = generated_graph1.nx_graph"
   ]
  },
  {
   "cell_type": "code",
   "execution_count": 11,
   "metadata": {},
   "outputs": [
    {
     "name": "stdout",
     "output_type": "stream",
     "text": [
      "Graphs are isomorphic\n"
     ]
    }
   ],
   "source": [
    "node_mapping, edge_mapping = match(ground_truth_graph, generated_graph1, change_to_original_ids=True)"
   ]
  },
  {
   "cell_type": "code",
   "execution_count": 12,
   "metadata": {},
   "outputs": [
    {
     "data": {
      "text/plain": [
       "{2: 2, 3: 3, 1: 1, 7: 4, 8: 5}"
      ]
     },
     "execution_count": 12,
     "metadata": {},
     "output_type": "execute_result"
    }
   ],
   "source": [
    "node_mapping"
   ]
  },
  {
   "cell_type": "code",
   "execution_count": 13,
   "metadata": {},
   "outputs": [
    {
     "name": "stdout",
     "output_type": "stream",
     "text": [
      "{'1->2': '1->2', '2->3': '2->3', '3->7': '3->4', '7->8': '4->5'}\n",
      "Mapped edges:  1.0\n"
     ]
    }
   ],
   "source": [
    "print(edge_mapping)\n",
    "print(\"Mapped edges: \", sum(1 for value in edge_mapping.values() if value is not None) / len(edge_mapping))"
   ]
  },
  {
   "cell_type": "markdown",
   "metadata": {},
   "source": [
    "# Тест 4 - сложный граф (1 - 2 - 4 - 5 - 4 -5 - 7 - 8)"
   ]
  },
  {
   "cell_type": "code",
   "execution_count": 12,
   "metadata": {},
   "outputs": [],
   "source": [
    "test_name = 'complex_graph_chain2'\n",
    "\n",
    "with open(f'./{test_name}/partial_gt_graph.json', 'r') as f:\n",
    "    ground_truth = json.load(f)\n",
    "\n",
    "with open(f'./{test_name}/gpt_response1.json', 'r') as g:\n",
    "    first_version = json.load(g)"
   ]
  },
  {
   "cell_type": "code",
   "execution_count": 13,
   "metadata": {},
   "outputs": [],
   "source": [
    "ground_truth_graph = Graph(ground_truth, TYPES_OF_GRAPH.MULTI)\n",
    "generated_graph1 = Graph(first_version, TYPES_OF_GRAPH.MULTI)\n",
    "\n",
    "G1 = ground_truth_graph.nx_graph\n",
    "G2 = generated_graph1.nx_graph"
   ]
  },
  {
   "cell_type": "code",
   "execution_count": 14,
   "metadata": {},
   "outputs": [
    {
     "data": {
      "text/plain": [
       "NodeDataView({1: {'utterances': ['Is there anything can I help with?']}, 2: {'utterances': ['Which books would you like to order?']}, 3: {'utterances': ['Yes, we have it. Add it to your cart?']}, 4: {'utterances': ['Done. Anything else?']}, 5: {'utterances': ['Yes, we have it. Add it to your cart?']}, 6: {'utterances': ['Okay, everything is done, you can go to cart and finish the order.']}, 7: {'utterances': ['Goodbye']}})"
      ]
     },
     "execution_count": 14,
     "metadata": {},
     "output_type": "execute_result"
    }
   ],
   "source": [
    "G2.nodes(data=True)"
   ]
  },
  {
   "cell_type": "code",
   "execution_count": 15,
   "metadata": {},
   "outputs": [
    {
     "data": {
      "text/plain": [
       "NodeView((1, 2, 3, 4, 5, 6))"
      ]
     },
     "execution_count": 15,
     "metadata": {},
     "output_type": "execute_result"
    }
   ],
   "source": [
    "G1.nodes"
   ]
  },
  {
   "cell_type": "code",
   "execution_count": 16,
   "metadata": {},
   "outputs": [
    {
     "data": {
      "text/plain": [
       "{1: 1, 2: 2, 4: 3, 5: 4, 7: 5, 8: 6}"
      ]
     },
     "execution_count": 16,
     "metadata": {},
     "output_type": "execute_result"
    }
   ],
   "source": [
    "ground_truth_graph.node_mapping"
   ]
  },
  {
   "cell_type": "code",
   "execution_count": null,
   "metadata": {},
   "outputs": [],
   "source": [
    "node_mapping, edge_mapping = match(ground_truth_graph, generated_graph1, change_to_original_ids=False)"
   ]
  },
  {
   "cell_type": "code",
   "execution_count": 19,
   "metadata": {},
   "outputs": [
    {
     "data": {
      "text/plain": [
       "{1: 1, 2: 2, 3: 5, 4: 4, 5: None, 6: 7, 7: None}"
      ]
     },
     "execution_count": 19,
     "metadata": {},
     "output_type": "execute_result"
    }
   ],
   "source": [
    "node_mapping"
   ]
  },
  {
   "cell_type": "code",
   "execution_count": 21,
   "metadata": {},
   "outputs": [
    {
     "name": "stdout",
     "output_type": "stream",
     "text": [
      "{'1->2': '1->2', '2->3': '2->3', '3->4': '3->4', '4->3': '4->5', '4->5': None, '5->6': None}\n",
      "Mapped edges:  0.6666666666666666\n"
     ]
    }
   ],
   "source": [
    "print_edge_mapping(edge_mapping)"
   ]
  },
  {
   "cell_type": "markdown",
   "metadata": {},
   "source": [
    "# Тест 5 - сложный граф (1 - 2 - 4 - 5 - 4 - 5 - 7 - 8) но 4 и 5 различа/тся репликами"
   ]
  },
  {
   "cell_type": "code",
   "execution_count": 4,
   "metadata": {},
   "outputs": [],
   "source": [
    "test_name = 'complex_graph_chain3'\n",
    "\n",
    "with open(f'./{test_name}/partial_gt_graph.json', 'r') as f:\n",
    "    ground_truth = json.load(f)\n",
    "\n",
    "with open(f'./{test_name}/gpt_response3.json', 'r') as g:\n",
    "    first_version = json.load(g)"
   ]
  },
  {
   "cell_type": "code",
   "execution_count": 5,
   "metadata": {},
   "outputs": [],
   "source": [
    "ground_truth_graph = Graph(ground_truth, TYPES_OF_GRAPH.MULTI)\n",
    "generated_graph1 = Graph(first_version, TYPES_OF_GRAPH.MULTI)\n",
    "\n",
    "G1 = ground_truth_graph.nx_graph\n",
    "G2 = generated_graph1.nx_graph"
   ]
  },
  {
   "cell_type": "code",
   "execution_count": 6,
   "metadata": {},
   "outputs": [
    {
     "data": {
      "text/plain": [
       "{1: 1, 2: 2, 4: 3, 5: 4, 7: 5, 8: 6}"
      ]
     },
     "execution_count": 6,
     "metadata": {},
     "output_type": "execute_result"
    }
   ],
   "source": [
    "ground_truth_graph.node_mapping"
   ]
  },
  {
   "cell_type": "code",
   "execution_count": 7,
   "metadata": {},
   "outputs": [
    {
     "name": "stdout",
     "output_type": "stream",
     "text": [
      "(1, {'utterances': ['Is there anything can I help with?']})\n",
      "(2, {'utterances': ['Which books would you like to order?']})\n",
      "(3, {'utterances': ['Yes, we have it. Add it to your cart?']})\n",
      "(4, {'utterances': ['Okay. Anything else?']})\n",
      "(5, {'utterances': ['Yes, we have it. Add it to your cart?']})\n",
      "(6, {'utterances': ['Okay, everything is done, you can go to cart and finish the order.']})\n",
      "(7, {'utterances': ['Goodbye']})\n",
      "(8, {'utterances': ['Goodbye']})\n",
      "(9, {'utterances': ['Done. Anything else?']})\n",
      "(1, {'utterances': ['Is there anything can I help with?']})\n",
      "(2, {'utterances': ['Which books would you like to order?']})\n",
      "(3, {'utterances': ['Yes, we have it. Add it to your cart?']})\n",
      "(4, {'utterances': ['Okay. Anything else?']})\n",
      "(5, {'utterances': ['Yes, we have it. Add it to your cart?']})\n",
      "(6, {'utterances': ['Okay, everything is done, you can go to cart and finish the order.']})\n",
      "(7, {'utterances': ['Goodbye']})\n",
      "(8, {'utterances': ['Goodbye']})\n",
      "(9, {'utterances': ['Done. Anything else?']})\n",
      "(1, {'utterances': ['Is there anything can I help with?']})\n",
      "(2, {'utterances': ['Which books would you like to order?']})\n",
      "(3, {'utterances': ['Yes, we have it. Add it to your cart?']})\n",
      "(4, {'utterances': ['Okay. Anything else?']})\n",
      "(5, {'utterances': ['Yes, we have it. Add it to your cart?']})\n",
      "(6, {'utterances': ['Okay, everything is done, you can go to cart and finish the order.']})\n",
      "(7, {'utterances': ['Goodbye']})\n",
      "(8, {'utterances': ['Goodbye']})\n",
      "(9, {'utterances': ['Done. Anything else?']})\n",
      "(1, {'utterances': ['Is there anything can I help with?']})\n",
      "(2, {'utterances': ['Which books would you like to order?']})\n",
      "(3, {'utterances': ['Yes, we have it. Add it to your cart?']})\n",
      "(4, {'utterances': ['Okay. Anything else?']})\n",
      "(5, {'utterances': ['Yes, we have it. Add it to your cart?']})\n",
      "(6, {'utterances': ['Okay, everything is done, you can go to cart and finish the order.']})\n",
      "(7, {'utterances': ['Goodbye']})\n",
      "(8, {'utterances': ['Goodbye']})\n",
      "(9, {'utterances': ['Done. Anything else?']})\n",
      "(1, {'utterances': ['Is there anything can I help with?']})\n",
      "(2, {'utterances': ['Which books would you like to order?']})\n",
      "(3, {'utterances': ['Yes, we have it. Add it to your cart?']})\n",
      "(4, {'utterances': ['Okay. Anything else?']})\n",
      "(5, {'utterances': ['Yes, we have it. Add it to your cart?']})\n",
      "(6, {'utterances': ['Okay, everything is done, you can go to cart and finish the order.']})\n",
      "(7, {'utterances': ['Goodbye']})\n",
      "(8, {'utterances': ['Goodbye']})\n",
      "(9, {'utterances': ['Done. Anything else?']})\n",
      "(1, {'utterances': ['Is there anything can I help with?']})\n",
      "(2, {'utterances': ['Which books would you like to order?']})\n",
      "(3, {'utterances': ['Yes, we have it. Add it to your cart?']})\n",
      "(4, {'utterances': ['Okay. Anything else?']})\n",
      "(5, {'utterances': ['Yes, we have it. Add it to your cart?']})\n",
      "(6, {'utterances': ['Okay, everything is done, you can go to cart and finish the order.']})\n",
      "(7, {'utterances': ['Goodbye']})\n",
      "(8, {'utterances': ['Goodbye']})\n",
      "(9, {'utterances': ['Done. Anything else?']})\n",
      "The nodes of edges 3->4 and 3->5 has something in common, but not complete match: Sources: ['Yes, we have it. Add it to your cart?'], ['Yes, we have it. Add it to your cart?']\n",
      "The nodes of edges 3->4 and 3->5 has something in common, but not complete match: Targets: ['Done. Anything else?', 'Okay. Anything else?'], ['Yes, we have it. Add it to your cart?']\n",
      "The nodes of edges 3->4 and 5->7 has something in common, but not complete match: Sources: ['Yes, we have it. Add it to your cart?'], ['Yes, we have it. Add it to your cart?']\n",
      "The nodes of edges 3->4 and 5->7 has something in common, but not complete match: Targets: ['Done. Anything else?', 'Okay. Anything else?'], ['Goodbye']\n",
      "The nodes of edges 4->3 and 4->9 has something in common, but not complete match: Sources: ['Done. Anything else?', 'Okay. Anything else?'], ['Okay. Anything else?']\n",
      "The nodes of edges 4->3 and 4->9 has something in common, but not complete match: Targets: ['Yes, we have it. Add it to your cart?'], ['Done. Anything else?']\n",
      "The nodes of edges 4->5 and 5->6 has something in common, but not complete match: Sources: ['Done. Anything else?', 'Okay. Anything else?'], ['Yes, we have it. Add it to your cart?']\n",
      "The nodes of edges 4->5 and 5->6 has something in common, but not complete match: Targets: ['Okay, everything is done, you can go to cart and finish the order.'], ['Okay, everything is done, you can go to cart and finish the order.']\n",
      "The nodes of edges 5->6 and 7->8 has something in common, but not complete match: Sources: ['Okay, everything is done, you can go to cart and finish the order.'], ['Goodbye']\n",
      "The nodes of edges 5->6 and 7->8 has something in common, but not complete match: Targets: ['Goodbye'], ['Goodbye']\n",
      "{1: 1, 2: 2, 3: 4, 4: 5, 5: 7, 6: 8}\n",
      "{1: 1, 2: 2, 3: 5, 4: 4, 5: 6, 6: 8, 7: None, 8: None, 9: None}\n"
     ]
    }
   ],
   "source": [
    "node_mapping, edge_mapping = match(ground_truth_graph, generated_graph1, change_to_original_ids=True)"
   ]
  },
  {
   "cell_type": "code",
   "execution_count": 8,
   "metadata": {},
   "outputs": [
    {
     "name": "stdout",
     "output_type": "stream",
     "text": [
      "{'1->2': '1->2', '2->4': '2->3', '4->5': '3->4', '5->4': None, '5->7': None, '7->8': None}\n",
      "Mapped edges:  0.5\n"
     ]
    }
   ],
   "source": [
    "print_edge_mapping(edge_mapping)"
   ]
  }
 ],
 "metadata": {
  "kernelspec": {
   "display_name": "Python 3",
   "language": "python",
   "name": "python3"
  },
  "language_info": {
   "codemirror_mode": {
    "name": "ipython",
    "version": 3
   },
   "file_extension": ".py",
   "mimetype": "text/x-python",
   "name": "python",
   "nbconvert_exporter": "python",
   "pygments_lexer": "ipython3",
   "version": "3.9.12"
  }
 },
 "nbformat": 4,
 "nbformat_minor": 2
}
