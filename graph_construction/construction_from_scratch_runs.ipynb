{
 "cells": [
  {
   "cell_type": "code",
   "execution_count": 2,
   "metadata": {},
   "outputs": [],
   "source": [
    "import sys \n",
    "import json\n",
    "# Insert the path of modules folder  \n",
    "sys.path.insert(0, \"/Users/anastasia/Documents/DFF_LLM/dff-llm-integration\") "
   ]
  },
  {
   "cell_type": "code",
   "execution_count": 3,
   "metadata": {},
   "outputs": [],
   "source": [
    "import networkx as nx\n",
    "import matplotlib.pyplot as plt\n",
    "from graph_src.graph import TYPES_OF_GRAPH, Graph\n",
    "from graph_src.utils_functions import do_mapping\n",
    "from metric.metric_calc import jaccard_nodes, jaccard_edges\n",
    "from metric.triplet_matching import triplet_match as match"
   ]
  },
  {
   "cell_type": "code",
   "execution_count": 43,
   "metadata": {},
   "outputs": [],
   "source": [
    "def print_edge_mapping(edge_mapping):\n",
    "    print(edge_mapping)\n",
    "    print(\"Mapped edges: \", sum(1 for value in edge_mapping.values() if value is not None) / len(edge_mapping))"
   ]
  },
  {
   "cell_type": "markdown",
   "metadata": {},
   "source": [
    "# Тест 0"
   ]
  },
  {
   "cell_type": "code",
   "execution_count": 39,
   "metadata": {},
   "outputs": [],
   "source": [
    "test_name = 'single_node'\n",
    "with open(f'./{test_name}/initial_graph.json', 'r') as f:\n",
    "    ground_truth = json.load(f)\n",
    "\n",
    "with open(f'./{test_name}/gpt_response1.json', 'r') as g:\n",
    "    first_version = json.load(g)\n",
    "\n",
    "with open(f'./{test_name}/gpt_response2.json', 'r') as g:\n",
    "    second_version = json.load(g)"
   ]
  },
  {
   "cell_type": "code",
   "execution_count": 40,
   "metadata": {},
   "outputs": [],
   "source": [
    "ground_truth_graph = Graph(ground_truth, TYPES_OF_GRAPH.MULTI)\n",
    "generated_graph1 = Graph(first_version, TYPES_OF_GRAPH.MULTI)\n",
    "generated_graph2 =  Graph(second_version, TYPES_OF_GRAPH.MULTI)\n",
    "\n",
    "G1 = ground_truth_graph.nx_graph\n",
    "G2 = generated_graph1.nx_graph\n",
    "G3 = generated_graph2.nx_graph"
   ]
  },
  {
   "cell_type": "code",
   "execution_count": 41,
   "metadata": {},
   "outputs": [
    {
     "name": "stdout",
     "output_type": "stream",
     "text": [
      "{1: None}\n"
     ]
    }
   ],
   "source": [
    "node_mapping, edge_mapping = match(G1, G2)"
   ]
  },
  {
   "cell_type": "code",
   "execution_count": 44,
   "metadata": {},
   "outputs": [
    {
     "name": "stdout",
     "output_type": "stream",
     "text": [
      "{'1->1': '1->1'}\n",
      "Mapped edges:  1.0\n"
     ]
    }
   ],
   "source": [
    "print_edge_mapping(edge_mapping)"
   ]
  },
  {
   "cell_type": "code",
   "execution_count": 45,
   "metadata": {},
   "outputs": [
    {
     "name": "stdout",
     "output_type": "stream",
     "text": [
      "{1: None}\n",
      "Graphs are isomorphic\n"
     ]
    }
   ],
   "source": [
    "node_mapping, edge_mapping = match(G1, G3)"
   ]
  },
  {
   "cell_type": "code",
   "execution_count": 46,
   "metadata": {},
   "outputs": [
    {
     "name": "stdout",
     "output_type": "stream",
     "text": [
      "{'1->1': '1->1'}\n",
      "Mapped edges:  1.0\n"
     ]
    }
   ],
   "source": [
    "print_edge_mapping(edge_mapping)"
   ]
  },
  {
   "cell_type": "markdown",
   "metadata": {},
   "source": [
    "# Тест 1 - цепочка"
   ]
  },
  {
   "cell_type": "code",
   "execution_count": 3,
   "metadata": {},
   "outputs": [],
   "source": [
    "test_name = 'simple_chain'\n",
    "with open(f'./{test_name}/initial_graph.json', 'r') as f:\n",
    "    ground_truth = json.load(f)\n",
    "\n",
    "with open(f'./{test_name}/gpt_response1.json', 'r') as g:\n",
    "    first_version = json.load(g)\n",
    "\n",
    "with open(f'./{test_name}/gpt_response2.json', 'r') as g:\n",
    "    second_version = json.load(g)"
   ]
  },
  {
   "cell_type": "code",
   "execution_count": 4,
   "metadata": {},
   "outputs": [],
   "source": [
    "ground_truth_graph = Graph(ground_truth, TYPES_OF_GRAPH.MULTI)\n",
    "generated_graph1 = Graph(first_version, TYPES_OF_GRAPH.MULTI)\n",
    "generated_graph2 =  Graph(second_version, TYPES_OF_GRAPH.MULTI)\n",
    "\n",
    "G1 = ground_truth_graph.nx_graph\n",
    "G2 = generated_graph1.nx_graph\n",
    "G3 = generated_graph2.nx_graph"
   ]
  },
  {
   "cell_type": "code",
   "execution_count": 5,
   "metadata": {},
   "outputs": [
    {
     "name": "stdout",
     "output_type": "stream",
     "text": [
      "{1: None, 2: None, 3: None, 4: None, 5: None}\n",
      "The nodes of edges 2->3 and 2->3 has something in common, but not complete match: Sources: ['Which books would you like to order?'], ['Which books would you like to order?']\n",
      "The nodes of edges 2->3 and 2->3 has something in common, but not complete match: Targets: ['Please enter delivery method would you like to use? We currently offer pickup or home delivery.'], ['Please, enter the payment method you would like to use: cash or credit card.']\n",
      "The nodes of edges 3->4 and 3->4 has something in common, but not complete match: Sources: ['Please enter delivery method would you like to use? We currently offer pickup or home delivery.'], ['Please, enter the payment method you would like to use: cash or credit card.']\n",
      "The nodes of edges 3->4 and 3->4 has something in common, but not complete match: Targets: ['Please, enter the payment method you would like to use: cash or credit card.'], ['Please, enter the payment method you would like to use: cash or credit card.']\n"
     ]
    }
   ],
   "source": [
    "node_mapping, edge_mapping = match(G1, G2)"
   ]
  },
  {
   "cell_type": "code",
   "execution_count": 6,
   "metadata": {},
   "outputs": [
    {
     "data": {
      "text/plain": [
       "{1: 1, 2: 2, 3: None, 4: 4, 5: 5}"
      ]
     },
     "execution_count": 6,
     "metadata": {},
     "output_type": "execute_result"
    }
   ],
   "source": [
    "node_mapping"
   ]
  },
  {
   "cell_type": "code",
   "execution_count": 7,
   "metadata": {},
   "outputs": [
    {
     "data": {
      "text/plain": [
       "{'1->2': '1->2', '2->3': None, '3->4': None, '4->5': '4->5'}"
      ]
     },
     "execution_count": 7,
     "metadata": {},
     "output_type": "execute_result"
    }
   ],
   "source": [
    "edge_mapping"
   ]
  },
  {
   "cell_type": "code",
   "execution_count": 8,
   "metadata": {},
   "outputs": [
    {
     "name": "stdout",
     "output_type": "stream",
     "text": [
      "{1: None, 2: None, 3: None, 4: None, 5: None, 6: None}\n",
      "The nodes of edges 2->3 and 2->3 has something in common, but not complete match: Sources: ['Which books would you like to order?'], ['Which books would you like to order?']\n",
      "The nodes of edges 2->3 and 2->3 has something in common, but not complete match: Targets: ['Please enter delivery method would you like to use? We currently offer pickup or home delivery.'], ['Please, enter the payment method you would like to use: cash or credit card.']\n",
      "The nodes of edges 3->4 and 3->4 has something in common, but not complete match: Sources: ['Please enter delivery method would you like to use? We currently offer pickup or home delivery.'], ['Please, enter the payment method you would like to use: cash or credit card.']\n",
      "The nodes of edges 3->4 and 3->4 has something in common, but not complete match: Targets: ['Please, enter the payment method you would like to use: cash or credit card.'], ['Please, enter the payment method you would like to use: cash or credit card.']\n",
      "The nodes of edges 3->4 and 3->5 has something in common, but not complete match: Sources: ['Please enter delivery method would you like to use? We currently offer pickup or home delivery.'], ['Please, enter the payment method you would like to use: cash or credit card.']\n",
      "The nodes of edges 3->4 and 3->5 has something in common, but not complete match: Targets: ['Please, enter the payment method you would like to use: cash or credit card.'], ['Please, enter the payment method you would like to use: cash or credit card.']\n"
     ]
    }
   ],
   "source": [
    "node_mapping, edge_mapping = match(G1, G3)"
   ]
  },
  {
   "cell_type": "code",
   "execution_count": 9,
   "metadata": {},
   "outputs": [
    {
     "data": {
      "text/plain": [
       "NodeView((1, 2, 3, 4, 5, 6))"
      ]
     },
     "execution_count": 9,
     "metadata": {},
     "output_type": "execute_result"
    }
   ],
   "source": [
    "G3.nodes"
   ]
  },
  {
   "cell_type": "code",
   "execution_count": 21,
   "metadata": {},
   "outputs": [
    {
     "data": {
      "text/plain": [
       "NodeView((1, 2, 3, 4, 5))"
      ]
     },
     "execution_count": 21,
     "metadata": {},
     "output_type": "execute_result"
    }
   ],
   "source": [
    "G1.nodes"
   ]
  },
  {
   "cell_type": "code",
   "execution_count": 10,
   "metadata": {},
   "outputs": [
    {
     "data": {
      "text/plain": [
       "{1: 1, 2: 2, 3: None, 4: 4, 5: 6, 6: None}"
      ]
     },
     "execution_count": 10,
     "metadata": {},
     "output_type": "execute_result"
    }
   ],
   "source": [
    "node_mapping"
   ]
  },
  {
   "cell_type": "code",
   "execution_count": 11,
   "metadata": {},
   "outputs": [
    {
     "data": {
      "text/plain": [
       "{'1->2': '1->2', '2->3': None, '3->4': None, '4->5': '4->6'}"
      ]
     },
     "execution_count": 11,
     "metadata": {},
     "output_type": "execute_result"
    }
   ],
   "source": [
    "edge_mapping"
   ]
  },
  {
   "cell_type": "markdown",
   "metadata": {},
   "source": [
    "# Тест 2"
   ]
  },
  {
   "cell_type": "code",
   "execution_count": 4,
   "metadata": {},
   "outputs": [],
   "source": [
    "with open('./cycle_with_missing_edge/initial_graph.json', 'r') as f:\n",
    "    ground_truth = json.load(f)\n",
    "\n",
    "with open('./cycle_with_missing_edge/gpt_response1.json', 'r') as g:\n",
    "    first_version = json.load(g)\n",
    "\n",
    "with open('./cycle_with_missing_edge/gpt_response2.json', 'r') as g:\n",
    "    second_version = json.load(g)"
   ]
  },
  {
   "cell_type": "code",
   "execution_count": 5,
   "metadata": {},
   "outputs": [],
   "source": [
    "ground_truth_graph = Graph(ground_truth, TYPES_OF_GRAPH.MULTI)\n",
    "generated_graph1 = Graph(first_version, TYPES_OF_GRAPH.MULTI)\n",
    "generated_graph2 =  Graph(second_version, TYPES_OF_GRAPH.MULTI)\n",
    "\n",
    "G1 = ground_truth_graph.nx_graph\n",
    "G2 = generated_graph1.nx_graph\n",
    "G3 = generated_graph2.nx_graph"
   ]
  },
  {
   "cell_type": "code",
   "execution_count": null,
   "metadata": {},
   "outputs": [],
   "source": [
    "node_mapping, edge_mapping = match(G1, G2)"
   ]
  },
  {
   "cell_type": "code",
   "execution_count": 12,
   "metadata": {},
   "outputs": [
    {
     "data": {
      "text/plain": [
       "{1: 1, 2: 2, 3: 3, 4: 4}"
      ]
     },
     "execution_count": 12,
     "metadata": {},
     "output_type": "execute_result"
    }
   ],
   "source": [
    "node_mapping"
   ]
  },
  {
   "cell_type": "code",
   "execution_count": 13,
   "metadata": {},
   "outputs": [
    {
     "data": {
      "text/plain": [
       "{'1->2': '1->2', '2->3': '2->3', '3->4': '3->4', '4->3': '4->3', '4->1': None}"
      ]
     },
     "execution_count": 13,
     "metadata": {},
     "output_type": "execute_result"
    }
   ],
   "source": [
    "edge_mapping"
   ]
  },
  {
   "cell_type": "code",
   "execution_count": 14,
   "metadata": {},
   "outputs": [
    {
     "name": "stdout",
     "output_type": "stream",
     "text": [
      "{1: None, 2: None, 3: None, 4: None}\n",
      "The nodes of edges 4->1 and 4->3 has something in common, but not complete match: Sources: ['Something is wrong, can you please use other payment method or start order again'], ['Something is wrong, can you please use other payment method or start order again']\n",
      "The nodes of edges 4->1 and 4->3 has something in common, but not complete match: Targets: ['How can I help?', 'Hello'], ['Please, enter the payment method you would like to use: cash or credit card.']\n"
     ]
    }
   ],
   "source": [
    "node_mapping, edge_mapping = match(G1, G3)"
   ]
  },
  {
   "cell_type": "code",
   "execution_count": 15,
   "metadata": {},
   "outputs": [
    {
     "data": {
      "text/plain": [
       "{1: 1, 2: 2, 3: 3, 4: 4}"
      ]
     },
     "execution_count": 15,
     "metadata": {},
     "output_type": "execute_result"
    }
   ],
   "source": [
    "node_mapping"
   ]
  },
  {
   "cell_type": "code",
   "execution_count": 16,
   "metadata": {},
   "outputs": [
    {
     "data": {
      "text/plain": [
       "{'1->2': '1->2', '2->3': '2->3', '3->4': '3->4', '4->3': '4->3', '4->1': None}"
      ]
     },
     "execution_count": 16,
     "metadata": {},
     "output_type": "execute_result"
    }
   ],
   "source": [
    "edge_mapping"
   ]
  },
  {
   "cell_type": "markdown",
   "metadata": {},
   "source": [
    "# Тест 3"
   ]
  },
  {
   "cell_type": "code",
   "execution_count": 17,
   "metadata": {},
   "outputs": [],
   "source": [
    "with open('./correct_subgraph_metric_calc/initial_graph.json', 'r') as f:\n",
    "    ground_truth = json.load(f)\n",
    "\n",
    "with open('./correct_subgraph_metric_calc/gpt_response1.json', 'r') as g:\n",
    "    first_version = json.load(g)\n",
    "\n",
    "with open('./correct_subgraph_metric_calc/gpt_response2.json', 'r') as g:\n",
    "    second_version = json.load(g)\n",
    "\n",
    "with open('./correct_subgraph_metric_calc/gpt_response3.json', 'r') as g:\n",
    "    third_version = json.load(g)"
   ]
  },
  {
   "cell_type": "code",
   "execution_count": 30,
   "metadata": {},
   "outputs": [],
   "source": [
    "ground_truth_graph = Graph(ground_truth, TYPES_OF_GRAPH.MULTI)\n",
    "generated_graph1 = Graph(first_version, TYPES_OF_GRAPH.MULTI)\n",
    "generated_graph2 =  Graph(second_version, TYPES_OF_GRAPH.MULTI)\n",
    "generated_graph3 = Graph(third_version, TYPES_OF_GRAPH.MULTI)\n",
    "\n",
    "G1 = ground_truth_graph.nx_graph\n",
    "G2 = generated_graph1.nx_graph\n",
    "G3 = generated_graph2.nx_graph\n",
    "G4 = generated_graph3.nx_graph"
   ]
  },
  {
   "cell_type": "code",
   "execution_count": 37,
   "metadata": {},
   "outputs": [
    {
     "name": "stdout",
     "output_type": "stream",
     "text": [
      "{1: None, 2: None, 3: None, 4: None, 5: None, 6: None, 7: None, 8: None}\n",
      "The nodes of edges 5->7 and 3->4 has something in common, but not complete match: Sources: ['Done. Anything else?'], ['Added it to your cart. Anything else?']\n",
      "The nodes of edges 5->7 and 3->4 has something in common, but not complete match: Targets: ['Okay, everything is done, you can go to cart and finish the order.'], ['Okay, everything is done, you can go to cart and finish the order.']\n",
      "The nodes of edges 6->7 and 3->4 has something in common, but not complete match: Sources: ['Okay. Anything else?'], ['Added it to your cart. Anything else?']\n",
      "The nodes of edges 6->7 and 3->4 has something in common, but not complete match: Targets: ['Okay, everything is done, you can go to cart and finish the order.'], ['Okay, everything is done, you can go to cart and finish the order.']\n"
     ]
    }
   ],
   "source": [
    "node_mapping, edge_mapping = match(G1, G2)"
   ]
  },
  {
   "cell_type": "code",
   "execution_count": 20,
   "metadata": {},
   "outputs": [
    {
     "data": {
      "text/plain": [
       "{1: 1, 2: 2, 3: 3, 4: None, 5: None, 6: None, 7: 4, 8: None}"
      ]
     },
     "execution_count": 20,
     "metadata": {},
     "output_type": "execute_result"
    }
   ],
   "source": [
    "node_mapping"
   ]
  },
  {
   "cell_type": "code",
   "execution_count": 38,
   "metadata": {},
   "outputs": [
    {
     "name": "stdout",
     "output_type": "stream",
     "text": [
      "{'1->2': '1->2', '2->3': '2->3', '2->4': None, '3->7': '3->4', '4->5': None, '4->6': None, '5->2': None, '5->7': None, '6->2': None, '6->7': None, '7->8': None}\n",
      "Mapped edges:  0.2727272727272727\n"
     ]
    }
   ],
   "source": [
    "print(edge_mapping)\n",
    "print(\"Mapped edges: \", sum(1 for value in edge_mapping.values() if value is not None) / len(edge_mapping))"
   ]
  },
  {
   "cell_type": "code",
   "execution_count": 35,
   "metadata": {},
   "outputs": [
    {
     "name": "stdout",
     "output_type": "stream",
     "text": [
      "{1: None, 2: None, 3: None, 4: None, 5: None, 6: None, 7: None, 8: None}\n",
      "The nodes of edges 3->7 and 5->6 has something in common, but not complete match: Sources: ['Added it to your cart. Anything else?'], ['Done. Anything else?']\n",
      "The nodes of edges 3->7 and 5->6 has something in common, but not complete match: Targets: ['Okay, everything is done, you can go to cart and finish the order.'], ['Okay, everything is done, you can go to cart and finish the order.']\n",
      "The nodes of edges 6->7 and 5->6 has something in common, but not complete match: Sources: ['Okay. Anything else?'], ['Done. Anything else?']\n",
      "The nodes of edges 6->7 and 5->6 has something in common, but not complete match: Targets: ['Okay, everything is done, you can go to cart and finish the order.'], ['Okay, everything is done, you can go to cart and finish the order.']\n"
     ]
    }
   ],
   "source": [
    "node_mapping, edge_mapping = match(G1, G3)"
   ]
  },
  {
   "cell_type": "code",
   "execution_count": 36,
   "metadata": {},
   "outputs": [
    {
     "name": "stdout",
     "output_type": "stream",
     "text": [
      "{'1->2': '1->2', '2->3': '2->3', '2->4': '2->4', '3->7': None, '4->5': '4->5', '4->6': None, '5->2': '5->2', '5->7': '5->6', '6->2': None, '6->7': None, '7->8': None}\n",
      "Mapped edges:  0.5454545454545454\n"
     ]
    }
   ],
   "source": [
    "print(edge_mapping)\n",
    "print(\"Mapped edges: \", sum(1 for value in edge_mapping.values() if value is not None) / len(edge_mapping))"
   ]
  },
  {
   "cell_type": "code",
   "execution_count": 31,
   "metadata": {},
   "outputs": [
    {
     "name": "stdout",
     "output_type": "stream",
     "text": [
      "{1: None, 2: None, 3: None, 4: None, 5: None, 6: None, 7: None, 8: None}\n",
      "The nodes of edges 3->7 and 5->6 has something in common, but not complete match: Sources: ['Added it to your cart. Anything else?'], ['Done. Anything else?']\n",
      "The nodes of edges 3->7 and 5->6 has something in common, but not complete match: Targets: ['Okay, everything is done, you can go to cart and finish the order.'], ['Okay, everything is done, you can go to cart and finish the order.']\n",
      "The nodes of edges 3->7 and 7->6 has something in common, but not complete match: Sources: ['Added it to your cart. Anything else?'], ['Okay. Anything else?']\n",
      "The nodes of edges 3->7 and 7->6 has something in common, but not complete match: Targets: ['Okay, everything is done, you can go to cart and finish the order.'], ['Okay, everything is done, you can go to cart and finish the order.']\n",
      "The nodes of edges 5->7 and 7->6 has something in common, but not complete match: Sources: ['Done. Anything else?'], ['Okay. Anything else?']\n",
      "The nodes of edges 5->7 and 7->6 has something in common, but not complete match: Targets: ['Okay, everything is done, you can go to cart and finish the order.'], ['Okay, everything is done, you can go to cart and finish the order.']\n",
      "The nodes of edges 6->7 and 5->6 has something in common, but not complete match: Sources: ['Okay. Anything else?'], ['Done. Anything else?']\n",
      "The nodes of edges 6->7 and 5->6 has something in common, but not complete match: Targets: ['Okay, everything is done, you can go to cart and finish the order.'], ['Okay, everything is done, you can go to cart and finish the order.']\n"
     ]
    }
   ],
   "source": [
    "node_mapping, edge_mapping = match(G1, G4)"
   ]
  },
  {
   "cell_type": "code",
   "execution_count": 32,
   "metadata": {},
   "outputs": [
    {
     "data": {
      "text/plain": [
       "OutMultiEdgeView([(1, 2, 0), (1, 2, 1), (2, 3, 0), (2, 4, 0), (2, 4, 1), (4, 5, 0), (4, 7, 0), (5, 2, 0), (5, 6, 0), (7, 2, 0), (7, 6, 0)])"
      ]
     },
     "execution_count": 32,
     "metadata": {},
     "output_type": "execute_result"
    }
   ],
   "source": [
    "G4.edges"
   ]
  },
  {
   "cell_type": "code",
   "execution_count": 34,
   "metadata": {},
   "outputs": [
    {
     "name": "stdout",
     "output_type": "stream",
     "text": [
      "{'1->2': '1->2', '2->3': '2->3', '2->4': '2->4', '3->7': None, '4->5': '4->5', '4->6': '4->7', '5->2': '5->2', '5->7': '5->6', '6->2': '7->2', '6->7': '7->6', '7->8': None}\n",
      "Mapped edges:  0.8181818181818182\n"
     ]
    }
   ],
   "source": [
    "print(edge_mapping)\n",
    "print(\"Mapped edges: \", sum(1 for value in edge_mapping.values() if value is not None) / len(edge_mapping))"
   ]
  }
 ],
 "metadata": {
  "kernelspec": {
   "display_name": "Python 3",
   "language": "python",
   "name": "python3"
  },
  "language_info": {
   "codemirror_mode": {
    "name": "ipython",
    "version": 3
   },
   "file_extension": ".py",
   "mimetype": "text/x-python",
   "name": "python",
   "nbconvert_exporter": "python",
   "pygments_lexer": "ipython3",
   "version": "3.9.12"
  }
 },
 "nbformat": 4,
 "nbformat_minor": 2
}
