{
 "cells": [
  {
   "cell_type": "code",
   "execution_count": 1,
   "metadata": {},
   "outputs": [],
   "source": [
    "import sys \n",
    "import json\n",
    "# Insert the path of modules folder  \n",
    "sys.path.insert(0, \"/Users/anastasia/Documents/DFF_LLM/dff-llm-integration\") "
   ]
  },
  {
   "cell_type": "code",
   "execution_count": 2,
   "metadata": {},
   "outputs": [],
   "source": [
    "import networkx as nx\n",
    "import matplotlib.pyplot as plt\n",
    "from graph_src.graph import TYPES_OF_GRAPH, Graph\n",
    "from graph_src.utils_functions import do_mapping\n",
    "from metric.metric_calc import jaccard_nodes, jaccard_edges\n",
    "from metric.triplet_matching import match"
   ]
  },
  {
   "cell_type": "markdown",
   "metadata": {},
   "source": [
    "# Тест 1 - цепочка"
   ]
  },
  {
   "cell_type": "code",
   "execution_count": 3,
   "metadata": {},
   "outputs": [],
   "source": [
    "with open('./simple_chain/initial_graph.json', 'r') as f:\n",
    "    ground_truth = json.load(f)\n",
    "\n",
    "with open('./simple_chain/gpt_response1.json', 'r') as g:\n",
    "    first_version = json.load(g)\n",
    "\n",
    "with open('./simple_chain/gpt_response2.json', 'r') as g:\n",
    "    second_version = json.load(g)"
   ]
  },
  {
   "cell_type": "code",
   "execution_count": 4,
   "metadata": {},
   "outputs": [],
   "source": [
    "ground_truth_graph = Graph(ground_truth, TYPES_OF_GRAPH.MULTI)\n",
    "generated_graph1 = Graph(first_version, TYPES_OF_GRAPH.MULTI)\n",
    "generated_graph2 =  Graph(second_version, TYPES_OF_GRAPH.MULTI)\n",
    "\n",
    "G1 = ground_truth_graph.nx_graph\n",
    "G2 = generated_graph1.nx_graph\n",
    "G3 = generated_graph2.nx_graph"
   ]
  },
  {
   "cell_type": "code",
   "execution_count": 5,
   "metadata": {},
   "outputs": [
    {
     "name": "stdout",
     "output_type": "stream",
     "text": [
      "{1: None, 2: None, 3: None, 4: None, 5: None}\n",
      "The nodes of edges 2->3 and 2->3 has something in common, but not complete match: Sources: ['Which books would you like to order?'], ['Which books would you like to order?']\n",
      "The nodes of edges 2->3 and 2->3 has something in common, but not complete match: Targets: ['Please enter delivery method would you like to use? We currently offer pickup or home delivery.'], ['Please, enter the payment method you would like to use: cash or credit card.']\n",
      "The nodes of edges 3->4 and 3->4 has something in common, but not complete match: Sources: ['Please enter delivery method would you like to use? We currently offer pickup or home delivery.'], ['Please, enter the payment method you would like to use: cash or credit card.']\n",
      "The nodes of edges 3->4 and 3->4 has something in common, but not complete match: Targets: ['Please, enter the payment method you would like to use: cash or credit card.'], ['Please, enter the payment method you would like to use: cash or credit card.']\n"
     ]
    }
   ],
   "source": [
    "node_mapping, edge_mapping = match(G1, G2)"
   ]
  },
  {
   "cell_type": "code",
   "execution_count": 6,
   "metadata": {},
   "outputs": [
    {
     "data": {
      "text/plain": [
       "{1: 1, 2: 2, 3: None, 4: 4, 5: 5}"
      ]
     },
     "execution_count": 6,
     "metadata": {},
     "output_type": "execute_result"
    }
   ],
   "source": [
    "node_mapping"
   ]
  },
  {
   "cell_type": "code",
   "execution_count": 7,
   "metadata": {},
   "outputs": [
    {
     "data": {
      "text/plain": [
       "{'1->2': '1->2', '2->3': None, '3->4': None, '4->5': '4->5'}"
      ]
     },
     "execution_count": 7,
     "metadata": {},
     "output_type": "execute_result"
    }
   ],
   "source": [
    "edge_mapping"
   ]
  },
  {
   "cell_type": "code",
   "execution_count": 8,
   "metadata": {},
   "outputs": [
    {
     "name": "stdout",
     "output_type": "stream",
     "text": [
      "{1: None, 2: None, 3: None, 4: None, 5: None, 6: None}\n",
      "The nodes of edges 2->3 and 2->3 has something in common, but not complete match: Sources: ['Which books would you like to order?'], ['Which books would you like to order?']\n",
      "The nodes of edges 2->3 and 2->3 has something in common, but not complete match: Targets: ['Please enter delivery method would you like to use? We currently offer pickup or home delivery.'], ['Please, enter the payment method you would like to use: cash or credit card.']\n",
      "The nodes of edges 3->4 and 3->4 has something in common, but not complete match: Sources: ['Please enter delivery method would you like to use? We currently offer pickup or home delivery.'], ['Please, enter the payment method you would like to use: cash or credit card.']\n",
      "The nodes of edges 3->4 and 3->4 has something in common, but not complete match: Targets: ['Please, enter the payment method you would like to use: cash or credit card.'], ['Please, enter the payment method you would like to use: cash or credit card.']\n",
      "The nodes of edges 3->4 and 3->5 has something in common, but not complete match: Sources: ['Please enter delivery method would you like to use? We currently offer pickup or home delivery.'], ['Please, enter the payment method you would like to use: cash or credit card.']\n",
      "The nodes of edges 3->4 and 3->5 has something in common, but not complete match: Targets: ['Please, enter the payment method you would like to use: cash or credit card.'], ['Please, enter the payment method you would like to use: cash or credit card.']\n"
     ]
    }
   ],
   "source": [
    "node_mapping, edge_mapping = match(G1, G3)"
   ]
  },
  {
   "cell_type": "code",
   "execution_count": 9,
   "metadata": {},
   "outputs": [
    {
     "data": {
      "text/plain": [
       "NodeView((1, 2, 3, 4, 5, 6))"
      ]
     },
     "execution_count": 9,
     "metadata": {},
     "output_type": "execute_result"
    }
   ],
   "source": [
    "G3.nodes"
   ]
  },
  {
   "cell_type": "code",
   "execution_count": 21,
   "metadata": {},
   "outputs": [
    {
     "data": {
      "text/plain": [
       "NodeView((1, 2, 3, 4, 5))"
      ]
     },
     "execution_count": 21,
     "metadata": {},
     "output_type": "execute_result"
    }
   ],
   "source": [
    "G1.nodes"
   ]
  },
  {
   "cell_type": "code",
   "execution_count": 10,
   "metadata": {},
   "outputs": [
    {
     "data": {
      "text/plain": [
       "{1: 1, 2: 2, 3: None, 4: 4, 5: 6, 6: None}"
      ]
     },
     "execution_count": 10,
     "metadata": {},
     "output_type": "execute_result"
    }
   ],
   "source": [
    "node_mapping"
   ]
  },
  {
   "cell_type": "code",
   "execution_count": 11,
   "metadata": {},
   "outputs": [
    {
     "data": {
      "text/plain": [
       "{'1->2': '1->2', '2->3': None, '3->4': None, '4->5': '4->6'}"
      ]
     },
     "execution_count": 11,
     "metadata": {},
     "output_type": "execute_result"
    }
   ],
   "source": [
    "edge_mapping"
   ]
  }
 ],
 "metadata": {
  "kernelspec": {
   "display_name": "Python 3",
   "language": "python",
   "name": "python3"
  },
  "language_info": {
   "codemirror_mode": {
    "name": "ipython",
    "version": 3
   },
   "file_extension": ".py",
   "mimetype": "text/x-python",
   "name": "python",
   "nbconvert_exporter": "python",
   "pygments_lexer": "ipython3",
   "version": "3.9.12"
  }
 },
 "nbformat": 4,
 "nbformat_minor": 2
}
